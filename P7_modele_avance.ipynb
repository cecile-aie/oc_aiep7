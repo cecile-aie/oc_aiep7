{
 "cells": [
  {
   "cell_type": "markdown",
   "id": "c3780d9e-192a-40a2-8373-c163be52ded4",
   "metadata": {},
   "source": [
    "# Configuration de MLFlow avec tracking local"
   ]
  },
  {
   "cell_type": "code",
   "execution_count": 1,
   "id": "dd1c3a3b-b595-4327-84ea-cef4188c1c3f",
   "metadata": {},
   "outputs": [],
   "source": [
    "# pip install mlflow\n",
    "import mlflow"
   ]
  },
  {
   "cell_type": "code",
   "execution_count": 2,
   "id": "6ffc4e7b-481b-44e0-a95e-dd24a33b3fba",
   "metadata": {},
   "outputs": [
    {
     "data": {
      "text/plain": [
       "<Experiment: artifact_location='mlflow-artifacts:/566106427225564143', creation_time=1729147540629, experiment_id='566106427225564143', last_update_time=1729147540629, lifecycle_stage='active', name='modele_avancé', tags={}>"
      ]
     },
     "execution_count": 2,
     "metadata": {},
     "output_type": "execute_result"
    }
   ],
   "source": [
    "# Asignation du serveur de tracking MLFlow\n",
    "mlflow.set_tracking_uri(\"http://localhost:5000\")\n",
    "# Création de l'expérimentation \"approche classique\"\n",
    "mlflow.set_experiment(\"modele_avancé\")"
   ]
  },
  {
   "cell_type": "markdown",
   "id": "8c48b4e0-4ec8-439c-b899-590b8e9a1612",
   "metadata": {
    "id": "8c48b4e0-4ec8-439c-b899-590b8e9a1612"
   },
   "source": [
    "# Word2Vec"
   ]
  },
  {
   "cell_type": "code",
   "execution_count": 3,
   "id": "nUqPSWrcNAua",
   "metadata": {
    "colab": {
     "base_uri": "https://localhost:8080/"
    },
    "executionInfo": {
     "elapsed": 21120,
     "status": "ok",
     "timestamp": 1727940032741,
     "user": {
      "displayName": "Mayer Cécile",
      "userId": "03016020088537475993"
     },
     "user_tz": -120
    },
    "id": "nUqPSWrcNAua",
    "outputId": "6a3a53e8-f06e-4837-fb57-3d561f513099"
   },
   "outputs": [],
   "source": [
    "# # utilisation dans Google collab\n",
    "# print('Mounting your Google Drive...')\n",
    "# from google.colab import drive\n",
    "# drive.mount('/content/drive')\n",
    "# print('Opening the file...')\n",
    "# %cd /content/drive/My Drive/P7\n",
    "# !ls"
   ]
  },
  {
   "cell_type": "code",
   "execution_count": 4,
   "id": "5c853195-086e-48ae-866a-c24786cf3062",
   "metadata": {
    "executionInfo": {
     "elapsed": 4653,
     "status": "ok",
     "timestamp": 1727940043161,
     "user": {
      "displayName": "Mayer Cécile",
      "userId": "03016020088537475993"
     },
     "user_tz": -120
    },
    "id": "5c853195-086e-48ae-866a-c24786cf3062"
   },
   "outputs": [],
   "source": [
    "import tensorflow as tf\n",
    "import tensorflow.keras\n",
    "from tensorflow.keras import backend as K\n",
    "\n",
    "from tensorflow.keras.preprocessing.text import Tokenizer\n",
    "from tensorflow.keras.preprocessing.sequence import pad_sequences\n",
    "from tensorflow.keras import metrics as kmetrics\n",
    "from tensorflow.keras.layers import *\n",
    "from tensorflow.keras.models import Model\n",
    "import gensim"
   ]
  },
  {
   "cell_type": "code",
   "execution_count": 5,
   "id": "c0eff01d-49ef-4b5f-af09-89131d03ab4e",
   "metadata": {
    "executionInfo": {
     "elapsed": 249,
     "status": "ok",
     "timestamp": 1727939493961,
     "user": {
      "displayName": "Mayer Cécile",
      "userId": "03016020088537475993"
     },
     "user_tz": -120
    },
    "id": "c0eff01d-49ef-4b5f-af09-89131d03ab4e"
   },
   "outputs": [],
   "source": [
    "import multiprocessing\n",
    "# Paramètres du modèle Word2Vec\n",
    "w2v_size = 300        # Taille des vecteurs\n",
    "w2v_window = 5        # Taille de la fenêtre contextuelle\n",
    "w2v_min_count = 1     # Nombre minimum d'occurrences d'un mot pour être pris en compte\n",
    "w2v_epochs = 100      # Nombre d'itérations (époques)\n",
    "workers = multiprocessing.cpu_count()  # Utilisation de tous les cœurs disponibles"
   ]
  },
  {
   "cell_type": "markdown",
   "id": "abc1d172-1fbf-4948-9be9-1a7dc3a329aa",
   "metadata": {
    "id": "abc1d172-1fbf-4948-9be9-1a7dc3a329aa"
   },
   "source": [
    "### Données"
   ]
  },
  {
   "cell_type": "code",
   "execution_count": 6,
   "id": "282efece-f6ea-4be2-aa89-8a64a37ceef6",
   "metadata": {
    "executionInfo": {
     "elapsed": 1256,
     "status": "ok",
     "timestamp": 1727940116308,
     "user": {
      "displayName": "Mayer Cécile",
      "userId": "03016020088537475993"
     },
     "user_tz": -120
    },
    "id": "282efece-f6ea-4be2-aa89-8a64a37ceef6"
   },
   "outputs": [],
   "source": [
    "import pandas as pd\n",
    "\n",
    "train_df = pd.read_csv(\"./data/train_df.csv\")\n",
    "train_df = train_df.iloc[:, 1:]\n",
    "test_df = pd.read_csv(\"./data/test_df.csv\")\n",
    "test_df = test_df.iloc[:, 1:]"
   ]
  },
  {
   "cell_type": "markdown",
   "id": "d631e1c2-e820-4133-9c1b-7af79604483b",
   "metadata": {
    "id": "d631e1c2-e820-4133-9c1b-7af79604483b"
   },
   "source": [
    "### Préparation des sentences"
   ]
  },
  {
   "cell_type": "code",
   "execution_count": 7,
   "id": "1e8cafb4-07b4-4f43-9e89-591d0f766bab",
   "metadata": {
    "executionInfo": {
     "elapsed": 275,
     "status": "ok",
     "timestamp": 1727939537153,
     "user": {
      "displayName": "Mayer Cécile",
      "userId": "03016020088537475993"
     },
     "user_tz": -120
    },
    "id": "1e8cafb4-07b4-4f43-9e89-591d0f766bab"
   },
   "outputs": [],
   "source": [
    "# Préparation des sentences à partir de la colonne 'preprocessed_text'\n",
    "# Tokenisation de chaque phrase en séparant les mots sur les espaces\n",
    "train_sentences = [sentence.split() for sentence in train_df['preprocessed_text'].astype(str)]\n",
    "test_sentences = [sentence.split() for sentence in test_df['preprocessed_text'].astype(str)]"
   ]
  },
  {
   "cell_type": "markdown",
   "id": "9408ba1b-b6a7-4efe-a6d3-1fbf87acbfbc",
   "metadata": {
    "id": "9408ba1b-b6a7-4efe-a6d3-1fbf87acbfbc"
   },
   "source": [
    "### Modèle Word2Vec"
   ]
  },
  {
   "cell_type": "code",
   "execution_count": 8,
   "id": "ec894154-5340-4778-b302-2a674bcc4d77",
   "metadata": {
    "executionInfo": {
     "elapsed": 1502,
     "status": "ok",
     "timestamp": 1727939544455,
     "user": {
      "displayName": "Mayer Cécile",
      "userId": "03016020088537475993"
     },
     "user_tz": -120
    },
    "id": "ec894154-5340-4778-b302-2a674bcc4d77"
   },
   "outputs": [],
   "source": [
    "from gensim.models import Word2Vec\n",
    "# Instanciation du modèle Word2Vec\n",
    "w2v_model = Word2Vec(\n",
    "    sentences=train_sentences,   # Les phrases tokenisées d'entraînement\n",
    "    vector_size=w2v_size,        # Taille des vecteurs\n",
    "    window=w2v_window,           # Taille de la fenêtre contextuelle\n",
    "    min_count=w2v_min_count,     # Seuil d'apparition minimum d'un mot\n",
    "    workers=workers,             # Nombre de threads (CPU cores) à utiliser\n",
    "    sg=1                         # Utilisation de Skip-gram (si sg=0, on utilise CBOW)\n",
    ")"
   ]
  },
  {
   "cell_type": "code",
   "execution_count": 9,
   "id": "6f37f133-9377-45fc-8dc8-7f2632c24b5a",
   "metadata": {
    "colab": {
     "base_uri": "https://localhost:8080/"
    },
    "executionInfo": {
     "elapsed": 29157,
     "status": "ok",
     "timestamp": 1727939578276,
     "user": {
      "displayName": "Mayer Cécile",
      "userId": "03016020088537475993"
     },
     "user_tz": -120
    },
    "id": "6f37f133-9377-45fc-8dc8-7f2632c24b5a",
    "outputId": "f5324401-2b9b-4af2-daef-5766c36ae340"
   },
   "outputs": [
    {
     "data": {
      "text/plain": [
       "(2803635, 3447500)"
      ]
     },
     "execution_count": 9,
     "metadata": {},
     "output_type": "execute_result"
    }
   ],
   "source": [
    "# Entraînement du modèle\n",
    "w2v_model.train(train_sentences, total_examples=len(train_sentences), epochs=w2v_epochs)\n"
   ]
  },
  {
   "cell_type": "code",
   "execution_count": 10,
   "id": "7f5f7d4f-4cc1-470f-9a3d-51d1e2ee6a7d",
   "metadata": {
    "id": "7f5f7d4f-4cc1-470f-9a3d-51d1e2ee6a7d"
   },
   "outputs": [],
   "source": [
    "# Sauvegarde du modèle après entraînement\n",
    "w2v_model.save(\"./models/word2vec_model.model\")"
   ]
  },
  {
   "cell_type": "markdown",
   "id": "3ae58daf-7741-4ff7-b8ad-40f224f3ed45",
   "metadata": {
    "id": "3ae58daf-7741-4ff7-b8ad-40f224f3ed45"
   },
   "source": [
    "### Matrice d'embeddings"
   ]
  },
  {
   "cell_type": "code",
   "execution_count": 11,
   "id": "ebd8accf-bb42-46d0-a9c1-b3aca942e1a0",
   "metadata": {
    "colab": {
     "base_uri": "https://localhost:8080/"
    },
    "executionInfo": {
     "elapsed": 234,
     "status": "ok",
     "timestamp": 1727939636265,
     "user": {
      "displayName": "Mayer Cécile",
      "userId": "03016020088537475993"
     },
     "user_tz": -120
    },
    "id": "ebd8accf-bb42-46d0-a9c1-b3aca942e1a0",
    "outputId": "89172935-e372-4f6d-9cb6-c253d64290f0"
   },
   "outputs": [
    {
     "name": "stdout",
     "output_type": "stream",
     "text": [
      "Matrice d'embedding de taille : (6006, 300)\n"
     ]
    }
   ],
   "source": [
    "# Taille du vocabulaire (le nombre de mots uniques)\n",
    "vocab_size = len(w2v_model.wv.index_to_key)\n",
    "\n",
    "# Extraction de la matrice d'embedding\n",
    "embedding_matrix = []\n",
    "for word in w2v_model.wv.index_to_key:\n",
    "    embedding_matrix.append(w2v_model.wv[word])\n",
    "\n",
    "# Conversion en numpy array\n",
    "import numpy as np\n",
    "embedding_matrix = np.array(embedding_matrix)\n",
    "\n",
    "# Dimensions de la matrice d'embedding : vocab_size x w2v_size\n",
    "print(\"Matrice d'embedding de taille :\", embedding_matrix.shape)"
   ]
  },
  {
   "cell_type": "markdown",
   "id": "bb54977f-1009-417c-aab3-c79ecdb857e3",
   "metadata": {
    "id": "bb54977f-1009-417c-aab3-c79ecdb857e3"
   },
   "source": [
    "### Modèles tests d'embedding Keras"
   ]
  },
  {
   "cell_type": "markdown",
   "id": "b8b81d3c-da72-4589-88ae-c12a61ebbf1b",
   "metadata": {
    "id": "b8b81d3c-da72-4589-88ae-c12a61ebbf1b"
   },
   "source": [
    "Les essais avec un modèle simple (LSTM et dense) ont montré un sur-apprentissage important. Il faut l'optimiser avec dropout, regularisation."
   ]
  },
  {
   "cell_type": "code",
   "execution_count": 12,
   "id": "5273ef87-c19e-4ec6-a56c-d77f2205c38b",
   "metadata": {
    "executionInfo": {
     "elapsed": 251,
     "status": "ok",
     "timestamp": 1727939644405,
     "user": {
      "displayName": "Mayer Cécile",
      "userId": "03016020088537475993"
     },
     "user_tz": -120
    },
    "id": "5273ef87-c19e-4ec6-a56c-d77f2205c38b"
   },
   "outputs": [
    {
     "name": "stdout",
     "output_type": "stream",
     "text": [
      "Taille du vocabulaire dans W2Vec : 6006\n"
     ]
    }
   ],
   "source": [
    "from tensorflow.keras.models import Sequential\n",
    "from tensorflow.keras.layers import Embedding, LSTM, Dense\n",
    "\n",
    "# Paramètres\n",
    "maxlen = 40  # Longueur maximale des séquences de mots\n",
    "vocab_size = len(w2v_model.wv.index_to_key)  # Taille du vocabulaire\n",
    "print(\"Taille du vocabulaire dans W2Vec :\", vocab_size)"
   ]
  },
  {
   "cell_type": "code",
   "execution_count": 13,
   "id": "430404f0-4f2a-421c-a715-287d5915578d",
   "metadata": {},
   "outputs": [],
   "source": [
    "# Génération de données d'entraînement fictives (100 échantillons, chaque séquence de longueur maxlen pour la construction des modèles\n",
    "fictive_data = np.random.randint(0, vocab_size, size=(100, maxlen))\n",
    "fictive_labels = np.random.randint(0, 2, size=(100,))"
   ]
  },
  {
   "cell_type": "code",
   "execution_count": 14,
   "id": "4d9f9757-8652-4db4-b7fa-46712a86456a",
   "metadata": {
    "colab": {
     "base_uri": "https://localhost:8080/",
     "height": 232
    },
    "executionInfo": {
     "elapsed": 265,
     "status": "ok",
     "timestamp": 1727939647618,
     "user": {
      "displayName": "Mayer Cécile",
      "userId": "03016020088537475993"
     },
     "user_tz": -120
    },
    "id": "4d9f9757-8652-4db4-b7fa-46712a86456a",
    "outputId": "a8758927-7c03-4afa-ae91-fe217028f7e2"
   },
   "outputs": [
    {
     "name": "stdout",
     "output_type": "stream",
     "text": [
      "Epoch 1/3\n",
      "\u001b[1m4/4\u001b[0m \u001b[32m━━━━━━━━━━━━━━━━━━━━\u001b[0m\u001b[37m\u001b[0m \u001b[1m1s\u001b[0m 11ms/step - accuracy: 0.5094 - loss: 0.6998\n",
      "Epoch 2/3\n",
      "\u001b[1m4/4\u001b[0m \u001b[32m━━━━━━━━━━━━━━━━━━━━\u001b[0m\u001b[37m\u001b[0m \u001b[1m0s\u001b[0m 10ms/step - accuracy: 0.7182 - loss: 0.6589\n",
      "Epoch 3/3\n",
      "\u001b[1m4/4\u001b[0m \u001b[32m━━━━━━━━━━━━━━━━━━━━\u001b[0m\u001b[37m\u001b[0m \u001b[1m0s\u001b[0m 10ms/step - accuracy: 0.7292 - loss: 0.6379\n"
     ]
    },
    {
     "data": {
      "text/html": [
       "<pre style=\"white-space:pre;overflow-x:auto;line-height:normal;font-family:Menlo,'DejaVu Sans Mono',consolas,'Courier New',monospace\"><span style=\"font-weight: bold\">Model: \"sequential\"</span>\n",
       "</pre>\n"
      ],
      "text/plain": [
       "\u001b[1mModel: \"sequential\"\u001b[0m\n"
      ]
     },
     "metadata": {},
     "output_type": "display_data"
    },
    {
     "data": {
      "text/html": [
       "<pre style=\"white-space:pre;overflow-x:auto;line-height:normal;font-family:Menlo,'DejaVu Sans Mono',consolas,'Courier New',monospace\">┏━━━━━━━━━━━━━━━━━━━━━━━━━━━━━━━━━━━━━━┳━━━━━━━━━━━━━━━━━━━━━━━━━━━━━┳━━━━━━━━━━━━━━━━━┓\n",
       "┃<span style=\"font-weight: bold\"> Layer (type)                         </span>┃<span style=\"font-weight: bold\"> Output Shape                </span>┃<span style=\"font-weight: bold\">         Param # </span>┃\n",
       "┡━━━━━━━━━━━━━━━━━━━━━━━━━━━━━━━━━━━━━━╇━━━━━━━━━━━━━━━━━━━━━━━━━━━━━╇━━━━━━━━━━━━━━━━━┩\n",
       "│ embedding (<span style=\"color: #0087ff; text-decoration-color: #0087ff\">Embedding</span>)                │ (<span style=\"color: #00d7ff; text-decoration-color: #00d7ff\">None</span>, <span style=\"color: #00af00; text-decoration-color: #00af00\">40</span>, <span style=\"color: #00af00; text-decoration-color: #00af00\">300</span>)             │       <span style=\"color: #00af00; text-decoration-color: #00af00\">1,801,800</span> │\n",
       "├──────────────────────────────────────┼─────────────────────────────┼─────────────────┤\n",
       "│ lstm (<span style=\"color: #0087ff; text-decoration-color: #0087ff\">LSTM</span>)                          │ (<span style=\"color: #00d7ff; text-decoration-color: #00d7ff\">None</span>, <span style=\"color: #00af00; text-decoration-color: #00af00\">128</span>)                 │         <span style=\"color: #00af00; text-decoration-color: #00af00\">219,648</span> │\n",
       "├──────────────────────────────────────┼─────────────────────────────┼─────────────────┤\n",
       "│ dense (<span style=\"color: #0087ff; text-decoration-color: #0087ff\">Dense</span>)                        │ (<span style=\"color: #00d7ff; text-decoration-color: #00d7ff\">None</span>, <span style=\"color: #00af00; text-decoration-color: #00af00\">1</span>)                   │             <span style=\"color: #00af00; text-decoration-color: #00af00\">129</span> │\n",
       "└──────────────────────────────────────┴─────────────────────────────┴─────────────────┘\n",
       "</pre>\n"
      ],
      "text/plain": [
       "┏━━━━━━━━━━━━━━━━━━━━━━━━━━━━━━━━━━━━━━┳━━━━━━━━━━━━━━━━━━━━━━━━━━━━━┳━━━━━━━━━━━━━━━━━┓\n",
       "┃\u001b[1m \u001b[0m\u001b[1mLayer (type)                        \u001b[0m\u001b[1m \u001b[0m┃\u001b[1m \u001b[0m\u001b[1mOutput Shape               \u001b[0m\u001b[1m \u001b[0m┃\u001b[1m \u001b[0m\u001b[1m        Param #\u001b[0m\u001b[1m \u001b[0m┃\n",
       "┡━━━━━━━━━━━━━━━━━━━━━━━━━━━━━━━━━━━━━━╇━━━━━━━━━━━━━━━━━━━━━━━━━━━━━╇━━━━━━━━━━━━━━━━━┩\n",
       "│ embedding (\u001b[38;5;33mEmbedding\u001b[0m)                │ (\u001b[38;5;45mNone\u001b[0m, \u001b[38;5;34m40\u001b[0m, \u001b[38;5;34m300\u001b[0m)             │       \u001b[38;5;34m1,801,800\u001b[0m │\n",
       "├──────────────────────────────────────┼─────────────────────────────┼─────────────────┤\n",
       "│ lstm (\u001b[38;5;33mLSTM\u001b[0m)                          │ (\u001b[38;5;45mNone\u001b[0m, \u001b[38;5;34m128\u001b[0m)                 │         \u001b[38;5;34m219,648\u001b[0m │\n",
       "├──────────────────────────────────────┼─────────────────────────────┼─────────────────┤\n",
       "│ dense (\u001b[38;5;33mDense\u001b[0m)                        │ (\u001b[38;5;45mNone\u001b[0m, \u001b[38;5;34m1\u001b[0m)                   │             \u001b[38;5;34m129\u001b[0m │\n",
       "└──────────────────────────────────────┴─────────────────────────────┴─────────────────┘\n"
      ]
     },
     "metadata": {},
     "output_type": "display_data"
    },
    {
     "data": {
      "text/html": [
       "<pre style=\"white-space:pre;overflow-x:auto;line-height:normal;font-family:Menlo,'DejaVu Sans Mono',consolas,'Courier New',monospace\"><span style=\"font-weight: bold\"> Total params: </span><span style=\"color: #00af00; text-decoration-color: #00af00\">2,461,133</span> (9.39 MB)\n",
       "</pre>\n"
      ],
      "text/plain": [
       "\u001b[1m Total params: \u001b[0m\u001b[38;5;34m2,461,133\u001b[0m (9.39 MB)\n"
      ]
     },
     "metadata": {},
     "output_type": "display_data"
    },
    {
     "data": {
      "text/html": [
       "<pre style=\"white-space:pre;overflow-x:auto;line-height:normal;font-family:Menlo,'DejaVu Sans Mono',consolas,'Courier New',monospace\"><span style=\"font-weight: bold\"> Trainable params: </span><span style=\"color: #00af00; text-decoration-color: #00af00\">219,777</span> (858.50 KB)\n",
       "</pre>\n"
      ],
      "text/plain": [
       "\u001b[1m Trainable params: \u001b[0m\u001b[38;5;34m219,777\u001b[0m (858.50 KB)\n"
      ]
     },
     "metadata": {},
     "output_type": "display_data"
    },
    {
     "data": {
      "text/html": [
       "<pre style=\"white-space:pre;overflow-x:auto;line-height:normal;font-family:Menlo,'DejaVu Sans Mono',consolas,'Courier New',monospace\"><span style=\"font-weight: bold\"> Non-trainable params: </span><span style=\"color: #00af00; text-decoration-color: #00af00\">1,801,800</span> (6.87 MB)\n",
       "</pre>\n"
      ],
      "text/plain": [
       "\u001b[1m Non-trainable params: \u001b[0m\u001b[38;5;34m1,801,800\u001b[0m (6.87 MB)\n"
      ]
     },
     "metadata": {},
     "output_type": "display_data"
    },
    {
     "data": {
      "text/html": [
       "<pre style=\"white-space:pre;overflow-x:auto;line-height:normal;font-family:Menlo,'DejaVu Sans Mono',consolas,'Courier New',monospace\"><span style=\"font-weight: bold\"> Optimizer params: </span><span style=\"color: #00af00; text-decoration-color: #00af00\">439,556</span> (1.68 MB)\n",
       "</pre>\n"
      ],
      "text/plain": [
       "\u001b[1m Optimizer params: \u001b[0m\u001b[38;5;34m439,556\u001b[0m (1.68 MB)\n"
      ]
     },
     "metadata": {},
     "output_type": "display_data"
    }
   ],
   "source": [
    "# Instanciation du modèle séquentiel 1\n",
    "model_W2v_1 = Sequential()\n",
    "\n",
    "# Ajout de la couche d'embedding avec la matrice pré-entraînée\n",
    "model_W2v_1.add(Embedding(\n",
    "    input_dim=vocab_size,       # Taille du vocabulaire\n",
    "    output_dim=w2v_size,        # Dimension des vecteurs d'embedding\n",
    "    weights=[embedding_matrix], # Utilisation de la matrice d'embedding pré-entraînée\n",
    "    trainable=False             # Geler les poids de l'embedding\n",
    "))\n",
    "\n",
    "# Ajout d'une couche LSTM pour capturer les relations séquentielles\n",
    "model_W2v_1.add(LSTM(128))\n",
    "\n",
    "# Ajout d'une couche de sortie (par exemple, pour de la classification binaire)\n",
    "model_W2v_1.add(Dense(1, activation='sigmoid'))\n",
    "\n",
    "# Compilation du modèle\n",
    "model_W2v_1.compile(optimizer='adam', loss='binary_crossentropy', metrics=['accuracy'])\n",
    "\n",
    "# Entraînement fictif afin de visualiser le nombre de paramètres\n",
    "model_W2v_1.fit(fictive_data, fictive_labels, epochs=3, batch_size=32)\n",
    "\n",
    "# Affichage du résumé du modèle\n",
    "model_W2v_1.summary()"
   ]
  },
  {
   "cell_type": "code",
   "execution_count": 15,
   "id": "5735821c-b461-4b42-b7db-f2859444d7bd",
   "metadata": {
    "id": "5735821c-b461-4b42-b7db-f2859444d7bd",
    "outputId": "677c86f8-2b96-4a3a-b9e2-64d1d062966c"
   },
   "outputs": [
    {
     "name": "stdout",
     "output_type": "stream",
     "text": [
      "Epoch 1/3\n",
      "\u001b[1m4/4\u001b[0m \u001b[32m━━━━━━━━━━━━━━━━━━━━\u001b[0m\u001b[37m\u001b[0m \u001b[1m1s\u001b[0m 10ms/step - accuracy: 0.5175 - loss: 4.4103\n",
      "Epoch 2/3\n",
      "\u001b[1m4/4\u001b[0m \u001b[32m━━━━━━━━━━━━━━━━━━━━\u001b[0m\u001b[37m\u001b[0m \u001b[1m0s\u001b[0m 10ms/step - accuracy: 0.5849 - loss: 3.9552\n",
      "Epoch 3/3\n",
      "\u001b[1m4/4\u001b[0m \u001b[32m━━━━━━━━━━━━━━━━━━━━\u001b[0m\u001b[37m\u001b[0m \u001b[1m0s\u001b[0m 10ms/step - accuracy: 0.4865 - loss: 3.5542\n"
     ]
    },
    {
     "data": {
      "text/html": [
       "<pre style=\"white-space:pre;overflow-x:auto;line-height:normal;font-family:Menlo,'DejaVu Sans Mono',consolas,'Courier New',monospace\"><span style=\"font-weight: bold\">Model: \"sequential_1\"</span>\n",
       "</pre>\n"
      ],
      "text/plain": [
       "\u001b[1mModel: \"sequential_1\"\u001b[0m\n"
      ]
     },
     "metadata": {},
     "output_type": "display_data"
    },
    {
     "data": {
      "text/html": [
       "<pre style=\"white-space:pre;overflow-x:auto;line-height:normal;font-family:Menlo,'DejaVu Sans Mono',consolas,'Courier New',monospace\">┏━━━━━━━━━━━━━━━━━━━━━━━━━━━━━━━━━━━━━━┳━━━━━━━━━━━━━━━━━━━━━━━━━━━━━┳━━━━━━━━━━━━━━━━━┓\n",
       "┃<span style=\"font-weight: bold\"> Layer (type)                         </span>┃<span style=\"font-weight: bold\"> Output Shape                </span>┃<span style=\"font-weight: bold\">         Param # </span>┃\n",
       "┡━━━━━━━━━━━━━━━━━━━━━━━━━━━━━━━━━━━━━━╇━━━━━━━━━━━━━━━━━━━━━━━━━━━━━╇━━━━━━━━━━━━━━━━━┩\n",
       "│ embedding_1 (<span style=\"color: #0087ff; text-decoration-color: #0087ff\">Embedding</span>)              │ (<span style=\"color: #00d7ff; text-decoration-color: #00d7ff\">None</span>, <span style=\"color: #00af00; text-decoration-color: #00af00\">40</span>, <span style=\"color: #00af00; text-decoration-color: #00af00\">300</span>)             │       <span style=\"color: #00af00; text-decoration-color: #00af00\">1,801,800</span> │\n",
       "├──────────────────────────────────────┼─────────────────────────────┼─────────────────┤\n",
       "│ lstm_1 (<span style=\"color: #0087ff; text-decoration-color: #0087ff\">LSTM</span>)                        │ (<span style=\"color: #00d7ff; text-decoration-color: #00d7ff\">None</span>, <span style=\"color: #00af00; text-decoration-color: #00af00\">128</span>)                 │         <span style=\"color: #00af00; text-decoration-color: #00af00\">219,648</span> │\n",
       "├──────────────────────────────────────┼─────────────────────────────┼─────────────────┤\n",
       "│ dense_1 (<span style=\"color: #0087ff; text-decoration-color: #0087ff\">Dense</span>)                      │ (<span style=\"color: #00d7ff; text-decoration-color: #00d7ff\">None</span>, <span style=\"color: #00af00; text-decoration-color: #00af00\">1</span>)                   │             <span style=\"color: #00af00; text-decoration-color: #00af00\">129</span> │\n",
       "└──────────────────────────────────────┴─────────────────────────────┴─────────────────┘\n",
       "</pre>\n"
      ],
      "text/plain": [
       "┏━━━━━━━━━━━━━━━━━━━━━━━━━━━━━━━━━━━━━━┳━━━━━━━━━━━━━━━━━━━━━━━━━━━━━┳━━━━━━━━━━━━━━━━━┓\n",
       "┃\u001b[1m \u001b[0m\u001b[1mLayer (type)                        \u001b[0m\u001b[1m \u001b[0m┃\u001b[1m \u001b[0m\u001b[1mOutput Shape               \u001b[0m\u001b[1m \u001b[0m┃\u001b[1m \u001b[0m\u001b[1m        Param #\u001b[0m\u001b[1m \u001b[0m┃\n",
       "┡━━━━━━━━━━━━━━━━━━━━━━━━━━━━━━━━━━━━━━╇━━━━━━━━━━━━━━━━━━━━━━━━━━━━━╇━━━━━━━━━━━━━━━━━┩\n",
       "│ embedding_1 (\u001b[38;5;33mEmbedding\u001b[0m)              │ (\u001b[38;5;45mNone\u001b[0m, \u001b[38;5;34m40\u001b[0m, \u001b[38;5;34m300\u001b[0m)             │       \u001b[38;5;34m1,801,800\u001b[0m │\n",
       "├──────────────────────────────────────┼─────────────────────────────┼─────────────────┤\n",
       "│ lstm_1 (\u001b[38;5;33mLSTM\u001b[0m)                        │ (\u001b[38;5;45mNone\u001b[0m, \u001b[38;5;34m128\u001b[0m)                 │         \u001b[38;5;34m219,648\u001b[0m │\n",
       "├──────────────────────────────────────┼─────────────────────────────┼─────────────────┤\n",
       "│ dense_1 (\u001b[38;5;33mDense\u001b[0m)                      │ (\u001b[38;5;45mNone\u001b[0m, \u001b[38;5;34m1\u001b[0m)                   │             \u001b[38;5;34m129\u001b[0m │\n",
       "└──────────────────────────────────────┴─────────────────────────────┴─────────────────┘\n"
      ]
     },
     "metadata": {},
     "output_type": "display_data"
    },
    {
     "data": {
      "text/html": [
       "<pre style=\"white-space:pre;overflow-x:auto;line-height:normal;font-family:Menlo,'DejaVu Sans Mono',consolas,'Courier New',monospace\"><span style=\"font-weight: bold\"> Total params: </span><span style=\"color: #00af00; text-decoration-color: #00af00\">2,461,133</span> (9.39 MB)\n",
       "</pre>\n"
      ],
      "text/plain": [
       "\u001b[1m Total params: \u001b[0m\u001b[38;5;34m2,461,133\u001b[0m (9.39 MB)\n"
      ]
     },
     "metadata": {},
     "output_type": "display_data"
    },
    {
     "data": {
      "text/html": [
       "<pre style=\"white-space:pre;overflow-x:auto;line-height:normal;font-family:Menlo,'DejaVu Sans Mono',consolas,'Courier New',monospace\"><span style=\"font-weight: bold\"> Trainable params: </span><span style=\"color: #00af00; text-decoration-color: #00af00\">219,777</span> (858.50 KB)\n",
       "</pre>\n"
      ],
      "text/plain": [
       "\u001b[1m Trainable params: \u001b[0m\u001b[38;5;34m219,777\u001b[0m (858.50 KB)\n"
      ]
     },
     "metadata": {},
     "output_type": "display_data"
    },
    {
     "data": {
      "text/html": [
       "<pre style=\"white-space:pre;overflow-x:auto;line-height:normal;font-family:Menlo,'DejaVu Sans Mono',consolas,'Courier New',monospace\"><span style=\"font-weight: bold\"> Non-trainable params: </span><span style=\"color: #00af00; text-decoration-color: #00af00\">1,801,800</span> (6.87 MB)\n",
       "</pre>\n"
      ],
      "text/plain": [
       "\u001b[1m Non-trainable params: \u001b[0m\u001b[38;5;34m1,801,800\u001b[0m (6.87 MB)\n"
      ]
     },
     "metadata": {},
     "output_type": "display_data"
    },
    {
     "data": {
      "text/html": [
       "<pre style=\"white-space:pre;overflow-x:auto;line-height:normal;font-family:Menlo,'DejaVu Sans Mono',consolas,'Courier New',monospace\"><span style=\"font-weight: bold\"> Optimizer params: </span><span style=\"color: #00af00; text-decoration-color: #00af00\">439,556</span> (1.68 MB)\n",
       "</pre>\n"
      ],
      "text/plain": [
       "\u001b[1m Optimizer params: \u001b[0m\u001b[38;5;34m439,556\u001b[0m (1.68 MB)\n"
      ]
     },
     "metadata": {},
     "output_type": "display_data"
    }
   ],
   "source": [
    "# Instanciation du modèle séquentiel 2\n",
    "from tensorflow.keras.regularizers import l2\n",
    "\n",
    "# Ajout de la régularisation L2 dans la couche LSTM et la couche Dense\n",
    "model_W2v_2 = Sequential()\n",
    "model_W2v_2.add(Embedding(input_dim=vocab_size, output_dim=w2v_size, weights=[embedding_matrix],\n",
    "                    trainable=False))\n",
    "model_W2v_2.add(LSTM(128, kernel_regularizer=l2(0.01)))  # Ajout de la régularisation L2\n",
    "model_W2v_2.add(Dense(1, activation='sigmoid', kernel_regularizer=l2(0.01)))  # Ajout L2 dans la couche Dense\n",
    "\n",
    "# Compilation du modèle\n",
    "model_W2v_2.compile(optimizer='adam', loss='binary_crossentropy', metrics=['accuracy'])\n",
    "\n",
    "# Entraînement fictif afin de visualiser le nombre de paramètres\n",
    "model_W2v_2.fit(fictive_data, fictive_labels, epochs=3, batch_size=32)\n",
    "\n",
    "# Affichage du résumé du modèle\n",
    "model_W2v_2.summary()"
   ]
  },
  {
   "cell_type": "code",
   "execution_count": 16,
   "id": "7f976e24-a707-44cc-8940-b5370811e2da",
   "metadata": {
    "id": "7f976e24-a707-44cc-8940-b5370811e2da",
    "outputId": "8c52f96d-2264-4ba6-ebe1-98af7bb8ea3e"
   },
   "outputs": [
    {
     "name": "stdout",
     "output_type": "stream",
     "text": [
      "Epoch 1/3\n",
      "\u001b[1m4/4\u001b[0m \u001b[32m━━━━━━━━━━━━━━━━━━━━\u001b[0m\u001b[37m\u001b[0m \u001b[1m1s\u001b[0m 10ms/step - accuracy: 0.4428 - loss: 4.4532\n",
      "Epoch 2/3\n",
      "\u001b[1m4/4\u001b[0m \u001b[32m━━━━━━━━━━━━━━━━━━━━\u001b[0m\u001b[37m\u001b[0m \u001b[1m0s\u001b[0m 10ms/step - accuracy: 0.5038 - loss: 4.0070\n",
      "Epoch 3/3\n",
      "\u001b[1m4/4\u001b[0m \u001b[32m━━━━━━━━━━━━━━━━━━━━\u001b[0m\u001b[37m\u001b[0m \u001b[1m0s\u001b[0m 10ms/step - accuracy: 0.6668 - loss: 3.5838\n"
     ]
    },
    {
     "data": {
      "text/html": [
       "<pre style=\"white-space:pre;overflow-x:auto;line-height:normal;font-family:Menlo,'DejaVu Sans Mono',consolas,'Courier New',monospace\"><span style=\"font-weight: bold\">Model: \"sequential_2\"</span>\n",
       "</pre>\n"
      ],
      "text/plain": [
       "\u001b[1mModel: \"sequential_2\"\u001b[0m\n"
      ]
     },
     "metadata": {},
     "output_type": "display_data"
    },
    {
     "data": {
      "text/html": [
       "<pre style=\"white-space:pre;overflow-x:auto;line-height:normal;font-family:Menlo,'DejaVu Sans Mono',consolas,'Courier New',monospace\">┏━━━━━━━━━━━━━━━━━━━━━━━━━━━━━━━━━━━━━━┳━━━━━━━━━━━━━━━━━━━━━━━━━━━━━┳━━━━━━━━━━━━━━━━━┓\n",
       "┃<span style=\"font-weight: bold\"> Layer (type)                         </span>┃<span style=\"font-weight: bold\"> Output Shape                </span>┃<span style=\"font-weight: bold\">         Param # </span>┃\n",
       "┡━━━━━━━━━━━━━━━━━━━━━━━━━━━━━━━━━━━━━━╇━━━━━━━━━━━━━━━━━━━━━━━━━━━━━╇━━━━━━━━━━━━━━━━━┩\n",
       "│ embedding_2 (<span style=\"color: #0087ff; text-decoration-color: #0087ff\">Embedding</span>)              │ (<span style=\"color: #00d7ff; text-decoration-color: #00d7ff\">None</span>, <span style=\"color: #00af00; text-decoration-color: #00af00\">40</span>, <span style=\"color: #00af00; text-decoration-color: #00af00\">300</span>)             │       <span style=\"color: #00af00; text-decoration-color: #00af00\">1,801,800</span> │\n",
       "├──────────────────────────────────────┼─────────────────────────────┼─────────────────┤\n",
       "│ lstm_2 (<span style=\"color: #0087ff; text-decoration-color: #0087ff\">LSTM</span>)                        │ (<span style=\"color: #00d7ff; text-decoration-color: #00d7ff\">None</span>, <span style=\"color: #00af00; text-decoration-color: #00af00\">128</span>)                 │         <span style=\"color: #00af00; text-decoration-color: #00af00\">219,648</span> │\n",
       "├──────────────────────────────────────┼─────────────────────────────┼─────────────────┤\n",
       "│ dropout (<span style=\"color: #0087ff; text-decoration-color: #0087ff\">Dropout</span>)                    │ (<span style=\"color: #00d7ff; text-decoration-color: #00d7ff\">None</span>, <span style=\"color: #00af00; text-decoration-color: #00af00\">128</span>)                 │               <span style=\"color: #00af00; text-decoration-color: #00af00\">0</span> │\n",
       "├──────────────────────────────────────┼─────────────────────────────┼─────────────────┤\n",
       "│ dense_2 (<span style=\"color: #0087ff; text-decoration-color: #0087ff\">Dense</span>)                      │ (<span style=\"color: #00d7ff; text-decoration-color: #00d7ff\">None</span>, <span style=\"color: #00af00; text-decoration-color: #00af00\">1</span>)                   │             <span style=\"color: #00af00; text-decoration-color: #00af00\">129</span> │\n",
       "└──────────────────────────────────────┴─────────────────────────────┴─────────────────┘\n",
       "</pre>\n"
      ],
      "text/plain": [
       "┏━━━━━━━━━━━━━━━━━━━━━━━━━━━━━━━━━━━━━━┳━━━━━━━━━━━━━━━━━━━━━━━━━━━━━┳━━━━━━━━━━━━━━━━━┓\n",
       "┃\u001b[1m \u001b[0m\u001b[1mLayer (type)                        \u001b[0m\u001b[1m \u001b[0m┃\u001b[1m \u001b[0m\u001b[1mOutput Shape               \u001b[0m\u001b[1m \u001b[0m┃\u001b[1m \u001b[0m\u001b[1m        Param #\u001b[0m\u001b[1m \u001b[0m┃\n",
       "┡━━━━━━━━━━━━━━━━━━━━━━━━━━━━━━━━━━━━━━╇━━━━━━━━━━━━━━━━━━━━━━━━━━━━━╇━━━━━━━━━━━━━━━━━┩\n",
       "│ embedding_2 (\u001b[38;5;33mEmbedding\u001b[0m)              │ (\u001b[38;5;45mNone\u001b[0m, \u001b[38;5;34m40\u001b[0m, \u001b[38;5;34m300\u001b[0m)             │       \u001b[38;5;34m1,801,800\u001b[0m │\n",
       "├──────────────────────────────────────┼─────────────────────────────┼─────────────────┤\n",
       "│ lstm_2 (\u001b[38;5;33mLSTM\u001b[0m)                        │ (\u001b[38;5;45mNone\u001b[0m, \u001b[38;5;34m128\u001b[0m)                 │         \u001b[38;5;34m219,648\u001b[0m │\n",
       "├──────────────────────────────────────┼─────────────────────────────┼─────────────────┤\n",
       "│ dropout (\u001b[38;5;33mDropout\u001b[0m)                    │ (\u001b[38;5;45mNone\u001b[0m, \u001b[38;5;34m128\u001b[0m)                 │               \u001b[38;5;34m0\u001b[0m │\n",
       "├──────────────────────────────────────┼─────────────────────────────┼─────────────────┤\n",
       "│ dense_2 (\u001b[38;5;33mDense\u001b[0m)                      │ (\u001b[38;5;45mNone\u001b[0m, \u001b[38;5;34m1\u001b[0m)                   │             \u001b[38;5;34m129\u001b[0m │\n",
       "└──────────────────────────────────────┴─────────────────────────────┴─────────────────┘\n"
      ]
     },
     "metadata": {},
     "output_type": "display_data"
    },
    {
     "data": {
      "text/html": [
       "<pre style=\"white-space:pre;overflow-x:auto;line-height:normal;font-family:Menlo,'DejaVu Sans Mono',consolas,'Courier New',monospace\"><span style=\"font-weight: bold\"> Total params: </span><span style=\"color: #00af00; text-decoration-color: #00af00\">2,461,133</span> (9.39 MB)\n",
       "</pre>\n"
      ],
      "text/plain": [
       "\u001b[1m Total params: \u001b[0m\u001b[38;5;34m2,461,133\u001b[0m (9.39 MB)\n"
      ]
     },
     "metadata": {},
     "output_type": "display_data"
    },
    {
     "data": {
      "text/html": [
       "<pre style=\"white-space:pre;overflow-x:auto;line-height:normal;font-family:Menlo,'DejaVu Sans Mono',consolas,'Courier New',monospace\"><span style=\"font-weight: bold\"> Trainable params: </span><span style=\"color: #00af00; text-decoration-color: #00af00\">219,777</span> (858.50 KB)\n",
       "</pre>\n"
      ],
      "text/plain": [
       "\u001b[1m Trainable params: \u001b[0m\u001b[38;5;34m219,777\u001b[0m (858.50 KB)\n"
      ]
     },
     "metadata": {},
     "output_type": "display_data"
    },
    {
     "data": {
      "text/html": [
       "<pre style=\"white-space:pre;overflow-x:auto;line-height:normal;font-family:Menlo,'DejaVu Sans Mono',consolas,'Courier New',monospace\"><span style=\"font-weight: bold\"> Non-trainable params: </span><span style=\"color: #00af00; text-decoration-color: #00af00\">1,801,800</span> (6.87 MB)\n",
       "</pre>\n"
      ],
      "text/plain": [
       "\u001b[1m Non-trainable params: \u001b[0m\u001b[38;5;34m1,801,800\u001b[0m (6.87 MB)\n"
      ]
     },
     "metadata": {},
     "output_type": "display_data"
    },
    {
     "data": {
      "text/html": [
       "<pre style=\"white-space:pre;overflow-x:auto;line-height:normal;font-family:Menlo,'DejaVu Sans Mono',consolas,'Courier New',monospace\"><span style=\"font-weight: bold\"> Optimizer params: </span><span style=\"color: #00af00; text-decoration-color: #00af00\">439,556</span> (1.68 MB)\n",
       "</pre>\n"
      ],
      "text/plain": [
       "\u001b[1m Optimizer params: \u001b[0m\u001b[38;5;34m439,556\u001b[0m (1.68 MB)\n"
      ]
     },
     "metadata": {},
     "output_type": "display_data"
    }
   ],
   "source": [
    "# Modèle 3 avec dropout\n",
    "\n",
    "from tensorflow.keras.layers import Dropout\n",
    "\n",
    "# Ajout de Dropout après la couche LSTM pour prévenir l'overfitting\n",
    "model_W2v_3 = Sequential()\n",
    "model_W2v_3.add(Embedding(input_dim=vocab_size, output_dim=w2v_size, weights=[embedding_matrix],\n",
    "                    trainable=False))\n",
    "model_W2v_3.add(LSTM(128, kernel_regularizer=l2(0.01)))  # Ajout de la régularisation L2\n",
    "model_W2v_3.add(Dropout(0.5))  # Dropout de 50% des neurones\n",
    "model_W2v_3.add(Dense(1, activation='sigmoid', kernel_regularizer=l2(0.01)))  # Ajout L2 dans la couche Dense\n",
    "\n",
    "# Compilation du modèle\n",
    "model_W2v_3.compile(optimizer='adam', loss='binary_crossentropy', metrics=['accuracy'])\n",
    "\n",
    "# Entraînement fictif afin de visualiser le nombre de paramètres\n",
    "model_W2v_3.fit(fictive_data, fictive_labels, epochs=3, batch_size=32)\n",
    "\n",
    "# Affichage du résumé du modèle\n",
    "model_W2v_3.summary()"
   ]
  },
  {
   "cell_type": "code",
   "execution_count": 17,
   "id": "d15f5725-a560-4113-8f96-9537fffd2f26",
   "metadata": {
    "id": "d15f5725-a560-4113-8f96-9537fffd2f26",
    "outputId": "63378807-0878-41ad-c409-f0de0ceb09f9"
   },
   "outputs": [
    {
     "name": "stdout",
     "output_type": "stream",
     "text": [
      "Epoch 1/3\n",
      "\u001b[1m4/4\u001b[0m \u001b[32m━━━━━━━━━━━━━━━━━━━━\u001b[0m\u001b[37m\u001b[0m \u001b[1m1s\u001b[0m 6ms/step - accuracy: 0.4979 - loss: 3.4272\n",
      "Epoch 2/3\n",
      "\u001b[1m4/4\u001b[0m \u001b[32m━━━━━━━━━━━━━━━━━━━━\u001b[0m\u001b[37m\u001b[0m \u001b[1m0s\u001b[0m 6ms/step - accuracy: 0.6101 - loss: 3.1293 \n",
      "Epoch 3/3\n",
      "\u001b[1m4/4\u001b[0m \u001b[32m━━━━━━━━━━━━━━━━━━━━\u001b[0m\u001b[37m\u001b[0m \u001b[1m0s\u001b[0m 6ms/step - accuracy: 0.6357 - loss: 2.8834 \n"
     ]
    },
    {
     "data": {
      "text/html": [
       "<pre style=\"white-space:pre;overflow-x:auto;line-height:normal;font-family:Menlo,'DejaVu Sans Mono',consolas,'Courier New',monospace\"><span style=\"font-weight: bold\">Model: \"sequential_3\"</span>\n",
       "</pre>\n"
      ],
      "text/plain": [
       "\u001b[1mModel: \"sequential_3\"\u001b[0m\n"
      ]
     },
     "metadata": {},
     "output_type": "display_data"
    },
    {
     "data": {
      "text/html": [
       "<pre style=\"white-space:pre;overflow-x:auto;line-height:normal;font-family:Menlo,'DejaVu Sans Mono',consolas,'Courier New',monospace\">┏━━━━━━━━━━━━━━━━━━━━━━━━━━━━━━━━━━━━━━┳━━━━━━━━━━━━━━━━━━━━━━━━━━━━━┳━━━━━━━━━━━━━━━━━┓\n",
       "┃<span style=\"font-weight: bold\"> Layer (type)                         </span>┃<span style=\"font-weight: bold\"> Output Shape                </span>┃<span style=\"font-weight: bold\">         Param # </span>┃\n",
       "┡━━━━━━━━━━━━━━━━━━━━━━━━━━━━━━━━━━━━━━╇━━━━━━━━━━━━━━━━━━━━━━━━━━━━━╇━━━━━━━━━━━━━━━━━┩\n",
       "│ embedding_3 (<span style=\"color: #0087ff; text-decoration-color: #0087ff\">Embedding</span>)              │ (<span style=\"color: #00d7ff; text-decoration-color: #00d7ff\">None</span>, <span style=\"color: #00af00; text-decoration-color: #00af00\">40</span>, <span style=\"color: #00af00; text-decoration-color: #00af00\">300</span>)             │       <span style=\"color: #00af00; text-decoration-color: #00af00\">1,801,800</span> │\n",
       "├──────────────────────────────────────┼─────────────────────────────┼─────────────────┤\n",
       "│ lstm_3 (<span style=\"color: #0087ff; text-decoration-color: #0087ff\">LSTM</span>)                        │ (<span style=\"color: #00d7ff; text-decoration-color: #00d7ff\">None</span>, <span style=\"color: #00af00; text-decoration-color: #00af00\">64</span>)                  │          <span style=\"color: #00af00; text-decoration-color: #00af00\">93,440</span> │\n",
       "├──────────────────────────────────────┼─────────────────────────────┼─────────────────┤\n",
       "│ dense_3 (<span style=\"color: #0087ff; text-decoration-color: #0087ff\">Dense</span>)                      │ (<span style=\"color: #00d7ff; text-decoration-color: #00d7ff\">None</span>, <span style=\"color: #00af00; text-decoration-color: #00af00\">1</span>)                   │              <span style=\"color: #00af00; text-decoration-color: #00af00\">65</span> │\n",
       "└──────────────────────────────────────┴─────────────────────────────┴─────────────────┘\n",
       "</pre>\n"
      ],
      "text/plain": [
       "┏━━━━━━━━━━━━━━━━━━━━━━━━━━━━━━━━━━━━━━┳━━━━━━━━━━━━━━━━━━━━━━━━━━━━━┳━━━━━━━━━━━━━━━━━┓\n",
       "┃\u001b[1m \u001b[0m\u001b[1mLayer (type)                        \u001b[0m\u001b[1m \u001b[0m┃\u001b[1m \u001b[0m\u001b[1mOutput Shape               \u001b[0m\u001b[1m \u001b[0m┃\u001b[1m \u001b[0m\u001b[1m        Param #\u001b[0m\u001b[1m \u001b[0m┃\n",
       "┡━━━━━━━━━━━━━━━━━━━━━━━━━━━━━━━━━━━━━━╇━━━━━━━━━━━━━━━━━━━━━━━━━━━━━╇━━━━━━━━━━━━━━━━━┩\n",
       "│ embedding_3 (\u001b[38;5;33mEmbedding\u001b[0m)              │ (\u001b[38;5;45mNone\u001b[0m, \u001b[38;5;34m40\u001b[0m, \u001b[38;5;34m300\u001b[0m)             │       \u001b[38;5;34m1,801,800\u001b[0m │\n",
       "├──────────────────────────────────────┼─────────────────────────────┼─────────────────┤\n",
       "│ lstm_3 (\u001b[38;5;33mLSTM\u001b[0m)                        │ (\u001b[38;5;45mNone\u001b[0m, \u001b[38;5;34m64\u001b[0m)                  │          \u001b[38;5;34m93,440\u001b[0m │\n",
       "├──────────────────────────────────────┼─────────────────────────────┼─────────────────┤\n",
       "│ dense_3 (\u001b[38;5;33mDense\u001b[0m)                      │ (\u001b[38;5;45mNone\u001b[0m, \u001b[38;5;34m1\u001b[0m)                   │              \u001b[38;5;34m65\u001b[0m │\n",
       "└──────────────────────────────────────┴─────────────────────────────┴─────────────────┘\n"
      ]
     },
     "metadata": {},
     "output_type": "display_data"
    },
    {
     "data": {
      "text/html": [
       "<pre style=\"white-space:pre;overflow-x:auto;line-height:normal;font-family:Menlo,'DejaVu Sans Mono',consolas,'Courier New',monospace\"><span style=\"font-weight: bold\"> Total params: </span><span style=\"color: #00af00; text-decoration-color: #00af00\">2,082,317</span> (7.94 MB)\n",
       "</pre>\n"
      ],
      "text/plain": [
       "\u001b[1m Total params: \u001b[0m\u001b[38;5;34m2,082,317\u001b[0m (7.94 MB)\n"
      ]
     },
     "metadata": {},
     "output_type": "display_data"
    },
    {
     "data": {
      "text/html": [
       "<pre style=\"white-space:pre;overflow-x:auto;line-height:normal;font-family:Menlo,'DejaVu Sans Mono',consolas,'Courier New',monospace\"><span style=\"font-weight: bold\"> Trainable params: </span><span style=\"color: #00af00; text-decoration-color: #00af00\">93,505</span> (365.25 KB)\n",
       "</pre>\n"
      ],
      "text/plain": [
       "\u001b[1m Trainable params: \u001b[0m\u001b[38;5;34m93,505\u001b[0m (365.25 KB)\n"
      ]
     },
     "metadata": {},
     "output_type": "display_data"
    },
    {
     "data": {
      "text/html": [
       "<pre style=\"white-space:pre;overflow-x:auto;line-height:normal;font-family:Menlo,'DejaVu Sans Mono',consolas,'Courier New',monospace\"><span style=\"font-weight: bold\"> Non-trainable params: </span><span style=\"color: #00af00; text-decoration-color: #00af00\">1,801,800</span> (6.87 MB)\n",
       "</pre>\n"
      ],
      "text/plain": [
       "\u001b[1m Non-trainable params: \u001b[0m\u001b[38;5;34m1,801,800\u001b[0m (6.87 MB)\n"
      ]
     },
     "metadata": {},
     "output_type": "display_data"
    },
    {
     "data": {
      "text/html": [
       "<pre style=\"white-space:pre;overflow-x:auto;line-height:normal;font-family:Menlo,'DejaVu Sans Mono',consolas,'Courier New',monospace\"><span style=\"font-weight: bold\"> Optimizer params: </span><span style=\"color: #00af00; text-decoration-color: #00af00\">187,012</span> (730.52 KB)\n",
       "</pre>\n"
      ],
      "text/plain": [
       "\u001b[1m Optimizer params: \u001b[0m\u001b[38;5;34m187,012\u001b[0m (730.52 KB)\n"
      ]
     },
     "metadata": {},
     "output_type": "display_data"
    }
   ],
   "source": [
    "# Réduction du nombre d'unités dans la couche LSTM\n",
    "model_W2v_4 = Sequential()\n",
    "model_W2v_4.add(Embedding(input_dim=vocab_size, output_dim=w2v_size, weights=[embedding_matrix],\n",
    "                # input_length=maxlen,\n",
    "                trainable=False))\n",
    "model_W2v_4.add(LSTM(64, kernel_regularizer=l2(0.01)))  # Moins d'unités LSTM\n",
    "model_W2v_3.add(Dropout(0.5))  # Dropout de 50% des neurones\n",
    "model_W2v_4.add(Dense(1, activation='sigmoid', kernel_regularizer=l2(0.01)))\n",
    "\n",
    "# Compilation du modèle\n",
    "model_W2v_4.compile(optimizer='adam', loss='binary_crossentropy', metrics=['accuracy'])\n",
    "\n",
    "# Entraînement fictif afin de visualiser le nombre de paramètres\n",
    "model_W2v_4.fit(fictive_data, fictive_labels, epochs=3, batch_size=32)\n",
    "\n",
    "model_W2v_4.summary()"
   ]
  },
  {
   "cell_type": "code",
   "execution_count": 18,
   "id": "4f450ee3-46b3-4761-819f-c0cb866c00db",
   "metadata": {
    "colab": {
     "base_uri": "https://localhost:8080/",
     "height": 267
    },
    "executionInfo": {
     "elapsed": 292,
     "status": "ok",
     "timestamp": 1727939669669,
     "user": {
      "displayName": "Mayer Cécile",
      "userId": "03016020088537475993"
     },
     "user_tz": -120
    },
    "id": "4f450ee3-46b3-4761-819f-c0cb866c00db",
    "outputId": "23fff064-7735-4f15-9759-7d2d19e62515"
   },
   "outputs": [
    {
     "name": "stdout",
     "output_type": "stream",
     "text": [
      "Epoch 1/3\n",
      "\u001b[1m4/4\u001b[0m \u001b[32m━━━━━━━━━━━━━━━━━━━━\u001b[0m\u001b[37m\u001b[0m \u001b[1m2s\u001b[0m 10ms/step - accuracy: 0.5707 - loss: 786280192.0000\n",
      "Epoch 2/3\n",
      "\u001b[1m4/4\u001b[0m \u001b[32m━━━━━━━━━━━━━━━━━━━━\u001b[0m\u001b[37m\u001b[0m \u001b[1m0s\u001b[0m 11ms/step - accuracy: 0.4967 - loss: 908713856.0000\n",
      "Epoch 3/3\n",
      "\u001b[1m4/4\u001b[0m \u001b[32m━━━━━━━━━━━━━━━━━━━━\u001b[0m\u001b[37m\u001b[0m \u001b[1m0s\u001b[0m 11ms/step - accuracy: 0.4653 - loss: 794550464.0000\n"
     ]
    },
    {
     "data": {
      "text/html": [
       "<pre style=\"white-space:pre;overflow-x:auto;line-height:normal;font-family:Menlo,'DejaVu Sans Mono',consolas,'Courier New',monospace\"><span style=\"font-weight: bold\">Model: \"sequential_4\"</span>\n",
       "</pre>\n"
      ],
      "text/plain": [
       "\u001b[1mModel: \"sequential_4\"\u001b[0m\n"
      ]
     },
     "metadata": {},
     "output_type": "display_data"
    },
    {
     "data": {
      "text/html": [
       "<pre style=\"white-space:pre;overflow-x:auto;line-height:normal;font-family:Menlo,'DejaVu Sans Mono',consolas,'Courier New',monospace\">┏━━━━━━━━━━━━━━━━━━━━━━━━━━━━━━━━━━━━━━┳━━━━━━━━━━━━━━━━━━━━━━━━━━━━━┳━━━━━━━━━━━━━━━━━┓\n",
       "┃<span style=\"font-weight: bold\"> Layer (type)                         </span>┃<span style=\"font-weight: bold\"> Output Shape                </span>┃<span style=\"font-weight: bold\">         Param # </span>┃\n",
       "┡━━━━━━━━━━━━━━━━━━━━━━━━━━━━━━━━━━━━━━╇━━━━━━━━━━━━━━━━━━━━━━━━━━━━━╇━━━━━━━━━━━━━━━━━┩\n",
       "│ embedding_4 (<span style=\"color: #0087ff; text-decoration-color: #0087ff\">Embedding</span>)              │ (<span style=\"color: #00d7ff; text-decoration-color: #00d7ff\">None</span>, <span style=\"color: #00af00; text-decoration-color: #00af00\">40</span>, <span style=\"color: #00af00; text-decoration-color: #00af00\">300</span>)             │       <span style=\"color: #00af00; text-decoration-color: #00af00\">1,801,800</span> │\n",
       "├──────────────────────────────────────┼─────────────────────────────┼─────────────────┤\n",
       "│ gru (<span style=\"color: #0087ff; text-decoration-color: #0087ff\">GRU</span>)                            │ (<span style=\"color: #00d7ff; text-decoration-color: #00d7ff\">None</span>, <span style=\"color: #00af00; text-decoration-color: #00af00\">128</span>)                 │         <span style=\"color: #00af00; text-decoration-color: #00af00\">165,120</span> │\n",
       "├──────────────────────────────────────┼─────────────────────────────┼─────────────────┤\n",
       "│ dense_4 (<span style=\"color: #0087ff; text-decoration-color: #0087ff\">Dense</span>)                      │ (<span style=\"color: #00d7ff; text-decoration-color: #00d7ff\">None</span>, <span style=\"color: #00af00; text-decoration-color: #00af00\">1</span>)                   │             <span style=\"color: #00af00; text-decoration-color: #00af00\">129</span> │\n",
       "└──────────────────────────────────────┴─────────────────────────────┴─────────────────┘\n",
       "</pre>\n"
      ],
      "text/plain": [
       "┏━━━━━━━━━━━━━━━━━━━━━━━━━━━━━━━━━━━━━━┳━━━━━━━━━━━━━━━━━━━━━━━━━━━━━┳━━━━━━━━━━━━━━━━━┓\n",
       "┃\u001b[1m \u001b[0m\u001b[1mLayer (type)                        \u001b[0m\u001b[1m \u001b[0m┃\u001b[1m \u001b[0m\u001b[1mOutput Shape               \u001b[0m\u001b[1m \u001b[0m┃\u001b[1m \u001b[0m\u001b[1m        Param #\u001b[0m\u001b[1m \u001b[0m┃\n",
       "┡━━━━━━━━━━━━━━━━━━━━━━━━━━━━━━━━━━━━━━╇━━━━━━━━━━━━━━━━━━━━━━━━━━━━━╇━━━━━━━━━━━━━━━━━┩\n",
       "│ embedding_4 (\u001b[38;5;33mEmbedding\u001b[0m)              │ (\u001b[38;5;45mNone\u001b[0m, \u001b[38;5;34m40\u001b[0m, \u001b[38;5;34m300\u001b[0m)             │       \u001b[38;5;34m1,801,800\u001b[0m │\n",
       "├──────────────────────────────────────┼─────────────────────────────┼─────────────────┤\n",
       "│ gru (\u001b[38;5;33mGRU\u001b[0m)                            │ (\u001b[38;5;45mNone\u001b[0m, \u001b[38;5;34m128\u001b[0m)                 │         \u001b[38;5;34m165,120\u001b[0m │\n",
       "├──────────────────────────────────────┼─────────────────────────────┼─────────────────┤\n",
       "│ dense_4 (\u001b[38;5;33mDense\u001b[0m)                      │ (\u001b[38;5;45mNone\u001b[0m, \u001b[38;5;34m1\u001b[0m)                   │             \u001b[38;5;34m129\u001b[0m │\n",
       "└──────────────────────────────────────┴─────────────────────────────┴─────────────────┘\n"
      ]
     },
     "metadata": {},
     "output_type": "display_data"
    },
    {
     "data": {
      "text/html": [
       "<pre style=\"white-space:pre;overflow-x:auto;line-height:normal;font-family:Menlo,'DejaVu Sans Mono',consolas,'Courier New',monospace\"><span style=\"font-weight: bold\"> Total params: </span><span style=\"color: #00af00; text-decoration-color: #00af00\">2,297,549</span> (8.76 MB)\n",
       "</pre>\n"
      ],
      "text/plain": [
       "\u001b[1m Total params: \u001b[0m\u001b[38;5;34m2,297,549\u001b[0m (8.76 MB)\n"
      ]
     },
     "metadata": {},
     "output_type": "display_data"
    },
    {
     "data": {
      "text/html": [
       "<pre style=\"white-space:pre;overflow-x:auto;line-height:normal;font-family:Menlo,'DejaVu Sans Mono',consolas,'Courier New',monospace\"><span style=\"font-weight: bold\"> Trainable params: </span><span style=\"color: #00af00; text-decoration-color: #00af00\">165,249</span> (645.50 KB)\n",
       "</pre>\n"
      ],
      "text/plain": [
       "\u001b[1m Trainable params: \u001b[0m\u001b[38;5;34m165,249\u001b[0m (645.50 KB)\n"
      ]
     },
     "metadata": {},
     "output_type": "display_data"
    },
    {
     "data": {
      "text/html": [
       "<pre style=\"white-space:pre;overflow-x:auto;line-height:normal;font-family:Menlo,'DejaVu Sans Mono',consolas,'Courier New',monospace\"><span style=\"font-weight: bold\"> Non-trainable params: </span><span style=\"color: #00af00; text-decoration-color: #00af00\">1,801,800</span> (6.87 MB)\n",
       "</pre>\n"
      ],
      "text/plain": [
       "\u001b[1m Non-trainable params: \u001b[0m\u001b[38;5;34m1,801,800\u001b[0m (6.87 MB)\n"
      ]
     },
     "metadata": {},
     "output_type": "display_data"
    },
    {
     "data": {
      "text/html": [
       "<pre style=\"white-space:pre;overflow-x:auto;line-height:normal;font-family:Menlo,'DejaVu Sans Mono',consolas,'Courier New',monospace\"><span style=\"font-weight: bold\"> Optimizer params: </span><span style=\"color: #00af00; text-decoration-color: #00af00\">330,500</span> (1.26 MB)\n",
       "</pre>\n"
      ],
      "text/plain": [
       "\u001b[1m Optimizer params: \u001b[0m\u001b[38;5;34m330,500\u001b[0m (1.26 MB)\n"
      ]
     },
     "metadata": {},
     "output_type": "display_data"
    }
   ],
   "source": [
    "# Code du modèle avec GRU, Dropout et régularisation L2\n",
    "from tensorflow.keras.models import Sequential\n",
    "from tensorflow.keras.layers import Embedding, GRU, Dense, Dropout\n",
    "from tensorflow.keras.regularizers import l2\n",
    "from tensorflow.keras.optimizers import Adam  # Importer Adam pour ajuster le learning rate\n",
    "\n",
    "# Paramètres de régularisation et Dropout\n",
    "dropout_rate = 0.5      # Pourcentage de neurones ignorés\n",
    "l2_lambda = 0.01        # Facteur de régularisation L2\n",
    "learning_rate = 0.0001  # Taux d'apprentissage spécifique\n",
    "\n",
    "# Instanciation du modèle séquentiel\n",
    "model_W2v_5 = Sequential()\n",
    "\n",
    "# 1. Couche d'embedding avec la matrice Word2Vec pré-entraînée\n",
    "model_W2v_5.add(Embedding(\n",
    "    input_dim=vocab_size,       # Taille du vocabulaire\n",
    "    output_dim=w2v_size,        # Dimension des vecteurs d'embedding\n",
    "    weights=[embedding_matrix], # Matrice d'embedding pré-entraînée\n",
    "    # input_length=maxlen,        # Longueur maximale des séquences\n",
    "    trainable=False             # Geler les poids de l'embedding\n",
    "))\n",
    "\n",
    "# 2. Couche GRU avec Dropout et régularisation L2\n",
    "model_W2v_5.add(GRU(\n",
    "    units=128,                    # Nombre d'unités GRU\n",
    "    kernel_regularizer=l2(l2_lambda),  # Régularisation L2 sur les poids\n",
    "    recurrent_regularizer=l2(l2_lambda),  # Régularisation L2 sur les poids récurrents\n",
    "    dropout=dropout_rate,         # Dropout sur les connexions entrantes\n",
    "    recurrent_dropout=dropout_rate  # Dropout sur les connexions récurrentes\n",
    "))\n",
    "\n",
    "# 3. Couche de sortie Dense avec régularisation L2\n",
    "model_W2v_5.add(Dense(\n",
    "    units=1,                      # Pour une tâche de classification binaire\n",
    "    activation='sigmoid',          # Sigmoid pour la probabilité binaire\n",
    "    kernel_regularizer=l2(l2_lambda)  # Régularisation L2 sur la couche de sortie\n",
    "))\n",
    "\n",
    "# Définir l'optimiseur Adam avec un learning rate spécifique\n",
    "optimizer = Adam(learning_rate=learning_rate)\n",
    "\n",
    "# Compilation du modèle\n",
    "model_W2v_5.compile(\n",
    "    optimizer=optimizer,          # Utiliser l'optimiseur Adam avec le learning rate défini\n",
    "    loss='binary_crossentropy',   # Fonction de perte pour une classification binaire\n",
    "    metrics=['accuracy']          # Métrique d'accuracy\n",
    ")\n",
    "\n",
    "# Entraînement fictif afin de visualiser le nombre de paramètres\n",
    "model_W2v_5.fit(fictive_data, fictive_labels, epochs=3, batch_size=32)\n",
    "\n",
    "# Affichage du résumé du modèle\n",
    "model_W2v_5.summary()\n"
   ]
  },
  {
   "cell_type": "code",
   "execution_count": 19,
   "id": "ecd2a01a-4458-4630-b981-cfb2a4dbea99",
   "metadata": {},
   "outputs": [],
   "source": [
    "# Liste des modèles\n",
    "models = [model_W2v_1, model_W2v_2, model_W2v_3, model_W2v_4, model_W2v_5] "
   ]
  },
  {
   "cell_type": "markdown",
   "id": "715f60a5-5114-4ba9-8ae0-b23d2d7fac96",
   "metadata": {
    "id": "715f60a5-5114-4ba9-8ae0-b23d2d7fac96"
   },
   "source": [
    "### Préparation des données pour l'exécution du modèle"
   ]
  },
  {
   "cell_type": "code",
   "execution_count": 20,
   "id": "fde9ff8d-c867-468c-8ebf-252343e6d087",
   "metadata": {
    "colab": {
     "base_uri": "https://localhost:8080/"
    },
    "executionInfo": {
     "elapsed": 246,
     "status": "ok",
     "timestamp": 1727939675441,
     "user": {
      "displayName": "Mayer Cécile",
      "userId": "03016020088537475993"
     },
     "user_tz": -120
    },
    "id": "fde9ff8d-c867-468c-8ebf-252343e6d087",
    "outputId": "bfc2b986-48a8-454a-8fa3-9e2de63dae57"
   },
   "outputs": [
    {
     "name": "stdout",
     "output_type": "stream",
     "text": [
      "[[ 165   65  990 2556 2546  957    6  167 1161  419  867 1145   32 2684\n",
      "     0    0    0    0    0    0    0    0    0    0    0    0    0    0\n",
      "     0    0    0    0    0    0    0    0    0    0    0    0]\n",
      " [ 406   16  750    3    0    0    0    0    0    0    0    0    0    0\n",
      "     0    0    0    0    0    0    0    0    0    0    0    0    0    0\n",
      "     0    0    0    0    0    0    0    0    0    0    0    0]\n",
      " [2726  838   28  101   32    4   14    5   86    5   41  101   72   90\n",
      "     0    0    0    0    0    0    0    0    0    0    0    0    0    0\n",
      "     0    0    0    0    0    0    0    0    0    0    0    0]\n",
      " [2520 2594 2424  450   54  612  193 2549   19    0    0    0    0    0\n",
      "     0    0    0    0    0    0    0    0    0    0    0    0    0    0\n",
      "     0    0    0    0    0    0    0    0    0    0    0    0]\n",
      " [   1 2618 2686    5  419    5   55  105  177   81    6  179  496  239\n",
      "     0    0    0    0    0    0    0    0    0    0    0    0    0    0\n",
      "     0    0    0    0    0    0    0    0    0    0    0    0]]\n"
     ]
    }
   ],
   "source": [
    "from tensorflow.keras.preprocessing.sequence import pad_sequences\n",
    "\n",
    "# Création d'un dictionnaire mot->index à partir du vocabulaire de Word2Vec\n",
    "word_index = {word: i for i, word in enumerate(w2v_model.wv.index_to_key)}\n",
    "\n",
    "# Fonction pour convertir les phrases en séquences d'index\n",
    "def sentences_to_sequences(sentences, word_index):\n",
    "    sequences = []\n",
    "    for sentence in sentences:\n",
    "        seq = [word_index.get(word, 0) for word in sentence]  # Remplacer les mots inconnus par 0\n",
    "        sequences.append(seq)\n",
    "    return sequences\n",
    "\n",
    "# Conversion des phrases d'entraînement et de test en séquences d'index\n",
    "train_sequences = sentences_to_sequences(train_sentences, word_index)\n",
    "test_sequences = sentences_to_sequences(test_sentences, word_index)\n",
    "\n",
    "# Padding des séquences pour qu'elles aient toutes la même longueur (maxlen)\n",
    "train_padded = pad_sequences(train_sequences, maxlen=maxlen, padding='post')\n",
    "test_padded = pad_sequences(test_sequences, maxlen=maxlen, padding='post')\n",
    "\n",
    "# Exemple d'affichage des séquences après padding\n",
    "print(train_padded[:5])\n"
   ]
  },
  {
   "cell_type": "code",
   "execution_count": 21,
   "id": "816dfece-0ca1-42b1-ad44-5c701de467ce",
   "metadata": {
    "colab": {
     "base_uri": "https://localhost:8080/"
    },
    "executionInfo": {
     "elapsed": 53545,
     "status": "ok",
     "timestamp": 1727939836433,
     "user": {
      "displayName": "Mayer Cécile",
      "userId": "03016020088537475993"
     },
     "user_tz": -120
    },
    "id": "f4de15f7-28ca-451f-a627-16885621799b",
    "outputId": "334ef426-1ff8-4651-9323-92b13212b559"
   },
   "outputs": [],
   "source": [
    "y_train = train_df['target'].values\n",
    "y_test = test_df['target'].values"
   ]
  },
  {
   "cell_type": "markdown",
   "id": "e88b466d-2398-4cfb-9db4-233f228d1869",
   "metadata": {
    "id": "e88b466d-2398-4cfb-9db4-233f228d1869"
   },
   "source": [
    "### Entrainement du modèle d'embedding"
   ]
  },
  {
   "cell_type": "code",
   "execution_count": 22,
   "id": "841cb5d9-5b74-4bf6-b452-9a9696770a00",
   "metadata": {},
   "outputs": [],
   "source": [
    "n_epchos = 12\n",
    "batch_size = 64"
   ]
  },
  {
   "cell_type": "code",
   "execution_count": 23,
   "id": "7eb0f189-ff3e-413a-8c9a-5be3318b8969",
   "metadata": {
    "colab": {
     "base_uri": "https://localhost:8080/"
    },
    "executionInfo": {
     "elapsed": 53545,
     "status": "ok",
     "timestamp": 1727939836433,
     "user": {
      "displayName": "Mayer Cécile",
      "userId": "03016020088537475993"
     },
     "user_tz": -120
    },
    "id": "f4de15f7-28ca-451f-a627-16885621799b",
    "outputId": "334ef426-1ff8-4651-9323-92b13212b559"
   },
   "outputs": [
    {
     "name": "stdout",
     "output_type": "stream",
     "text": [
      "Epoch 1/12\n",
      "\u001b[1m54/54\u001b[0m \u001b[32m━━━━━━━━━━━━━━━━━━━━\u001b[0m\u001b[37m\u001b[0m \u001b[1m2s\u001b[0m 24ms/step - accuracy: 0.4907 - loss: 0.7054 - val_accuracy: 0.5014 - val_loss: 0.6940\n",
      "Epoch 2/12\n",
      "\u001b[1m54/54\u001b[0m \u001b[32m━━━━━━━━━━━━━━━━━━━━\u001b[0m\u001b[37m\u001b[0m \u001b[1m1s\u001b[0m 21ms/step - accuracy: 0.5110 - loss: 0.6995 - val_accuracy: 0.4986 - val_loss: 0.6936\n",
      "Epoch 3/12\n",
      "\u001b[1m54/54\u001b[0m \u001b[32m━━━━━━━━━━━━━━━━━━━━\u001b[0m\u001b[37m\u001b[0m \u001b[1m1s\u001b[0m 21ms/step - accuracy: 0.4782 - loss: 0.6953 - val_accuracy: 0.4986 - val_loss: 0.6933\n",
      "Epoch 4/12\n",
      "\u001b[1m54/54\u001b[0m \u001b[32m━━━━━━━━━━━━━━━━━━━━\u001b[0m\u001b[37m\u001b[0m \u001b[1m1s\u001b[0m 21ms/step - accuracy: 0.4980 - loss: 0.6938 - val_accuracy: 0.4986 - val_loss: 0.6936\n",
      "Epoch 5/12\n",
      "\u001b[1m54/54\u001b[0m \u001b[32m━━━━━━━━━━━━━━━━━━━━\u001b[0m\u001b[37m\u001b[0m \u001b[1m1s\u001b[0m 21ms/step - accuracy: 0.5022 - loss: 0.6956 - val_accuracy: 0.4986 - val_loss: 0.6933\n",
      "Epoch 6/12\n",
      "\u001b[1m54/54\u001b[0m \u001b[32m━━━━━━━━━━━━━━━━━━━━\u001b[0m\u001b[37m\u001b[0m \u001b[1m1s\u001b[0m 21ms/step - accuracy: 0.4883 - loss: 0.6974 - val_accuracy: 0.4986 - val_loss: 0.6946\n",
      "Epoch 7/12\n",
      "\u001b[1m54/54\u001b[0m \u001b[32m━━━━━━━━━━━━━━━━━━━━\u001b[0m\u001b[37m\u001b[0m \u001b[1m1s\u001b[0m 20ms/step - accuracy: 0.4906 - loss: 0.6954 - val_accuracy: 0.4986 - val_loss: 0.6932\n",
      "Epoch 8/12\n",
      "\u001b[1m54/54\u001b[0m \u001b[32m━━━━━━━━━━━━━━━━━━━━\u001b[0m\u001b[37m\u001b[0m \u001b[1m1s\u001b[0m 21ms/step - accuracy: 0.4827 - loss: 0.6940 - val_accuracy: 0.4986 - val_loss: 0.6932\n",
      "Epoch 9/12\n",
      "\u001b[1m54/54\u001b[0m \u001b[32m━━━━━━━━━━━━━━━━━━━━\u001b[0m\u001b[37m\u001b[0m \u001b[1m1s\u001b[0m 21ms/step - accuracy: 0.4812 - loss: 0.6937 - val_accuracy: 0.4986 - val_loss: 0.6941\n",
      "Epoch 10/12\n",
      "\u001b[1m54/54\u001b[0m \u001b[32m━━━━━━━━━━━━━━━━━━━━\u001b[0m\u001b[37m\u001b[0m \u001b[1m1s\u001b[0m 21ms/step - accuracy: 0.5016 - loss: 0.6950 - val_accuracy: 0.5014 - val_loss: 0.6938\n",
      "Epoch 11/12\n",
      "\u001b[1m54/54\u001b[0m \u001b[32m━━━━━━━━━━━━━━━━━━━━\u001b[0m\u001b[37m\u001b[0m \u001b[1m1s\u001b[0m 21ms/step - accuracy: 0.5080 - loss: 0.6942 - val_accuracy: 0.4986 - val_loss: 0.6938\n",
      "Epoch 12/12\n",
      "\u001b[1m54/54\u001b[0m \u001b[32m━━━━━━━━━━━━━━━━━━━━\u001b[0m\u001b[37m\u001b[0m \u001b[1m1s\u001b[0m 21ms/step - accuracy: 0.5068 - loss: 0.6938 - val_accuracy: 0.5014 - val_loss: 0.6938\n"
     ]
    }
   ],
   "source": [
    "# Entraînement du modèle 1 avec validation et sauvegarde de l'historique\n",
    "history_w2v_1 = model_W2v_1.fit(\n",
    "    train_padded,         # Données d'entraînement\n",
    "    y_train,              # Étiquettes d'entraînement\n",
    "    epochs=n_epchos,            # Nombre d'époques\n",
    "    batch_size=batch_size,        # Taille des batchs\n",
    "    validation_data=(test_padded, y_test),  # Validation sur les données de test\n",
    "    verbose=1             # Afficher l'évolution pendant l'entraînement\n",
    ")"
   ]
  },
  {
   "cell_type": "code",
   "execution_count": 24,
   "id": "2b051b37-df88-4eb2-b00d-97c95beefbd7",
   "metadata": {
    "colab": {
     "base_uri": "https://localhost:8080/"
    },
    "executionInfo": {
     "elapsed": 53545,
     "status": "ok",
     "timestamp": 1727939836433,
     "user": {
      "displayName": "Mayer Cécile",
      "userId": "03016020088537475993"
     },
     "user_tz": -120
    },
    "id": "f4de15f7-28ca-451f-a627-16885621799b",
    "outputId": "334ef426-1ff8-4651-9323-92b13212b559"
   },
   "outputs": [
    {
     "name": "stdout",
     "output_type": "stream",
     "text": [
      "Epoch 1/12\n",
      "\u001b[1m54/54\u001b[0m \u001b[32m━━━━━━━━━━━━━━━━━━━━\u001b[0m\u001b[37m\u001b[0m \u001b[1m2s\u001b[0m 25ms/step - accuracy: 0.4807 - loss: 2.4528 - val_accuracy: 0.4986 - val_loss: 1.0785\n",
      "Epoch 2/12\n",
      "\u001b[1m54/54\u001b[0m \u001b[32m━━━━━━━━━━━━━━━━━━━━\u001b[0m\u001b[37m\u001b[0m \u001b[1m1s\u001b[0m 21ms/step - accuracy: 0.5038 - loss: 0.9616 - val_accuracy: 0.4986 - val_loss: 0.7788\n",
      "Epoch 3/12\n",
      "\u001b[1m54/54\u001b[0m \u001b[32m━━━━━━━━━━━━━━━━━━━━\u001b[0m\u001b[37m\u001b[0m \u001b[1m1s\u001b[0m 21ms/step - accuracy: 0.4964 - loss: 0.7627 - val_accuracy: 0.4986 - val_loss: 0.7274\n",
      "Epoch 4/12\n",
      "\u001b[1m54/54\u001b[0m \u001b[32m━━━━━━━━━━━━━━━━━━━━\u001b[0m\u001b[37m\u001b[0m \u001b[1m1s\u001b[0m 21ms/step - accuracy: 0.5175 - loss: 0.7272 - val_accuracy: 0.5014 - val_loss: 0.7214\n",
      "Epoch 5/12\n",
      "\u001b[1m54/54\u001b[0m \u001b[32m━━━━━━━━━━━━━━━━━━━━\u001b[0m\u001b[37m\u001b[0m \u001b[1m1s\u001b[0m 21ms/step - accuracy: 0.4960 - loss: 0.7135 - val_accuracy: 0.5014 - val_loss: 0.7028\n",
      "Epoch 6/12\n",
      "\u001b[1m54/54\u001b[0m \u001b[32m━━━━━━━━━━━━━━━━━━━━\u001b[0m\u001b[37m\u001b[0m \u001b[1m1s\u001b[0m 21ms/step - accuracy: 0.5101 - loss: 0.7015 - val_accuracy: 0.4986 - val_loss: 0.6985\n",
      "Epoch 7/12\n",
      "\u001b[1m54/54\u001b[0m \u001b[32m━━━━━━━━━━━━━━━━━━━━\u001b[0m\u001b[37m\u001b[0m \u001b[1m1s\u001b[0m 21ms/step - accuracy: 0.5007 - loss: 0.7008 - val_accuracy: 0.5014 - val_loss: 0.6973\n",
      "Epoch 8/12\n",
      "\u001b[1m54/54\u001b[0m \u001b[32m━━━━━━━━━━━━━━━━━━━━\u001b[0m\u001b[37m\u001b[0m \u001b[1m1s\u001b[0m 21ms/step - accuracy: 0.5139 - loss: 0.6959 - val_accuracy: 0.4986 - val_loss: 0.6953\n",
      "Epoch 9/12\n",
      "\u001b[1m54/54\u001b[0m \u001b[32m━━━━━━━━━━━━━━━━━━━━\u001b[0m\u001b[37m\u001b[0m \u001b[1m1s\u001b[0m 21ms/step - accuracy: 0.4807 - loss: 0.6961 - val_accuracy: 0.4986 - val_loss: 0.6945\n",
      "Epoch 10/12\n",
      "\u001b[1m54/54\u001b[0m \u001b[32m━━━━━━━━━━━━━━━━━━━━\u001b[0m\u001b[37m\u001b[0m \u001b[1m1s\u001b[0m 21ms/step - accuracy: 0.4675 - loss: 0.6947 - val_accuracy: 0.5014 - val_loss: 0.6941\n",
      "Epoch 11/12\n",
      "\u001b[1m54/54\u001b[0m \u001b[32m━━━━━━━━━━━━━━━━━━━━\u001b[0m\u001b[37m\u001b[0m \u001b[1m1s\u001b[0m 21ms/step - accuracy: 0.4983 - loss: 0.6941 - val_accuracy: 0.5014 - val_loss: 0.6938\n",
      "Epoch 12/12\n",
      "\u001b[1m54/54\u001b[0m \u001b[32m━━━━━━━━━━━━━━━━━━━━\u001b[0m\u001b[37m\u001b[0m \u001b[1m1s\u001b[0m 21ms/step - accuracy: 0.5244 - loss: 0.6939 - val_accuracy: 0.5014 - val_loss: 0.6936\n"
     ]
    }
   ],
   "source": [
    "# Entraînement du modèle 2 avec validation et sauvegarde de l'historique\n",
    "history_w2v_2 = model_W2v_2.fit(\n",
    "    train_padded,         # Données d'entraînement\n",
    "    y_train,              # Étiquettes d'entraînement\n",
    "    epochs=n_epchos,            # Nombre d'époques\n",
    "    batch_size=batch_size,        # Taille des batchs\n",
    "    validation_data=(test_padded, y_test),  # Validation sur les données de test\n",
    "    verbose=1             # Afficher l'évolution pendant l'entraînement\n",
    ")"
   ]
  },
  {
   "cell_type": "code",
   "execution_count": 25,
   "id": "07b93817-cd70-46b1-a2cb-3bb6690e0f4e",
   "metadata": {
    "colab": {
     "base_uri": "https://localhost:8080/"
    },
    "executionInfo": {
     "elapsed": 53545,
     "status": "ok",
     "timestamp": 1727939836433,
     "user": {
      "displayName": "Mayer Cécile",
      "userId": "03016020088537475993"
     },
     "user_tz": -120
    },
    "id": "f4de15f7-28ca-451f-a627-16885621799b",
    "outputId": "334ef426-1ff8-4651-9323-92b13212b559"
   },
   "outputs": [
    {
     "name": "stdout",
     "output_type": "stream",
     "text": [
      "Epoch 1/12\n",
      "\u001b[1m54/54\u001b[0m \u001b[32m━━━━━━━━━━━━━━━━━━━━\u001b[0m\u001b[37m\u001b[0m \u001b[1m2s\u001b[0m 24ms/step - accuracy: 0.5049 - loss: 6.5553 - val_accuracy: 0.4986 - val_loss: 1.5974\n",
      "Epoch 2/12\n",
      "\u001b[1m54/54\u001b[0m \u001b[32m━━━━━━━━━━━━━━━━━━━━\u001b[0m\u001b[37m\u001b[0m \u001b[1m1s\u001b[0m 21ms/step - accuracy: 0.4998 - loss: 4.9124 - val_accuracy: 0.4986 - val_loss: 1.2203\n",
      "Epoch 3/12\n",
      "\u001b[1m54/54\u001b[0m \u001b[32m━━━━━━━━━━━━━━━━━━━━\u001b[0m\u001b[37m\u001b[0m \u001b[1m1s\u001b[0m 21ms/step - accuracy: 0.4866 - loss: 4.8020 - val_accuracy: 0.4986 - val_loss: 1.0330\n",
      "Epoch 4/12\n",
      "\u001b[1m54/54\u001b[0m \u001b[32m━━━━━━━━━━━━━━━━━━━━\u001b[0m\u001b[37m\u001b[0m \u001b[1m1s\u001b[0m 20ms/step - accuracy: 0.5035 - loss: 4.3782 - val_accuracy: 0.4986 - val_loss: 0.9734\n",
      "Epoch 5/12\n",
      "\u001b[1m54/54\u001b[0m \u001b[32m━━━━━━━━━━━━━━━━━━━━\u001b[0m\u001b[37m\u001b[0m \u001b[1m1s\u001b[0m 21ms/step - accuracy: 0.4960 - loss: 4.5642 - val_accuracy: 0.4986 - val_loss: 0.8701\n",
      "Epoch 6/12\n",
      "\u001b[1m54/54\u001b[0m \u001b[32m━━━━━━━━━━━━━━━━━━━━\u001b[0m\u001b[37m\u001b[0m \u001b[1m1s\u001b[0m 21ms/step - accuracy: 0.4980 - loss: 4.5212 - val_accuracy: 0.4986 - val_loss: 0.9006\n",
      "Epoch 7/12\n",
      "\u001b[1m54/54\u001b[0m \u001b[32m━━━━━━━━━━━━━━━━━━━━\u001b[0m\u001b[37m\u001b[0m \u001b[1m1s\u001b[0m 21ms/step - accuracy: 0.5038 - loss: 4.4891 - val_accuracy: 0.4986 - val_loss: 0.8751\n",
      "Epoch 8/12\n",
      "\u001b[1m54/54\u001b[0m \u001b[32m━━━━━━━━━━━━━━━━━━━━\u001b[0m\u001b[37m\u001b[0m \u001b[1m1s\u001b[0m 21ms/step - accuracy: 0.4939 - loss: 4.5259 - val_accuracy: 0.4986 - val_loss: 0.8318\n",
      "Epoch 9/12\n",
      "\u001b[1m54/54\u001b[0m \u001b[32m━━━━━━━━━━━━━━━━━━━━\u001b[0m\u001b[37m\u001b[0m \u001b[1m1s\u001b[0m 21ms/step - accuracy: 0.4959 - loss: 4.3707 - val_accuracy: 0.4986 - val_loss: 0.8622\n",
      "Epoch 10/12\n",
      "\u001b[1m54/54\u001b[0m \u001b[32m━━━━━━━━━━━━━━━━━━━━\u001b[0m\u001b[37m\u001b[0m \u001b[1m1s\u001b[0m 21ms/step - accuracy: 0.5189 - loss: 4.3725 - val_accuracy: 0.4986 - val_loss: 0.8502\n",
      "Epoch 11/12\n",
      "\u001b[1m54/54\u001b[0m \u001b[32m━━━━━━━━━━━━━━━━━━━━\u001b[0m\u001b[37m\u001b[0m \u001b[1m1s\u001b[0m 21ms/step - accuracy: 0.5101 - loss: 4.2527 - val_accuracy: 0.4986 - val_loss: 0.8504\n",
      "Epoch 12/12\n",
      "\u001b[1m54/54\u001b[0m \u001b[32m━━━━━━━━━━━━━━━━━━━━\u001b[0m\u001b[37m\u001b[0m \u001b[1m1s\u001b[0m 21ms/step - accuracy: 0.5073 - loss: 4.1951 - val_accuracy: 0.4986 - val_loss: 0.8262\n"
     ]
    }
   ],
   "source": [
    "# Entraînement du modèle 3 avec validation et sauvegarde de l'historique\n",
    "history_w2v_3 = model_W2v_3.fit(\n",
    "    train_padded,         # Données d'entraînement\n",
    "    y_train,              # Étiquettes d'entraînement\n",
    "    epochs=n_epchos,            # Nombre d'époques\n",
    "    batch_size=batch_size,        # Taille des batchs\n",
    "    validation_data=(test_padded, y_test),  # Validation sur les données de test\n",
    "    verbose=1             # Afficher l'évolution pendant l'entraînement\n",
    ")"
   ]
  },
  {
   "cell_type": "code",
   "execution_count": 26,
   "id": "361390bf-abed-4e30-8df4-9ef7e1b65220",
   "metadata": {
    "colab": {
     "base_uri": "https://localhost:8080/"
    },
    "executionInfo": {
     "elapsed": 53545,
     "status": "ok",
     "timestamp": 1727939836433,
     "user": {
      "displayName": "Mayer Cécile",
      "userId": "03016020088537475993"
     },
     "user_tz": -120
    },
    "id": "f4de15f7-28ca-451f-a627-16885621799b",
    "outputId": "334ef426-1ff8-4651-9323-92b13212b559"
   },
   "outputs": [
    {
     "name": "stdout",
     "output_type": "stream",
     "text": [
      "Epoch 1/12\n",
      "\u001b[1m54/54\u001b[0m \u001b[32m━━━━━━━━━━━━━━━━━━━━\u001b[0m\u001b[37m\u001b[0m \u001b[1m2s\u001b[0m 14ms/step - accuracy: 0.4858 - loss: 2.1665 - val_accuracy: 0.5014 - val_loss: 1.1389\n",
      "Epoch 2/12\n",
      "\u001b[1m54/54\u001b[0m \u001b[32m━━━━━━━━━━━━━━━━━━━━\u001b[0m\u001b[37m\u001b[0m \u001b[1m1s\u001b[0m 11ms/step - accuracy: 0.5123 - loss: 1.0172 - val_accuracy: 0.5014 - val_loss: 0.8086\n",
      "Epoch 3/12\n",
      "\u001b[1m54/54\u001b[0m \u001b[32m━━━━━━━━━━━━━━━━━━━━\u001b[0m\u001b[37m\u001b[0m \u001b[1m1s\u001b[0m 11ms/step - accuracy: 0.4988 - loss: 0.7893 - val_accuracy: 0.4986 - val_loss: 0.7408\n",
      "Epoch 4/12\n",
      "\u001b[1m54/54\u001b[0m \u001b[32m━━━━━━━━━━━━━━━━━━━━\u001b[0m\u001b[37m\u001b[0m \u001b[1m1s\u001b[0m 12ms/step - accuracy: 0.4877 - loss: 0.7343 - val_accuracy: 0.4986 - val_loss: 0.7180\n",
      "Epoch 5/12\n",
      "\u001b[1m54/54\u001b[0m \u001b[32m━━━━━━━━━━━━━━━━━━━━\u001b[0m\u001b[37m\u001b[0m \u001b[1m1s\u001b[0m 11ms/step - accuracy: 0.5129 - loss: 0.7180 - val_accuracy: 0.5014 - val_loss: 0.7077\n",
      "Epoch 6/12\n",
      "\u001b[1m54/54\u001b[0m \u001b[32m━━━━━━━━━━━━━━━━━━━━\u001b[0m\u001b[37m\u001b[0m \u001b[1m1s\u001b[0m 11ms/step - accuracy: 0.4835 - loss: 0.7076 - val_accuracy: 0.5014 - val_loss: 0.7023\n",
      "Epoch 7/12\n",
      "\u001b[1m54/54\u001b[0m \u001b[32m━━━━━━━━━━━━━━━━━━━━\u001b[0m\u001b[37m\u001b[0m \u001b[1m1s\u001b[0m 10ms/step - accuracy: 0.4926 - loss: 0.7033 - val_accuracy: 0.4986 - val_loss: 0.6987\n",
      "Epoch 8/12\n",
      "\u001b[1m54/54\u001b[0m \u001b[32m━━━━━━━━━━━━━━━━━━━━\u001b[0m\u001b[37m\u001b[0m \u001b[1m1s\u001b[0m 11ms/step - accuracy: 0.4983 - loss: 0.6991 - val_accuracy: 0.5014 - val_loss: 0.6977\n",
      "Epoch 9/12\n",
      "\u001b[1m54/54\u001b[0m \u001b[32m━━━━━━━━━━━━━━━━━━━━\u001b[0m\u001b[37m\u001b[0m \u001b[1m1s\u001b[0m 11ms/step - accuracy: 0.5026 - loss: 0.6995 - val_accuracy: 0.4986 - val_loss: 0.6960\n",
      "Epoch 10/12\n",
      "\u001b[1m54/54\u001b[0m \u001b[32m━━━━━━━━━━━━━━━━━━━━\u001b[0m\u001b[37m\u001b[0m \u001b[1m1s\u001b[0m 11ms/step - accuracy: 0.4923 - loss: 0.6961 - val_accuracy: 0.4986 - val_loss: 0.6957\n",
      "Epoch 11/12\n",
      "\u001b[1m54/54\u001b[0m \u001b[32m━━━━━━━━━━━━━━━━━━━━\u001b[0m\u001b[37m\u001b[0m \u001b[1m1s\u001b[0m 11ms/step - accuracy: 0.4949 - loss: 0.6965 - val_accuracy: 0.5014 - val_loss: 0.6944\n",
      "Epoch 12/12\n",
      "\u001b[1m54/54\u001b[0m \u001b[32m━━━━━━━━━━━━━━━━━━━━\u001b[0m\u001b[37m\u001b[0m \u001b[1m1s\u001b[0m 10ms/step - accuracy: 0.4988 - loss: 0.6945 - val_accuracy: 0.5014 - val_loss: 0.6941\n"
     ]
    }
   ],
   "source": [
    "# Entraînement du modèle 4 avec validation et sauvegarde de l'historique\n",
    "history_w2v_4 = model_W2v_4.fit(\n",
    "    train_padded,         # Données d'entraînement\n",
    "    y_train,              # Étiquettes d'entraînement\n",
    "    epochs=n_epchos,            # Nombre d'époques\n",
    "    batch_size=batch_size,        # Taille des batchs\n",
    "    validation_data=(test_padded, y_test),  # Validation sur les données de test\n",
    "    verbose=1             # Afficher l'évolution pendant l'entraînement\n",
    ")"
   ]
  },
  {
   "cell_type": "code",
   "execution_count": 27,
   "id": "c5d1f881-b5ec-4a7a-8fde-ee52f0f933a4",
   "metadata": {
    "colab": {
     "base_uri": "https://localhost:8080/"
    },
    "executionInfo": {
     "elapsed": 53545,
     "status": "ok",
     "timestamp": 1727939836433,
     "user": {
      "displayName": "Mayer Cécile",
      "userId": "03016020088537475993"
     },
     "user_tz": -120
    },
    "id": "f4de15f7-28ca-451f-a627-16885621799b",
    "outputId": "334ef426-1ff8-4651-9323-92b13212b559"
   },
   "outputs": [
    {
     "name": "stdout",
     "output_type": "stream",
     "text": [
      "Epoch 1/12\n",
      "\u001b[1m54/54\u001b[0m \u001b[32m━━━━━━━━━━━━━━━━━━━━\u001b[0m\u001b[37m\u001b[0m \u001b[1m2s\u001b[0m 23ms/step - accuracy: 0.5097 - loss: 1921541888.0000 - val_accuracy: 0.4986 - val_loss: 5.3655\n",
      "Epoch 2/12\n",
      "\u001b[1m54/54\u001b[0m \u001b[32m━━━━━━━━━━━━━━━━━━━━\u001b[0m\u001b[37m\u001b[0m \u001b[1m1s\u001b[0m 20ms/step - accuracy: 0.4851 - loss: 1528766208.0000 - val_accuracy: 0.4986 - val_loss: 5.3612\n",
      "Epoch 3/12\n",
      "\u001b[1m54/54\u001b[0m \u001b[32m━━━━━━━━━━━━━━━━━━━━\u001b[0m\u001b[37m\u001b[0m \u001b[1m1s\u001b[0m 20ms/step - accuracy: 0.5108 - loss: 1222182912.0000 - val_accuracy: 0.4986 - val_loss: 5.3602\n",
      "Epoch 4/12\n",
      "\u001b[1m54/54\u001b[0m \u001b[32m━━━━━━━━━━━━━━━━━━━━\u001b[0m\u001b[37m\u001b[0m \u001b[1m1s\u001b[0m 20ms/step - accuracy: 0.5094 - loss: 1046042624.0000 - val_accuracy: 0.4986 - val_loss: 5.3592\n",
      "Epoch 5/12\n",
      "\u001b[1m54/54\u001b[0m \u001b[32m━━━━━━━━━━━━━━━━━━━━\u001b[0m\u001b[37m\u001b[0m \u001b[1m1s\u001b[0m 20ms/step - accuracy: 0.4954 - loss: 969031424.0000 - val_accuracy: 0.4986 - val_loss: 5.3544\n",
      "Epoch 6/12\n",
      "\u001b[1m54/54\u001b[0m \u001b[32m━━━━━━━━━━━━━━━━━━━━\u001b[0m\u001b[37m\u001b[0m \u001b[1m1s\u001b[0m 21ms/step - accuracy: 0.5050 - loss: 774727232.0000 - val_accuracy: 0.4986 - val_loss: 5.3516\n",
      "Epoch 7/12\n",
      "\u001b[1m54/54\u001b[0m \u001b[32m━━━━━━━━━━━━━━━━━━━━\u001b[0m\u001b[37m\u001b[0m \u001b[1m1s\u001b[0m 20ms/step - accuracy: 0.5210 - loss: 714801536.0000 - val_accuracy: 0.4986 - val_loss: 5.3484\n",
      "Epoch 8/12\n",
      "\u001b[1m54/54\u001b[0m \u001b[32m━━━━━━━━━━━━━━━━━━━━\u001b[0m\u001b[37m\u001b[0m \u001b[1m1s\u001b[0m 21ms/step - accuracy: 0.5238 - loss: 556982592.0000 - val_accuracy: 0.4986 - val_loss: 5.3463\n",
      "Epoch 9/12\n",
      "\u001b[1m54/54\u001b[0m \u001b[32m━━━━━━━━━━━━━━━━━━━━\u001b[0m\u001b[37m\u001b[0m \u001b[1m1s\u001b[0m 21ms/step - accuracy: 0.5178 - loss: 554101312.0000 - val_accuracy: 0.4986 - val_loss: 5.3443\n",
      "Epoch 10/12\n",
      "\u001b[1m54/54\u001b[0m \u001b[32m━━━━━━━━━━━━━━━━━━━━\u001b[0m\u001b[37m\u001b[0m \u001b[1m1s\u001b[0m 22ms/step - accuracy: 0.5175 - loss: 547386752.0000 - val_accuracy: 0.4986 - val_loss: 5.3424\n",
      "Epoch 11/12\n",
      "\u001b[1m54/54\u001b[0m \u001b[32m━━━━━━━━━━━━━━━━━━━━\u001b[0m\u001b[37m\u001b[0m \u001b[1m1s\u001b[0m 21ms/step - accuracy: 0.5353 - loss: 433862752.0000 - val_accuracy: 0.4986 - val_loss: 5.3402\n",
      "Epoch 12/12\n",
      "\u001b[1m54/54\u001b[0m \u001b[32m━━━━━━━━━━━━━━━━━━━━\u001b[0m\u001b[37m\u001b[0m \u001b[1m1s\u001b[0m 20ms/step - accuracy: 0.5166 - loss: 426926144.0000 - val_accuracy: 0.4986 - val_loss: 5.3365\n"
     ]
    }
   ],
   "source": [
    "# Entraînement du modèle 4 avec validation et sauvegarde de l'historique\n",
    "history_w2v_5 = model_W2v_5.fit(\n",
    "    train_padded,         # Données d'entraînement\n",
    "    y_train,              # Étiquettes d'entraînement\n",
    "    epochs=n_epchos,            # Nombre d'époques\n",
    "    batch_size=batch_size,        # Taille des batchs\n",
    "    validation_data=(test_padded, y_test),  # Validation sur les données de test\n",
    "    verbose=1             # Afficher l'évolution pendant l'entraînement\n",
    ")"
   ]
  },
  {
   "cell_type": "markdown",
   "id": "5c925fc6-35b8-46b8-a967-636e0cc722d4",
   "metadata": {},
   "source": [
    "### Visualisation de l'entrainement des modèles"
   ]
  },
  {
   "cell_type": "code",
   "execution_count": 28,
   "id": "4c06a958-e432-44c4-96bc-5ba4f018c20c",
   "metadata": {},
   "outputs": [],
   "source": [
    "# pip install plot-keras-history\n",
    "# Source: @software{Cappelletti_Plot_Keras_History_2022,\n",
    "#     author = {Cappelletti, Luca},\n",
    "#     doi = {10.5072/zenodo.1054923},\n",
    "#     month = {4},\n",
    "#     title = {{Plot Keras History}},\n",
    "#     version = {1.1.36},\n",
    "#     year = {2022}\n",
    "# }"
   ]
  },
  {
   "cell_type": "code",
   "execution_count": 29,
   "id": "abdfe07a-eace-42ac-aa8c-7504c443311c",
   "metadata": {},
   "outputs": [
    {
     "name": "stderr",
     "output_type": "stream",
     "text": [
      "C:\\Users\\cecil\\AppData\\Local\\Temp\\ipykernel_32212\\2247876459.py:12: UserWarning: The figure layout has changed to tight\n",
      "  plt.tight_layout()  # Ajuster les espacements\n"
     ]
    },
    {
     "data": {
      "text/plain": [
       "<Figure size 1000x500 with 0 Axes>"
      ]
     },
     "metadata": {},
     "output_type": "display_data"
    },
    {
     "data": {
      "image/png": "[encoded data removed]",
      "text/plain": [
       "<Figure size 1000x500 with 2 Axes>"
      ]
     },
     "metadata": {},
     "output_type": "display_data"
    },
    {
     "data": {
      "text/plain": [
       "<Figure size 1000x500 with 0 Axes>"
      ]
     },
     "metadata": {},
     "output_type": "display_data"
    },
    {
     "data": {
      "image/png": "[encoded data removed]",
      "text/plain": [
       "<Figure size 1000x500 with 2 Axes>"
      ]
     },
     "metadata": {},
     "output_type": "display_data"
    },
    {
     "data": {
      "text/plain": [
       "<Figure size 1000x500 with 0 Axes>"
      ]
     },
     "metadata": {},
     "output_type": "display_data"
    },
    {
     "data": {
      "image/png": "[encoded data removed]",
      "text/plain": [
       "<Figure size 1000x500 with 2 Axes>"
      ]
     },
     "metadata": {},
     "output_type": "display_data"
    },
    {
     "data": {
      "text/plain": [
       "<Figure size 1000x500 with 0 Axes>"
      ]
     },
     "metadata": {},
     "output_type": "display_data"
    },
    {
     "data": {
      "image/png": "[encoded data removed]",
      "text/plain": [
       "<Figure size 1000x500 with 2 Axes>"
      ]
     },
     "metadata": {},
     "output_type": "display_data"
    },
    {
     "data": {
      "text/plain": [
       "<Figure size 1000x500 with 0 Axes>"
      ]
     },
     "metadata": {},
     "output_type": "display_data"
    },
    {
     "data": {
      "image/png": "[encoded data removed]",
      "text/plain": [
       "<Figure size 1000x500 with 2 Axes>"
      ]
     },
     "metadata": {},
     "output_type": "display_data"
    }
   ],
   "source": [
    "from plot_keras_history import plot_history\n",
    "import matplotlib.pyplot as plt\n",
    "\n",
    "# Supposons que tu as plusieurs historiques\n",
    "histories = [history_w2v_1, history_w2v_2, history_w2v_3, history_w2v_4, history_w2v_5]  \n",
    "\n",
    "# Afficher chaque historique dans un nouveau graphe\n",
    "for i, history in enumerate(histories):\n",
    "    plt.figure(figsize=(10, 5))  # Créer une nouvelle figure pour chaque historique\n",
    "    plot_history(history.history)  # Afficher l'historique\n",
    "    plt.title(f'Historique {i+1} loss')  # Ajouter un titre spécifique\n",
    "    plt.tight_layout()  # Ajuster les espacements\n",
    "    plt.show()"
   ]
  },
  {
   "cell_type": "markdown",
   "id": "f6330f29-f99b-4b40-87f8-8921c6cc7b01",
   "metadata": {},
   "source": [
    "### Enregistrement des essais"
   ]
  },
  {
   "cell_type": "code",
   "execution_count": 30,
   "id": "dbc89f12-745c-4cfb-a3f7-85f9b0016f0d",
   "metadata": {},
   "outputs": [],
   "source": [
    "# Fonction pour logger un historique d'entraînement\n",
    "def log_history(history, history_index):\n",
    "    for key in history.history.keys():\n",
    "        for epoch, value in enumerate(history.history[key]):\n",
    "            mlflow.log_metric(f\"{key}_history_{history_index}\", value, step=epoch)"
   ]
  },
  {
   "cell_type": "code",
   "execution_count": 31,
   "id": "31b3773e-adb3-4b1e-a3f6-39dec62acb60",
   "metadata": {},
   "outputs": [],
   "source": [
    "# Fonction pour logger un graphe de l'historique\n",
    "def log_history_plot(history, history_index):\n",
    "    plt.figure(figsize=(10, 5))\n",
    "    plot_history(history.history)\n",
    "    plt.title(f'Historique {history_index}')\n",
    "    \n",
    "    # Sauvegarder l'image du graphe localement\n",
    "    plot_path = f\"history_plot_{history_index}.png\"\n",
    "    plt.savefig(plot_path)\n",
    "    plt.close()  # Fermer le graphe pour ne pas l'afficher\n",
    "    \n",
    "    # Logger le graphe comme artefact dans MLflow\n",
    "    mlflow.log_artifact(plot_path)"
   ]
  },
  {
   "cell_type": "code",
   "execution_count": 32,
   "id": "4cfcfb74-273d-4b6f-b967-7a981d45a982",
   "metadata": {},
   "outputs": [],
   "source": [
    "# Dictionnaire pour les tags spécifiques de chaque modèle\n",
    "tags_dict = {\n",
    "    \"model_W2v_1\": {\"embedding\": \"Word2Vec\", \"layers\": \"LSTM128\"},\n",
    "    \"model_W2v_2\": {\"embedding\": \"Word2Vec\", \"layers\": \"LSTM128, L2\"},\n",
    "    \"model_W2v_3\": {\"embedding\": \"Word2Vec\", \"layers\": \"LSTM128, L2, dropout\"},\n",
    "    \"model_W2v_4\": {\"embedding\": \"Word2Vec\", \"layers\": \"LSTM64, L2, dropout\"},\n",
    "    \"model_W2v_5\": {\"embedding\": \"Word2Vec\", \"layers\": \"GRU, dropout, L2\"},\n",
    "}"
   ]
  },
  {
   "cell_type": "code",
   "execution_count": 33,
   "id": "a0cd783f-c644-4cbd-b79b-d092a2d1b02f",
   "metadata": {},
   "outputs": [
    {
     "name": "stdout",
     "output_type": "stream",
     "text": [
      "\u001b[1m1/1\u001b[0m \u001b[32m━━━━━━━━━━━━━━━━━━━━\u001b[0m\u001b[37m\u001b[0m \u001b[1m0s\u001b[0m 101ms/step\n",
      "model_W2v_1 enregistré avec la signature et les tags dans MLflow.\n",
      "\u001b[1m1/1\u001b[0m \u001b[32m━━━━━━━━━━━━━━━━━━━━\u001b[0m\u001b[37m\u001b[0m \u001b[1m0s\u001b[0m 101ms/step\n",
      "model_W2v_2 enregistré avec la signature et les tags dans MLflow.\n",
      "\u001b[1m1/1\u001b[0m \u001b[32m━━━━━━━━━━━━━━━━━━━━\u001b[0m\u001b[37m\u001b[0m \u001b[1m0s\u001b[0m 101ms/step\n",
      "model_W2v_3 enregistré avec la signature et les tags dans MLflow.\n",
      "\u001b[1m1/1\u001b[0m \u001b[32m━━━━━━━━━━━━━━━━━━━━\u001b[0m\u001b[37m\u001b[0m \u001b[1m0s\u001b[0m 98ms/step\n",
      "model_W2v_4 enregistré avec la signature et les tags dans MLflow.\n",
      "WARNING:tensorflow:5 out of the last 5 calls to <function TensorFlowTrainer.make_predict_function.<locals>.one_step_on_data_distributed at 0x000001DE7FCE5260> triggered tf.function retracing. Tracing is expensive and the excessive number of tracings could be due to (1) creating @tf.function repeatedly in a loop, (2) passing tensors with different shapes, (3) passing Python objects instead of tensors. For (1), please define your @tf.function outside of the loop. For (2), @tf.function has reduce_retracing=True option that can avoid unnecessary retracing. For (3), please refer to https://www.tensorflow.org/guide/function#controlling_retracing and https://www.tensorflow.org/api_docs/python/tf/function for  more details.\n",
      "\u001b[1m1/1\u001b[0m \u001b[32m━━━━━━━━━━━━━━━━━━━━\u001b[0m\u001b[37m\u001b[0m \u001b[1m0s\u001b[0m 135ms/step\n"
     ]
    },
    {
     "name": "stderr",
     "output_type": "stream",
     "text": [
      "2024/10/18 20:58:05 INFO mlflow.tracking._tracking_service.client: 🏃 View run Entraînement de modèles tests avec Word2Vec at: http://localhost:5000/#/experiments/566106427225564143/runs/92d7328dac3c492493f44b1b7ef3ac79.\n",
      "2024/10/18 20:58:05 INFO mlflow.tracking._tracking_service.client: 🧪 View experiment at: http://localhost:5000/#/experiments/566106427225564143.\n"
     ]
    },
    {
     "name": "stdout",
     "output_type": "stream",
     "text": [
      "model_W2v_5 enregistré avec la signature et les tags dans MLflow.\n"
     ]
    },
    {
     "data": {
      "text/plain": [
       "<Figure size 1000x500 with 0 Axes>"
      ]
     },
     "metadata": {},
     "output_type": "display_data"
    },
    {
     "data": {
      "text/plain": [
       "<Figure size 1000x500 with 0 Axes>"
      ]
     },
     "metadata": {},
     "output_type": "display_data"
    },
    {
     "data": {
      "text/plain": [
       "<Figure size 1000x500 with 0 Axes>"
      ]
     },
     "metadata": {},
     "output_type": "display_data"
    },
    {
     "data": {
      "text/plain": [
       "<Figure size 1000x500 with 0 Axes>"
      ]
     },
     "metadata": {},
     "output_type": "display_data"
    },
    {
     "data": {
      "text/plain": [
       "<Figure size 1000x500 with 0 Axes>"
      ]
     },
     "metadata": {},
     "output_type": "display_data"
    }
   ],
   "source": [
    "import mlflow\n",
    "import mlflow.keras\n",
    "from mlflow.models.signature import infer_signature\n",
    "\n",
    "# Utilisation d'un petit lot de données réelles pour la signature\n",
    "example_input = train_padded[:5]  # Les 5 premiers échantillons de train_padded\n",
    "\n",
    "# Démarrer un seul run MLflow pour enregistrer tous les modèles\n",
    "with mlflow.start_run(run_name=\"Entraînement de modèles tests avec Word2Vec\"):\n",
    "\n",
    "    # Boucle sur les clés du dictionnaire de tags\n",
    "    for i, model_key in enumerate(tags_dict.keys()):\n",
    "        # Récupérer le modèle et l'historique correspondant\n",
    "        model = models[i]  # On suppose que models est une liste de modèles\n",
    "        history = histories[i]  # On suppose que histories est une liste d'historiques\n",
    "\n",
    "        # Calculer la sortie pour chaque modèle (les sorties sont différentes)\n",
    "        example_output = model.predict(example_input)\n",
    "\n",
    "        # Définir la signature pour chaque modèle en fonction de ses sorties spécifiques\n",
    "        signature = infer_signature(example_input, example_output)\n",
    "\n",
    "        # Logger le modèle avec la signature\n",
    "        mlflow.keras.log_model(\n",
    "            model,\n",
    "            model_key,\n",
    "            signature=signature\n",
    "        )\n",
    "\n",
    "        # Logger les tags\n",
    "        for tag_key, tag_value in tags_dict[model_key].items():\n",
    "            mlflow.set_tag(tag_key, tag_value)\n",
    "\n",
    "        # Logger les métriques de l'historique\n",
    "        log_history(history, int(model_key.split('_')[-1]))\n",
    "\n",
    "        # Logger les graphes d'historique\n",
    "        log_history_plot(history, int(model_key.split('_')[-1]))\n",
    "\n",
    "        print(f\"{model_key} enregistré avec la signature et les tags dans MLflow.\")\n"
   ]
  },
  {
   "cell_type": "code",
   "execution_count": 34,
   "id": "ef40c321-7fd0-4d16-a611-f5d3912c550e",
   "metadata": {},
   "outputs": [],
   "source": [
    "# Terminer la session MLflow\n",
    "mlflow.end_run()"
   ]
  },
  {
   "cell_type": "markdown",
   "id": "e93bb2f8-c990-4271-b38c-96fe69428f48",
   "metadata": {},
   "source": [
    "### Optimisation automatique du modèle d'embedding"
   ]
  },
  {
   "cell_type": "markdown",
   "id": "96f16f91-4baa-4634-9a5b-44169d52d9ff",
   "metadata": {},
   "source": [
    "Utilisation de <u><b>Keras tuner</b></u> pour optimiser le modèle en faisant varier:<br>\n",
    "- le nombre d'unités GRU\n",
    "- le taux de dropout\n",
    "- la régularisation L2\n",
    "- le taux d'apprentissage <br>\n",
    "Par ailleurs on a introduit une couche LSTM bi-directionnelle"
   ]
  },
  {
   "cell_type": "code",
   "execution_count": 35,
   "id": "ad1b04f4-e6ef-451f-9ccf-cf358ca1f8ca",
   "metadata": {},
   "outputs": [],
   "source": [
    "# Fonction de création du modèle pour Keras Tuner\n",
    "def build_model(hp):\n",
    "    model = Sequential()\n",
    "    \n",
    "    # 1. Couche d'embedding avec la matrice Word2Vec pré-entraînée\n",
    "    model.add(Embedding(\n",
    "        input_dim=embedding_matrix.shape[0],     \n",
    "        output_dim=embedding_matrix.shape[1],         \n",
    "        weights=[embedding_matrix],  \n",
    "        # input_length=maxlen,         \n",
    "        trainable=False              \n",
    "    ))\n",
    "\n",
    "    # 2. Couche LSTM bidirectionnelle avec des hyperparamètres tunables\n",
    "    model.add(Bidirectional(LSTM(\n",
    "        units=hp.Int('units', min_value=64, max_value=256, step=32),\n",
    "        kernel_regularizer=l2(hp.Float('l2_lambda', min_value=1e-4, max_value=1e-2, sampling='log')),  # Intervalle élargi\n",
    "        recurrent_regularizer=l2(hp.Float('l2_lambda', min_value=1e-4, max_value=1e-2, sampling='log')),\n",
    "        dropout=hp.Float('dropout_rate', min_value=0.3, max_value=0.7, step=0.1),  # Dropout plus élevé\n",
    "        recurrent_dropout=hp.Float('dropout_rate', min_value=0.3, max_value=0.7, step=0.1),\n",
    "        return_sequences=False\n",
    "    )))\n",
    "\n",
    "    # 3. Couche de sortie Dense avec régularisation L2\n",
    "    model.add(Dense(\n",
    "        units=1,                      \n",
    "        activation='sigmoid',          \n",
    "        kernel_regularizer=l2(hp.Float('l2_lambda', min_value=1e-4, max_value=1e-2, sampling='log'))\n",
    "    ))\n",
    "\n",
    "    # Optimiseur Adam avec un learning rate tunable\n",
    "    optimizer = Adam(hp.Float('learning_rate', min_value=1e-5, max_value=1e-2, sampling='log'))\n",
    "\n",
    "    # Compilation du modèle\n",
    "    model.compile(\n",
    "        optimizer=optimizer,\n",
    "        loss='binary_crossentropy',\n",
    "        metrics=['accuracy']\n",
    "    )\n",
    "\n",
    "    return model"
   ]
  },
  {
   "cell_type": "code",
   "execution_count": 38,
   "id": "a0814878-f6cd-40e1-b6c9-359c76ee73f2",
   "metadata": {},
   "outputs": [],
   "source": [
    "# pip install keras-tuner --upgrade\n",
    "import keras_tuner as kt\n",
    "from tensorflow.keras.models import Sequential\n",
    "from tensorflow.keras.layers import Embedding, Bidirectional, LSTM, Dense, Dropout\n",
    "from tensorflow.keras.regularizers import l2\n",
    "from tensorflow.keras.optimizers import Adam\n",
    "import tensorflow as tf"
   ]
  },
  {
   "cell_type": "code",
   "execution_count": 39,
   "id": "04b438eb-3a63-45c1-ba8d-6a757d4a2e95",
   "metadata": {},
   "outputs": [],
   "source": [
    "import os\n",
    "import shutil\n",
    "# Supprimer le répertoire s'il existe déjà (pour refaire une mise au point de paramètres à chaque run)\n",
    "if os.path.exists('my_dir'):\n",
    "    shutil.rmtree('my_dir')\n",
    "\n",
    "# Instanciation du tuner après suppression\n",
    "tuner_W2v = kt.Hyperband(\n",
    "    build_model,\n",
    "    objective='val_loss',\n",
    "    max_epochs=20,\n",
    "    factor=3,\n",
    "    directory='my_dir',  # Répertoire standard mais il sera recréé\n",
    "    project_name='lstm_bidirectional_tuning_W2v'\n",
    ")"
   ]
  },
  {
   "cell_type": "code",
   "execution_count": 44,
   "id": "ea636323-7d4f-479b-a459-1a69485c6bfd",
   "metadata": {},
   "outputs": [
    {
     "name": "stdout",
     "output_type": "stream",
     "text": [
      "Trial 30 Complete [00h 01m 44s]\n",
      "val_loss: 0.9946544170379639\n",
      "\n",
      "Best val_loss So Far: 0.6104708313941956\n",
      "Total elapsed time: 00h 11m 18s\n",
      "Epoch 1/20\n",
      "\u001b[1m107/107\u001b[0m \u001b[32m━━━━━━━━━━━━━━━━━━━━\u001b[0m\u001b[37m\u001b[0m \u001b[1m4s\u001b[0m 14ms/step - accuracy: 0.5764 - loss: 1.5184 - val_accuracy: 0.6291 - val_loss: 0.7331\n",
      "Epoch 2/20\n",
      "\u001b[1m107/107\u001b[0m \u001b[32m━━━━━━━━━━━━━━━━━━━━\u001b[0m\u001b[37m\u001b[0m \u001b[1m1s\u001b[0m 11ms/step - accuracy: 0.6514 - loss: 0.7151 - val_accuracy: 0.6490 - val_loss: 0.6774\n",
      "Epoch 3/20\n",
      "\u001b[1m107/107\u001b[0m \u001b[32m━━━━━━━━━━━━━━━━━━━━\u001b[0m\u001b[37m\u001b[0m \u001b[1m1s\u001b[0m 11ms/step - accuracy: 0.6531 - loss: 0.6815 - val_accuracy: 0.6676 - val_loss: 0.6524\n",
      "Epoch 4/20\n",
      "\u001b[1m107/107\u001b[0m \u001b[32m━━━━━━━━━━━━━━━━━━━━\u001b[0m\u001b[37m\u001b[0m \u001b[1m1s\u001b[0m 10ms/step - accuracy: 0.6557 - loss: 0.6652 - val_accuracy: 0.6037 - val_loss: 0.7149\n",
      "Epoch 5/20\n",
      "\u001b[1m107/107\u001b[0m \u001b[32m━━━━━━━━━━━━━━━━━━━━\u001b[0m\u001b[37m\u001b[0m \u001b[1m1s\u001b[0m 10ms/step - accuracy: 0.6339 - loss: 0.6901 - val_accuracy: 0.6538 - val_loss: 0.6515\n",
      "Epoch 6/20\n",
      "\u001b[1m107/107\u001b[0m \u001b[32m━━━━━━━━━━━━━━━━━━━━\u001b[0m\u001b[37m\u001b[0m \u001b[1m1s\u001b[0m 11ms/step - accuracy: 0.6607 - loss: 0.6593 - val_accuracy: 0.6923 - val_loss: 0.6342\n",
      "Epoch 7/20\n",
      "\u001b[1m107/107\u001b[0m \u001b[32m━━━━━━━━━━━━━━━━━━━━\u001b[0m\u001b[37m\u001b[0m \u001b[1m1s\u001b[0m 11ms/step - accuracy: 0.6492 - loss: 0.6654 - val_accuracy: 0.6751 - val_loss: 0.6460\n",
      "Epoch 8/20\n",
      "\u001b[1m107/107\u001b[0m \u001b[32m━━━━━━━━━━━━━━━━━━━━\u001b[0m\u001b[37m\u001b[0m \u001b[1m1s\u001b[0m 11ms/step - accuracy: 0.6601 - loss: 0.6524 - val_accuracy: 0.6731 - val_loss: 0.6436\n",
      "Epoch 9/20\n",
      "\u001b[1m107/107\u001b[0m \u001b[32m━━━━━━━━━━━━━━━━━━━━\u001b[0m\u001b[37m\u001b[0m \u001b[1m1s\u001b[0m 11ms/step - accuracy: 0.6779 - loss: 0.6424 - val_accuracy: 0.6902 - val_loss: 0.6340\n",
      "Epoch 10/20\n",
      "\u001b[1m107/107\u001b[0m \u001b[32m━━━━━━━━━━━━━━━━━━━━\u001b[0m\u001b[37m\u001b[0m \u001b[1m1s\u001b[0m 11ms/step - accuracy: 0.6819 - loss: 0.6395 - val_accuracy: 0.7026 - val_loss: 0.6260\n",
      "Epoch 11/20\n",
      "\u001b[1m107/107\u001b[0m \u001b[32m━━━━━━━━━━━━━━━━━━━━\u001b[0m\u001b[37m\u001b[0m \u001b[1m1s\u001b[0m 11ms/step - accuracy: 0.6956 - loss: 0.6254 - val_accuracy: 0.6999 - val_loss: 0.6313\n",
      "Epoch 12/20\n",
      "\u001b[1m107/107\u001b[0m \u001b[32m━━━━━━━━━━━━━━━━━━━━\u001b[0m\u001b[37m\u001b[0m \u001b[1m1s\u001b[0m 11ms/step - accuracy: 0.6824 - loss: 0.6336 - val_accuracy: 0.6964 - val_loss: 0.6276\n",
      "Epoch 13/20\n",
      "\u001b[1m107/107\u001b[0m \u001b[32m━━━━━━━━━━━━━━━━━━━━\u001b[0m\u001b[37m\u001b[0m \u001b[1m1s\u001b[0m 11ms/step - accuracy: 0.7042 - loss: 0.6256 - val_accuracy: 0.6951 - val_loss: 0.6375\n",
      "Epoch 14/20\n",
      "\u001b[1m107/107\u001b[0m \u001b[32m━━━━━━━━━━━━━━━━━━━━\u001b[0m\u001b[37m\u001b[0m \u001b[1m1s\u001b[0m 11ms/step - accuracy: 0.6781 - loss: 0.6411 - val_accuracy: 0.6999 - val_loss: 0.6207\n",
      "Epoch 15/20\n",
      "\u001b[1m107/107\u001b[0m \u001b[32m━━━━━━━━━━━━━━━━━━━━\u001b[0m\u001b[37m\u001b[0m \u001b[1m1s\u001b[0m 11ms/step - accuracy: 0.7014 - loss: 0.6264 - val_accuracy: 0.7012 - val_loss: 0.6181\n",
      "Epoch 16/20\n",
      "\u001b[1m107/107\u001b[0m \u001b[32m━━━━━━━━━━━━━━━━━━━━\u001b[0m\u001b[37m\u001b[0m \u001b[1m1s\u001b[0m 11ms/step - accuracy: 0.6968 - loss: 0.6232 - val_accuracy: 0.6971 - val_loss: 0.6169\n",
      "Epoch 17/20\n",
      "\u001b[1m107/107\u001b[0m \u001b[32m━━━━━━━━━━━━━━━━━━━━\u001b[0m\u001b[37m\u001b[0m \u001b[1m1s\u001b[0m 11ms/step - accuracy: 0.6979 - loss: 0.6167 - val_accuracy: 0.6834 - val_loss: 0.6328\n",
      "Epoch 18/20\n",
      "\u001b[1m107/107\u001b[0m \u001b[32m━━━━━━━━━━━━━━━━━━━━\u001b[0m\u001b[37m\u001b[0m \u001b[1m1s\u001b[0m 11ms/step - accuracy: 0.7004 - loss: 0.6196 - val_accuracy: 0.6896 - val_loss: 0.6158\n",
      "Epoch 19/20\n",
      "\u001b[1m107/107\u001b[0m \u001b[32m━━━━━━━━━━━━━━━━━━━━\u001b[0m\u001b[37m\u001b[0m \u001b[1m1s\u001b[0m 11ms/step - accuracy: 0.6969 - loss: 0.6149 - val_accuracy: 0.6964 - val_loss: 0.6236\n",
      "Epoch 20/20\n",
      "\u001b[1m107/107\u001b[0m \u001b[32m━━━━━━━━━━━━━━━━━━━━\u001b[0m\u001b[37m\u001b[0m \u001b[1m1s\u001b[0m 11ms/step - accuracy: 0.7073 - loss: 0.6167 - val_accuracy: 0.7012 - val_loss: 0.6200\n"
     ]
    }
   ],
   "source": [
    "# Callbacks avec `restore_best_weights`\n",
    "stop_early = tf.keras.callbacks.EarlyStopping(monitor='val_loss', patience=5, restore_best_weights=True)\n",
    "\n",
    "# Recherche des meilleurs hyperparamètres\n",
    "tuner_W2v.search(train_padded, y_train, epochs=20, validation_data=(test_padded, y_test), callbacks=[stop_early])\n",
    "\n",
    "# Récupération des meilleurs hyperparamètres\n",
    "best_hps_W2v = tuner_W2v.get_best_hyperparameters(num_trials=1)[0]\n",
    "\n",
    "# Entraîner le meilleur modèle avec ces hyperparamètres\n",
    "best_model_W2v = tuner_W2v.hypermodel.build(best_hps_W2v)\n",
    "history_W2v = best_model_W2v.fit(train_padded, y_train, epochs=20, validation_data=(test_padded, y_test), callbacks=[stop_early])"
   ]
  },
  {
   "cell_type": "code",
   "execution_count": 45,
   "id": "cbd12a10-a35f-4ba2-b251-c2b5346fbe59",
   "metadata": {},
   "outputs": [
    {
     "data": {
      "text/plain": [
       "(<Figure size 1000x500 with 2 Axes>,\n",
       " array([<Axes: title={'center': 'Accuracy'}, xlabel='Epochs', ylabel='Accuracy'>,\n",
       "        <Axes: title={'center': 'Loss'}, xlabel='Epochs', ylabel='Loss'>],\n",
       "       dtype=object))"
      ]
     },
     "execution_count": 45,
     "metadata": {},
     "output_type": "execute_result"
    },
    {
     "data": {
      "image/png": "[encoded data removed]",
      "text/plain": [
       "<Figure size 1000x500 with 2 Axes>"
      ]
     },
     "metadata": {},
     "output_type": "display_data"
    }
   ],
   "source": [
    "# Plot de l'historique de l'entraînement\n",
    "plot_history(history_W2v.history)"
   ]
  },
  {
   "cell_type": "code",
   "execution_count": 46,
   "id": "74b4d6d2-8067-439c-9a8f-9ca8443d9e88",
   "metadata": {},
   "outputs": [
    {
     "name": "stdout",
     "output_type": "stream",
     "text": [
      "Meilleurs hyperparamètres trouvés :\n",
      " - Units dans LSTM : 64\n",
      " - Lambda de régularisation L2 : 0.002830550401329462\n",
      " - Dropout rate : 0.4\n",
      " - Learning rate : 0.0029686845449792697\n"
     ]
    },
    {
     "data": {
      "text/html": [
       "<pre style=\"white-space:pre;overflow-x:auto;line-height:normal;font-family:Menlo,'DejaVu Sans Mono',consolas,'Courier New',monospace\"><span style=\"font-weight: bold\">Model: \"sequential_1\"</span>\n",
       "</pre>\n"
      ],
      "text/plain": [
       "\u001b[1mModel: \"sequential_1\"\u001b[0m\n"
      ]
     },
     "metadata": {},
     "output_type": "display_data"
    },
    {
     "data": {
      "text/html": [
       "<pre style=\"white-space:pre;overflow-x:auto;line-height:normal;font-family:Menlo,'DejaVu Sans Mono',consolas,'Courier New',monospace\">┏━━━━━━━━━━━━━━━━━━━━━━━━━━━━━━━━━━━━━━┳━━━━━━━━━━━━━━━━━━━━━━━━━━━━━┳━━━━━━━━━━━━━━━━━┓\n",
       "┃<span style=\"font-weight: bold\"> Layer (type)                         </span>┃<span style=\"font-weight: bold\"> Output Shape                </span>┃<span style=\"font-weight: bold\">         Param # </span>┃\n",
       "┡━━━━━━━━━━━━━━━━━━━━━━━━━━━━━━━━━━━━━━╇━━━━━━━━━━━━━━━━━━━━━━━━━━━━━╇━━━━━━━━━━━━━━━━━┩\n",
       "│ embedding_1 (<span style=\"color: #0087ff; text-decoration-color: #0087ff\">Embedding</span>)              │ (<span style=\"color: #00d7ff; text-decoration-color: #00d7ff\">None</span>, <span style=\"color: #00af00; text-decoration-color: #00af00\">40</span>, <span style=\"color: #00af00; text-decoration-color: #00af00\">300</span>)             │       <span style=\"color: #00af00; text-decoration-color: #00af00\">1,801,800</span> │\n",
       "├──────────────────────────────────────┼─────────────────────────────┼─────────────────┤\n",
       "│ bidirectional_1 (<span style=\"color: #0087ff; text-decoration-color: #0087ff\">Bidirectional</span>)      │ (<span style=\"color: #00d7ff; text-decoration-color: #00d7ff\">None</span>, <span style=\"color: #00af00; text-decoration-color: #00af00\">128</span>)                 │         <span style=\"color: #00af00; text-decoration-color: #00af00\">186,880</span> │\n",
       "├──────────────────────────────────────┼─────────────────────────────┼─────────────────┤\n",
       "│ dense_1 (<span style=\"color: #0087ff; text-decoration-color: #0087ff\">Dense</span>)                      │ (<span style=\"color: #00d7ff; text-decoration-color: #00d7ff\">None</span>, <span style=\"color: #00af00; text-decoration-color: #00af00\">1</span>)                   │             <span style=\"color: #00af00; text-decoration-color: #00af00\">129</span> │\n",
       "└──────────────────────────────────────┴─────────────────────────────┴─────────────────┘\n",
       "</pre>\n"
      ],
      "text/plain": [
       "┏━━━━━━━━━━━━━━━━━━━━━━━━━━━━━━━━━━━━━━┳━━━━━━━━━━━━━━━━━━━━━━━━━━━━━┳━━━━━━━━━━━━━━━━━┓\n",
       "┃\u001b[1m \u001b[0m\u001b[1mLayer (type)                        \u001b[0m\u001b[1m \u001b[0m┃\u001b[1m \u001b[0m\u001b[1mOutput Shape               \u001b[0m\u001b[1m \u001b[0m┃\u001b[1m \u001b[0m\u001b[1m        Param #\u001b[0m\u001b[1m \u001b[0m┃\n",
       "┡━━━━━━━━━━━━━━━━━━━━━━━━━━━━━━━━━━━━━━╇━━━━━━━━━━━━━━━━━━━━━━━━━━━━━╇━━━━━━━━━━━━━━━━━┩\n",
       "│ embedding_1 (\u001b[38;5;33mEmbedding\u001b[0m)              │ (\u001b[38;5;45mNone\u001b[0m, \u001b[38;5;34m40\u001b[0m, \u001b[38;5;34m300\u001b[0m)             │       \u001b[38;5;34m1,801,800\u001b[0m │\n",
       "├──────────────────────────────────────┼─────────────────────────────┼─────────────────┤\n",
       "│ bidirectional_1 (\u001b[38;5;33mBidirectional\u001b[0m)      │ (\u001b[38;5;45mNone\u001b[0m, \u001b[38;5;34m128\u001b[0m)                 │         \u001b[38;5;34m186,880\u001b[0m │\n",
       "├──────────────────────────────────────┼─────────────────────────────┼─────────────────┤\n",
       "│ dense_1 (\u001b[38;5;33mDense\u001b[0m)                      │ (\u001b[38;5;45mNone\u001b[0m, \u001b[38;5;34m1\u001b[0m)                   │             \u001b[38;5;34m129\u001b[0m │\n",
       "└──────────────────────────────────────┴─────────────────────────────┴─────────────────┘\n"
      ]
     },
     "metadata": {},
     "output_type": "display_data"
    },
    {
     "data": {
      "text/html": [
       "<pre style=\"white-space:pre;overflow-x:auto;line-height:normal;font-family:Menlo,'DejaVu Sans Mono',consolas,'Courier New',monospace\"><span style=\"font-weight: bold\"> Total params: </span><span style=\"color: #00af00; text-decoration-color: #00af00\">2,362,829</span> (9.01 MB)\n",
       "</pre>\n"
      ],
      "text/plain": [
       "\u001b[1m Total params: \u001b[0m\u001b[38;5;34m2,362,829\u001b[0m (9.01 MB)\n"
      ]
     },
     "metadata": {},
     "output_type": "display_data"
    },
    {
     "data": {
      "text/html": [
       "<pre style=\"white-space:pre;overflow-x:auto;line-height:normal;font-family:Menlo,'DejaVu Sans Mono',consolas,'Courier New',monospace\"><span style=\"font-weight: bold\"> Trainable params: </span><span style=\"color: #00af00; text-decoration-color: #00af00\">187,009</span> (730.50 KB)\n",
       "</pre>\n"
      ],
      "text/plain": [
       "\u001b[1m Trainable params: \u001b[0m\u001b[38;5;34m187,009\u001b[0m (730.50 KB)\n"
      ]
     },
     "metadata": {},
     "output_type": "display_data"
    },
    {
     "data": {
      "text/html": [
       "<pre style=\"white-space:pre;overflow-x:auto;line-height:normal;font-family:Menlo,'DejaVu Sans Mono',consolas,'Courier New',monospace\"><span style=\"font-weight: bold\"> Non-trainable params: </span><span style=\"color: #00af00; text-decoration-color: #00af00\">1,801,800</span> (6.87 MB)\n",
       "</pre>\n"
      ],
      "text/plain": [
       "\u001b[1m Non-trainable params: \u001b[0m\u001b[38;5;34m1,801,800\u001b[0m (6.87 MB)\n"
      ]
     },
     "metadata": {},
     "output_type": "display_data"
    },
    {
     "data": {
      "text/html": [
       "<pre style=\"white-space:pre;overflow-x:auto;line-height:normal;font-family:Menlo,'DejaVu Sans Mono',consolas,'Courier New',monospace\"><span style=\"font-weight: bold\"> Optimizer params: </span><span style=\"color: #00af00; text-decoration-color: #00af00\">374,020</span> (1.43 MB)\n",
       "</pre>\n"
      ],
      "text/plain": [
       "\u001b[1m Optimizer params: \u001b[0m\u001b[38;5;34m374,020\u001b[0m (1.43 MB)\n"
      ]
     },
     "metadata": {},
     "output_type": "display_data"
    }
   ],
   "source": [
    "# Affichage des meilleurs hyperparamètres\n",
    "print(\"Meilleurs hyperparamètres trouvés :\")\n",
    "print(f\" - Units dans LSTM : {best_hps_W2v.get('units')}\")\n",
    "print(f\" - Lambda de régularisation L2 : {best_hps_W2v.get('l2_lambda')}\")\n",
    "print(f\" - Dropout rate : {best_hps_W2v.get('dropout_rate')}\")\n",
    "print(f\" - Learning rate : {best_hps_W2v.get('learning_rate')}\")\n",
    "\n",
    "# Construire le meilleur modèle avec les meilleurs hyperparamètres\n",
    "# Spécifier l'input_shape correspondant à tes données (par exemple `maxlen`)\n",
    "input_shape = (maxlen,)  # Nombre max de tokens\n",
    "\n",
    "# \"Build\" le modèle explicitement avec la taille d'entrée\n",
    "best_model_W2v.build(input_shape=(None, *input_shape))  # None correspond à la taille du batch\n",
    "\n",
    "# Affichage du résumé du modèle\n",
    "best_model_W2v.summary()"
   ]
  },
  {
   "cell_type": "code",
   "execution_count": 59,
   "id": "e68c8214-7884-475f-a3f6-a6234bd85a2a",
   "metadata": {},
   "outputs": [
    {
     "name": "stdout",
     "output_type": "stream",
     "text": [
      "\u001b[1m46/46\u001b[0m \u001b[32m━━━━━━━━━━━━━━━━━━━━\u001b[0m\u001b[37m\u001b[0m \u001b[1m0s\u001b[0m 4ms/step\n"
     ]
    },
    {
     "data": {
      "image/png": "[encoded data removed]",
      "text/plain": [
       "<Figure size 600x400 with 2 Axes>"
      ]
     },
     "metadata": {},
     "output_type": "display_data"
    },
    {
     "name": "stdout",
     "output_type": "stream",
     "text": [
      "Rapport de classification :\n",
      "              precision    recall  f1-score   support\n",
      "\n",
      "           0       0.67      0.74      0.70       726\n",
      "           1       0.71      0.64      0.67       730\n",
      "\n",
      "    accuracy                           0.69      1456\n",
      "   macro avg       0.69      0.69      0.69      1456\n",
      "weighted avg       0.69      0.69      0.69      1456\n",
      "\n"
     ]
    }
   ],
   "source": [
    "from sklearn.metrics import confusion_matrix, classification_report\n",
    "import seaborn as sns\n",
    "import matplotlib.pyplot as plt\n",
    "\n",
    "# 1. Faire des prédictions sur le jeu de test\n",
    "y_pred_probs = best_model_W2v.predict(test_padded)  # Prédictions en probabilités\n",
    "y_pred = (y_pred_probs > 0.5).astype(\"int32\")   # Conversion en classes (0 ou 1)\n",
    "\n",
    "# 2. Calculer la matrice de confusion\n",
    "conf_matrix = confusion_matrix(y_test, y_pred)\n",
    "\n",
    "# 3. Afficher la matrice de confusion\n",
    "plt.figure(figsize=(6, 4))\n",
    "sns.heatmap(conf_matrix, annot=True, fmt='d', cmap='Blues', xticklabels=[0, 1], yticklabels=[0, 1])\n",
    "plt.title('Matrice de confusion')\n",
    "plt.xlabel('Prédictions')\n",
    "plt.ylabel('Vérités terrain')\n",
    "# Sauvegarder l'image de la matrice de confusion\n",
    "plt.savefig('confusion_matrix.png')\n",
    "plt.show()\n",
    "\n",
    "# 4. Afficher le rapport de classification\n",
    "class_report = classification_report(y_test, y_pred)\n",
    "print(\"Rapport de classification :\")\n",
    "print(classification_report(y_test, y_pred))\n"
   ]
  },
  {
   "cell_type": "markdown",
   "id": "5b77318e-2656-43a4-84b9-30075a662e40",
   "metadata": {},
   "source": [
    "### Log des essais dans MLFlow"
   ]
  },
  {
   "cell_type": "code",
   "execution_count": 49,
   "id": "4a569be1-4156-4398-918a-6709c9436f71",
   "metadata": {},
   "outputs": [],
   "source": [
    "# Fonction pour loguer chaque essai dans MLflow\n",
    "def log_trial_to_mlflow(trial):\n",
    "    with mlflow.start_run(run_name=f\"trial_{trial.trial_id}\") as run:\n",
    "        # Loguer les hyperparamètres\n",
    "        mlflow.log_params(trial.hyperparameters.values)\n",
    "\n",
    "        # Loguer le score de l'essai (objectif principal, val_loss dans ce cas)\n",
    "        mlflow.log_metric(\"val_loss\", trial.score)\n",
    "\n",
    "        # Loguer le meilleur modèle de cet essai\n",
    "        best_model = tuner.hypermodel.build(trial.hyperparameters)\n",
    "        best_model.fit(train_padded, y_train, epochs=20, validation_data=(test_padded, y_test), callbacks=[stop_early])\n",
    "        mlflow.keras.log_model(best_model, \"model\")"
   ]
  },
  {
   "cell_type": "code",
   "execution_count": 53,
   "id": "490998e6-712a-489f-8ceb-3de22502963c",
   "metadata": {
    "scrolled": true
   },
   "outputs": [
    {
     "name": "stdout",
     "output_type": "stream",
     "text": [
      "Epoch 1/20\n",
      "\u001b[1m107/107\u001b[0m \u001b[32m━━━━━━━━━━━━━━━━━━━━\u001b[0m\u001b[37m\u001b[0m \u001b[1m4s\u001b[0m 14ms/step - accuracy: 0.5883 - loss: 1.5126 - val_accuracy: 0.6545 - val_loss: 0.7267\n",
      "Epoch 2/20\n",
      "\u001b[1m107/107\u001b[0m \u001b[32m━━━━━━━━━━━━━━━━━━━━\u001b[0m\u001b[37m\u001b[0m \u001b[1m1s\u001b[0m 10ms/step - accuracy: 0.6552 - loss: 0.7192 - val_accuracy: 0.6703 - val_loss: 0.6701\n",
      "Epoch 3/20\n",
      "\u001b[1m107/107\u001b[0m \u001b[32m━━━━━━━━━━━━━━━━━━━━\u001b[0m\u001b[37m\u001b[0m \u001b[1m1s\u001b[0m 10ms/step - accuracy: 0.6462 - loss: 0.6839 - val_accuracy: 0.6655 - val_loss: 0.6757\n",
      "Epoch 4/20\n",
      "\u001b[1m107/107\u001b[0m \u001b[32m━━━━━━━━━━━━━━━━━━━━\u001b[0m\u001b[37m\u001b[0m \u001b[1m1s\u001b[0m 11ms/step - accuracy: 0.6537 - loss: 0.6770 - val_accuracy: 0.6765 - val_loss: 0.6471\n",
      "Epoch 5/20\n",
      "\u001b[1m107/107\u001b[0m \u001b[32m━━━━━━━━━━━━━━━━━━━━\u001b[0m\u001b[37m\u001b[0m \u001b[1m1s\u001b[0m 11ms/step - accuracy: 0.6555 - loss: 0.6629 - val_accuracy: 0.6793 - val_loss: 0.6390\n"
     ]
    },
    {
     "name": "stderr",
     "output_type": "stream",
     "text": [
      "2024/10/18 19:32:59 WARNING mlflow.keras.save: You are saving a Keras model without specifying model signature.\n",
      "2024/10/18 19:33:10 WARNING mlflow.models.model: Model logged without a signature and input example. Please set `input_example` parameter when logging the model to auto infer the model signature.\n",
      "2024/10/18 19:33:10 INFO mlflow.tracking._tracking_service.client: 🏃 View run trial_0017 at: http://localhost:5000/#/experiments/566106427225564143/runs/bf4609a23af74260bcf0fff29faeb607.\n",
      "2024/10/18 19:33:10 INFO mlflow.tracking._tracking_service.client: 🧪 View experiment at: http://localhost:5000/#/experiments/566106427225564143.\n"
     ]
    },
    {
     "name": "stdout",
     "output_type": "stream",
     "text": [
      "Epoch 1/20\n",
      "\u001b[1m107/107\u001b[0m \u001b[32m━━━━━━━━━━━━━━━━━━━━\u001b[0m\u001b[37m\u001b[0m \u001b[1m4s\u001b[0m 13ms/step - accuracy: 0.5867 - loss: 1.0137 - val_accuracy: 0.6593 - val_loss: 0.7667\n",
      "Epoch 2/20\n",
      "\u001b[1m107/107\u001b[0m \u001b[32m━━━━━━━━━━━━━━━━━━━━\u001b[0m\u001b[37m\u001b[0m \u001b[1m1s\u001b[0m 10ms/step - accuracy: 0.6278 - loss: 0.7601 - val_accuracy: 0.6717 - val_loss: 0.7086\n",
      "Epoch 3/20\n",
      "\u001b[1m107/107\u001b[0m \u001b[32m━━━━━━━━━━━━━━━━━━━━\u001b[0m\u001b[37m\u001b[0m \u001b[1m1s\u001b[0m 10ms/step - accuracy: 0.6624 - loss: 0.7066 - val_accuracy: 0.6518 - val_loss: 0.6862\n",
      "Epoch 4/20\n",
      "\u001b[1m107/107\u001b[0m \u001b[32m━━━━━━━━━━━━━━━━━━━━\u001b[0m\u001b[37m\u001b[0m \u001b[1m1s\u001b[0m 11ms/step - accuracy: 0.6539 - loss: 0.6839 - val_accuracy: 0.6477 - val_loss: 0.6935\n",
      "Epoch 5/20\n",
      "\u001b[1m107/107\u001b[0m \u001b[32m━━━━━━━━━━━━━━━━━━━━\u001b[0m\u001b[37m\u001b[0m \u001b[1m1s\u001b[0m 10ms/step - accuracy: 0.6619 - loss: 0.6780 - val_accuracy: 0.7005 - val_loss: 0.6439\n"
     ]
    },
    {
     "name": "stderr",
     "output_type": "stream",
     "text": [
      "2024/10/18 19:33:18 WARNING mlflow.keras.save: You are saving a Keras model without specifying model signature.\n",
      "2024/10/18 19:33:23 WARNING mlflow.models.model: Model logged without a signature and input example. Please set `input_example` parameter when logging the model to auto infer the model signature.\n",
      "2024/10/18 19:33:23 INFO mlflow.tracking._tracking_service.client: 🏃 View run trial_0028 at: http://localhost:5000/#/experiments/566106427225564143/runs/2bd92928ad474983a6eb494b23bbfc37.\n",
      "2024/10/18 19:33:23 INFO mlflow.tracking._tracking_service.client: 🧪 View experiment at: http://localhost:5000/#/experiments/566106427225564143.\n"
     ]
    },
    {
     "name": "stdout",
     "output_type": "stream",
     "text": [
      "Epoch 1/20\n",
      "\u001b[1m107/107\u001b[0m \u001b[32m━━━━━━━━━━━━━━━━━━━━\u001b[0m\u001b[37m\u001b[0m \u001b[1m7s\u001b[0m 47ms/step - accuracy: 0.5955 - loss: 1.1637 - val_accuracy: 0.6655 - val_loss: 0.7398\n",
      "Epoch 2/20\n",
      "\u001b[1m107/107\u001b[0m \u001b[32m━━━━━━━━━━━━━━━━━━━━\u001b[0m\u001b[37m\u001b[0m \u001b[1m5s\u001b[0m 43ms/step - accuracy: 0.6537 - loss: 0.7546 - val_accuracy: 0.5735 - val_loss: 0.7857\n",
      "Epoch 3/20\n",
      "\u001b[1m107/107\u001b[0m \u001b[32m━━━━━━━━━━━━━━━━━━━━\u001b[0m\u001b[37m\u001b[0m \u001b[1m5s\u001b[0m 44ms/step - accuracy: 0.6651 - loss: 0.7087 - val_accuracy: 0.6937 - val_loss: 0.6628\n",
      "Epoch 4/20\n",
      "\u001b[1m107/107\u001b[0m \u001b[32m━━━━━━━━━━━━━━━━━━━━\u001b[0m\u001b[37m\u001b[0m \u001b[1m5s\u001b[0m 43ms/step - accuracy: 0.6740 - loss: 0.6652 - val_accuracy: 0.6717 - val_loss: 0.6636\n",
      "Epoch 5/20\n",
      "\u001b[1m107/107\u001b[0m \u001b[32m━━━━━━━━━━━━━━━━━━━━\u001b[0m\u001b[37m\u001b[0m \u001b[1m5s\u001b[0m 44ms/step - accuracy: 0.6795 - loss: 0.6410 - val_accuracy: 0.6648 - val_loss: 0.6717\n"
     ]
    },
    {
     "name": "stderr",
     "output_type": "stream",
     "text": [
      "2024/10/18 19:33:49 WARNING mlflow.keras.save: You are saving a Keras model without specifying model signature.\n",
      "2024/10/18 19:33:53 WARNING mlflow.models.model: Model logged without a signature and input example. Please set `input_example` parameter when logging the model to auto infer the model signature.\n",
      "2024/10/18 19:33:54 INFO mlflow.tracking._tracking_service.client: 🏃 View run trial_0016 at: http://localhost:5000/#/experiments/566106427225564143/runs/4aac034997c94cc98393d2caec73ef2a.\n",
      "2024/10/18 19:33:54 INFO mlflow.tracking._tracking_service.client: 🧪 View experiment at: http://localhost:5000/#/experiments/566106427225564143.\n"
     ]
    },
    {
     "name": "stdout",
     "output_type": "stream",
     "text": [
      "Epoch 1/20\n",
      "\u001b[1m107/107\u001b[0m \u001b[32m━━━━━━━━━━━━━━━━━━━━\u001b[0m\u001b[37m\u001b[0m \u001b[1m4s\u001b[0m 13ms/step - accuracy: 0.5692 - loss: 2.6700 - val_accuracy: 0.6346 - val_loss: 1.0549\n",
      "Epoch 2/20\n",
      "\u001b[1m107/107\u001b[0m \u001b[32m━━━━━━━━━━━━━━━━━━━━\u001b[0m\u001b[37m\u001b[0m \u001b[1m1s\u001b[0m 10ms/step - accuracy: 0.6260 - loss: 0.9609 - val_accuracy: 0.6683 - val_loss: 0.7703\n",
      "Epoch 3/20\n",
      "\u001b[1m107/107\u001b[0m \u001b[32m━━━━━━━━━━━━━━━━━━━━\u001b[0m\u001b[37m\u001b[0m \u001b[1m1s\u001b[0m 10ms/step - accuracy: 0.6739 - loss: 0.7413 - val_accuracy: 0.6724 - val_loss: 0.7009\n",
      "Epoch 4/20\n",
      "\u001b[1m107/107\u001b[0m \u001b[32m━━━━━━━━━━━━━━━━━━━━\u001b[0m\u001b[37m\u001b[0m \u001b[1m1s\u001b[0m 11ms/step - accuracy: 0.6725 - loss: 0.6902 - val_accuracy: 0.6834 - val_loss: 0.6728\n",
      "Epoch 5/20\n",
      "\u001b[1m107/107\u001b[0m \u001b[32m━━━━━━━━━━━━━━━━━━━━\u001b[0m\u001b[37m\u001b[0m \u001b[1m1s\u001b[0m 11ms/step - accuracy: 0.6617 - loss: 0.6704 - val_accuracy: 0.6703 - val_loss: 0.6595\n"
     ]
    },
    {
     "name": "stderr",
     "output_type": "stream",
     "text": [
      "2024/10/18 19:34:02 WARNING mlflow.keras.save: You are saving a Keras model without specifying model signature.\n",
      "2024/10/18 19:34:06 WARNING mlflow.models.model: Model logged without a signature and input example. Please set `input_example` parameter when logging the model to auto infer the model signature.\n",
      "2024/10/18 19:34:06 INFO mlflow.tracking._tracking_service.client: 🏃 View run trial_0026 at: http://localhost:5000/#/experiments/566106427225564143/runs/59aca57d22f34e04a9349ff653e66d68.\n",
      "2024/10/18 19:34:06 INFO mlflow.tracking._tracking_service.client: 🧪 View experiment at: http://localhost:5000/#/experiments/566106427225564143.\n"
     ]
    },
    {
     "name": "stdout",
     "output_type": "stream",
     "text": [
      "Epoch 1/20\n",
      "\u001b[1m107/107\u001b[0m \u001b[32m━━━━━━━━━━━━━━━━━━━━\u001b[0m\u001b[37m\u001b[0m \u001b[1m8s\u001b[0m 48ms/step - accuracy: 0.5869 - loss: 1.1719 - val_accuracy: 0.6566 - val_loss: 0.7477\n",
      "Epoch 2/20\n",
      "\u001b[1m107/107\u001b[0m \u001b[32m━━━━━━━━━━━━━━━━━━━━\u001b[0m\u001b[37m\u001b[0m \u001b[1m5s\u001b[0m 44ms/step - accuracy: 0.6739 - loss: 0.7304 - val_accuracy: 0.6676 - val_loss: 0.6989\n",
      "Epoch 3/20\n",
      "\u001b[1m107/107\u001b[0m \u001b[32m━━━━━━━━━━━━━━━━━━━━\u001b[0m\u001b[37m\u001b[0m \u001b[1m5s\u001b[0m 44ms/step - accuracy: 0.6770 - loss: 0.6903 - val_accuracy: 0.6868 - val_loss: 0.6664\n",
      "Epoch 4/20\n",
      "\u001b[1m107/107\u001b[0m \u001b[32m━━━━━━━━━━━━━━━━━━━━\u001b[0m\u001b[37m\u001b[0m \u001b[1m5s\u001b[0m 44ms/step - accuracy: 0.6839 - loss: 0.6664 - val_accuracy: 0.6854 - val_loss: 0.6545\n",
      "Epoch 5/20\n",
      "\u001b[1m107/107\u001b[0m \u001b[32m━━━━━━━━━━━━━━━━━━━━\u001b[0m\u001b[37m\u001b[0m \u001b[1m5s\u001b[0m 45ms/step - accuracy: 0.6945 - loss: 0.6522 - val_accuracy: 0.5838 - val_loss: 0.7724\n"
     ]
    },
    {
     "name": "stderr",
     "output_type": "stream",
     "text": [
      "2024/10/18 19:34:33 WARNING mlflow.keras.save: You are saving a Keras model without specifying model signature.\n",
      "2024/10/18 19:34:37 WARNING mlflow.models.model: Model logged without a signature and input example. Please set `input_example` parameter when logging the model to auto infer the model signature.\n",
      "2024/10/18 19:34:38 INFO mlflow.tracking._tracking_service.client: 🏃 View run trial_0015 at: http://localhost:5000/#/experiments/566106427225564143/runs/fef5530d304b4978ab5f1923858a0367.\n",
      "2024/10/18 19:34:38 INFO mlflow.tracking._tracking_service.client: 🧪 View experiment at: http://localhost:5000/#/experiments/566106427225564143.\n"
     ]
    },
    {
     "name": "stdout",
     "output_type": "stream",
     "text": [
      "Epoch 1/20\n",
      "\u001b[1m107/107\u001b[0m \u001b[32m━━━━━━━━━━━━━━━━━━━━\u001b[0m\u001b[37m\u001b[0m \u001b[1m4s\u001b[0m 13ms/step - accuracy: 0.5538 - loss: 3.4842 - val_accuracy: 0.6484 - val_loss: 1.9342\n",
      "Epoch 2/20\n",
      "\u001b[1m107/107\u001b[0m \u001b[32m━━━━━━━━━━━━━━━━━━━━\u001b[0m\u001b[37m\u001b[0m \u001b[1m1s\u001b[0m 10ms/step - accuracy: 0.6410 - loss: 1.6833 - val_accuracy: 0.6587 - val_loss: 1.1636\n",
      "Epoch 3/20\n",
      "\u001b[1m107/107\u001b[0m \u001b[32m━━━━━━━━━━━━━━━━━━━━\u001b[0m\u001b[37m\u001b[0m \u001b[1m1s\u001b[0m 10ms/step - accuracy: 0.6614 - loss: 1.0724 - val_accuracy: 0.6813 - val_loss: 0.8922\n",
      "Epoch 4/20\n",
      "\u001b[1m107/107\u001b[0m \u001b[32m━━━━━━━━━━━━━━━━━━━━\u001b[0m\u001b[37m\u001b[0m \u001b[1m1s\u001b[0m 10ms/step - accuracy: 0.6732 - loss: 0.8702 - val_accuracy: 0.6875 - val_loss: 0.7862\n",
      "Epoch 5/20\n",
      "\u001b[1m107/107\u001b[0m \u001b[32m━━━━━━━━━━━━━━━━━━━━\u001b[0m\u001b[37m\u001b[0m \u001b[1m1s\u001b[0m 10ms/step - accuracy: 0.6697 - loss: 0.7775 - val_accuracy: 0.6882 - val_loss: 0.7371\n"
     ]
    },
    {
     "name": "stderr",
     "output_type": "stream",
     "text": [
      "2024/10/18 19:34:46 WARNING mlflow.keras.save: You are saving a Keras model without specifying model signature.\n",
      "2024/10/18 19:34:50 WARNING mlflow.models.model: Model logged without a signature and input example. Please set `input_example` parameter when logging the model to auto infer the model signature.\n",
      "2024/10/18 19:34:50 INFO mlflow.tracking._tracking_service.client: 🏃 View run trial_0025 at: http://localhost:5000/#/experiments/566106427225564143/runs/bd3c0bceafe5490aa2f6ccf6017e2a5b.\n",
      "2024/10/18 19:34:50 INFO mlflow.tracking._tracking_service.client: 🧪 View experiment at: http://localhost:5000/#/experiments/566106427225564143.\n"
     ]
    },
    {
     "name": "stdout",
     "output_type": "stream",
     "text": [
      "Epoch 1/20\n",
      "\u001b[1m107/107\u001b[0m \u001b[32m━━━━━━━━━━━━━━━━━━━━\u001b[0m\u001b[37m\u001b[0m \u001b[1m5s\u001b[0m 13ms/step - accuracy: 0.6061 - loss: 1.4978 - val_accuracy: 0.6504 - val_loss: 0.7256\n",
      "Epoch 2/20\n",
      "\u001b[1m107/107\u001b[0m \u001b[32m━━━━━━━━━━━━━━━━━━━━\u001b[0m\u001b[37m\u001b[0m \u001b[1m1s\u001b[0m 10ms/step - accuracy: 0.6368 - loss: 0.7194 - val_accuracy: 0.5948 - val_loss: 0.7100\n",
      "Epoch 3/20\n",
      "\u001b[1m107/107\u001b[0m \u001b[32m━━━━━━━━━━━━━━━━━━━━\u001b[0m\u001b[37m\u001b[0m \u001b[1m1s\u001b[0m 10ms/step - accuracy: 0.6509 - loss: 0.6843 - val_accuracy: 0.6470 - val_loss: 0.6736\n",
      "Epoch 4/20\n",
      "\u001b[1m107/107\u001b[0m \u001b[32m━━━━━━━━━━━━━━━━━━━━\u001b[0m\u001b[37m\u001b[0m \u001b[1m1s\u001b[0m 10ms/step - accuracy: 0.6582 - loss: 0.6602 - val_accuracy: 0.6600 - val_loss: 0.6526\n",
      "Epoch 5/20\n",
      "\u001b[1m107/107\u001b[0m \u001b[32m━━━━━━━━━━━━━━━━━━━━\u001b[0m\u001b[37m\u001b[0m \u001b[1m1s\u001b[0m 10ms/step - accuracy: 0.6749 - loss: 0.6432 - val_accuracy: 0.6806 - val_loss: 0.6417\n"
     ]
    },
    {
     "name": "stderr",
     "output_type": "stream",
     "text": [
      "2024/10/18 19:35:00 WARNING mlflow.keras.save: You are saving a Keras model without specifying model signature.\n",
      "2024/10/18 19:35:04 WARNING mlflow.models.model: Model logged without a signature and input example. Please set `input_example` parameter when logging the model to auto infer the model signature.\n",
      "2024/10/18 19:35:04 INFO mlflow.tracking._tracking_service.client: 🏃 View run trial_0013 at: http://localhost:5000/#/experiments/566106427225564143/runs/5333820aa67e41f3a928228d15fe44e5.\n",
      "2024/10/18 19:35:04 INFO mlflow.tracking._tracking_service.client: 🧪 View experiment at: http://localhost:5000/#/experiments/566106427225564143.\n"
     ]
    },
    {
     "name": "stdout",
     "output_type": "stream",
     "text": [
      "Epoch 1/20\n",
      "\u001b[1m107/107\u001b[0m \u001b[32m━━━━━━━━━━━━━━━━━━━━\u001b[0m\u001b[37m\u001b[0m \u001b[1m5s\u001b[0m 24ms/step - accuracy: 0.5627 - loss: 2.2569 - val_accuracy: 0.6497 - val_loss: 0.7499\n",
      "Epoch 2/20\n",
      "\u001b[1m107/107\u001b[0m \u001b[32m━━━━━━━━━━━━━━━━━━━━\u001b[0m\u001b[37m\u001b[0m \u001b[1m2s\u001b[0m 21ms/step - accuracy: 0.6331 - loss: 0.7341 - val_accuracy: 0.6745 - val_loss: 0.6638\n",
      "Epoch 3/20\n",
      "\u001b[1m107/107\u001b[0m \u001b[32m━━━━━━━━━━━━━━━━━━━━\u001b[0m\u001b[37m\u001b[0m \u001b[1m2s\u001b[0m 21ms/step - accuracy: 0.6560 - loss: 0.6677 - val_accuracy: 0.6339 - val_loss: 0.6813\n",
      "Epoch 4/20\n",
      "\u001b[1m107/107\u001b[0m \u001b[32m━━━━━━━━━━━━━━━━━━━━\u001b[0m\u001b[37m\u001b[0m \u001b[1m2s\u001b[0m 21ms/step - accuracy: 0.6543 - loss: 0.6681 - val_accuracy: 0.6559 - val_loss: 0.6500\n",
      "Epoch 5/20\n",
      "\u001b[1m107/107\u001b[0m \u001b[32m━━━━━━━━━━━━━━━━━━━━\u001b[0m\u001b[37m\u001b[0m \u001b[1m2s\u001b[0m 21ms/step - accuracy: 0.6580 - loss: 0.6526 - val_accuracy: 0.6799 - val_loss: 0.6375\n"
     ]
    },
    {
     "name": "stderr",
     "output_type": "stream",
     "text": [
      "2024/10/18 19:35:18 WARNING mlflow.keras.save: You are saving a Keras model without specifying model signature.\n",
      "2024/10/18 19:35:22 WARNING mlflow.models.model: Model logged without a signature and input example. Please set `input_example` parameter when logging the model to auto infer the model signature.\n",
      "2024/10/18 19:35:23 INFO mlflow.tracking._tracking_service.client: 🏃 View run trial_0014 at: http://localhost:5000/#/experiments/566106427225564143/runs/f4f689ad50b146018ded409b6a23150e.\n",
      "2024/10/18 19:35:23 INFO mlflow.tracking._tracking_service.client: 🧪 View experiment at: http://localhost:5000/#/experiments/566106427225564143.\n"
     ]
    },
    {
     "name": "stdout",
     "output_type": "stream",
     "text": [
      "Epoch 1/20\n",
      "\u001b[1m107/107\u001b[0m \u001b[32m━━━━━━━━━━━━━━━━━━━━\u001b[0m\u001b[37m\u001b[0m \u001b[1m5s\u001b[0m 28ms/step - accuracy: 0.5897 - loss: 1.0283 - val_accuracy: 0.6724 - val_loss: 0.7394\n",
      "Epoch 2/20\n",
      "\u001b[1m107/107\u001b[0m \u001b[32m━━━━━━━━━━━━━━━━━━━━\u001b[0m\u001b[37m\u001b[0m \u001b[1m3s\u001b[0m 25ms/step - accuracy: 0.6521 - loss: 0.7254 - val_accuracy: 0.6786 - val_loss: 0.6870\n",
      "Epoch 3/20\n",
      "\u001b[1m107/107\u001b[0m \u001b[32m━━━━━━━━━━━━━━━━━━━━\u001b[0m\u001b[37m\u001b[0m \u001b[1m3s\u001b[0m 25ms/step - accuracy: 0.6767 - loss: 0.7001 - val_accuracy: 0.6738 - val_loss: 0.6772\n",
      "Epoch 4/20\n",
      "\u001b[1m107/107\u001b[0m \u001b[32m━━━━━━━━━━━━━━━━━━━━\u001b[0m\u001b[37m\u001b[0m \u001b[1m3s\u001b[0m 25ms/step - accuracy: 0.6894 - loss: 0.6626 - val_accuracy: 0.7040 - val_loss: 0.6423\n",
      "Epoch 5/20\n",
      "\u001b[1m107/107\u001b[0m \u001b[32m━━━━━━━━━━━━━━━━━━━━\u001b[0m\u001b[37m\u001b[0m \u001b[1m3s\u001b[0m 25ms/step - accuracy: 0.7062 - loss: 0.6457 - val_accuracy: 0.6882 - val_loss: 0.6644\n"
     ]
    },
    {
     "name": "stderr",
     "output_type": "stream",
     "text": [
      "2024/10/18 19:35:39 WARNING mlflow.keras.save: You are saving a Keras model without specifying model signature.\n",
      "2024/10/18 19:35:43 WARNING mlflow.models.model: Model logged without a signature and input example. Please set `input_example` parameter when logging the model to auto infer the model signature.\n",
      "2024/10/18 19:35:43 INFO mlflow.tracking._tracking_service.client: 🏃 View run trial_0024 at: http://localhost:5000/#/experiments/566106427225564143/runs/c3c3037b1c724333b6efdc9d8b8321b7.\n",
      "2024/10/18 19:35:43 INFO mlflow.tracking._tracking_service.client: 🧪 View experiment at: http://localhost:5000/#/experiments/566106427225564143.\n"
     ]
    },
    {
     "name": "stdout",
     "output_type": "stream",
     "text": [
      "Epoch 1/20\n",
      "\u001b[1m107/107\u001b[0m \u001b[32m━━━━━━━━━━━━━━━━━━━━\u001b[0m\u001b[37m\u001b[0m \u001b[1m5s\u001b[0m 28ms/step - accuracy: 0.5719 - loss: 1.0492 - val_accuracy: 0.6552 - val_loss: 0.7372\n",
      "Epoch 2/20\n",
      "\u001b[1m107/107\u001b[0m \u001b[32m━━━━━━━━━━━━━━━━━━━━\u001b[0m\u001b[37m\u001b[0m \u001b[1m3s\u001b[0m 26ms/step - accuracy: 0.6379 - loss: 0.7399 - val_accuracy: 0.6806 - val_loss: 0.7064\n",
      "Epoch 3/20\n",
      "\u001b[1m107/107\u001b[0m \u001b[32m━━━━━━━━━━━━━━━━━━━━\u001b[0m\u001b[37m\u001b[0m \u001b[1m3s\u001b[0m 26ms/step - accuracy: 0.6659 - loss: 0.7098 - val_accuracy: 0.6614 - val_loss: 0.7230\n",
      "Epoch 4/20\n",
      "\u001b[1m107/107\u001b[0m \u001b[32m━━━━━━━━━━━━━━━━━━━━\u001b[0m\u001b[37m\u001b[0m \u001b[1m3s\u001b[0m 26ms/step - accuracy: 0.6787 - loss: 0.7069 - val_accuracy: 0.7033 - val_loss: 0.6649\n",
      "Epoch 5/20\n",
      "\u001b[1m107/107\u001b[0m \u001b[32m━━━━━━━━━━━━━━━━━━━━\u001b[0m\u001b[37m\u001b[0m \u001b[1m3s\u001b[0m 27ms/step - accuracy: 0.6917 - loss: 0.6726 - val_accuracy: 0.7060 - val_loss: 0.6506\n"
     ]
    },
    {
     "name": "stderr",
     "output_type": "stream",
     "text": [
      "2024/10/18 19:36:00 WARNING mlflow.keras.save: You are saving a Keras model without specifying model signature.\n",
      "2024/10/18 19:36:04 WARNING mlflow.models.model: Model logged without a signature and input example. Please set `input_example` parameter when logging the model to auto infer the model signature.\n",
      "2024/10/18 19:36:05 INFO mlflow.tracking._tracking_service.client: 🏃 View run trial_0019 at: http://localhost:5000/#/experiments/566106427225564143/runs/11be25885543451ca923992a44ae076c.\n",
      "2024/10/18 19:36:05 INFO mlflow.tracking._tracking_service.client: 🧪 View experiment at: http://localhost:5000/#/experiments/566106427225564143.\n"
     ]
    }
   ],
   "source": [
    "# Loguer chaque essai dans MLflow\n",
    "for trial in tuner_W2v.oracle.get_best_trials(num_trials=10):\n",
    "    log_trial_to_mlflow(trial)"
   ]
  },
  {
   "cell_type": "code",
   "execution_count": 60,
   "id": "daa76a8d-e1b3-4f02-8286-c00ce044fbfe",
   "metadata": {},
   "outputs": [
    {
     "name": "stderr",
     "output_type": "stream",
     "text": [
      "2024/10/18 20:20:11 WARNING mlflow.keras.save: You are saving a Keras model without specifying model signature.\n",
      "2024/10/18 20:20:15 WARNING mlflow.models.model: Model logged without a signature and input example. Please set `input_example` parameter when logging the model to auto infer the model signature.\n",
      "2024/10/18 20:20:15 INFO mlflow.tracking._tracking_service.client: 🏃 View run best_model_W2v at: http://localhost:5000/#/experiments/566106427225564143/runs/5a9577df1b724442a9226bf1d0a19e01.\n",
      "2024/10/18 20:20:15 INFO mlflow.tracking._tracking_service.client: 🧪 View experiment at: http://localhost:5000/#/experiments/566106427225564143.\n"
     ]
    }
   ],
   "source": [
    "# Loguer le meilleur modèle et l'historique d'entraînement dans MLflow\n",
    "with mlflow.start_run(run_name=\"best_model_W2v\"):\n",
    "    # Loguer les hyperparamètres\n",
    "    mlflow.log_params(best_hps_W2v.values)\n",
    "    \n",
    "    # Loguer le modèle\n",
    "    mlflow.keras.log_model(best_model_W2v, \"model\")\n",
    "    \n",
    "    # Loguer l'historique d'entraînement (loss, accuracy, etc.)\n",
    "    for epoch in range(len(history_W2v.history['loss'])):\n",
    "        mlflow.log_metrics({\n",
    "            'train_loss': history_W2v.history['loss'][epoch],\n",
    "            'train_accuracy': history_W2v.history['accuracy'][epoch],\n",
    "            'val_loss': history_W2v.history['val_loss'][epoch],\n",
    "            'val_accuracy': history_W2v.history['val_accuracy'][epoch]\n",
    "        }, step=epoch)\n",
    "    # Loguer l'image de la matrice de confusion dans MLflow\n",
    "    mlflow.log_artifact('confusion_matrix.png')\n",
    "    # Loguer le rapport de classification sous forme de fichier texte\n",
    "    with open('classification_report.txt', 'w') as f:\n",
    "        f.write(class_report)    \n",
    "    # Loguer le rapport de classification dans MLflow\n",
    "    mlflow.log_artifact('classification_report.txt')"
   ]
  },
  {
   "cell_type": "markdown",
   "id": "37b3328d-b2e2-45fb-8d9f-2d1377ab585c",
   "metadata": {},
   "source": [
    "# Glove"
   ]
  },
  {
   "cell_type": "code",
   "execution_count": 40,
   "id": "58cb1abd-bbb6-467f-bbfd-21208185fa83",
   "metadata": {},
   "outputs": [
    {
     "name": "stdout",
     "output_type": "stream",
     "text": [
      "1193514 mots vectorisés chargés depuis Glove.\n"
     ]
    }
   ],
   "source": [
    "import numpy as np\n",
    "import pandas as pd\n",
    "from tensorflow.keras.preprocessing.text import Tokenizer\n",
    "from tensorflow.keras.preprocessing.sequence import pad_sequences\n",
    "\n",
    "\n",
    "# Paramètres\n",
    "EMBEDDING_DIM = 200  # Dimension des embeddings Glove, ex: 50, 100, 200\n",
    "MAX_NB_WORDS = 10000  # Limite de vocabulaire (nombre maximal de mots)\n",
    "MAX_SEQUENCE_LENGTH = 40  # Longueur maximale des séquences de texte\n",
    "\n",
    "# Charger les embeddings Glove\n",
    "def load_glove_embedding(filepath, embedding_dim):\n",
    "    embeddings_index = {}\n",
    "    with open(filepath, encoding=\"utf-8\") as f:\n",
    "        for line in f:\n",
    "            values = line.split()\n",
    "            word = values[0]\n",
    "            coefs = np.asarray(values[1:], dtype='float32')\n",
    "            embeddings_index[word] = coefs\n",
    "    print(f'{len(embeddings_index)} mots vectorisés chargés depuis Glove.')\n",
    "    return embeddings_index\n",
    "\n",
    "# Chargement du fichier Glove twitter 27B (200)\n",
    "glove_embeddings_index = load_glove_embedding('./Glove/glove.twitter.27B.200d.txt', EMBEDDING_DIM)"
   ]
  },
  {
   "cell_type": "code",
   "execution_count": 41,
   "id": "40bafe22-17c3-4f10-ba4b-24bb22e795db",
   "metadata": {},
   "outputs": [
    {
     "name": "stdout",
     "output_type": "stream",
     "text": [
      "Matrice d'embeddings créée avec une dimension de (5970, 200)\n"
     ]
    }
   ],
   "source": [
    "# Tokenizer - créer un index pour chaque mot dans les données\n",
    "tokenizer = Tokenizer(num_words=MAX_NB_WORDS)\n",
    "tokenizer.fit_on_texts(train_df['preprocessed_text'].values)\n",
    "\n",
    "# Convertir les textes en séquences\n",
    "train_sequences = tokenizer.texts_to_sequences(train_df['preprocessed_text'].values)\n",
    "test_sequences = tokenizer.texts_to_sequences(test_df['preprocessed_text'].values)\n",
    "\n",
    "# Appliquer le padding aux séquences pour les rendre de longueur égale\n",
    "train_padded = pad_sequences(train_sequences, maxlen=MAX_SEQUENCE_LENGTH)\n",
    "test_padded = pad_sequences(test_sequences, maxlen=MAX_SEQUENCE_LENGTH)\n",
    "\n",
    "# Créer la matrice d'embeddings\n",
    "word_index = tokenizer.word_index\n",
    "nb_words = min(MAX_NB_WORDS, len(word_index))  # Nombre total de mots dans le tokenizer\n",
    "\n",
    "embedding_matrix = np.zeros((nb_words + 1, EMBEDDING_DIM))  # Ajouter +1 pour l'index 0 (padding)\n",
    "\n",
    "for word, i in word_index.items():\n",
    "    if i > MAX_NB_WORDS:\n",
    "        continue\n",
    "    embedding_vector = glove_embeddings_index.get(word)\n",
    "    if embedding_vector is not None:\n",
    "        embedding_matrix[i] = embedding_vector  # Si le mot est trouvé dans Glove\n",
    "\n",
    "print(f\"Matrice d'embeddings créée avec une dimension de {embedding_matrix.shape}\")\n",
    "\n",
    "# Vos labels\n",
    "y_train = train_df['target'].values\n",
    "y_test = test_df['target'].values"
   ]
  },
  {
   "cell_type": "markdown",
   "id": "e48d050e-e106-4d5a-855c-a1402ce87b60",
   "metadata": {},
   "source": [
    "## Essai d'optimisation du modèle Glove"
   ]
  },
  {
   "cell_type": "code",
   "execution_count": 42,
   "id": "cafff1b5-bcfe-4aef-a929-4e3c7254c615",
   "metadata": {},
   "outputs": [],
   "source": [
    "import os\n",
    "import shutil\n",
    "# Supprimer le répertoire s'il existe déjà (pour refaire une mise au point de paramètres à chaque run)\n",
    "if os.path.exists('my_dir'):\n",
    "    shutil.rmtree('my_dir')\n",
    "\n",
    "# Instanciation du tuner après suppression\n",
    "tuner_Glove = kt.Hyperband(\n",
    "    build_model,\n",
    "    objective='val_loss',\n",
    "    max_epochs=20,\n",
    "    factor=3,\n",
    "    directory='my_dir',  # Répertoire standard mais il sera recréé\n",
    "    project_name='lstm_bidirectional_tuning_Glove'\n",
    ")"
   ]
  },
  {
   "cell_type": "code",
   "execution_count": 43,
   "id": "c7c531a2-cd99-4b8e-a28e-cfd6dcda30e2",
   "metadata": {},
   "outputs": [
    {
     "name": "stdout",
     "output_type": "stream",
     "text": [
      "Trial 30 Complete [00h 00m 59s]\n",
      "val_loss: 0.5905734300613403\n",
      "\n",
      "Best val_loss So Far: 0.5796163082122803\n",
      "Total elapsed time: 00h 11m 47s\n",
      "Epoch 1/20\n",
      "\u001b[1m107/107\u001b[0m \u001b[32m━━━━━━━━━━━━━━━━━━━━\u001b[0m\u001b[37m\u001b[0m \u001b[1m8s\u001b[0m 46ms/step - accuracy: 0.5961 - loss: 1.2001 - val_accuracy: 0.7088 - val_loss: 0.6937\n",
      "Epoch 2/20\n",
      "\u001b[1m107/107\u001b[0m \u001b[32m━━━━━━━━━━━━━━━━━━━━\u001b[0m\u001b[37m\u001b[0m \u001b[1m5s\u001b[0m 43ms/step - accuracy: 0.7136 - loss: 0.6719 - val_accuracy: 0.7136 - val_loss: 0.6606\n",
      "Epoch 3/20\n",
      "\u001b[1m107/107\u001b[0m \u001b[32m━━━━━━━━━━━━━━━━━━━━\u001b[0m\u001b[37m\u001b[0m \u001b[1m5s\u001b[0m 46ms/step - accuracy: 0.6800 - loss: 0.6740 - val_accuracy: 0.7163 - val_loss: 0.6348\n",
      "Epoch 4/20\n",
      "\u001b[1m107/107\u001b[0m \u001b[32m━━━━━━━━━━━━━━━━━━━━\u001b[0m\u001b[37m\u001b[0m \u001b[1m5s\u001b[0m 47ms/step - accuracy: 0.7070 - loss: 0.6336 - val_accuracy: 0.7067 - val_loss: 0.6311\n",
      "Epoch 5/20\n",
      "\u001b[1m107/107\u001b[0m \u001b[32m━━━━━━━━━━━━━━━━━━━━\u001b[0m\u001b[37m\u001b[0m \u001b[1m5s\u001b[0m 43ms/step - accuracy: 0.7066 - loss: 0.6355 - val_accuracy: 0.7218 - val_loss: 0.6103\n",
      "Epoch 6/20\n",
      "\u001b[1m107/107\u001b[0m \u001b[32m━━━━━━━━━━━━━━━━━━━━\u001b[0m\u001b[37m\u001b[0m \u001b[1m5s\u001b[0m 43ms/step - accuracy: 0.7052 - loss: 0.6241 - val_accuracy: 0.7102 - val_loss: 0.6114\n",
      "Epoch 7/20\n",
      "\u001b[1m107/107\u001b[0m \u001b[32m━━━━━━━━━━━━━━━━━━━━\u001b[0m\u001b[37m\u001b[0m \u001b[1m5s\u001b[0m 42ms/step - accuracy: 0.7095 - loss: 0.6231 - val_accuracy: 0.7081 - val_loss: 0.6118\n",
      "Epoch 8/20\n",
      "\u001b[1m107/107\u001b[0m \u001b[32m━━━━━━━━━━━━━━━━━━━━\u001b[0m\u001b[37m\u001b[0m \u001b[1m5s\u001b[0m 42ms/step - accuracy: 0.7166 - loss: 0.6167 - val_accuracy: 0.7157 - val_loss: 0.6057\n",
      "Epoch 9/20\n",
      "\u001b[1m107/107\u001b[0m \u001b[32m━━━━━━━━━━━━━━━━━━━━\u001b[0m\u001b[37m\u001b[0m \u001b[1m4s\u001b[0m 42ms/step - accuracy: 0.7140 - loss: 0.5994 - val_accuracy: 0.7212 - val_loss: 0.5967\n",
      "Epoch 10/20\n",
      "\u001b[1m107/107\u001b[0m \u001b[32m━━━━━━━━━━━━━━━━━━━━\u001b[0m\u001b[37m\u001b[0m \u001b[1m5s\u001b[0m 43ms/step - accuracy: 0.7166 - loss: 0.6097 - val_accuracy: 0.7301 - val_loss: 0.5886\n",
      "Epoch 11/20\n",
      "\u001b[1m107/107\u001b[0m \u001b[32m━━━━━━━━━━━━━━━━━━━━\u001b[0m\u001b[37m\u001b[0m \u001b[1m5s\u001b[0m 43ms/step - accuracy: 0.7096 - loss: 0.6033 - val_accuracy: 0.7273 - val_loss: 0.5867\n",
      "Epoch 12/20\n",
      "\u001b[1m107/107\u001b[0m \u001b[32m━━━━━━━━━━━━━━━━━━━━\u001b[0m\u001b[37m\u001b[0m \u001b[1m4s\u001b[0m 42ms/step - accuracy: 0.7012 - loss: 0.6083 - val_accuracy: 0.7225 - val_loss: 0.5921\n",
      "Epoch 13/20\n",
      "\u001b[1m107/107\u001b[0m \u001b[32m━━━━━━━━━━━━━━━━━━━━\u001b[0m\u001b[37m\u001b[0m \u001b[1m5s\u001b[0m 44ms/step - accuracy: 0.7225 - loss: 0.5870 - val_accuracy: 0.7266 - val_loss: 0.5892\n",
      "Epoch 14/20\n",
      "\u001b[1m107/107\u001b[0m \u001b[32m━━━━━━━━━━━━━━━━━━━━\u001b[0m\u001b[37m\u001b[0m \u001b[1m5s\u001b[0m 45ms/step - accuracy: 0.7332 - loss: 0.5818 - val_accuracy: 0.7191 - val_loss: 0.5866\n",
      "Epoch 15/20\n",
      "\u001b[1m107/107\u001b[0m \u001b[32m━━━━━━━━━━━━━━━━━━━━\u001b[0m\u001b[37m\u001b[0m \u001b[1m5s\u001b[0m 43ms/step - accuracy: 0.7209 - loss: 0.5850 - val_accuracy: 0.7198 - val_loss: 0.5951\n",
      "Epoch 16/20\n",
      "\u001b[1m107/107\u001b[0m \u001b[32m━━━━━━━━━━━━━━━━━━━━\u001b[0m\u001b[37m\u001b[0m \u001b[1m5s\u001b[0m 42ms/step - accuracy: 0.7373 - loss: 0.5797 - val_accuracy: 0.7315 - val_loss: 0.5836\n",
      "Epoch 17/20\n",
      "\u001b[1m107/107\u001b[0m \u001b[32m━━━━━━━━━━━━━━━━━━━━\u001b[0m\u001b[37m\u001b[0m \u001b[1m4s\u001b[0m 41ms/step - accuracy: 0.7256 - loss: 0.5900 - val_accuracy: 0.7273 - val_loss: 0.5918\n",
      "Epoch 18/20\n",
      "\u001b[1m107/107\u001b[0m \u001b[32m━━━━━━━━━━━━━━━━━━━━\u001b[0m\u001b[37m\u001b[0m \u001b[1m4s\u001b[0m 41ms/step - accuracy: 0.7422 - loss: 0.5654 - val_accuracy: 0.7363 - val_loss: 0.5810\n",
      "Epoch 19/20\n",
      "\u001b[1m107/107\u001b[0m \u001b[32m━━━━━━━━━━━━━━━━━━━━\u001b[0m\u001b[37m\u001b[0m \u001b[1m4s\u001b[0m 41ms/step - accuracy: 0.7551 - loss: 0.5663 - val_accuracy: 0.7315 - val_loss: 0.5898\n",
      "Epoch 20/20\n",
      "\u001b[1m107/107\u001b[0m \u001b[32m━━━━━━━━━━━━━━━━━━━━\u001b[0m\u001b[37m\u001b[0m \u001b[1m4s\u001b[0m 41ms/step - accuracy: 0.7310 - loss: 0.5628 - val_accuracy: 0.7445 - val_loss: 0.5800\n"
     ]
    }
   ],
   "source": [
    "# Callbacks avec `restore_best_weights`\n",
    "stop_early = tf.keras.callbacks.EarlyStopping(monitor='val_loss', patience=5, restore_best_weights=True)\n",
    "\n",
    "# Recherche des meilleurs hyperparamètres\n",
    "tuner_Glove.search(train_padded, y_train, epochs=20, validation_data=(test_padded, y_test), callbacks=[stop_early])\n",
    "\n",
    "# Récupération des meilleurs hyperparamètres\n",
    "best_hps_Glove = tuner_Glove.get_best_hyperparameters(num_trials=1)[0]\n",
    "\n",
    "# Entraîner le meilleur modèle avec ces hyperparamètres\n",
    "best_model_Glove = tuner_Glove.hypermodel.build(best_hps_Glove)\n",
    "history_Glove = best_model_Glove.fit(train_padded, y_train, epochs=20, validation_data=(test_padded, y_test), callbacks=[stop_early])"
   ]
  },
  {
   "cell_type": "code",
   "execution_count": 44,
   "id": "bea4af7b-1755-43b7-825f-d438da079184",
   "metadata": {},
   "outputs": [
    {
     "data": {
      "text/plain": [
       "(<Figure size 1000x500 with 2 Axes>,\n",
       " array([<Axes: title={'center': 'Accuracy'}, xlabel='Epochs', ylabel='Accuracy'>,\n",
       "        <Axes: title={'center': 'Loss'}, xlabel='Epochs', ylabel='Loss'>],\n",
       "       dtype=object))"
      ]
     },
     "execution_count": 44,
     "metadata": {},
     "output_type": "execute_result"
    },
    {
     "data": {
      "image/png": "[encoded data removed]",
      "text/plain": [
       "<Figure size 1000x500 with 2 Axes>"
      ]
     },
     "metadata": {},
     "output_type": "display_data"
    }
   ],
   "source": [
    "# Plot de l'historique de l'entraînement\n",
    "plot_history(history_Glove.history)"
   ]
  },
  {
   "cell_type": "code",
   "execution_count": 45,
   "id": "81fe7f45-169c-4b3d-97de-7ac41d68504d",
   "metadata": {},
   "outputs": [
    {
     "name": "stdout",
     "output_type": "stream",
     "text": [
      "Meilleurs hyperparamètres trouvés :\n",
      " - Units dans LSTM : 256\n",
      " - Lambda de régularisation L2 : 0.000953783127466293\n",
      " - Dropout rate : 0.4\n",
      " - Learning rate : 0.001338614394601499\n"
     ]
    },
    {
     "data": {
      "text/html": [
       "<pre style=\"white-space:pre;overflow-x:auto;line-height:normal;font-family:Menlo,'DejaVu Sans Mono',consolas,'Courier New',monospace\"><span style=\"font-weight: bold\">Model: \"sequential_1\"</span>\n",
       "</pre>\n"
      ],
      "text/plain": [
       "\u001b[1mModel: \"sequential_1\"\u001b[0m\n"
      ]
     },
     "metadata": {},
     "output_type": "display_data"
    },
    {
     "data": {
      "text/html": [
       "<pre style=\"white-space:pre;overflow-x:auto;line-height:normal;font-family:Menlo,'DejaVu Sans Mono',consolas,'Courier New',monospace\">┏━━━━━━━━━━━━━━━━━━━━━━━━━━━━━━━━━━━━━━┳━━━━━━━━━━━━━━━━━━━━━━━━━━━━━┳━━━━━━━━━━━━━━━━━┓\n",
       "┃<span style=\"font-weight: bold\"> Layer (type)                         </span>┃<span style=\"font-weight: bold\"> Output Shape                </span>┃<span style=\"font-weight: bold\">         Param # </span>┃\n",
       "┡━━━━━━━━━━━━━━━━━━━━━━━━━━━━━━━━━━━━━━╇━━━━━━━━━━━━━━━━━━━━━━━━━━━━━╇━━━━━━━━━━━━━━━━━┩\n",
       "│ embedding_1 (<span style=\"color: #0087ff; text-decoration-color: #0087ff\">Embedding</span>)              │ (<span style=\"color: #00d7ff; text-decoration-color: #00d7ff\">None</span>, <span style=\"color: #00af00; text-decoration-color: #00af00\">40</span>, <span style=\"color: #00af00; text-decoration-color: #00af00\">200</span>)             │       <span style=\"color: #00af00; text-decoration-color: #00af00\">1,194,000</span> │\n",
       "├──────────────────────────────────────┼─────────────────────────────┼─────────────────┤\n",
       "│ bidirectional_1 (<span style=\"color: #0087ff; text-decoration-color: #0087ff\">Bidirectional</span>)      │ (<span style=\"color: #00d7ff; text-decoration-color: #00d7ff\">None</span>, <span style=\"color: #00af00; text-decoration-color: #00af00\">512</span>)                 │         <span style=\"color: #00af00; text-decoration-color: #00af00\">935,936</span> │\n",
       "├──────────────────────────────────────┼─────────────────────────────┼─────────────────┤\n",
       "│ dense_1 (<span style=\"color: #0087ff; text-decoration-color: #0087ff\">Dense</span>)                      │ (<span style=\"color: #00d7ff; text-decoration-color: #00d7ff\">None</span>, <span style=\"color: #00af00; text-decoration-color: #00af00\">1</span>)                   │             <span style=\"color: #00af00; text-decoration-color: #00af00\">513</span> │\n",
       "└──────────────────────────────────────┴─────────────────────────────┴─────────────────┘\n",
       "</pre>\n"
      ],
      "text/plain": [
       "┏━━━━━━━━━━━━━━━━━━━━━━━━━━━━━━━━━━━━━━┳━━━━━━━━━━━━━━━━━━━━━━━━━━━━━┳━━━━━━━━━━━━━━━━━┓\n",
       "┃\u001b[1m \u001b[0m\u001b[1mLayer (type)                        \u001b[0m\u001b[1m \u001b[0m┃\u001b[1m \u001b[0m\u001b[1mOutput Shape               \u001b[0m\u001b[1m \u001b[0m┃\u001b[1m \u001b[0m\u001b[1m        Param #\u001b[0m\u001b[1m \u001b[0m┃\n",
       "┡━━━━━━━━━━━━━━━━━━━━━━━━━━━━━━━━━━━━━━╇━━━━━━━━━━━━━━━━━━━━━━━━━━━━━╇━━━━━━━━━━━━━━━━━┩\n",
       "│ embedding_1 (\u001b[38;5;33mEmbedding\u001b[0m)              │ (\u001b[38;5;45mNone\u001b[0m, \u001b[38;5;34m40\u001b[0m, \u001b[38;5;34m200\u001b[0m)             │       \u001b[38;5;34m1,194,000\u001b[0m │\n",
       "├──────────────────────────────────────┼─────────────────────────────┼─────────────────┤\n",
       "│ bidirectional_1 (\u001b[38;5;33mBidirectional\u001b[0m)      │ (\u001b[38;5;45mNone\u001b[0m, \u001b[38;5;34m512\u001b[0m)                 │         \u001b[38;5;34m935,936\u001b[0m │\n",
       "├──────────────────────────────────────┼─────────────────────────────┼─────────────────┤\n",
       "│ dense_1 (\u001b[38;5;33mDense\u001b[0m)                      │ (\u001b[38;5;45mNone\u001b[0m, \u001b[38;5;34m1\u001b[0m)                   │             \u001b[38;5;34m513\u001b[0m │\n",
       "└──────────────────────────────────────┴─────────────────────────────┴─────────────────┘\n"
      ]
     },
     "metadata": {},
     "output_type": "display_data"
    },
    {
     "data": {
      "text/html": [
       "<pre style=\"white-space:pre;overflow-x:auto;line-height:normal;font-family:Menlo,'DejaVu Sans Mono',consolas,'Courier New',monospace\"><span style=\"font-weight: bold\"> Total params: </span><span style=\"color: #00af00; text-decoration-color: #00af00\">4,003,349</span> (15.27 MB)\n",
       "</pre>\n"
      ],
      "text/plain": [
       "\u001b[1m Total params: \u001b[0m\u001b[38;5;34m4,003,349\u001b[0m (15.27 MB)\n"
      ]
     },
     "metadata": {},
     "output_type": "display_data"
    },
    {
     "data": {
      "text/html": [
       "<pre style=\"white-space:pre;overflow-x:auto;line-height:normal;font-family:Menlo,'DejaVu Sans Mono',consolas,'Courier New',monospace\"><span style=\"font-weight: bold\"> Trainable params: </span><span style=\"color: #00af00; text-decoration-color: #00af00\">936,449</span> (3.57 MB)\n",
       "</pre>\n"
      ],
      "text/plain": [
       "\u001b[1m Trainable params: \u001b[0m\u001b[38;5;34m936,449\u001b[0m (3.57 MB)\n"
      ]
     },
     "metadata": {},
     "output_type": "display_data"
    },
    {
     "data": {
      "text/html": [
       "<pre style=\"white-space:pre;overflow-x:auto;line-height:normal;font-family:Menlo,'DejaVu Sans Mono',consolas,'Courier New',monospace\"><span style=\"font-weight: bold\"> Non-trainable params: </span><span style=\"color: #00af00; text-decoration-color: #00af00\">1,194,000</span> (4.55 MB)\n",
       "</pre>\n"
      ],
      "text/plain": [
       "\u001b[1m Non-trainable params: \u001b[0m\u001b[38;5;34m1,194,000\u001b[0m (4.55 MB)\n"
      ]
     },
     "metadata": {},
     "output_type": "display_data"
    },
    {
     "data": {
      "text/html": [
       "<pre style=\"white-space:pre;overflow-x:auto;line-height:normal;font-family:Menlo,'DejaVu Sans Mono',consolas,'Courier New',monospace\"><span style=\"font-weight: bold\"> Optimizer params: </span><span style=\"color: #00af00; text-decoration-color: #00af00\">1,872,900</span> (7.14 MB)\n",
       "</pre>\n"
      ],
      "text/plain": [
       "\u001b[1m Optimizer params: \u001b[0m\u001b[38;5;34m1,872,900\u001b[0m (7.14 MB)\n"
      ]
     },
     "metadata": {},
     "output_type": "display_data"
    }
   ],
   "source": [
    "# Affichage des meilleurs hyperparamètres\n",
    "print(\"Meilleurs hyperparamètres trouvés :\")\n",
    "print(f\" - Units dans LSTM : {best_hps_Glove.get('units')}\")\n",
    "print(f\" - Lambda de régularisation L2 : {best_hps_Glove.get('l2_lambda')}\")\n",
    "print(f\" - Dropout rate : {best_hps_Glove.get('dropout_rate')}\")\n",
    "print(f\" - Learning rate : {best_hps_Glove.get('learning_rate')}\")\n",
    "\n",
    "# Construire le meilleur modèle avec les meilleurs hyperparamètres\n",
    "# Spécifier l'input_shape correspondant à tes données (par exemple `maxlen`)\n",
    "input_shape = (maxlen,)  # Nombre max de tokens\n",
    "\n",
    "# \"Build\" le modèle explicitement avec la taille d'entrée\n",
    "best_model_Glove.build(input_shape=(None, *input_shape))  # None correspond à la taille du batch\n",
    "\n",
    "# Affichage du résumé du modèle\n",
    "best_model_Glove.summary()"
   ]
  },
  {
   "cell_type": "code",
   "execution_count": 47,
   "id": "679727ea-0f4b-4109-9488-2ec14fdacc33",
   "metadata": {},
   "outputs": [
    {
     "name": "stdout",
     "output_type": "stream",
     "text": [
      "\u001b[1m46/46\u001b[0m \u001b[32m━━━━━━━━━━━━━━━━━━━━\u001b[0m\u001b[37m\u001b[0m \u001b[1m1s\u001b[0m 14ms/step\n"
     ]
    },
    {
     "data": {
      "image/png": "[encoded data removed]",
      "text/plain": [
       "<Figure size 600x400 with 2 Axes>"
      ]
     },
     "metadata": {},
     "output_type": "display_data"
    },
    {
     "name": "stdout",
     "output_type": "stream",
     "text": [
      "Rapport de classification :\n",
      "              precision    recall  f1-score   support\n",
      "\n",
      "           0       0.72      0.79      0.75       726\n",
      "           1       0.77      0.70      0.73       730\n",
      "\n",
      "    accuracy                           0.74      1456\n",
      "   macro avg       0.75      0.74      0.74      1456\n",
      "weighted avg       0.75      0.74      0.74      1456\n",
      "\n"
     ]
    }
   ],
   "source": [
    "from sklearn.metrics import confusion_matrix, classification_report\n",
    "import seaborn as sns\n",
    "import matplotlib.pyplot as plt\n",
    "\n",
    "# 1. Faire des prédictions sur le jeu de test\n",
    "y_pred_probs = best_model_Glove.predict(test_padded)  # Prédictions en probabilités\n",
    "y_pred = (y_pred_probs > 0.5).astype(\"int32\")   # Conversion en classes (0 ou 1)\n",
    "\n",
    "# 2. Calculer la matrice de confusion\n",
    "conf_matrix = confusion_matrix(y_test, y_pred)\n",
    "\n",
    "# 3. Afficher la matrice de confusion\n",
    "plt.figure(figsize=(6, 4))\n",
    "sns.heatmap(conf_matrix, annot=True, fmt='d', cmap='Blues', xticklabels=[0, 1], yticklabels=[0, 1])\n",
    "plt.title('Matrice de confusion')\n",
    "plt.xlabel('Prédictions')\n",
    "plt.ylabel('Vérités terrain')\n",
    "plt.savefig('confusion_matrix.png')\n",
    "plt.show()\n",
    "\n",
    "# 4. Afficher le rapport de classification\n",
    "class_report = classification_report(y_test, y_pred)\n",
    "print(\"Rapport de classification :\")\n",
    "print(classification_report(y_test, y_pred))\n"
   ]
  },
  {
   "cell_type": "markdown",
   "id": "d964a121-43c2-4b35-9a50-bc17c71bd3e4",
   "metadata": {},
   "source": [
    "### Log du modèle Glove optimisé dans MLFlow"
   ]
  },
  {
   "cell_type": "code",
   "execution_count": 51,
   "id": "9e2c4cc7-41be-4a26-a1b1-f9271c743c5b",
   "metadata": {},
   "outputs": [
    {
     "name": "stderr",
     "output_type": "stream",
     "text": [
      "2024/10/18 21:31:19 WARNING mlflow.keras.save: You are saving a Keras model without specifying model signature.\n",
      "2024/10/18 21:31:25 WARNING mlflow.models.model: Model logged without a signature and input example. Please set `input_example` parameter when logging the model to auto infer the model signature.\n",
      "2024/10/18 21:31:26 INFO mlflow.tracking._tracking_service.client: 🏃 View run best_model_Glove at: http://localhost:5000/#/experiments/566106427225564143/runs/7470f07877ae449fafae586eda5ad831.\n",
      "2024/10/18 21:31:26 INFO mlflow.tracking._tracking_service.client: 🧪 View experiment at: http://localhost:5000/#/experiments/566106427225564143.\n"
     ]
    }
   ],
   "source": [
    "# Loguer le meilleur modèle et l'historique d'entraînement dans MLflow\n",
    "with mlflow.start_run(run_name=\"best_model_Glove\"):\n",
    "    # Loguer les hyperparamètres\n",
    "    mlflow.log_params(best_hps_Glove.values)\n",
    "    \n",
    "    # Loguer le modèle\n",
    "    mlflow.keras.log_model(best_model_Glove, \"model\")\n",
    "    \n",
    "    # Loguer l'historique d'entraînement (loss, accuracy, etc.)\n",
    "    for epoch in range(len(history_Glove.history['loss'])):\n",
    "        mlflow.log_metrics({\n",
    "            'train_loss': history_Glove.history['loss'][epoch],\n",
    "            'train_accuracy': history_Glove.history['accuracy'][epoch],\n",
    "            'val_loss': history_Glove.history['val_loss'][epoch],\n",
    "            'val_accuracy': history_Glove.history['val_accuracy'][epoch]\n",
    "        }, step=epoch)\n",
    "    # Loguer l'image de la matrice de confusion dans MLflow\n",
    "    mlflow.log_artifact('confusion_matrix.png')\n",
    "    # Loguer le rapport de classification sous forme de fichier texte\n",
    "    with open('classification_report.txt', 'w') as f:\n",
    "        f.write(class_report)    \n",
    "    # Loguer le rapport de classification dans MLflow\n",
    "    mlflow.log_artifact('classification_report.txt')"
   ]
  },
  {
   "cell_type": "markdown",
   "id": "fb8561e5-4492-4034-aa75-3553115ba15e",
   "metadata": {
    "id": "fb8561e5-4492-4034-aa75-3553115ba15e"
   },
   "source": [
    "# Modèle basé sur Bert (pré-entrainé)"
   ]
  },
  {
   "cell_type": "code",
   "execution_count": null,
   "id": "17f4895f-4a7c-40e7-a992-9b216c5c45af",
   "metadata": {
    "executionInfo": {
     "elapsed": 291,
     "status": "ok",
     "timestamp": 1727941353500,
     "user": {
      "displayName": "Mayer Cécile",
      "userId": "03016020088537475993"
     },
     "user_tz": -120
    },
    "id": "17f4895f-4a7c-40e7-a992-9b216c5c45af"
   },
   "outputs": [],
   "source": [
    "# pip install transformers torch"
   ]
  },
  {
   "cell_type": "code",
   "execution_count": null,
   "id": "849ad0fd-b35a-482c-bd12-a74f42807e69",
   "metadata": {
    "colab": {
     "base_uri": "https://localhost:8080/"
    },
    "executionInfo": {
     "elapsed": 1090,
     "status": "ok",
     "timestamp": 1727941354883,
     "user": {
      "displayName": "Mayer Cécile",
      "userId": "03016020088537475993"
     },
     "user_tz": -120
    },
    "id": "849ad0fd-b35a-482c-bd12-a74f42807e69",
    "outputId": "5af29c22-4c42-4e1a-9d85-36444632c009"
   },
   "outputs": [],
   "source": [
    "from transformers import AutoTokenizer, AutoModelForSequenceClassification\n",
    "import torch\n",
    "\n",
    "# Load the tokenizer and model from Hugging Face\n",
    "model_name = \"cardiffnlp/twitter-roberta-base-sentiment\"\n",
    "tokenizer = AutoTokenizer.from_pretrained(model_name)\n",
    "model = AutoModelForSequenceClassification.from_pretrained(model_name)\n",
    "\n",
    "# Function to preprocess the text and make predictions\n",
    "def predict_sentiment(text):\n",
    "    # Tokenize the text\n",
    "    inputs = tokenizer(text, return_tensors=\"pt\", truncation=True, padding=True, max_length=512)\n",
    "\n",
    "    # Forward pass, get logits\n",
    "    with torch.no_grad():\n",
    "        outputs = model(**inputs)\n",
    "\n",
    "    # Get the predicted sentiment label\n",
    "    logits = outputs.logits\n",
    "    predicted_class = torch.argmax(logits, dim=1).item()\n",
    "\n",
    "    # Map the prediction to the sentiment\n",
    "    sentiment_labels = ['negative', 'neutral', 'positive']\n",
    "    return sentiment_labels[predicted_class]\n",
    "\n",
    "# Example usage\n",
    "text = \"I love using the new RoBERTa model for sentiment analysis!\"\n",
    "sentiment = predict_sentiment(text)\n",
    "print(f\"Sentiment: {sentiment}\")\n"
   ]
  },
  {
   "cell_type": "code",
   "execution_count": null,
   "id": "5e17197e-b430-47cb-9147-561a1ac6f9bd",
   "metadata": {
    "colab": {
     "base_uri": "https://localhost:8080/",
     "height": 365
    },
    "executionInfo": {
     "elapsed": 1851,
     "status": "error",
     "timestamp": 1727941356731,
     "user": {
      "displayName": "Mayer Cécile",
      "userId": "03016020088537475993"
     },
     "user_tz": -120
    },
    "id": "5e17197e-b430-47cb-9147-561a1ac6f9bd",
    "outputId": "1f4a4e19-12d6-4164-ea68-0b6112cd8042"
   },
   "outputs": [],
   "source": [
    "from transformers import AutoTokenizer, AutoModelForSequenceClassification\n",
    "import torch\n",
    "import pandas as pd\n",
    "from sklearn.metrics import accuracy_score, classification_report\n",
    "\n",
    "# Load the tokenizer and model from Hugging Face\n",
    "model_name = \"cardiffnlp/twitter-roberta-base-sentiment\"\n",
    "tokenizer = AutoTokenizer.from_pretrained(model_name)\n",
    "model = AutoModelForSequenceClassification.from_pretrained(model_name)\n",
    "\n",
    "# Function to predict sentiment\n",
    "def predict_sentiment_roberta(texts):\n",
    "    # Tokenize the input texts\n",
    "    inputs = tokenizer(texts, return_tensors=\"pt\", truncation=True, padding=True, max_length=512)\n",
    "\n",
    "    # Forward pass, get logits\n",
    "    with torch.no_grad():\n",
    "        outputs = model(**inputs)\n",
    "\n",
    "    # Get the predicted class\n",
    "    logits = outputs.logits\n",
    "    predicted_classes = torch.argmax(logits, dim=1)\n",
    "\n",
    "    return predicted_classes\n",
    "\n",
    "# Mapping the RoBERTa outputs to your target classes (0 = positive, 1 = negative)\n",
    "def map_roberta_to_custom_labels(roberta_prediction):\n",
    "    # RoBERTa has 3 classes: [negative, neutral, positive]\n",
    "    # We'll map neutral and negative to 'negative' (1), positive to 'positive' (0)\n",
    "    return 1 if roberta_prediction in [0, 1] else 0\n",
    "\n",
    "# Process the DataFrame and predict sentiments for train/test data\n",
    "def process_and_predict(df):\n",
    "    predicted_labels = []\n",
    "\n",
    "    for text in df['text']:\n",
    "        # Predict sentiment for each tweet\n",
    "        roberta_prediction = predict_sentiment_roberta([text])[0].item()\n",
    "\n",
    "        # Map RoBERTa sentiment to custom labels\n",
    "        custom_label = map_roberta_to_custom_labels(roberta_prediction)\n",
    "        predicted_labels.append(custom_label)\n",
    "\n",
    "    return predicted_labels\n",
    "\n",
    "# Predict on training set\n",
    "train_predictions = process_and_predict(train_df)\n",
    "train_labels = train_df['target'].tolist()\n",
    "\n",
    "# Predict on test set\n",
    "test_predictions = process_and_predict(test_df)\n",
    "test_labels = test_df['target'].tolist()\n",
    "\n",
    "# Evaluate the results\n",
    "train_accuracy = accuracy_score(train_labels, train_predictions)\n",
    "test_accuracy = accuracy_score(test_labels, test_predictions)\n",
    "\n",
    "print(\"Train Accuracy: \", train_accuracy)\n",
    "print(\"Test Accuracy: \", test_accuracy)\n",
    "\n",
    "# Classification report for further insights\n",
    "print(\"\\nClassification Report on Train Data:\")\n",
    "print(classification_report(train_labels, train_predictions, target_names=[\"positive\", \"negative\"]))\n",
    "\n",
    "print(\"\\nClassification Report on Test Data:\")\n",
    "print(classification_report(test_labels, test_predictions, target_names=[\"positive\", \"negative\"]))\n"
   ]
  },
  {
   "cell_type": "markdown",
   "id": "96a05081-deb9-44de-8fb7-8d4cf9772118",
   "metadata": {
    "id": "96a05081-deb9-44de-8fb7-8d4cf9772118"
   },
   "source": [
    "# Test Roberta tweets sentiment analysis avec fine-tuning"
   ]
  },
  {
   "cell_type": "code",
   "execution_count": null,
   "id": "57eb3017-eeaa-41a0-89d4-93ab1df63eb5",
   "metadata": {
    "id": "57eb3017-eeaa-41a0-89d4-93ab1df63eb5"
   },
   "outputs": [],
   "source": [
    "import torch\n",
    "print(\"CUDA disponible:\", torch.cuda.is_available())  # Devrait retourner True\n",
    "print(\"Nom du GPU:\", torch.cuda.get_device_name(0))   # Affiche le nom du GPU\n",
    "print(\"Version de PyTorch:\", torch.__version__)       # Devrait afficher 2.4.1\n"
   ]
  },
  {
   "cell_type": "code",
   "execution_count": null,
   "id": "874bf319-c1e6-4afd-802f-a7b9dda5c1dc",
   "metadata": {
    "colab": {
     "base_uri": "https://localhost:8080/"
    },
    "executionInfo": {
     "elapsed": 976,
     "status": "ok",
     "timestamp": 1727941201609,
     "user": {
      "displayName": "Mayer Cécile",
      "userId": "03016020088537475993"
     },
     "user_tz": -120
    },
    "id": "874bf319-c1e6-4afd-802f-a7b9dda5c1dc",
    "outputId": "fc51a035-c331-41b2-b86c-9b457a705f46"
   },
   "outputs": [],
   "source": [
    "import torch\n",
    "from transformers import AutoTokenizer, AutoModelForSequenceClassification\n",
    "from torch.utils.data import DataLoader, Dataset\n",
    "from sklearn.model_selection import train_test_split\n",
    "from sklearn.metrics import accuracy_score, classification_report\n",
    "import pandas as pd\n",
    "\n",
    "# Load the tokenizer and model\n",
    "model_name = \"cardiffnlp/twitter-roberta-base-sentiment\"\n",
    "tokenizer = AutoTokenizer.from_pretrained(model_name)\n",
    "model = AutoModelForSequenceClassification.from_pretrained(model_name)"
   ]
  },
  {
   "cell_type": "code",
   "execution_count": null,
   "id": "2f0a89e5-1553-4c49-87d5-eeec802b06ee",
   "metadata": {
    "executionInfo": {
     "elapsed": 276,
     "status": "ok",
     "timestamp": 1727941203493,
     "user": {
      "displayName": "Mayer Cécile",
      "userId": "03016020088537475993"
     },
     "user_tz": -120
    },
    "id": "7cff257f-314f-4e63-9f9e-8e71d8f4b335"
   },
   "outputs": [],
   "source": [
    "# Freeze all layers except the last classification layer\n",
    "for param in model.base_model.parameters():\n",
    "    param.requires_grad = False"
   ]
  },
  {
   "cell_type": "code",
   "execution_count": null,
   "id": "547f1784-0434-48ea-a60a-0ef5aedefdb4",
   "metadata": {},
   "outputs": [],
   "source": [
    "import torch\n",
    "from torch.utils.data import Dataset\n",
    "\n",
    "# Custom Dataset class to handle tokenization\n",
    "class TweetDataset(Dataset):\n",
    "    def __init__(self, texts, targets, tokenizer, max_len):\n",
    "        self.texts = texts\n",
    "        self.targets = targets\n",
    "        self.tokenizer = tokenizer\n",
    "        self.max_len = max_len\n",
    "\n",
    "    def __len__(self):\n",
    "        return len(self.texts)\n",
    "\n",
    "    def __getitem__(self, index):\n",
    "        text = str(self.texts[index])\n",
    "        target = self.targets[index]\n",
    "\n",
    "        # Tokenization\n",
    "        encoding = self.tokenizer(\n",
    "            text,\n",
    "            truncation=True,\n",
    "            padding='max_length',\n",
    "            max_length=self.max_len,\n",
    "            return_tensors='pt'\n",
    "        )\n",
    "\n",
    "        return {\n",
    "            'input_ids': encoding['input_ids'].flatten(),\n",
    "            'attention_mask': encoding['attention_mask'].flatten(),\n",
    "            'targets': torch.tensor(target, dtype=torch.long)\n",
    "        }"
   ]
  },
  {
   "cell_type": "code",
   "execution_count": null,
   "id": "df1df57e-817b-48e0-9a3d-aef872edb2aa",
   "metadata": {
    "colab": {
     "base_uri": "https://localhost:8080/"
    },
    "executionInfo": {
     "elapsed": 386,
     "status": "ok",
     "timestamp": 1727941211500,
     "user": {
      "displayName": "Mayer Cécile",
      "userId": "03016020088537475993"
     },
     "user_tz": -120
    },
    "id": "df1df57e-817b-48e0-9a3d-aef872edb2aa",
    "outputId": "29e317aa-d0ea-4719-9230-7bbff7da3377"
   },
   "outputs": [],
   "source": [
    "# # Sous-échantillonage de train_df\n",
    "# from sklearn.model_selection import train_test_split\n",
    "\n",
    "# # Taille de l'échantillon (20% du total)\n",
    "# sample_size = 0.2\n",
    "\n",
    "# # Création du sous-échantillon avec stratification sur la colonne 'target'\n",
    "# train_sample, _ = train_test_split(train_df,\n",
    "#                                    test_size=1 - sample_size,\n",
    "#                                    stratify=train_df['target'],\n",
    "#                                    random_state=42)\n",
    "\n",
    "# # Affichage de la répartition des classes dans le sous-échantillon\n",
    "# print(train_sample['target'].value_counts(normalize=True))"
   ]
  },
  {
   "cell_type": "code",
   "execution_count": null,
   "id": "7f09e563-e4d0-46ea-bac0-4dd5301c7390",
   "metadata": {
    "colab": {
     "base_uri": "https://localhost:8080/"
    },
    "executionInfo": {
     "elapsed": 281,
     "status": "ok",
     "timestamp": 1727940520350,
     "user": {
      "displayName": "Mayer Cécile",
      "userId": "03016020088537475993"
     },
     "user_tz": -120
    },
    "id": "7f09e563-e4d0-46ea-bac0-4dd5301c7390",
    "outputId": "2330e821-da7f-4077-8810-f7e9d6c382bb"
   },
   "outputs": [],
   "source": [
    "# Recap modèle et assignation de device pour le calcul\n",
    "device = torch.device(\"cuda\" if torch.cuda.is_available() else \"cpu\")\n",
    "model.to(device)"
   ]
  },
  {
   "cell_type": "code",
   "execution_count": null,
   "id": "9546af3b-939f-44b0-817e-2e2cce4d905c",
   "metadata": {},
   "outputs": [],
   "source": [
    "from tweet_dataset import TweetDataset  # Importer la classe depuis le module séparé\n",
    "\n",
    "# Function to create the DataLoader\n",
    "def create_data_loader(df, tokenizer, max_len, batch_size):\n",
    "    dataset = TweetDataset(\n",
    "        texts=df['text'].to_numpy(),\n",
    "        targets=df['target'].to_numpy(),\n",
    "        tokenizer=tokenizer,\n",
    "        max_len=max_len\n",
    "    )\n",
    "    \n",
    "    return DataLoader(\n",
    "        dataset,\n",
    "        batch_size=batch_size,\n",
    "        num_workers=4  # Adjust according to your machine\n",
    "    )"
   ]
  },
  {
   "cell_type": "code",
   "execution_count": null,
   "id": "6cd2ef6a-0aa4-4741-8b5f-4ac4c6b7e153",
   "metadata": {
    "colab": {
     "base_uri": "https://localhost:8080/"
    },
    "executionInfo": {
     "elapsed": 293,
     "status": "ok",
     "timestamp": 1727941060216,
     "user": {
      "displayName": "Mayer Cécile",
      "userId": "03016020088537475993"
     },
     "user_tz": -120
    },
    "id": "c75fd7e5-e0d0-4df9-98cb-fb293d9e48d4",
    "outputId": "f90289a1-48de-403a-fff6-4595f0404cbb"
   },
   "outputs": [],
   "source": [
    "# Main execution block\n",
    "if __name__ == \"__main__\":\n",
    "    maxlen = 40  # Max tokens\n",
    "    batch_size = 16  # Increase to lower calculation time\n",
    "\n",
    "    # Prepare the data\n",
    "    train_dataloader = create_data_loader(train_df, tokenizer, maxlen, batch_size)\n",
    "    test_dataloader = create_data_loader(test_df, tokenizer, maxlen, batch_size)\n",
    "    # Example usage of DataLoader (test de l'utilisation de la classe tweet_dataset\n",
    "    # for batch in train_dataloader:\n",
    "    #     print(batch)\n",
    "    #     break  # Remove this line to process the full dataset"
   ]
  },
  {
   "cell_type": "code",
   "execution_count": null,
   "id": "73946f63-f247-4dad-aab2-a13556d1a842",
   "metadata": {
    "colab": {
     "base_uri": "https://localhost:8080/"
    },
    "executionInfo": {
     "elapsed": 293,
     "status": "ok",
     "timestamp": 1727941060216,
     "user": {
      "displayName": "Mayer Cécile",
      "userId": "03016020088537475993"
     },
     "user_tz": -120
    },
    "id": "c75fd7e5-e0d0-4df9-98cb-fb293d9e48d4",
    "outputId": "f90289a1-48de-403a-fff6-4595f0404cbb"
   },
   "outputs": [],
   "source": [
    "from torch.optim import AdamW\n",
    "# Optimizer and learning rate (adjustable)\n",
    "optimizer = AdamW(model.parameters(), lr=0.0001)"
   ]
  },
  {
   "cell_type": "code",
   "execution_count": null,
   "id": "de491fb7-41eb-4050-a1db-59b19a2928b4",
   "metadata": {
    "executionInfo": {
     "elapsed": 257,
     "status": "ok",
     "timestamp": 1727941232104,
     "user": {
      "displayName": "Mayer Cécile",
      "userId": "03016020088537475993"
     },
     "user_tz": -120
    },
    "id": "de491fb7-41eb-4050-a1db-59b19a2928b4"
   },
   "outputs": [],
   "source": [
    "# Training function\n",
    "def train_epoch(model, dataloader, optimizer, device):\n",
    "    model = model.train()\n",
    "    total_loss = 0\n",
    "    total_correct = 0\n",
    "    total_samples = 0\n",
    "\n",
    "    for batch in dataloader:\n",
    "        optimizer.zero_grad()\n",
    "\n",
    "        input_ids = batch['input_ids'].to(device)\n",
    "        attention_mask = batch['attention_mask'].to(device)\n",
    "        targets = batch['targets'].to(device)\n",
    "\n",
    "        outputs = model(\n",
    "            input_ids=input_ids,\n",
    "            attention_mask=attention_mask,\n",
    "            labels=targets\n",
    "        )\n",
    "\n",
    "        loss = outputs.loss\n",
    "        logits = outputs.logits\n",
    "\n",
    "        total_loss += loss.item()\n",
    "        _, preds = torch.max(logits, dim=1)\n",
    "        total_correct += torch.sum(preds == targets)\n",
    "        total_samples += targets.size(0)\n",
    "\n",
    "        loss.backward()\n",
    "        optimizer.step()\n",
    "\n",
    "    return total_correct.double() / total_samples, total_loss / total_samples\n",
    "\n",
    "# Evaluation function\n",
    "def eval_model(model, dataloader, device):\n",
    "    model = model.eval()\n",
    "    total_correct = 0\n",
    "    total_samples = 0\n",
    "    predictions = []\n",
    "    true_labels = []\n",
    "\n",
    "    with torch.no_grad():\n",
    "        for batch in dataloader:\n",
    "            input_ids = batch['input_ids'].to(device)\n",
    "            attention_mask = batch['attention_mask'].to(device)\n",
    "            targets = batch['targets'].to(device)\n",
    "\n",
    "            outputs = model(\n",
    "                input_ids=input_ids,\n",
    "                attention_mask=attention_mask\n",
    "            )\n",
    "\n",
    "            logits = outputs.logits\n",
    "            _, preds = torch.max(logits, dim=1)\n",
    "\n",
    "            total_correct += torch.sum(preds == targets)\n",
    "            total_samples += targets.size(0)\n",
    "            predictions.extend(preds.cpu().numpy())\n",
    "            true_labels.extend(targets.cpu().numpy())\n",
    "\n",
    "    accuracy = total_correct.double() / total_samples\n",
    "    return accuracy, predictions, true_labels"
   ]
  },
  {
   "cell_type": "code",
   "execution_count": null,
   "id": "c0ff838d-90d0-4053-a489-42499b039641",
   "metadata": {
    "colab": {
     "base_uri": "https://localhost:8080/"
    },
    "executionInfo": {
     "elapsed": 263605,
     "status": "ok",
     "timestamp": 1727940801597,
     "user": {
      "displayName": "Mayer Cécile",
      "userId": "03016020088537475993"
     },
     "user_tz": -120
    },
    "id": "c0ff838d-90d0-4053-a489-42499b039641",
    "outputId": "e82597bd-fabd-4232-e190-9358fe7ab837"
   },
   "outputs": [],
   "source": [
    "epochs = 20  # Adjust as necessary\n",
    "\n",
    "for epoch in range(epochs):\n",
    "    train_acc, train_loss = train_epoch(model, train_dataloader, optimizer, device)\n",
    "    print(f'Epoch {epoch + 1}/{epochs} | Train Loss: {train_loss:.4f} | Train Accuracy: {train_acc:.4f}')"
   ]
  },
  {
   "cell_type": "code",
   "execution_count": null,
   "id": "601fdbcf-aec8-4259-b372-9f852d402ac4",
   "metadata": {},
   "outputs": [],
   "source": [
    "# import torch\n",
    "# import numpy as np\n",
    "# from sklearn.metrics import recall_score\n",
    "# import matplotlib.pyplot as plt\n",
    "\n",
    "# # Function to calculate recall (as a callback metric)\n",
    "# def calculate_recall(y_true, y_pred):\n",
    "#     y_pred = torch.argmax(y_pred, dim=1).cpu().numpy()\n",
    "#     y_true = y_true.cpu().numpy()\n",
    "#     return recall_score(y_true, y_pred, average='macro')"
   ]
  },
  {
   "cell_type": "code",
   "execution_count": null,
   "id": "24ea7e29-35df-4fcb-a73e-18aecf10b549",
   "metadata": {},
   "outputs": [],
   "source": [
    "# # Train and evaluation function\n",
    "# def train_epoch(model, dataloader, optimizer, device):\n",
    "#     model.train()\n",
    "#     losses = []\n",
    "#     correct_predictions = 0\n",
    "#     total_predictions = 0\n",
    "\n",
    "#     for batch in dataloader:\n",
    "#         optimizer.zero_grad()\n",
    "#         inputs = batch['input_ids'].to(device)\n",
    "#         masks = batch['attention_mask'].to(device)\n",
    "#         targets = batch['targets'].to(device)\n",
    "\n",
    "#         outputs = model(input_ids=inputs, attention_mask=masks).logits\n",
    "#         loss = torch.nn.CrossEntropyLoss()(outputs, targets)\n",
    "        \n",
    "#         _, preds = torch.max(outputs, dim=1)\n",
    "#         correct_predictions += torch.sum(preds == targets)\n",
    "#         total_predictions += targets.size(0)\n",
    "\n",
    "#         loss.backward()\n",
    "#         optimizer.step()\n",
    "\n",
    "#         losses.append(loss.item())\n",
    "\n",
    "#     return correct_predictions.double() / total_predictions, np.mean(losses)\n",
    "\n",
    "# def eval_model(model, dataloader, device):\n",
    "#     model.eval()\n",
    "#     losses = []\n",
    "#     correct_predictions = 0\n",
    "#     total_predictions = 0\n",
    "#     recalls = []\n",
    "\n",
    "#     with torch.no_grad():\n",
    "#         for batch in dataloader:\n",
    "#             inputs = batch['input_ids'].to(device)\n",
    "#             masks = batch['attention_mask'].to(device)\n",
    "#             targets = batch['targets'].to(device)\n",
    "\n",
    "#             outputs = model(input_ids=inputs, attention_mask=masks).logits\n",
    "#             loss = torch.nn.CrossEntropyLoss()(outputs, targets)\n",
    "\n",
    "#             _, preds = torch.max(outputs, dim=1)\n",
    "#             correct_predictions += torch.sum(preds == targets)\n",
    "#             total_predictions += targets.size(0)\n",
    "            \n",
    "#             # Recall calculation\n",
    "#             recalls.append(calculate_recall(targets, outputs))\n",
    "\n",
    "#             losses.append(loss.item())\n",
    "\n",
    "#     return correct_predictions.double() / total_predictions, np.mean(losses), np.mean(recalls)"
   ]
  },
  {
   "cell_type": "code",
   "execution_count": null,
   "id": "ed865123-04cc-4084-981e-2600dc3aba1a",
   "metadata": {},
   "outputs": [],
   "source": [
    "# # Training loop with callbacks, early stopping and history tracking\n",
    "# def train_model(model, train_dataloader, test_dataloader, optimizer, epochs, device, patience=3):\n",
    "#     history = {\n",
    "#         'train_loss': [],\n",
    "#         'test_loss': [],\n",
    "#         'train_recall': [],\n",
    "#         'test_recall': []\n",
    "#     }\n",
    "\n",
    "#     best_recall = 0\n",
    "#     early_stopping_counter = 0\n",
    "\n",
    "#     for epoch in range(epochs):\n",
    "#         # Training\n",
    "#         train_acc, train_loss = train_epoch(model, train_dataloader, optimizer, device)\n",
    "#         # Evaluation\n",
    "#         test_acc, test_loss, test_recall = eval_model(model, test_dataloader, device)\n",
    "        \n",
    "#         # Save metrics to history\n",
    "#         history['train_loss'].append(train_loss)\n",
    "#         history['test_loss'].append(test_loss)\n",
    "#         history['train_recall'].append(train_acc)\n",
    "#         history['test_recall'].append(test_recall)\n",
    "\n",
    "#         # Print progress\n",
    "#         print(f'Epoch {epoch + 1}/{epochs} | Train Loss: {train_loss:.4f} | Test Loss: {test_loss:.4f} | Test Recall: {test_recall:.4f}')\n",
    "\n",
    "#         # Early stopping based on loss improvement\n",
    "#         if test_recall > best_recall:\n",
    "#             best_recall = test_recall\n",
    "#             early_stopping_counter = 0\n",
    "#             # Optionally save the best model here\n",
    "#             torch.save(model.state_dict(), 'best_model.pth')\n",
    "#         else:\n",
    "#             early_stopping_counter += 1\n",
    "\n",
    "#         if early_stopping_counter >= patience:\n",
    "#             print(f\"Early stopping after {epoch + 1} epochs\")\n",
    "#             break\n",
    "\n",
    "#     # Save history to a file\n",
    "#     with open('history.npy', 'wb') as f:\n",
    "#         np.save(f, history)\n",
    "\n",
    "#     # Plot loss and recall\n",
    "#     plot_history(history)"
   ]
  },
  {
   "cell_type": "code",
   "execution_count": null,
   "id": "32cad370-e422-45ce-82ab-ccf20b8bc68b",
   "metadata": {},
   "outputs": [],
   "source": [
    "# def plot_history(history):\n",
    "#     epochs = len(history['train_loss'])\n",
    "#     plt.figure(figsize=(14, 5))\n",
    "\n",
    "#     # Plot loss\n",
    "#     plt.subplot(1, 2, 1)\n",
    "#     plt.plot(range(epochs), history['train_loss'], label='Train Loss')\n",
    "#     plt.plot(range(epochs), history['test_loss'], label='Test Loss')\n",
    "#     plt.legend()\n",
    "#     plt.title('Loss Evolution')\n",
    "    \n",
    "#     # Plot recall\n",
    "#     plt.subplot(1, 2, 2)\n",
    "#     plt.plot(range(epochs), history['train_recall'], label='Train Recall')\n",
    "#     plt.plot(range(epochs), history['test_recall'], label='Test Recall')\n",
    "#     plt.legend()\n",
    "#     plt.title('Recall Evolution')\n",
    "\n",
    "#     plt.show()"
   ]
  },
  {
   "cell_type": "code",
   "execution_count": null,
   "id": "5cf880ab-6fd8-4d93-9b4e-c073d52c6e1e",
   "metadata": {},
   "outputs": [],
   "source": [
    "# train_model(model, train_dataloader, test_dataloader, optimizer, epochs=5, device=device)"
   ]
  },
  {
   "cell_type": "code",
   "execution_count": null,
   "id": "ce9bd771-bff8-46b0-aa6b-90d399c37f37",
   "metadata": {
    "colab": {
     "base_uri": "https://localhost:8080/"
    },
    "executionInfo": {
     "elapsed": 10462,
     "status": "ok",
     "timestamp": 1727940827256,
     "user": {
      "displayName": "Mayer Cécile",
      "userId": "03016020088537475993"
     },
     "user_tz": -120
    },
    "id": "ce9bd771-bff8-46b0-aa6b-90d399c37f37",
    "outputId": "207cd658-6221-4c01-c7de-745c827809ae"
   },
   "outputs": [],
   "source": [
    "# Evaluate the model on the test set\n",
    "test_acc, test_preds, test_true = eval_model(model, test_dataloader, device)\n",
    "print(f'Test Accuracy: {test_acc:.4f}')\n",
    "\n",
    "# Classification report\n",
    "print(\"\\nClassification Report on Test Data:\")\n",
    "print(classification_report(test_true, test_preds, target_names=[\"positive\", \"negative\"]))"
   ]
  },
  {
   "cell_type": "code",
   "execution_count": null,
   "id": "50987908-831d-4c36-853c-24265d579e86",
   "metadata": {
    "colab": {
     "base_uri": "https://localhost:8080/"
    },
    "executionInfo": {
     "elapsed": 2207,
     "status": "ok",
     "timestamp": 1727940858009,
     "user": {
      "displayName": "Mayer Cécile",
      "userId": "03016020088537475993"
     },
     "user_tz": -120
    },
    "id": "50987908-831d-4c36-853c-24265d579e86",
    "outputId": "66ace61f-12b0-4b78-da06-df8cc14b8d82"
   },
   "outputs": [],
   "source": [
    "from datetime import datetime\n",
    "\n",
    "# Get current date and time\n",
    "now = datetime.now()\n",
    "dt_string = now.strftime(\"%m_%d_%Y_%H_%M\")\n",
    "\n",
    "# Save the model\n",
    "model_save_path = f'./models/roberta_fine_tuned_{dt_string}'\n",
    "model.save_pretrained(model_save_path)\n",
    "tokenizer.save_pretrained(model_save_path)\n",
    "\n",
    "print(f\"Model saved to {model_save_path}\")"
   ]
  }
 ],
 "metadata": {
  "accelerator": "GPU",
  "colab": {
   "gpuType": "T4",
   "provenance": [
    {
     "file_id": "1DddhZbYzSVf3snWVyVayyvdyLThtmhYo",
     "timestamp": 1727941407198
    }
   ]
  },
  "kernelspec": {
   "display_name": "AIEP7",
   "language": "python",
   "name": "aiep7"
  },
  "language_info": {
   "codemirror_mode": {
    "name": "ipython",
    "version": 3
   },
   "file_extension": ".py",
   "mimetype": "text/x-python",
   "name": "python",
   "nbconvert_exporter": "python",
   "pygments_lexer": "ipython3",
   "version": "3.12.5"
  }
 },
 "nbformat": 4,
 "nbformat_minor": 5
}
