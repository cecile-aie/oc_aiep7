{
 "cells": [
  {
   "cell_type": "markdown",
   "id": "8c48b4e0-4ec8-439c-b899-590b8e9a1612",
   "metadata": {
    "id": "8c48b4e0-4ec8-439c-b899-590b8e9a1612"
   },
   "source": [
    "# Word2Vec"
   ]
  },
  {
   "cell_type": "code",
   "execution_count": 1,
   "id": "nUqPSWrcNAua",
   "metadata": {
    "colab": {
     "base_uri": "https://localhost:8080/"
    },
    "executionInfo": {
     "elapsed": 21120,
     "status": "ok",
     "timestamp": 1727940032741,
     "user": {
      "displayName": "Mayer Cécile",
      "userId": "03016020088537475993"
     },
     "user_tz": -120
    },
    "id": "nUqPSWrcNAua",
    "outputId": "6a3a53e8-f06e-4837-fb57-3d561f513099"
   },
   "outputs": [],
   "source": [
    "# # utilisation dans Google collab\n",
    "# print('Mounting your Google Drive...')\n",
    "# from google.colab import drive\n",
    "# drive.mount('/content/drive')\n",
    "# print('Opening the file...')\n",
    "# %cd /content/drive/My Drive/P7\n",
    "# !ls"
   ]
  },
  {
   "cell_type": "code",
   "execution_count": 2,
   "id": "5c853195-086e-48ae-866a-c24786cf3062",
   "metadata": {
    "executionInfo": {
     "elapsed": 4653,
     "status": "ok",
     "timestamp": 1727940043161,
     "user": {
      "displayName": "Mayer Cécile",
      "userId": "03016020088537475993"
     },
     "user_tz": -120
    },
    "id": "5c853195-086e-48ae-866a-c24786cf3062"
   },
   "outputs": [],
   "source": [
    "import tensorflow as tf\n",
    "import tensorflow.keras\n",
    "from tensorflow.keras import backend as K\n",
    "\n",
    "from tensorflow.keras.preprocessing.text import Tokenizer\n",
    "from tensorflow.keras.preprocessing.sequence import pad_sequences\n",
    "from tensorflow.keras import metrics as kmetrics\n",
    "from tensorflow.keras.layers import *\n",
    "from tensorflow.keras.models import Model\n",
    "import gensim"
   ]
  },
  {
   "cell_type": "code",
   "execution_count": 3,
   "id": "c0eff01d-49ef-4b5f-af09-89131d03ab4e",
   "metadata": {
    "executionInfo": {
     "elapsed": 249,
     "status": "ok",
     "timestamp": 1727939493961,
     "user": {
      "displayName": "Mayer Cécile",
      "userId": "03016020088537475993"
     },
     "user_tz": -120
    },
    "id": "c0eff01d-49ef-4b5f-af09-89131d03ab4e"
   },
   "outputs": [],
   "source": [
    "import multiprocessing\n",
    "# Paramètres du modèle Word2Vec\n",
    "w2v_size = 300        # Taille des vecteurs\n",
    "w2v_window = 5        # Taille de la fenêtre contextuelle\n",
    "w2v_min_count = 1     # Nombre minimum d'occurrences d'un mot pour être pris en compte\n",
    "w2v_epochs = 100      # Nombre d'itérations (époques)\n",
    "workers = multiprocessing.cpu_count()  # Utilisation de tous les cœurs disponibles"
   ]
  },
  {
   "cell_type": "markdown",
   "id": "abc1d172-1fbf-4948-9be9-1a7dc3a329aa",
   "metadata": {
    "id": "abc1d172-1fbf-4948-9be9-1a7dc3a329aa"
   },
   "source": [
    "### Données"
   ]
  },
  {
   "cell_type": "code",
   "execution_count": 4,
   "id": "282efece-f6ea-4be2-aa89-8a64a37ceef6",
   "metadata": {
    "executionInfo": {
     "elapsed": 1256,
     "status": "ok",
     "timestamp": 1727940116308,
     "user": {
      "displayName": "Mayer Cécile",
      "userId": "03016020088537475993"
     },
     "user_tz": -120
    },
    "id": "282efece-f6ea-4be2-aa89-8a64a37ceef6"
   },
   "outputs": [],
   "source": [
    "import pandas as pd\n",
    "\n",
    "train_df = pd.read_csv(\"./data/train_df.csv\")\n",
    "train_df = train_df.iloc[:, 1:]\n",
    "test_df = pd.read_csv(\"./data/test_df.csv\")\n",
    "test_df = test_df.iloc[:, 1:]"
   ]
  },
  {
   "cell_type": "markdown",
   "id": "d631e1c2-e820-4133-9c1b-7af79604483b",
   "metadata": {
    "id": "d631e1c2-e820-4133-9c1b-7af79604483b"
   },
   "source": [
    "### Préparation des sentences"
   ]
  },
  {
   "cell_type": "code",
   "execution_count": 5,
   "id": "1e8cafb4-07b4-4f43-9e89-591d0f766bab",
   "metadata": {
    "executionInfo": {
     "elapsed": 275,
     "status": "ok",
     "timestamp": 1727939537153,
     "user": {
      "displayName": "Mayer Cécile",
      "userId": "03016020088537475993"
     },
     "user_tz": -120
    },
    "id": "1e8cafb4-07b4-4f43-9e89-591d0f766bab"
   },
   "outputs": [],
   "source": [
    "# Préparation des sentences à partir de la colonne 'preprocessed_text'\n",
    "# Tokenisation de chaque phrase en séparant les mots sur les espaces\n",
    "train_sentences = [sentence.split() for sentence in train_df['preprocessed_text'].astype(str)]\n",
    "test_sentences = [sentence.split() for sentence in test_df['preprocessed_text'].astype(str)]"
   ]
  },
  {
   "cell_type": "markdown",
   "id": "9408ba1b-b6a7-4efe-a6d3-1fbf87acbfbc",
   "metadata": {
    "id": "9408ba1b-b6a7-4efe-a6d3-1fbf87acbfbc"
   },
   "source": [
    "### Modèle Word2Vec"
   ]
  },
  {
   "cell_type": "code",
   "execution_count": 6,
   "id": "ec894154-5340-4778-b302-2a674bcc4d77",
   "metadata": {
    "executionInfo": {
     "elapsed": 1502,
     "status": "ok",
     "timestamp": 1727939544455,
     "user": {
      "displayName": "Mayer Cécile",
      "userId": "03016020088537475993"
     },
     "user_tz": -120
    },
    "id": "ec894154-5340-4778-b302-2a674bcc4d77"
   },
   "outputs": [],
   "source": [
    "from gensim.models import Word2Vec\n",
    "# Instanciation du modèle Word2Vec\n",
    "w2v_model = Word2Vec(\n",
    "    sentences=train_sentences,   # Les phrases tokenisées d'entraînement\n",
    "    vector_size=w2v_size,        # Taille des vecteurs\n",
    "    window=w2v_window,           # Taille de la fenêtre contextuelle\n",
    "    min_count=w2v_min_count,     # Seuil d'apparition minimum d'un mot\n",
    "    workers=workers,             # Nombre de threads (CPU cores) à utiliser\n",
    "    sg=1                         # Utilisation de Skip-gram (si sg=0, on utilise CBOW)\n",
    ")"
   ]
  },
  {
   "cell_type": "code",
   "execution_count": 7,
   "id": "6f37f133-9377-45fc-8dc8-7f2632c24b5a",
   "metadata": {
    "colab": {
     "base_uri": "https://localhost:8080/"
    },
    "executionInfo": {
     "elapsed": 29157,
     "status": "ok",
     "timestamp": 1727939578276,
     "user": {
      "displayName": "Mayer Cécile",
      "userId": "03016020088537475993"
     },
     "user_tz": -120
    },
    "id": "6f37f133-9377-45fc-8dc8-7f2632c24b5a",
    "outputId": "f5324401-2b9b-4af2-daef-5766c36ae340"
   },
   "outputs": [
    {
     "data": {
      "text/plain": [
       "(2804158, 3447500)"
      ]
     },
     "execution_count": 7,
     "metadata": {},
     "output_type": "execute_result"
    }
   ],
   "source": [
    "# Entraînement du modèle\n",
    "w2v_model.train(train_sentences, total_examples=len(train_sentences), epochs=w2v_epochs)\n"
   ]
  },
  {
   "cell_type": "code",
   "execution_count": 8,
   "id": "7f5f7d4f-4cc1-470f-9a3d-51d1e2ee6a7d",
   "metadata": {
    "id": "7f5f7d4f-4cc1-470f-9a3d-51d1e2ee6a7d"
   },
   "outputs": [],
   "source": [
    "# Sauvegarde du modèle après entraînement\n",
    "w2v_model.save(\"./models/word2vec_model.model\")"
   ]
  },
  {
   "cell_type": "markdown",
   "id": "3ae58daf-7741-4ff7-b8ad-40f224f3ed45",
   "metadata": {
    "id": "3ae58daf-7741-4ff7-b8ad-40f224f3ed45"
   },
   "source": [
    "### Matrice d'embeddings"
   ]
  },
  {
   "cell_type": "code",
   "execution_count": 9,
   "id": "ebd8accf-bb42-46d0-a9c1-b3aca942e1a0",
   "metadata": {
    "colab": {
     "base_uri": "https://localhost:8080/"
    },
    "executionInfo": {
     "elapsed": 234,
     "status": "ok",
     "timestamp": 1727939636265,
     "user": {
      "displayName": "Mayer Cécile",
      "userId": "03016020088537475993"
     },
     "user_tz": -120
    },
    "id": "ebd8accf-bb42-46d0-a9c1-b3aca942e1a0",
    "outputId": "89172935-e372-4f6d-9cb6-c253d64290f0"
   },
   "outputs": [
    {
     "name": "stdout",
     "output_type": "stream",
     "text": [
      "Matrice d'embedding de taille : (6006, 300)\n"
     ]
    }
   ],
   "source": [
    "# Taille du vocabulaire (le nombre de mots uniques)\n",
    "vocab_size = len(w2v_model.wv.index_to_key)\n",
    "\n",
    "# Extraction de la matrice d'embedding\n",
    "embedding_matrix = []\n",
    "for word in w2v_model.wv.index_to_key:\n",
    "    embedding_matrix.append(w2v_model.wv[word])\n",
    "\n",
    "# Conversion en numpy array\n",
    "import numpy as np\n",
    "embedding_matrix = np.array(embedding_matrix)\n",
    "\n",
    "# Dimensions de la matrice d'embedding : vocab_size x w2v_size\n",
    "print(\"Matrice d'embedding de taille :\", embedding_matrix.shape)"
   ]
  },
  {
   "cell_type": "markdown",
   "id": "bb54977f-1009-417c-aab3-c79ecdb857e3",
   "metadata": {
    "id": "bb54977f-1009-417c-aab3-c79ecdb857e3"
   },
   "source": [
    "### Modèle d'embedding Keras"
   ]
  },
  {
   "cell_type": "markdown",
   "id": "b8b81d3c-da72-4589-88ae-c12a61ebbf1b",
   "metadata": {
    "id": "b8b81d3c-da72-4589-88ae-c12a61ebbf1b"
   },
   "source": [
    "Les essais avec un modèle simple (LSTM et dense) ont montré un sur-apprentissage important. Il faut l'optimiser avec dropout, regularisation."
   ]
  },
  {
   "cell_type": "code",
   "execution_count": 10,
   "id": "5273ef87-c19e-4ec6-a56c-d77f2205c38b",
   "metadata": {
    "executionInfo": {
     "elapsed": 251,
     "status": "ok",
     "timestamp": 1727939644405,
     "user": {
      "displayName": "Mayer Cécile",
      "userId": "03016020088537475993"
     },
     "user_tz": -120
    },
    "id": "5273ef87-c19e-4ec6-a56c-d77f2205c38b"
   },
   "outputs": [],
   "source": [
    "from tensorflow.keras.models import Sequential\n",
    "from tensorflow.keras.layers import Embedding, LSTM, Dense\n",
    "\n",
    "# Paramètres\n",
    "maxlen = 40  # Longueur maximale des séquences de mots\n",
    "vocab_size = len(w2v_model.wv.index_to_key)  # Taille du vocabulaire"
   ]
  },
  {
   "cell_type": "code",
   "execution_count": 11,
   "id": "4d9f9757-8652-4db4-b7fa-46712a86456a",
   "metadata": {
    "colab": {
     "base_uri": "https://localhost:8080/",
     "height": 232
    },
    "executionInfo": {
     "elapsed": 265,
     "status": "ok",
     "timestamp": 1727939647618,
     "user": {
      "displayName": "Mayer Cécile",
      "userId": "03016020088537475993"
     },
     "user_tz": -120
    },
    "id": "4d9f9757-8652-4db4-b7fa-46712a86456a",
    "outputId": "a8758927-7c03-4afa-ae91-fe217028f7e2"
   },
   "outputs": [
    {
     "data": {
      "text/html": [
       "<pre style=\"white-space:pre;overflow-x:auto;line-height:normal;font-family:Menlo,'DejaVu Sans Mono',consolas,'Courier New',monospace\"><span style=\"font-weight: bold\">Model: \"sequential\"</span>\n",
       "</pre>\n"
      ],
      "text/plain": [
       "\u001b[1mModel: \"sequential\"\u001b[0m\n"
      ]
     },
     "metadata": {},
     "output_type": "display_data"
    },
    {
     "data": {
      "text/html": [
       "<pre style=\"white-space:pre;overflow-x:auto;line-height:normal;font-family:Menlo,'DejaVu Sans Mono',consolas,'Courier New',monospace\">┏━━━━━━━━━━━━━━━━━━━━━━━━━━━━━━━━━━━━━━┳━━━━━━━━━━━━━━━━━━━━━━━━━━━━━┳━━━━━━━━━━━━━━━━━┓\n",
       "┃<span style=\"font-weight: bold\"> Layer (type)                         </span>┃<span style=\"font-weight: bold\"> Output Shape                </span>┃<span style=\"font-weight: bold\">         Param # </span>┃\n",
       "┡━━━━━━━━━━━━━━━━━━━━━━━━━━━━━━━━━━━━━━╇━━━━━━━━━━━━━━━━━━━━━━━━━━━━━╇━━━━━━━━━━━━━━━━━┩\n",
       "│ embedding (<span style=\"color: #0087ff; text-decoration-color: #0087ff\">Embedding</span>)                │ ?                           │       <span style=\"color: #00af00; text-decoration-color: #00af00\">1,801,800</span> │\n",
       "├──────────────────────────────────────┼─────────────────────────────┼─────────────────┤\n",
       "│ lstm (<span style=\"color: #0087ff; text-decoration-color: #0087ff\">LSTM</span>)                          │ ?                           │     <span style=\"color: #00af00; text-decoration-color: #00af00\">0</span> (unbuilt) │\n",
       "├──────────────────────────────────────┼─────────────────────────────┼─────────────────┤\n",
       "│ dense (<span style=\"color: #0087ff; text-decoration-color: #0087ff\">Dense</span>)                        │ ?                           │     <span style=\"color: #00af00; text-decoration-color: #00af00\">0</span> (unbuilt) │\n",
       "└──────────────────────────────────────┴─────────────────────────────┴─────────────────┘\n",
       "</pre>\n"
      ],
      "text/plain": [
       "┏━━━━━━━━━━━━━━━━━━━━━━━━━━━━━━━━━━━━━━┳━━━━━━━━━━━━━━━━━━━━━━━━━━━━━┳━━━━━━━━━━━━━━━━━┓\n",
       "┃\u001b[1m \u001b[0m\u001b[1mLayer (type)                        \u001b[0m\u001b[1m \u001b[0m┃\u001b[1m \u001b[0m\u001b[1mOutput Shape               \u001b[0m\u001b[1m \u001b[0m┃\u001b[1m \u001b[0m\u001b[1m        Param #\u001b[0m\u001b[1m \u001b[0m┃\n",
       "┡━━━━━━━━━━━━━━━━━━━━━━━━━━━━━━━━━━━━━━╇━━━━━━━━━━━━━━━━━━━━━━━━━━━━━╇━━━━━━━━━━━━━━━━━┩\n",
       "│ embedding (\u001b[38;5;33mEmbedding\u001b[0m)                │ ?                           │       \u001b[38;5;34m1,801,800\u001b[0m │\n",
       "├──────────────────────────────────────┼─────────────────────────────┼─────────────────┤\n",
       "│ lstm (\u001b[38;5;33mLSTM\u001b[0m)                          │ ?                           │     \u001b[38;5;34m0\u001b[0m (unbuilt) │\n",
       "├──────────────────────────────────────┼─────────────────────────────┼─────────────────┤\n",
       "│ dense (\u001b[38;5;33mDense\u001b[0m)                        │ ?                           │     \u001b[38;5;34m0\u001b[0m (unbuilt) │\n",
       "└──────────────────────────────────────┴─────────────────────────────┴─────────────────┘\n"
      ]
     },
     "metadata": {},
     "output_type": "display_data"
    },
    {
     "data": {
      "text/html": [
       "<pre style=\"white-space:pre;overflow-x:auto;line-height:normal;font-family:Menlo,'DejaVu Sans Mono',consolas,'Courier New',monospace\"><span style=\"font-weight: bold\"> Total params: </span><span style=\"color: #00af00; text-decoration-color: #00af00\">1,801,800</span> (6.87 MB)\n",
       "</pre>\n"
      ],
      "text/plain": [
       "\u001b[1m Total params: \u001b[0m\u001b[38;5;34m1,801,800\u001b[0m (6.87 MB)\n"
      ]
     },
     "metadata": {},
     "output_type": "display_data"
    },
    {
     "data": {
      "text/html": [
       "<pre style=\"white-space:pre;overflow-x:auto;line-height:normal;font-family:Menlo,'DejaVu Sans Mono',consolas,'Courier New',monospace\"><span style=\"font-weight: bold\"> Trainable params: </span><span style=\"color: #00af00; text-decoration-color: #00af00\">0</span> (0.00 B)\n",
       "</pre>\n"
      ],
      "text/plain": [
       "\u001b[1m Trainable params: \u001b[0m\u001b[38;5;34m0\u001b[0m (0.00 B)\n"
      ]
     },
     "metadata": {},
     "output_type": "display_data"
    },
    {
     "data": {
      "text/html": [
       "<pre style=\"white-space:pre;overflow-x:auto;line-height:normal;font-family:Menlo,'DejaVu Sans Mono',consolas,'Courier New',monospace\"><span style=\"font-weight: bold\"> Non-trainable params: </span><span style=\"color: #00af00; text-decoration-color: #00af00\">1,801,800</span> (6.87 MB)\n",
       "</pre>\n"
      ],
      "text/plain": [
       "\u001b[1m Non-trainable params: \u001b[0m\u001b[38;5;34m1,801,800\u001b[0m (6.87 MB)\n"
      ]
     },
     "metadata": {},
     "output_type": "display_data"
    }
   ],
   "source": [
    "# Instanciation du modèle séquentiel 1\n",
    "model = Sequential()\n",
    "\n",
    "# Ajout de la couche d'embedding avec la matrice pré-entraînée\n",
    "model.add(Embedding(\n",
    "    input_dim=vocab_size,       # Taille du vocabulaire\n",
    "    output_dim=w2v_size,        # Dimension des vecteurs d'embedding\n",
    "    weights=[embedding_matrix], # Utilisation de la matrice d'embedding pré-entraînée\n",
    "    trainable=False             # Geler les poids de l'embedding\n",
    "))\n",
    "\n",
    "# Ajout d'une couche LSTM pour capturer les relations séquentielles\n",
    "model.add(LSTM(128))\n",
    "\n",
    "# Ajout d'une couche de sortie (par exemple, pour de la classification binaire)\n",
    "model.add(Dense(1, activation='sigmoid'))\n",
    "\n",
    "# Compilation du modèle\n",
    "model.compile(optimizer='adam', loss='binary_crossentropy', metrics=['accuracy'])\n",
    "\n",
    "# Affichage du résumé du modèle\n",
    "model.summary()"
   ]
  },
  {
   "cell_type": "code",
   "execution_count": 12,
   "id": "5735821c-b461-4b42-b7db-f2859444d7bd",
   "metadata": {
    "id": "5735821c-b461-4b42-b7db-f2859444d7bd",
    "outputId": "677c86f8-2b96-4a3a-b9e2-64d1d062966c"
   },
   "outputs": [
    {
     "data": {
      "text/html": [
       "<pre style=\"white-space:pre;overflow-x:auto;line-height:normal;font-family:Menlo,'DejaVu Sans Mono',consolas,'Courier New',monospace\"><span style=\"font-weight: bold\">Model: \"sequential_1\"</span>\n",
       "</pre>\n"
      ],
      "text/plain": [
       "\u001b[1mModel: \"sequential_1\"\u001b[0m\n"
      ]
     },
     "metadata": {},
     "output_type": "display_data"
    },
    {
     "data": {
      "text/html": [
       "<pre style=\"white-space:pre;overflow-x:auto;line-height:normal;font-family:Menlo,'DejaVu Sans Mono',consolas,'Courier New',monospace\">┏━━━━━━━━━━━━━━━━━━━━━━━━━━━━━━━━━━━━━━┳━━━━━━━━━━━━━━━━━━━━━━━━━━━━━┳━━━━━━━━━━━━━━━━━┓\n",
       "┃<span style=\"font-weight: bold\"> Layer (type)                         </span>┃<span style=\"font-weight: bold\"> Output Shape                </span>┃<span style=\"font-weight: bold\">         Param # </span>┃\n",
       "┡━━━━━━━━━━━━━━━━━━━━━━━━━━━━━━━━━━━━━━╇━━━━━━━━━━━━━━━━━━━━━━━━━━━━━╇━━━━━━━━━━━━━━━━━┩\n",
       "│ embedding_1 (<span style=\"color: #0087ff; text-decoration-color: #0087ff\">Embedding</span>)              │ ?                           │       <span style=\"color: #00af00; text-decoration-color: #00af00\">1,801,800</span> │\n",
       "├──────────────────────────────────────┼─────────────────────────────┼─────────────────┤\n",
       "│ lstm_1 (<span style=\"color: #0087ff; text-decoration-color: #0087ff\">LSTM</span>)                        │ ?                           │     <span style=\"color: #00af00; text-decoration-color: #00af00\">0</span> (unbuilt) │\n",
       "├──────────────────────────────────────┼─────────────────────────────┼─────────────────┤\n",
       "│ dense_1 (<span style=\"color: #0087ff; text-decoration-color: #0087ff\">Dense</span>)                      │ ?                           │     <span style=\"color: #00af00; text-decoration-color: #00af00\">0</span> (unbuilt) │\n",
       "└──────────────────────────────────────┴─────────────────────────────┴─────────────────┘\n",
       "</pre>\n"
      ],
      "text/plain": [
       "┏━━━━━━━━━━━━━━━━━━━━━━━━━━━━━━━━━━━━━━┳━━━━━━━━━━━━━━━━━━━━━━━━━━━━━┳━━━━━━━━━━━━━━━━━┓\n",
       "┃\u001b[1m \u001b[0m\u001b[1mLayer (type)                        \u001b[0m\u001b[1m \u001b[0m┃\u001b[1m \u001b[0m\u001b[1mOutput Shape               \u001b[0m\u001b[1m \u001b[0m┃\u001b[1m \u001b[0m\u001b[1m        Param #\u001b[0m\u001b[1m \u001b[0m┃\n",
       "┡━━━━━━━━━━━━━━━━━━━━━━━━━━━━━━━━━━━━━━╇━━━━━━━━━━━━━━━━━━━━━━━━━━━━━╇━━━━━━━━━━━━━━━━━┩\n",
       "│ embedding_1 (\u001b[38;5;33mEmbedding\u001b[0m)              │ ?                           │       \u001b[38;5;34m1,801,800\u001b[0m │\n",
       "├──────────────────────────────────────┼─────────────────────────────┼─────────────────┤\n",
       "│ lstm_1 (\u001b[38;5;33mLSTM\u001b[0m)                        │ ?                           │     \u001b[38;5;34m0\u001b[0m (unbuilt) │\n",
       "├──────────────────────────────────────┼─────────────────────────────┼─────────────────┤\n",
       "│ dense_1 (\u001b[38;5;33mDense\u001b[0m)                      │ ?                           │     \u001b[38;5;34m0\u001b[0m (unbuilt) │\n",
       "└──────────────────────────────────────┴─────────────────────────────┴─────────────────┘\n"
      ]
     },
     "metadata": {},
     "output_type": "display_data"
    },
    {
     "data": {
      "text/html": [
       "<pre style=\"white-space:pre;overflow-x:auto;line-height:normal;font-family:Menlo,'DejaVu Sans Mono',consolas,'Courier New',monospace\"><span style=\"font-weight: bold\"> Total params: </span><span style=\"color: #00af00; text-decoration-color: #00af00\">1,801,800</span> (6.87 MB)\n",
       "</pre>\n"
      ],
      "text/plain": [
       "\u001b[1m Total params: \u001b[0m\u001b[38;5;34m1,801,800\u001b[0m (6.87 MB)\n"
      ]
     },
     "metadata": {},
     "output_type": "display_data"
    },
    {
     "data": {
      "text/html": [
       "<pre style=\"white-space:pre;overflow-x:auto;line-height:normal;font-family:Menlo,'DejaVu Sans Mono',consolas,'Courier New',monospace\"><span style=\"font-weight: bold\"> Trainable params: </span><span style=\"color: #00af00; text-decoration-color: #00af00\">0</span> (0.00 B)\n",
       "</pre>\n"
      ],
      "text/plain": [
       "\u001b[1m Trainable params: \u001b[0m\u001b[38;5;34m0\u001b[0m (0.00 B)\n"
      ]
     },
     "metadata": {},
     "output_type": "display_data"
    },
    {
     "data": {
      "text/html": [
       "<pre style=\"white-space:pre;overflow-x:auto;line-height:normal;font-family:Menlo,'DejaVu Sans Mono',consolas,'Courier New',monospace\"><span style=\"font-weight: bold\"> Non-trainable params: </span><span style=\"color: #00af00; text-decoration-color: #00af00\">1,801,800</span> (6.87 MB)\n",
       "</pre>\n"
      ],
      "text/plain": [
       "\u001b[1m Non-trainable params: \u001b[0m\u001b[38;5;34m1,801,800\u001b[0m (6.87 MB)\n"
      ]
     },
     "metadata": {},
     "output_type": "display_data"
    }
   ],
   "source": [
    "# Instanciation du modèle séquentiel 2\n",
    "from tensorflow.keras.regularizers import l2\n",
    "\n",
    "# Ajout de la régularisation L2 dans la couche LSTM et la couche Dense\n",
    "model = Sequential()\n",
    "model.add(Embedding(input_dim=vocab_size, output_dim=w2v_size, weights=[embedding_matrix],\n",
    "                    trainable=False))\n",
    "model.add(LSTM(128, kernel_regularizer=l2(0.01)))  # Ajout de la régularisation L2\n",
    "model.add(Dense(1, activation='sigmoid', kernel_regularizer=l2(0.01)))  # Ajout L2 dans la couche Dense\n",
    "\n",
    "# Compilation du modèle\n",
    "model.compile(optimizer='adam', loss='binary_crossentropy', metrics=['accuracy'])\n",
    "\n",
    "\n",
    "# Affichage du résumé du modèle\n",
    "model.summary()"
   ]
  },
  {
   "cell_type": "code",
   "execution_count": 13,
   "id": "7f976e24-a707-44cc-8940-b5370811e2da",
   "metadata": {
    "id": "7f976e24-a707-44cc-8940-b5370811e2da",
    "outputId": "8c52f96d-2264-4ba6-ebe1-98af7bb8ea3e"
   },
   "outputs": [
    {
     "data": {
      "text/html": [
       "<pre style=\"white-space:pre;overflow-x:auto;line-height:normal;font-family:Menlo,'DejaVu Sans Mono',consolas,'Courier New',monospace\"><span style=\"font-weight: bold\">Model: \"sequential_2\"</span>\n",
       "</pre>\n"
      ],
      "text/plain": [
       "\u001b[1mModel: \"sequential_2\"\u001b[0m\n"
      ]
     },
     "metadata": {},
     "output_type": "display_data"
    },
    {
     "data": {
      "text/html": [
       "<pre style=\"white-space:pre;overflow-x:auto;line-height:normal;font-family:Menlo,'DejaVu Sans Mono',consolas,'Courier New',monospace\">┏━━━━━━━━━━━━━━━━━━━━━━━━━━━━━━━━━━━━━━┳━━━━━━━━━━━━━━━━━━━━━━━━━━━━━┳━━━━━━━━━━━━━━━━━┓\n",
       "┃<span style=\"font-weight: bold\"> Layer (type)                         </span>┃<span style=\"font-weight: bold\"> Output Shape                </span>┃<span style=\"font-weight: bold\">         Param # </span>┃\n",
       "┡━━━━━━━━━━━━━━━━━━━━━━━━━━━━━━━━━━━━━━╇━━━━━━━━━━━━━━━━━━━━━━━━━━━━━╇━━━━━━━━━━━━━━━━━┩\n",
       "│ embedding_2 (<span style=\"color: #0087ff; text-decoration-color: #0087ff\">Embedding</span>)              │ ?                           │       <span style=\"color: #00af00; text-decoration-color: #00af00\">1,801,800</span> │\n",
       "├──────────────────────────────────────┼─────────────────────────────┼─────────────────┤\n",
       "│ lstm_2 (<span style=\"color: #0087ff; text-decoration-color: #0087ff\">LSTM</span>)                        │ ?                           │     <span style=\"color: #00af00; text-decoration-color: #00af00\">0</span> (unbuilt) │\n",
       "├──────────────────────────────────────┼─────────────────────────────┼─────────────────┤\n",
       "│ dropout (<span style=\"color: #0087ff; text-decoration-color: #0087ff\">Dropout</span>)                    │ ?                           │     <span style=\"color: #00af00; text-decoration-color: #00af00\">0</span> (unbuilt) │\n",
       "├──────────────────────────────────────┼─────────────────────────────┼─────────────────┤\n",
       "│ dense_2 (<span style=\"color: #0087ff; text-decoration-color: #0087ff\">Dense</span>)                      │ ?                           │     <span style=\"color: #00af00; text-decoration-color: #00af00\">0</span> (unbuilt) │\n",
       "└──────────────────────────────────────┴─────────────────────────────┴─────────────────┘\n",
       "</pre>\n"
      ],
      "text/plain": [
       "┏━━━━━━━━━━━━━━━━━━━━━━━━━━━━━━━━━━━━━━┳━━━━━━━━━━━━━━━━━━━━━━━━━━━━━┳━━━━━━━━━━━━━━━━━┓\n",
       "┃\u001b[1m \u001b[0m\u001b[1mLayer (type)                        \u001b[0m\u001b[1m \u001b[0m┃\u001b[1m \u001b[0m\u001b[1mOutput Shape               \u001b[0m\u001b[1m \u001b[0m┃\u001b[1m \u001b[0m\u001b[1m        Param #\u001b[0m\u001b[1m \u001b[0m┃\n",
       "┡━━━━━━━━━━━━━━━━━━━━━━━━━━━━━━━━━━━━━━╇━━━━━━━━━━━━━━━━━━━━━━━━━━━━━╇━━━━━━━━━━━━━━━━━┩\n",
       "│ embedding_2 (\u001b[38;5;33mEmbedding\u001b[0m)              │ ?                           │       \u001b[38;5;34m1,801,800\u001b[0m │\n",
       "├──────────────────────────────────────┼─────────────────────────────┼─────────────────┤\n",
       "│ lstm_2 (\u001b[38;5;33mLSTM\u001b[0m)                        │ ?                           │     \u001b[38;5;34m0\u001b[0m (unbuilt) │\n",
       "├──────────────────────────────────────┼─────────────────────────────┼─────────────────┤\n",
       "│ dropout (\u001b[38;5;33mDropout\u001b[0m)                    │ ?                           │     \u001b[38;5;34m0\u001b[0m (unbuilt) │\n",
       "├──────────────────────────────────────┼─────────────────────────────┼─────────────────┤\n",
       "│ dense_2 (\u001b[38;5;33mDense\u001b[0m)                      │ ?                           │     \u001b[38;5;34m0\u001b[0m (unbuilt) │\n",
       "└──────────────────────────────────────┴─────────────────────────────┴─────────────────┘\n"
      ]
     },
     "metadata": {},
     "output_type": "display_data"
    },
    {
     "data": {
      "text/html": [
       "<pre style=\"white-space:pre;overflow-x:auto;line-height:normal;font-family:Menlo,'DejaVu Sans Mono',consolas,'Courier New',monospace\"><span style=\"font-weight: bold\"> Total params: </span><span style=\"color: #00af00; text-decoration-color: #00af00\">1,801,800</span> (6.87 MB)\n",
       "</pre>\n"
      ],
      "text/plain": [
       "\u001b[1m Total params: \u001b[0m\u001b[38;5;34m1,801,800\u001b[0m (6.87 MB)\n"
      ]
     },
     "metadata": {},
     "output_type": "display_data"
    },
    {
     "data": {
      "text/html": [
       "<pre style=\"white-space:pre;overflow-x:auto;line-height:normal;font-family:Menlo,'DejaVu Sans Mono',consolas,'Courier New',monospace\"><span style=\"font-weight: bold\"> Trainable params: </span><span style=\"color: #00af00; text-decoration-color: #00af00\">0</span> (0.00 B)\n",
       "</pre>\n"
      ],
      "text/plain": [
       "\u001b[1m Trainable params: \u001b[0m\u001b[38;5;34m0\u001b[0m (0.00 B)\n"
      ]
     },
     "metadata": {},
     "output_type": "display_data"
    },
    {
     "data": {
      "text/html": [
       "<pre style=\"white-space:pre;overflow-x:auto;line-height:normal;font-family:Menlo,'DejaVu Sans Mono',consolas,'Courier New',monospace\"><span style=\"font-weight: bold\"> Non-trainable params: </span><span style=\"color: #00af00; text-decoration-color: #00af00\">1,801,800</span> (6.87 MB)\n",
       "</pre>\n"
      ],
      "text/plain": [
       "\u001b[1m Non-trainable params: \u001b[0m\u001b[38;5;34m1,801,800\u001b[0m (6.87 MB)\n"
      ]
     },
     "metadata": {},
     "output_type": "display_data"
    }
   ],
   "source": [
    "# Modèle 3 avec dropout\n",
    "\n",
    "from tensorflow.keras.layers import Dropout\n",
    "\n",
    "# Ajout de Dropout après la couche LSTM pour prévenir l'overfitting\n",
    "model = Sequential()\n",
    "model.add(Embedding(input_dim=vocab_size, output_dim=w2v_size, weights=[embedding_matrix],\n",
    "                    trainable=False))\n",
    "model.add(LSTM(128))\n",
    "model.add(Dropout(0.5))  # Dropout de 50% des neurones\n",
    "model.add(Dense(1, activation='sigmoid'))\n",
    "\n",
    "# Compilation du modèle\n",
    "model.compile(optimizer='adam', loss='binary_crossentropy', metrics=['accuracy'])\n",
    "\n",
    "# Affichage du résumé du modèle\n",
    "model.summary()"
   ]
  },
  {
   "cell_type": "code",
   "execution_count": 14,
   "id": "d15f5725-a560-4113-8f96-9537fffd2f26",
   "metadata": {
    "id": "d15f5725-a560-4113-8f96-9537fffd2f26",
    "outputId": "63378807-0878-41ad-c409-f0de0ceb09f9"
   },
   "outputs": [
    {
     "name": "stderr",
     "output_type": "stream",
     "text": [
      "C:\\ProgramData\\anaconda3\\envs\\AIEP7\\Lib\\site-packages\\keras\\src\\layers\\core\\embedding.py:90: UserWarning: Argument `input_length` is deprecated. Just remove it.\n",
      "  warnings.warn(\n"
     ]
    }
   ],
   "source": [
    "# diminuer la complexité LSTM ou utiliser GRU\n",
    "# Réduction du nombre d'unités dans la couche LSTM\n",
    "model = Sequential()\n",
    "model.add(Embedding(input_dim=vocab_size, output_dim=w2v_size, weights=[embedding_matrix],\n",
    "                    input_length=maxlen, trainable=False))\n",
    "model.add(LSTM(64))  # Moins d'unités LSTM\n",
    "model.add(Dense(1, activation='sigmoid'))\n",
    "\n",
    "# Compilation du modèle\n",
    "model.compile(optimizer='adam', loss='binary_crossentropy', metrics=['accuracy'])\n"
   ]
  },
  {
   "cell_type": "code",
   "execution_count": 15,
   "id": "4f450ee3-46b3-4761-819f-c0cb866c00db",
   "metadata": {
    "colab": {
     "base_uri": "https://localhost:8080/",
     "height": 267
    },
    "executionInfo": {
     "elapsed": 292,
     "status": "ok",
     "timestamp": 1727939669669,
     "user": {
      "displayName": "Mayer Cécile",
      "userId": "03016020088537475993"
     },
     "user_tz": -120
    },
    "id": "4f450ee3-46b3-4761-819f-c0cb866c00db",
    "outputId": "23fff064-7735-4f15-9759-7d2d19e62515"
   },
   "outputs": [
    {
     "data": {
      "text/html": [
       "<pre style=\"white-space:pre;overflow-x:auto;line-height:normal;font-family:Menlo,'DejaVu Sans Mono',consolas,'Courier New',monospace\"><span style=\"font-weight: bold\">Model: \"sequential_4\"</span>\n",
       "</pre>\n"
      ],
      "text/plain": [
       "\u001b[1mModel: \"sequential_4\"\u001b[0m\n"
      ]
     },
     "metadata": {},
     "output_type": "display_data"
    },
    {
     "data": {
      "text/html": [
       "<pre style=\"white-space:pre;overflow-x:auto;line-height:normal;font-family:Menlo,'DejaVu Sans Mono',consolas,'Courier New',monospace\">┏━━━━━━━━━━━━━━━━━━━━━━━━━━━━━━━━━━━━━━┳━━━━━━━━━━━━━━━━━━━━━━━━━━━━━┳━━━━━━━━━━━━━━━━━┓\n",
       "┃<span style=\"font-weight: bold\"> Layer (type)                         </span>┃<span style=\"font-weight: bold\"> Output Shape                </span>┃<span style=\"font-weight: bold\">         Param # </span>┃\n",
       "┡━━━━━━━━━━━━━━━━━━━━━━━━━━━━━━━━━━━━━━╇━━━━━━━━━━━━━━━━━━━━━━━━━━━━━╇━━━━━━━━━━━━━━━━━┩\n",
       "│ embedding_4 (<span style=\"color: #0087ff; text-decoration-color: #0087ff\">Embedding</span>)              │ ?                           │       <span style=\"color: #00af00; text-decoration-color: #00af00\">1,801,800</span> │\n",
       "├──────────────────────────────────────┼─────────────────────────────┼─────────────────┤\n",
       "│ gru (<span style=\"color: #0087ff; text-decoration-color: #0087ff\">GRU</span>)                            │ ?                           │     <span style=\"color: #00af00; text-decoration-color: #00af00\">0</span> (unbuilt) │\n",
       "├──────────────────────────────────────┼─────────────────────────────┼─────────────────┤\n",
       "│ dense_4 (<span style=\"color: #0087ff; text-decoration-color: #0087ff\">Dense</span>)                      │ ?                           │     <span style=\"color: #00af00; text-decoration-color: #00af00\">0</span> (unbuilt) │\n",
       "└──────────────────────────────────────┴─────────────────────────────┴─────────────────┘\n",
       "</pre>\n"
      ],
      "text/plain": [
       "┏━━━━━━━━━━━━━━━━━━━━━━━━━━━━━━━━━━━━━━┳━━━━━━━━━━━━━━━━━━━━━━━━━━━━━┳━━━━━━━━━━━━━━━━━┓\n",
       "┃\u001b[1m \u001b[0m\u001b[1mLayer (type)                        \u001b[0m\u001b[1m \u001b[0m┃\u001b[1m \u001b[0m\u001b[1mOutput Shape               \u001b[0m\u001b[1m \u001b[0m┃\u001b[1m \u001b[0m\u001b[1m        Param #\u001b[0m\u001b[1m \u001b[0m┃\n",
       "┡━━━━━━━━━━━━━━━━━━━━━━━━━━━━━━━━━━━━━━╇━━━━━━━━━━━━━━━━━━━━━━━━━━━━━╇━━━━━━━━━━━━━━━━━┩\n",
       "│ embedding_4 (\u001b[38;5;33mEmbedding\u001b[0m)              │ ?                           │       \u001b[38;5;34m1,801,800\u001b[0m │\n",
       "├──────────────────────────────────────┼─────────────────────────────┼─────────────────┤\n",
       "│ gru (\u001b[38;5;33mGRU\u001b[0m)                            │ ?                           │     \u001b[38;5;34m0\u001b[0m (unbuilt) │\n",
       "├──────────────────────────────────────┼─────────────────────────────┼─────────────────┤\n",
       "│ dense_4 (\u001b[38;5;33mDense\u001b[0m)                      │ ?                           │     \u001b[38;5;34m0\u001b[0m (unbuilt) │\n",
       "└──────────────────────────────────────┴─────────────────────────────┴─────────────────┘\n"
      ]
     },
     "metadata": {},
     "output_type": "display_data"
    },
    {
     "data": {
      "text/html": [
       "<pre style=\"white-space:pre;overflow-x:auto;line-height:normal;font-family:Menlo,'DejaVu Sans Mono',consolas,'Courier New',monospace\"><span style=\"font-weight: bold\"> Total params: </span><span style=\"color: #00af00; text-decoration-color: #00af00\">1,801,800</span> (6.87 MB)\n",
       "</pre>\n"
      ],
      "text/plain": [
       "\u001b[1m Total params: \u001b[0m\u001b[38;5;34m1,801,800\u001b[0m (6.87 MB)\n"
      ]
     },
     "metadata": {},
     "output_type": "display_data"
    },
    {
     "data": {
      "text/html": [
       "<pre style=\"white-space:pre;overflow-x:auto;line-height:normal;font-family:Menlo,'DejaVu Sans Mono',consolas,'Courier New',monospace\"><span style=\"font-weight: bold\"> Trainable params: </span><span style=\"color: #00af00; text-decoration-color: #00af00\">0</span> (0.00 B)\n",
       "</pre>\n"
      ],
      "text/plain": [
       "\u001b[1m Trainable params: \u001b[0m\u001b[38;5;34m0\u001b[0m (0.00 B)\n"
      ]
     },
     "metadata": {},
     "output_type": "display_data"
    },
    {
     "data": {
      "text/html": [
       "<pre style=\"white-space:pre;overflow-x:auto;line-height:normal;font-family:Menlo,'DejaVu Sans Mono',consolas,'Courier New',monospace\"><span style=\"font-weight: bold\"> Non-trainable params: </span><span style=\"color: #00af00; text-decoration-color: #00af00\">1,801,800</span> (6.87 MB)\n",
       "</pre>\n"
      ],
      "text/plain": [
       "\u001b[1m Non-trainable params: \u001b[0m\u001b[38;5;34m1,801,800\u001b[0m (6.87 MB)\n"
      ]
     },
     "metadata": {},
     "output_type": "display_data"
    }
   ],
   "source": [
    "# Code du modèle avec GRU, Dropout et régularisation L2\n",
    "from tensorflow.keras.models import Sequential\n",
    "from tensorflow.keras.layers import Embedding, GRU, Dense, Dropout\n",
    "from tensorflow.keras.regularizers import l2\n",
    "from tensorflow.keras.optimizers import Adam  # Importer Adam pour ajuster le learning rate\n",
    "\n",
    "# Paramètres de régularisation et Dropout\n",
    "dropout_rate = 0.5      # Pourcentage de neurones ignorés\n",
    "l2_lambda = 0.01        # Facteur de régularisation L2\n",
    "learning_rate = 0.0001  # Taux d'apprentissage spécifique\n",
    "\n",
    "# Instanciation du modèle séquentiel\n",
    "model = Sequential()\n",
    "\n",
    "# 1. Couche d'embedding avec la matrice Word2Vec pré-entraînée\n",
    "model.add(Embedding(\n",
    "    input_dim=vocab_size,       # Taille du vocabulaire\n",
    "    output_dim=w2v_size,        # Dimension des vecteurs d'embedding\n",
    "    weights=[embedding_matrix], # Matrice d'embedding pré-entraînée\n",
    "    input_length=maxlen,        # Longueur maximale des séquences\n",
    "    trainable=False             # Geler les poids de l'embedding\n",
    "))\n",
    "\n",
    "# 2. Couche GRU avec Dropout et régularisation L2\n",
    "model.add(GRU(\n",
    "    units=128,                    # Nombre d'unités GRU\n",
    "    kernel_regularizer=l2(l2_lambda),  # Régularisation L2 sur les poids\n",
    "    recurrent_regularizer=l2(l2_lambda),  # Régularisation L2 sur les poids récurrents\n",
    "    dropout=dropout_rate,         # Dropout sur les connexions entrantes\n",
    "    recurrent_dropout=dropout_rate  # Dropout sur les connexions récurrentes\n",
    "))\n",
    "\n",
    "# 3. Couche de sortie Dense avec régularisation L2\n",
    "model.add(Dense(\n",
    "    units=1,                      # Pour une tâche de classification binaire\n",
    "    activation='sigmoid',          # Sigmoid pour la probabilité binaire\n",
    "    kernel_regularizer=l2(l2_lambda)  # Régularisation L2 sur la couche de sortie\n",
    "))\n",
    "\n",
    "# Définir l'optimiseur Adam avec un learning rate spécifique\n",
    "optimizer = Adam(learning_rate=learning_rate)\n",
    "\n",
    "# Compilation du modèle\n",
    "model.compile(\n",
    "    optimizer=optimizer,          # Utiliser l'optimiseur Adam avec le learning rate défini\n",
    "    loss='binary_crossentropy',   # Fonction de perte pour une classification binaire\n",
    "    metrics=['accuracy']          # Métrique d'accuracy\n",
    ")\n",
    "\n",
    "# Affichage du résumé du modèle\n",
    "model.summary()\n"
   ]
  },
  {
   "cell_type": "markdown",
   "id": "715f60a5-5114-4ba9-8ae0-b23d2d7fac96",
   "metadata": {
    "id": "715f60a5-5114-4ba9-8ae0-b23d2d7fac96"
   },
   "source": [
    "### Préparation des données pour l'exécution du modèle"
   ]
  },
  {
   "cell_type": "code",
   "execution_count": 16,
   "id": "fde9ff8d-c867-468c-8ebf-252343e6d087",
   "metadata": {
    "colab": {
     "base_uri": "https://localhost:8080/"
    },
    "executionInfo": {
     "elapsed": 246,
     "status": "ok",
     "timestamp": 1727939675441,
     "user": {
      "displayName": "Mayer Cécile",
      "userId": "03016020088537475993"
     },
     "user_tz": -120
    },
    "id": "fde9ff8d-c867-468c-8ebf-252343e6d087",
    "outputId": "bfc2b986-48a8-454a-8fa3-9e2de63dae57"
   },
   "outputs": [
    {
     "name": "stdout",
     "output_type": "stream",
     "text": [
      "[[ 165   65  990 2556 2546  957    6  167 1161  419  867 1145   32 2684\n",
      "     0    0    0    0    0    0    0    0    0    0    0    0    0    0\n",
      "     0    0    0    0    0    0    0    0    0    0    0    0]\n",
      " [ 406   16  750    3    0    0    0    0    0    0    0    0    0    0\n",
      "     0    0    0    0    0    0    0    0    0    0    0    0    0    0\n",
      "     0    0    0    0    0    0    0    0    0    0    0    0]\n",
      " [2726  838   28  101   32    4   14    5   86    5   41  101   72   90\n",
      "     0    0    0    0    0    0    0    0    0    0    0    0    0    0\n",
      "     0    0    0    0    0    0    0    0    0    0    0    0]\n",
      " [2520 2594 2424  450   54  612  193 2549   19    0    0    0    0    0\n",
      "     0    0    0    0    0    0    0    0    0    0    0    0    0    0\n",
      "     0    0    0    0    0    0    0    0    0    0    0    0]\n",
      " [   1 2618 2686    5  419    5   55  105  177   81    6  179  496  239\n",
      "     0    0    0    0    0    0    0    0    0    0    0    0    0    0\n",
      "     0    0    0    0    0    0    0    0    0    0    0    0]]\n"
     ]
    }
   ],
   "source": [
    "from tensorflow.keras.preprocessing.sequence import pad_sequences\n",
    "\n",
    "# Création d'un dictionnaire mot->index à partir du vocabulaire de Word2Vec\n",
    "word_index = {word: i for i, word in enumerate(w2v_model.wv.index_to_key)}\n",
    "\n",
    "# Fonction pour convertir les phrases en séquences d'index\n",
    "def sentences_to_sequences(sentences, word_index):\n",
    "    sequences = []\n",
    "    for sentence in sentences:\n",
    "        seq = [word_index.get(word, 0) for word in sentence]  # Remplacer les mots inconnus par 0\n",
    "        sequences.append(seq)\n",
    "    return sequences\n",
    "\n",
    "# Conversion des phrases d'entraînement et de test en séquences d'index\n",
    "train_sequences = sentences_to_sequences(train_sentences, word_index)\n",
    "test_sequences = sentences_to_sequences(test_sentences, word_index)\n",
    "\n",
    "# Padding des séquences pour qu'elles aient toutes la même longueur (maxlen)\n",
    "train_padded = pad_sequences(train_sequences, maxlen=maxlen, padding='post')\n",
    "test_padded = pad_sequences(test_sequences, maxlen=maxlen, padding='post')\n",
    "\n",
    "# Exemple d'affichage des séquences après padding\n",
    "print(train_padded[:5])\n"
   ]
  },
  {
   "cell_type": "markdown",
   "id": "e88b466d-2398-4cfb-9db4-233f228d1869",
   "metadata": {
    "id": "e88b466d-2398-4cfb-9db4-233f228d1869"
   },
   "source": [
    "### Entrainement du modèle d'embedding"
   ]
  },
  {
   "cell_type": "code",
   "execution_count": 17,
   "id": "816dfece-0ca1-42b1-ad44-5c701de467ce",
   "metadata": {
    "colab": {
     "base_uri": "https://localhost:8080/"
    },
    "executionInfo": {
     "elapsed": 53545,
     "status": "ok",
     "timestamp": 1727939836433,
     "user": {
      "displayName": "Mayer Cécile",
      "userId": "03016020088537475993"
     },
     "user_tz": -120
    },
    "id": "f4de15f7-28ca-451f-a627-16885621799b",
    "outputId": "334ef426-1ff8-4651-9323-92b13212b559"
   },
   "outputs": [],
   "source": [
    "y_train = train_df['target'].values\n",
    "y_test = test_df['target'].values"
   ]
  },
  {
   "cell_type": "code",
   "execution_count": 18,
   "id": "7eb0f189-ff3e-413a-8c9a-5be3318b8969",
   "metadata": {
    "colab": {
     "base_uri": "https://localhost:8080/"
    },
    "executionInfo": {
     "elapsed": 53545,
     "status": "ok",
     "timestamp": 1727939836433,
     "user": {
      "displayName": "Mayer Cécile",
      "userId": "03016020088537475993"
     },
     "user_tz": -120
    },
    "id": "f4de15f7-28ca-451f-a627-16885621799b",
    "outputId": "334ef426-1ff8-4651-9323-92b13212b559"
   },
   "outputs": [
    {
     "name": "stdout",
     "output_type": "stream",
     "text": [
      "Epoch 1/5\n",
      "\u001b[1m107/107\u001b[0m \u001b[32m━━━━━━━━━━━━━━━━━━━━\u001b[0m\u001b[37m\u001b[0m \u001b[1m3s\u001b[0m 15ms/step - accuracy: 0.5042 - loss: 1951987456.0000 - val_accuracy: 0.5014 - val_loss: 5.3476\n",
      "Epoch 2/5\n",
      "\u001b[1m107/107\u001b[0m \u001b[32m━━━━━━━━━━━━━━━━━━━━\u001b[0m\u001b[37m\u001b[0m \u001b[1m1s\u001b[0m 14ms/step - accuracy: 0.5250 - loss: 1085461760.0000 - val_accuracy: 0.5014 - val_loss: 5.3395\n",
      "Epoch 3/5\n",
      "\u001b[1m107/107\u001b[0m \u001b[32m━━━━━━━━━━━━━━━━━━━━\u001b[0m\u001b[37m\u001b[0m \u001b[1m1s\u001b[0m 13ms/step - accuracy: 0.5001 - loss: 831489984.0000 - val_accuracy: 0.5014 - val_loss: 5.3317\n",
      "Epoch 4/5\n",
      "\u001b[1m107/107\u001b[0m \u001b[32m━━━━━━━━━━━━━━━━━━━━\u001b[0m\u001b[37m\u001b[0m \u001b[1m1s\u001b[0m 14ms/step - accuracy: 0.4901 - loss: 674716096.0000 - val_accuracy: 0.5014 - val_loss: 5.3264\n",
      "Epoch 5/5\n",
      "\u001b[1m107/107\u001b[0m \u001b[32m━━━━━━━━━━━━━━━━━━━━\u001b[0m\u001b[37m\u001b[0m \u001b[1m1s\u001b[0m 14ms/step - accuracy: 0.4837 - loss: 534698944.0000 - val_accuracy: 0.5014 - val_loss: 5.3225\n"
     ]
    }
   ],
   "source": [
    "# Entraînement du modèle avec validation et sauvegarde de l'historique\n",
    "history = model.fit(\n",
    "    train_padded,         # Données d'entraînement\n",
    "    y_train,              # Étiquettes d'entraînement\n",
    "    epochs=5,            # Nombre d'époques\n",
    "    batch_size=32,        # Taille des batchs\n",
    "    validation_data=(test_padded, y_test),  # Validation sur les données de test\n",
    "    verbose=1             # Afficher l'évolution pendant l'entraînement\n",
    ")"
   ]
  },
  {
   "cell_type": "code",
   "execution_count": 19,
   "id": "4c06a958-e432-44c4-96bc-5ba4f018c20c",
   "metadata": {},
   "outputs": [],
   "source": [
    "# pip install plot-keras-history\n",
    "# Source: @software{Cappelletti_Plot_Keras_History_2022,\n",
    "#     author = {Cappelletti, Luca},\n",
    "#     doi = {10.5072/zenodo.1054923},\n",
    "#     month = {4},\n",
    "#     title = {{Plot Keras History}},\n",
    "#     version = {1.1.36},\n",
    "#     year = {2022}\n",
    "# }"
   ]
  },
  {
   "cell_type": "code",
   "execution_count": 21,
   "id": "84bc0281-699b-48e7-be9e-8c432aec6c2f",
   "metadata": {},
   "outputs": [
    {
     "data": {
      "text/plain": [
       "(<Figure size 1000x500 with 2 Axes>,\n",
       " array([<Axes: title={'center': 'Accuracy'}, xlabel='Epochs', ylabel='Accuracy'>,\n",
       "        <Axes: title={'center': 'Loss'}, xlabel='Epochs', ylabel='Loss'>],\n",
       "       dtype=object))"
      ]
     },
     "execution_count": 21,
     "metadata": {},
     "output_type": "execute_result"
    },
    {
     "data": {
      "image/png": "[encoded data removed]",
      "text/plain": [
       "<Figure size 1000x500 with 2 Axes>"
      ]
     },
     "metadata": {},
     "output_type": "display_data"
    }
   ],
   "source": [
    "from plot_keras_history import plot_history\n",
    "\n",
    "# Plot de l'historique de l'entraînement\n",
    "plot_history(history.history)"
   ]
  },
  {
   "cell_type": "markdown",
   "id": "e93bb2f8-c990-4271-b38c-96fe69428f48",
   "metadata": {},
   "source": [
    "### Optimisation automatique du modèle d'embedding"
   ]
  },
  {
   "cell_type": "markdown",
   "id": "96f16f91-4baa-4634-9a5b-44169d52d9ff",
   "metadata": {},
   "source": [
    "Utilisation de <u><b>Keras tuner</b></u> pour optimiser le modèle en faisant varier:<br>\n",
    "- le nombre d'unités GRU\n",
    "- le taux de dropout\n",
    "- la régularisation L2\n",
    "- le taux d'apprentissage"
   ]
  },
  {
   "cell_type": "code",
   "execution_count": 22,
   "id": "a0814878-f6cd-40e1-b6c9-359c76ee73f2",
   "metadata": {},
   "outputs": [],
   "source": [
    "# pip install keras-tuner --upgrade"
   ]
  },
  {
   "cell_type": "code",
   "execution_count": 23,
   "id": "d648c1b6-3b8e-424c-93c7-c1eb0cbc2b98",
   "metadata": {},
   "outputs": [
    {
     "name": "stdout",
     "output_type": "stream",
     "text": [
      "Reloading Tuner from my_dir\\lstm_bidirectional_tuning\\tuner0.json\n",
      "Epoch 1/20\n"
     ]
    },
    {
     "name": "stderr",
     "output_type": "stream",
     "text": [
      "C:\\ProgramData\\anaconda3\\envs\\AIEP7\\Lib\\site-packages\\keras\\src\\layers\\core\\embedding.py:90: UserWarning: Argument `input_length` is deprecated. Just remove it.\n",
      "  warnings.warn(\n"
     ]
    },
    {
     "name": "stdout",
     "output_type": "stream",
     "text": [
      "\u001b[1m107/107\u001b[0m \u001b[32m━━━━━━━━━━━━━━━━━━━━\u001b[0m\u001b[37m\u001b[0m \u001b[1m5s\u001b[0m 25ms/step - accuracy: 0.5675 - loss: 0.7197 - val_accuracy: 0.6484 - val_loss: 0.6422\n",
      "Epoch 2/20\n",
      "\u001b[1m107/107\u001b[0m \u001b[32m━━━━━━━━━━━━━━━━━━━━\u001b[0m\u001b[37m\u001b[0m \u001b[1m2s\u001b[0m 22ms/step - accuracy: 0.6194 - loss: 0.6592 - val_accuracy: 0.6435 - val_loss: 0.6328\n",
      "Epoch 3/20\n",
      "\u001b[1m107/107\u001b[0m \u001b[32m━━━━━━━━━━━━━━━━━━━━\u001b[0m\u001b[37m\u001b[0m \u001b[1m2s\u001b[0m 22ms/step - accuracy: 0.6601 - loss: 0.6321 - val_accuracy: 0.6765 - val_loss: 0.6289\n",
      "Epoch 4/20\n",
      "\u001b[1m107/107\u001b[0m \u001b[32m━━━━━━━━━━━━━━━━━━━━\u001b[0m\u001b[37m\u001b[0m \u001b[1m2s\u001b[0m 22ms/step - accuracy: 0.6736 - loss: 0.6197 - val_accuracy: 0.6751 - val_loss: 0.6191\n",
      "Epoch 5/20\n",
      "\u001b[1m107/107\u001b[0m \u001b[32m━━━━━━━━━━━━━━━━━━━━\u001b[0m\u001b[37m\u001b[0m \u001b[1m2s\u001b[0m 23ms/step - accuracy: 0.6971 - loss: 0.5955 - val_accuracy: 0.7074 - val_loss: 0.5899\n",
      "Epoch 6/20\n",
      "\u001b[1m107/107\u001b[0m \u001b[32m━━━━━━━━━━━━━━━━━━━━\u001b[0m\u001b[37m\u001b[0m \u001b[1m3s\u001b[0m 23ms/step - accuracy: 0.7228 - loss: 0.5746 - val_accuracy: 0.6930 - val_loss: 0.5898\n",
      "Epoch 7/20\n",
      "\u001b[1m107/107\u001b[0m \u001b[32m━━━━━━━━━━━━━━━━━━━━\u001b[0m\u001b[37m\u001b[0m \u001b[1m3s\u001b[0m 23ms/step - accuracy: 0.7357 - loss: 0.5616 - val_accuracy: 0.7067 - val_loss: 0.5893\n",
      "Epoch 8/20\n",
      "\u001b[1m107/107\u001b[0m \u001b[32m━━━━━━━━━━━━━━━━━━━━\u001b[0m\u001b[37m\u001b[0m \u001b[1m3s\u001b[0m 23ms/step - accuracy: 0.7284 - loss: 0.5541 - val_accuracy: 0.6964 - val_loss: 0.5950\n",
      "Epoch 9/20\n",
      "\u001b[1m107/107\u001b[0m \u001b[32m━━━━━━━━━━━━━━━━━━━━\u001b[0m\u001b[37m\u001b[0m \u001b[1m3s\u001b[0m 23ms/step - accuracy: 0.7608 - loss: 0.5261 - val_accuracy: 0.7040 - val_loss: 0.5876\n",
      "Epoch 10/20\n",
      "\u001b[1m107/107\u001b[0m \u001b[32m━━━━━━━━━━━━━━━━━━━━\u001b[0m\u001b[37m\u001b[0m \u001b[1m2s\u001b[0m 22ms/step - accuracy: 0.7516 - loss: 0.5284 - val_accuracy: 0.6992 - val_loss: 0.6113\n",
      "Epoch 11/20\n",
      "\u001b[1m107/107\u001b[0m \u001b[32m━━━━━━━━━━━━━━━━━━━━\u001b[0m\u001b[37m\u001b[0m \u001b[1m2s\u001b[0m 23ms/step - accuracy: 0.7679 - loss: 0.5067 - val_accuracy: 0.6978 - val_loss: 0.6032\n",
      "Epoch 12/20\n",
      "\u001b[1m107/107\u001b[0m \u001b[32m━━━━━━━━━━━━━━━━━━━━\u001b[0m\u001b[37m\u001b[0m \u001b[1m3s\u001b[0m 23ms/step - accuracy: 0.7880 - loss: 0.5041 - val_accuracy: 0.7088 - val_loss: 0.5983\n",
      "Epoch 13/20\n",
      "\u001b[1m107/107\u001b[0m \u001b[32m━━━━━━━━━━━━━━━━━━━━\u001b[0m\u001b[37m\u001b[0m \u001b[1m2s\u001b[0m 22ms/step - accuracy: 0.8153 - loss: 0.4592 - val_accuracy: 0.7122 - val_loss: 0.6154\n",
      "Epoch 14/20\n",
      "\u001b[1m107/107\u001b[0m \u001b[32m━━━━━━━━━━━━━━━━━━━━\u001b[0m\u001b[37m\u001b[0m \u001b[1m2s\u001b[0m 23ms/step - accuracy: 0.8078 - loss: 0.4696 - val_accuracy: 0.6985 - val_loss: 0.6285\n"
     ]
    }
   ],
   "source": [
    "import keras_tuner as kt\n",
    "from tensorflow.keras.models import Sequential\n",
    "from tensorflow.keras.layers import Embedding, Bidirectional, LSTM, Dense, Dropout\n",
    "from tensorflow.keras.regularizers import l2\n",
    "from tensorflow.keras.optimizers import Adam\n",
    "import tensorflow as tf\n",
    "\n",
    "# Fonction de création du modèle pour Keras Tuner\n",
    "def build_model(hp):\n",
    "    model = Sequential()\n",
    "    \n",
    "    # 1. Couche d'embedding avec la matrice Word2Vec pré-entraînée\n",
    "    model.add(Embedding(\n",
    "        input_dim=vocab_size,        \n",
    "        output_dim=w2v_size,         \n",
    "        weights=[embedding_matrix],  \n",
    "        # input_length=maxlen,         \n",
    "        trainable=False              \n",
    "    ))\n",
    "\n",
    "    # 2. Couche LSTM bidirectionnelle avec des hyperparamètres tunables\n",
    "    model.add(Bidirectional(LSTM(\n",
    "        units=hp.Int('units', min_value=64, max_value=256, step=32),\n",
    "        kernel_regularizer=l2(hp.Float('l2_lambda', min_value=1e-4, max_value=1e-2, sampling='log')),  # Intervalle élargi\n",
    "        recurrent_regularizer=l2(hp.Float('l2_lambda', min_value=1e-4, max_value=1e-2, sampling='log')),\n",
    "        dropout=hp.Float('dropout_rate', min_value=0.3, max_value=0.7, step=0.1),  # Dropout plus élevé\n",
    "        recurrent_dropout=hp.Float('dropout_rate', min_value=0.3, max_value=0.7, step=0.1),\n",
    "        return_sequences=False\n",
    "    )))\n",
    "\n",
    "    # 3. Couche de sortie Dense avec régularisation L2\n",
    "    model.add(Dense(\n",
    "        units=1,                      \n",
    "        activation='sigmoid',          \n",
    "        kernel_regularizer=l2(hp.Float('l2_lambda', min_value=1e-4, max_value=1e-2, sampling='log'))\n",
    "    ))\n",
    "\n",
    "    # Optimiseur Adam avec un learning rate tunable\n",
    "    optimizer = Adam(hp.Float('learning_rate', min_value=1e-5, max_value=1e-2, sampling='log'))\n",
    "\n",
    "    # Compilation du modèle\n",
    "    model.compile(\n",
    "        optimizer=optimizer,\n",
    "        loss='binary_crossentropy',\n",
    "        metrics=['accuracy']\n",
    "    )\n",
    "\n",
    "    return model\n",
    "\n",
    "# Instanciation du tuner pour rechercher les hyperparamètres\n",
    "tuner = kt.Hyperband(\n",
    "    build_model,\n",
    "    objective='val_loss',\n",
    "    max_epochs=20,\n",
    "    factor=3,\n",
    "    directory='my_dir',\n",
    "    project_name='lstm_bidirectional_tuning'\n",
    ")\n",
    "\n",
    "# Callbacks avec `restore_best_weights`\n",
    "stop_early = tf.keras.callbacks.EarlyStopping(monitor='val_loss', patience=5, restore_best_weights=True)\n",
    "\n",
    "# Recherche des meilleurs hyperparamètres\n",
    "tuner.search(train_padded, y_train, epochs=20, validation_data=(test_padded, y_test), callbacks=[stop_early])\n",
    "\n",
    "# Récupération des meilleurs hyperparamètres\n",
    "best_hps = tuner.get_best_hyperparameters(num_trials=1)[0]\n",
    "\n",
    "# Entraîner le meilleur modèle avec ces hyperparamètres\n",
    "best_model = tuner.hypermodel.build(best_hps)\n",
    "history = best_model.fit(train_padded, y_train, epochs=20, validation_data=(test_padded, y_test), callbacks=[stop_early])\n"
   ]
  },
  {
   "cell_type": "code",
   "execution_count": 24,
   "id": "cbd12a10-a35f-4ba2-b251-c2b5346fbe59",
   "metadata": {},
   "outputs": [
    {
     "data": {
      "text/plain": [
       "(<Figure size 1000x500 with 2 Axes>,\n",
       " array([<Axes: title={'center': 'Accuracy'}, xlabel='Epochs', ylabel='Accuracy'>,\n",
       "        <Axes: title={'center': 'Loss'}, xlabel='Epochs', ylabel='Loss'>],\n",
       "       dtype=object))"
      ]
     },
     "execution_count": 24,
     "metadata": {},
     "output_type": "execute_result"
    },
    {
     "data": {
      "image/png": "[encoded data removed]",
      "text/plain": [
       "<Figure size 1000x500 with 2 Axes>"
      ]
     },
     "metadata": {},
     "output_type": "display_data"
    }
   ],
   "source": [
    "# Plot de l'historique de l'entraînement\n",
    "plot_history(history.history)"
   ]
  },
  {
   "cell_type": "code",
   "execution_count": 25,
   "id": "74b4d6d2-8067-439c-9a8f-9ca8443d9e88",
   "metadata": {},
   "outputs": [
    {
     "name": "stdout",
     "output_type": "stream",
     "text": [
      "Meilleurs hyperparamètres trouvés :\n",
      " - Units dans LSTM : 160\n",
      " - Lambda de régularisation L2 : 2.2473833926205203e-05\n",
      " - Dropout rate : 0.5\n",
      " - Learning rate : 0.002077190408327862\n"
     ]
    },
    {
     "data": {
      "text/html": [
       "<pre style=\"white-space:pre;overflow-x:auto;line-height:normal;font-family:Menlo,'DejaVu Sans Mono',consolas,'Courier New',monospace\"><span style=\"font-weight: bold\">Model: \"sequential_5\"</span>\n",
       "</pre>\n"
      ],
      "text/plain": [
       "\u001b[1mModel: \"sequential_5\"\u001b[0m\n"
      ]
     },
     "metadata": {},
     "output_type": "display_data"
    },
    {
     "data": {
      "text/html": [
       "<pre style=\"white-space:pre;overflow-x:auto;line-height:normal;font-family:Menlo,'DejaVu Sans Mono',consolas,'Courier New',monospace\">┏━━━━━━━━━━━━━━━━━━━━━━━━━━━━━━━━━━━━━━┳━━━━━━━━━━━━━━━━━━━━━━━━━━━━━┳━━━━━━━━━━━━━━━━━┓\n",
       "┃<span style=\"font-weight: bold\"> Layer (type)                         </span>┃<span style=\"font-weight: bold\"> Output Shape                </span>┃<span style=\"font-weight: bold\">         Param # </span>┃\n",
       "┡━━━━━━━━━━━━━━━━━━━━━━━━━━━━━━━━━━━━━━╇━━━━━━━━━━━━━━━━━━━━━━━━━━━━━╇━━━━━━━━━━━━━━━━━┩\n",
       "│ embedding_5 (<span style=\"color: #0087ff; text-decoration-color: #0087ff\">Embedding</span>)              │ (<span style=\"color: #00d7ff; text-decoration-color: #00d7ff\">None</span>, <span style=\"color: #00af00; text-decoration-color: #00af00\">40</span>, <span style=\"color: #00af00; text-decoration-color: #00af00\">300</span>)             │       <span style=\"color: #00af00; text-decoration-color: #00af00\">1,801,800</span> │\n",
       "├──────────────────────────────────────┼─────────────────────────────┼─────────────────┤\n",
       "│ bidirectional (<span style=\"color: #0087ff; text-decoration-color: #0087ff\">Bidirectional</span>)        │ (<span style=\"color: #00d7ff; text-decoration-color: #00d7ff\">None</span>, <span style=\"color: #00af00; text-decoration-color: #00af00\">320</span>)                 │         <span style=\"color: #00af00; text-decoration-color: #00af00\">590,080</span> │\n",
       "├──────────────────────────────────────┼─────────────────────────────┼─────────────────┤\n",
       "│ dense_5 (<span style=\"color: #0087ff; text-decoration-color: #0087ff\">Dense</span>)                      │ (<span style=\"color: #00d7ff; text-decoration-color: #00d7ff\">None</span>, <span style=\"color: #00af00; text-decoration-color: #00af00\">1</span>)                   │             <span style=\"color: #00af00; text-decoration-color: #00af00\">321</span> │\n",
       "└──────────────────────────────────────┴─────────────────────────────┴─────────────────┘\n",
       "</pre>\n"
      ],
      "text/plain": [
       "┏━━━━━━━━━━━━━━━━━━━━━━━━━━━━━━━━━━━━━━┳━━━━━━━━━━━━━━━━━━━━━━━━━━━━━┳━━━━━━━━━━━━━━━━━┓\n",
       "┃\u001b[1m \u001b[0m\u001b[1mLayer (type)                        \u001b[0m\u001b[1m \u001b[0m┃\u001b[1m \u001b[0m\u001b[1mOutput Shape               \u001b[0m\u001b[1m \u001b[0m┃\u001b[1m \u001b[0m\u001b[1m        Param #\u001b[0m\u001b[1m \u001b[0m┃\n",
       "┡━━━━━━━━━━━━━━━━━━━━━━━━━━━━━━━━━━━━━━╇━━━━━━━━━━━━━━━━━━━━━━━━━━━━━╇━━━━━━━━━━━━━━━━━┩\n",
       "│ embedding_5 (\u001b[38;5;33mEmbedding\u001b[0m)              │ (\u001b[38;5;45mNone\u001b[0m, \u001b[38;5;34m40\u001b[0m, \u001b[38;5;34m300\u001b[0m)             │       \u001b[38;5;34m1,801,800\u001b[0m │\n",
       "├──────────────────────────────────────┼─────────────────────────────┼─────────────────┤\n",
       "│ bidirectional (\u001b[38;5;33mBidirectional\u001b[0m)        │ (\u001b[38;5;45mNone\u001b[0m, \u001b[38;5;34m320\u001b[0m)                 │         \u001b[38;5;34m590,080\u001b[0m │\n",
       "├──────────────────────────────────────┼─────────────────────────────┼─────────────────┤\n",
       "│ dense_5 (\u001b[38;5;33mDense\u001b[0m)                      │ (\u001b[38;5;45mNone\u001b[0m, \u001b[38;5;34m1\u001b[0m)                   │             \u001b[38;5;34m321\u001b[0m │\n",
       "└──────────────────────────────────────┴─────────────────────────────┴─────────────────┘\n"
      ]
     },
     "metadata": {},
     "output_type": "display_data"
    },
    {
     "data": {
      "text/html": [
       "<pre style=\"white-space:pre;overflow-x:auto;line-height:normal;font-family:Menlo,'DejaVu Sans Mono',consolas,'Courier New',monospace\"><span style=\"font-weight: bold\"> Total params: </span><span style=\"color: #00af00; text-decoration-color: #00af00\">3,573,005</span> (13.63 MB)\n",
       "</pre>\n"
      ],
      "text/plain": [
       "\u001b[1m Total params: \u001b[0m\u001b[38;5;34m3,573,005\u001b[0m (13.63 MB)\n"
      ]
     },
     "metadata": {},
     "output_type": "display_data"
    },
    {
     "data": {
      "text/html": [
       "<pre style=\"white-space:pre;overflow-x:auto;line-height:normal;font-family:Menlo,'DejaVu Sans Mono',consolas,'Courier New',monospace\"><span style=\"font-weight: bold\"> Trainable params: </span><span style=\"color: #00af00; text-decoration-color: #00af00\">590,401</span> (2.25 MB)\n",
       "</pre>\n"
      ],
      "text/plain": [
       "\u001b[1m Trainable params: \u001b[0m\u001b[38;5;34m590,401\u001b[0m (2.25 MB)\n"
      ]
     },
     "metadata": {},
     "output_type": "display_data"
    },
    {
     "data": {
      "text/html": [
       "<pre style=\"white-space:pre;overflow-x:auto;line-height:normal;font-family:Menlo,'DejaVu Sans Mono',consolas,'Courier New',monospace\"><span style=\"font-weight: bold\"> Non-trainable params: </span><span style=\"color: #00af00; text-decoration-color: #00af00\">1,801,800</span> (6.87 MB)\n",
       "</pre>\n"
      ],
      "text/plain": [
       "\u001b[1m Non-trainable params: \u001b[0m\u001b[38;5;34m1,801,800\u001b[0m (6.87 MB)\n"
      ]
     },
     "metadata": {},
     "output_type": "display_data"
    },
    {
     "data": {
      "text/html": [
       "<pre style=\"white-space:pre;overflow-x:auto;line-height:normal;font-family:Menlo,'DejaVu Sans Mono',consolas,'Courier New',monospace\"><span style=\"font-weight: bold\"> Optimizer params: </span><span style=\"color: #00af00; text-decoration-color: #00af00\">1,180,804</span> (4.50 MB)\n",
       "</pre>\n"
      ],
      "text/plain": [
       "\u001b[1m Optimizer params: \u001b[0m\u001b[38;5;34m1,180,804\u001b[0m (4.50 MB)\n"
      ]
     },
     "metadata": {},
     "output_type": "display_data"
    }
   ],
   "source": [
    "# Affichage des meilleurs hyperparamètres\n",
    "print(\"Meilleurs hyperparamètres trouvés :\")\n",
    "print(f\" - Units dans LSTM : {best_hps.get('units')}\")\n",
    "print(f\" - Lambda de régularisation L2 : {best_hps.get('l2_lambda')}\")\n",
    "print(f\" - Dropout rate : {best_hps.get('dropout_rate')}\")\n",
    "print(f\" - Learning rate : {best_hps.get('learning_rate')}\")\n",
    "\n",
    "# Construire le meilleur modèle avec les meilleurs hyperparamètres\n",
    "# Spécifier l'input_shape correspondant à tes données (par exemple `maxlen`)\n",
    "input_shape = (maxlen,)  # Nombre max de tokens\n",
    "\n",
    "# \"Build\" le modèle explicitement avec la taille d'entrée\n",
    "best_model.build(input_shape=(None, *input_shape))  # None correspond à la taille du batch\n",
    "\n",
    "# Affichage du résumé du modèle\n",
    "best_model.summary()"
   ]
  },
  {
   "cell_type": "code",
   "execution_count": 26,
   "id": "e68c8214-7884-475f-a3f6-a6234bd85a2a",
   "metadata": {},
   "outputs": [
    {
     "name": "stdout",
     "output_type": "stream",
     "text": [
      "\u001b[1m46/46\u001b[0m \u001b[32m━━━━━━━━━━━━━━━━━━━━\u001b[0m\u001b[37m\u001b[0m \u001b[1m1s\u001b[0m 12ms/step\n"
     ]
    },
    {
     "data": {
      "image/png": "[encoded data removed]",
      "text/plain": [
       "<Figure size 600x400 with 2 Axes>"
      ]
     },
     "metadata": {},
     "output_type": "display_data"
    },
    {
     "name": "stdout",
     "output_type": "stream",
     "text": [
      "Rapport de classification :\n",
      "              precision    recall  f1-score   support\n",
      "\n",
      "           0       0.69      0.73      0.71       726\n",
      "           1       0.72      0.68      0.70       730\n",
      "\n",
      "    accuracy                           0.70      1456\n",
      "   macro avg       0.70      0.70      0.70      1456\n",
      "weighted avg       0.70      0.70      0.70      1456\n",
      "\n"
     ]
    }
   ],
   "source": [
    "from sklearn.metrics import confusion_matrix, classification_report\n",
    "import seaborn as sns\n",
    "import matplotlib.pyplot as plt\n",
    "\n",
    "# 1. Faire des prédictions sur le jeu de test\n",
    "y_pred_probs = best_model.predict(test_padded)  # Prédictions en probabilités\n",
    "y_pred = (y_pred_probs > 0.5).astype(\"int32\")   # Conversion en classes (0 ou 1)\n",
    "\n",
    "# 2. Calculer la matrice de confusion\n",
    "conf_matrix = confusion_matrix(y_test, y_pred)\n",
    "\n",
    "# 3. Afficher la matrice de confusion\n",
    "plt.figure(figsize=(6, 4))\n",
    "sns.heatmap(conf_matrix, annot=True, fmt='d', cmap='Blues', xticklabels=[0, 1], yticklabels=[0, 1])\n",
    "plt.title('Matrice de confusion')\n",
    "plt.xlabel('Prédictions')\n",
    "plt.ylabel('Vérités terrain')\n",
    "plt.show()\n",
    "\n",
    "# 4. Afficher le rapport de classification\n",
    "print(\"Rapport de classification :\")\n",
    "print(classification_report(y_test, y_pred))\n"
   ]
  },
  {
   "cell_type": "markdown",
   "id": "fb8561e5-4492-4034-aa75-3553115ba15e",
   "metadata": {
    "id": "fb8561e5-4492-4034-aa75-3553115ba15e",
    "jp-MarkdownHeadingCollapsed": true
   },
   "source": [
    "# Modèle basé sur Bert (pré-entrainé)"
   ]
  },
  {
   "cell_type": "code",
   "execution_count": 19,
   "id": "17f4895f-4a7c-40e7-a992-9b216c5c45af",
   "metadata": {
    "executionInfo": {
     "elapsed": 291,
     "status": "ok",
     "timestamp": 1727941353500,
     "user": {
      "displayName": "Mayer Cécile",
      "userId": "03016020088537475993"
     },
     "user_tz": -120
    },
    "id": "17f4895f-4a7c-40e7-a992-9b216c5c45af"
   },
   "outputs": [],
   "source": [
    "# pip install transformers torch"
   ]
  },
  {
   "cell_type": "code",
   "execution_count": 20,
   "id": "849ad0fd-b35a-482c-bd12-a74f42807e69",
   "metadata": {
    "colab": {
     "base_uri": "https://localhost:8080/"
    },
    "executionInfo": {
     "elapsed": 1090,
     "status": "ok",
     "timestamp": 1727941354883,
     "user": {
      "displayName": "Mayer Cécile",
      "userId": "03016020088537475993"
     },
     "user_tz": -120
    },
    "id": "849ad0fd-b35a-482c-bd12-a74f42807e69",
    "outputId": "5af29c22-4c42-4e1a-9d85-36444632c009"
   },
   "outputs": [
    {
     "name": "stderr",
     "output_type": "stream",
     "text": [
      "C:\\ProgramData\\anaconda3\\envs\\AIEP7\\Lib\\site-packages\\transformers\\tokenization_utils_base.py:1617: FutureWarning: `clean_up_tokenization_spaces` was not set. It will be set to `True` by default. This behavior will be deprecated in transformers v4.45, and will be then set to `False` by default. For more details check this issue: https://github.com/huggingface/transformers/issues/31884\n",
      "  warnings.warn(\n"
     ]
    },
    {
     "name": "stdout",
     "output_type": "stream",
     "text": [
      "Sentiment: positive\n"
     ]
    }
   ],
   "source": [
    "from transformers import AutoTokenizer, AutoModelForSequenceClassification\n",
    "import torch\n",
    "\n",
    "# Load the tokenizer and model from Hugging Face\n",
    "model_name = \"cardiffnlp/twitter-roberta-base-sentiment\"\n",
    "tokenizer = AutoTokenizer.from_pretrained(model_name)\n",
    "model = AutoModelForSequenceClassification.from_pretrained(model_name)\n",
    "\n",
    "# Function to preprocess the text and make predictions\n",
    "def predict_sentiment(text):\n",
    "    # Tokenize the text\n",
    "    inputs = tokenizer(text, return_tensors=\"pt\", truncation=True, padding=True, max_length=512)\n",
    "\n",
    "    # Forward pass, get logits\n",
    "    with torch.no_grad():\n",
    "        outputs = model(**inputs)\n",
    "\n",
    "    # Get the predicted sentiment label\n",
    "    logits = outputs.logits\n",
    "    predicted_class = torch.argmax(logits, dim=1).item()\n",
    "\n",
    "    # Map the prediction to the sentiment\n",
    "    sentiment_labels = ['negative', 'neutral', 'positive']\n",
    "    return sentiment_labels[predicted_class]\n",
    "\n",
    "# Example usage\n",
    "text = \"I love using the new RoBERTa model for sentiment analysis!\"\n",
    "sentiment = predict_sentiment(text)\n",
    "print(f\"Sentiment: {sentiment}\")\n"
   ]
  },
  {
   "cell_type": "code",
   "execution_count": 21,
   "id": "5e17197e-b430-47cb-9147-561a1ac6f9bd",
   "metadata": {
    "colab": {
     "base_uri": "https://localhost:8080/",
     "height": 365
    },
    "executionInfo": {
     "elapsed": 1851,
     "status": "error",
     "timestamp": 1727941356731,
     "user": {
      "displayName": "Mayer Cécile",
      "userId": "03016020088537475993"
     },
     "user_tz": -120
    },
    "id": "5e17197e-b430-47cb-9147-561a1ac6f9bd",
    "outputId": "1f4a4e19-12d6-4164-ea68-0b6112cd8042"
   },
   "outputs": [
    {
     "name": "stderr",
     "output_type": "stream",
     "text": [
      "C:\\ProgramData\\anaconda3\\envs\\AIEP7\\Lib\\site-packages\\transformers\\tokenization_utils_base.py:1617: FutureWarning: `clean_up_tokenization_spaces` was not set. It will be set to `True` by default. This behavior will be deprecated in transformers v4.45, and will be then set to `False` by default. For more details check this issue: https://github.com/huggingface/transformers/issues/31884\n",
      "  warnings.warn(\n"
     ]
    },
    {
     "name": "stdout",
     "output_type": "stream",
     "text": [
      "Train Accuracy:  0.6989690721649484\n",
      "Test Accuracy:  0.7019230769230769\n",
      "\n",
      "Classification Report on Train Data:\n",
      "              precision    recall  f1-score   support\n",
      "\n",
      "    positive       0.78      0.56      0.65      1694\n",
      "    negative       0.66      0.84      0.74      1701\n",
      "\n",
      "    accuracy                           0.70      3395\n",
      "   macro avg       0.72      0.70      0.69      3395\n",
      "weighted avg       0.72      0.70      0.69      3395\n",
      "\n",
      "\n",
      "Classification Report on Test Data:\n",
      "              precision    recall  f1-score   support\n",
      "\n",
      "    positive       0.78      0.56      0.65       726\n",
      "    negative       0.66      0.85      0.74       730\n",
      "\n",
      "    accuracy                           0.70      1456\n",
      "   macro avg       0.72      0.70      0.70      1456\n",
      "weighted avg       0.72      0.70      0.70      1456\n",
      "\n"
     ]
    }
   ],
   "source": [
    "from transformers import AutoTokenizer, AutoModelForSequenceClassification\n",
    "import torch\n",
    "import pandas as pd\n",
    "from sklearn.metrics import accuracy_score, classification_report\n",
    "\n",
    "# Load the tokenizer and model from Hugging Face\n",
    "model_name = \"cardiffnlp/twitter-roberta-base-sentiment\"\n",
    "tokenizer = AutoTokenizer.from_pretrained(model_name)\n",
    "model = AutoModelForSequenceClassification.from_pretrained(model_name)\n",
    "\n",
    "# Function to predict sentiment\n",
    "def predict_sentiment_roberta(texts):\n",
    "    # Tokenize the input texts\n",
    "    inputs = tokenizer(texts, return_tensors=\"pt\", truncation=True, padding=True, max_length=512)\n",
    "\n",
    "    # Forward pass, get logits\n",
    "    with torch.no_grad():\n",
    "        outputs = model(**inputs)\n",
    "\n",
    "    # Get the predicted class\n",
    "    logits = outputs.logits\n",
    "    predicted_classes = torch.argmax(logits, dim=1)\n",
    "\n",
    "    return predicted_classes\n",
    "\n",
    "# Mapping the RoBERTa outputs to your target classes (0 = positive, 1 = negative)\n",
    "def map_roberta_to_custom_labels(roberta_prediction):\n",
    "    # RoBERTa has 3 classes: [negative, neutral, positive]\n",
    "    # We'll map neutral and negative to 'negative' (1), positive to 'positive' (0)\n",
    "    return 1 if roberta_prediction in [0, 1] else 0\n",
    "\n",
    "# Process the DataFrame and predict sentiments for train/test data\n",
    "def process_and_predict(df):\n",
    "    predicted_labels = []\n",
    "\n",
    "    for text in df['text']:\n",
    "        # Predict sentiment for each tweet\n",
    "        roberta_prediction = predict_sentiment_roberta([text])[0].item()\n",
    "\n",
    "        # Map RoBERTa sentiment to custom labels\n",
    "        custom_label = map_roberta_to_custom_labels(roberta_prediction)\n",
    "        predicted_labels.append(custom_label)\n",
    "\n",
    "    return predicted_labels\n",
    "\n",
    "# Predict on training set\n",
    "train_predictions = process_and_predict(train_df)\n",
    "train_labels = train_df['target'].tolist()\n",
    "\n",
    "# Predict on test set\n",
    "test_predictions = process_and_predict(test_df)\n",
    "test_labels = test_df['target'].tolist()\n",
    "\n",
    "# Evaluate the results\n",
    "train_accuracy = accuracy_score(train_labels, train_predictions)\n",
    "test_accuracy = accuracy_score(test_labels, test_predictions)\n",
    "\n",
    "print(\"Train Accuracy: \", train_accuracy)\n",
    "print(\"Test Accuracy: \", test_accuracy)\n",
    "\n",
    "# Classification report for further insights\n",
    "print(\"\\nClassification Report on Train Data:\")\n",
    "print(classification_report(train_labels, train_predictions, target_names=[\"positive\", \"negative\"]))\n",
    "\n",
    "print(\"\\nClassification Report on Test Data:\")\n",
    "print(classification_report(test_labels, test_predictions, target_names=[\"positive\", \"negative\"]))\n"
   ]
  },
  {
   "cell_type": "markdown",
   "id": "96a05081-deb9-44de-8fb7-8d4cf9772118",
   "metadata": {
    "id": "96a05081-deb9-44de-8fb7-8d4cf9772118",
    "jp-MarkdownHeadingCollapsed": true
   },
   "source": [
    "# Test Roberta tweets sentiment analysis avec fine-tuning"
   ]
  },
  {
   "cell_type": "code",
   "execution_count": 22,
   "id": "57eb3017-eeaa-41a0-89d4-93ab1df63eb5",
   "metadata": {
    "id": "57eb3017-eeaa-41a0-89d4-93ab1df63eb5"
   },
   "outputs": [
    {
     "name": "stdout",
     "output_type": "stream",
     "text": [
      "CUDA disponible: True\n",
      "Nom du GPU: NVIDIA GeForce RTX 4060 Laptop GPU\n",
      "Version de PyTorch: 2.4.1+cu118\n"
     ]
    }
   ],
   "source": [
    "import torch\n",
    "print(\"CUDA disponible:\", torch.cuda.is_available())  # Devrait retourner True\n",
    "print(\"Nom du GPU:\", torch.cuda.get_device_name(0))   # Affiche le nom du GPU\n",
    "print(\"Version de PyTorch:\", torch.__version__)       # Devrait afficher 2.4.1\n"
   ]
  },
  {
   "cell_type": "code",
   "execution_count": 23,
   "id": "874bf319-c1e6-4afd-802f-a7b9dda5c1dc",
   "metadata": {
    "colab": {
     "base_uri": "https://localhost:8080/"
    },
    "executionInfo": {
     "elapsed": 976,
     "status": "ok",
     "timestamp": 1727941201609,
     "user": {
      "displayName": "Mayer Cécile",
      "userId": "03016020088537475993"
     },
     "user_tz": -120
    },
    "id": "874bf319-c1e6-4afd-802f-a7b9dda5c1dc",
    "outputId": "fc51a035-c331-41b2-b86c-9b457a705f46"
   },
   "outputs": [
    {
     "name": "stderr",
     "output_type": "stream",
     "text": [
      "C:\\ProgramData\\anaconda3\\envs\\AIEP7\\Lib\\site-packages\\transformers\\tokenization_utils_base.py:1617: FutureWarning: `clean_up_tokenization_spaces` was not set. It will be set to `True` by default. This behavior will be deprecated in transformers v4.45, and will be then set to `False` by default. For more details check this issue: https://github.com/huggingface/transformers/issues/31884\n",
      "  warnings.warn(\n"
     ]
    }
   ],
   "source": [
    "import torch\n",
    "from transformers import AutoTokenizer, AutoModelForSequenceClassification\n",
    "from torch.utils.data import DataLoader, Dataset\n",
    "from sklearn.model_selection import train_test_split\n",
    "from sklearn.metrics import accuracy_score, classification_report\n",
    "import pandas as pd\n",
    "\n",
    "# Load the tokenizer and model\n",
    "model_name = \"cardiffnlp/twitter-roberta-base-sentiment\"\n",
    "tokenizer = AutoTokenizer.from_pretrained(model_name)\n",
    "model = AutoModelForSequenceClassification.from_pretrained(model_name)"
   ]
  },
  {
   "cell_type": "code",
   "execution_count": 24,
   "id": "2f0a89e5-1553-4c49-87d5-eeec802b06ee",
   "metadata": {
    "executionInfo": {
     "elapsed": 276,
     "status": "ok",
     "timestamp": 1727941203493,
     "user": {
      "displayName": "Mayer Cécile",
      "userId": "03016020088537475993"
     },
     "user_tz": -120
    },
    "id": "7cff257f-314f-4e63-9f9e-8e71d8f4b335"
   },
   "outputs": [],
   "source": [
    "# Freeze all layers except the last classification layer\n",
    "for param in model.base_model.parameters():\n",
    "    param.requires_grad = False"
   ]
  },
  {
   "cell_type": "code",
   "execution_count": 25,
   "id": "547f1784-0434-48ea-a60a-0ef5aedefdb4",
   "metadata": {},
   "outputs": [],
   "source": [
    "import torch\n",
    "from torch.utils.data import Dataset\n",
    "\n",
    "# Custom Dataset class to handle tokenization\n",
    "class TweetDataset(Dataset):\n",
    "    def __init__(self, texts, targets, tokenizer, max_len):\n",
    "        self.texts = texts\n",
    "        self.targets = targets\n",
    "        self.tokenizer = tokenizer\n",
    "        self.max_len = max_len\n",
    "\n",
    "    def __len__(self):\n",
    "        return len(self.texts)\n",
    "\n",
    "    def __getitem__(self, index):\n",
    "        text = str(self.texts[index])\n",
    "        target = self.targets[index]\n",
    "\n",
    "        # Tokenization\n",
    "        encoding = self.tokenizer(\n",
    "            text,\n",
    "            truncation=True,\n",
    "            padding='max_length',\n",
    "            max_length=self.max_len,\n",
    "            return_tensors='pt'\n",
    "        )\n",
    "\n",
    "        return {\n",
    "            'input_ids': encoding['input_ids'].flatten(),\n",
    "            'attention_mask': encoding['attention_mask'].flatten(),\n",
    "            'targets': torch.tensor(target, dtype=torch.long)\n",
    "        }"
   ]
  },
  {
   "cell_type": "code",
   "execution_count": 26,
   "id": "df1df57e-817b-48e0-9a3d-aef872edb2aa",
   "metadata": {
    "colab": {
     "base_uri": "https://localhost:8080/"
    },
    "executionInfo": {
     "elapsed": 386,
     "status": "ok",
     "timestamp": 1727941211500,
     "user": {
      "displayName": "Mayer Cécile",
      "userId": "03016020088537475993"
     },
     "user_tz": -120
    },
    "id": "df1df57e-817b-48e0-9a3d-aef872edb2aa",
    "outputId": "29e317aa-d0ea-4719-9230-7bbff7da3377"
   },
   "outputs": [],
   "source": [
    "# # Sous-échantillonage de train_df\n",
    "# from sklearn.model_selection import train_test_split\n",
    "\n",
    "# # Taille de l'échantillon (20% du total)\n",
    "# sample_size = 0.2\n",
    "\n",
    "# # Création du sous-échantillon avec stratification sur la colonne 'target'\n",
    "# train_sample, _ = train_test_split(train_df,\n",
    "#                                    test_size=1 - sample_size,\n",
    "#                                    stratify=train_df['target'],\n",
    "#                                    random_state=42)\n",
    "\n",
    "# # Affichage de la répartition des classes dans le sous-échantillon\n",
    "# print(train_sample['target'].value_counts(normalize=True))"
   ]
  },
  {
   "cell_type": "code",
   "execution_count": 27,
   "id": "7f09e563-e4d0-46ea-bac0-4dd5301c7390",
   "metadata": {
    "colab": {
     "base_uri": "https://localhost:8080/"
    },
    "executionInfo": {
     "elapsed": 281,
     "status": "ok",
     "timestamp": 1727940520350,
     "user": {
      "displayName": "Mayer Cécile",
      "userId": "03016020088537475993"
     },
     "user_tz": -120
    },
    "id": "7f09e563-e4d0-46ea-bac0-4dd5301c7390",
    "outputId": "2330e821-da7f-4077-8810-f7e9d6c382bb"
   },
   "outputs": [
    {
     "data": {
      "text/plain": [
       "RobertaForSequenceClassification(\n",
       "  (roberta): RobertaModel(\n",
       "    (embeddings): RobertaEmbeddings(\n",
       "      (word_embeddings): Embedding(50265, 768, padding_idx=1)\n",
       "      (position_embeddings): Embedding(514, 768, padding_idx=1)\n",
       "      (token_type_embeddings): Embedding(1, 768)\n",
       "      (LayerNorm): LayerNorm((768,), eps=1e-05, elementwise_affine=True)\n",
       "      (dropout): Dropout(p=0.1, inplace=False)\n",
       "    )\n",
       "    (encoder): RobertaEncoder(\n",
       "      (layer): ModuleList(\n",
       "        (0-11): 12 x RobertaLayer(\n",
       "          (attention): RobertaAttention(\n",
       "            (self): RobertaSdpaSelfAttention(\n",
       "              (query): Linear(in_features=768, out_features=768, bias=True)\n",
       "              (key): Linear(in_features=768, out_features=768, bias=True)\n",
       "              (value): Linear(in_features=768, out_features=768, bias=True)\n",
       "              (dropout): Dropout(p=0.1, inplace=False)\n",
       "            )\n",
       "            (output): RobertaSelfOutput(\n",
       "              (dense): Linear(in_features=768, out_features=768, bias=True)\n",
       "              (LayerNorm): LayerNorm((768,), eps=1e-05, elementwise_affine=True)\n",
       "              (dropout): Dropout(p=0.1, inplace=False)\n",
       "            )\n",
       "          )\n",
       "          (intermediate): RobertaIntermediate(\n",
       "            (dense): Linear(in_features=768, out_features=3072, bias=True)\n",
       "            (intermediate_act_fn): GELUActivation()\n",
       "          )\n",
       "          (output): RobertaOutput(\n",
       "            (dense): Linear(in_features=3072, out_features=768, bias=True)\n",
       "            (LayerNorm): LayerNorm((768,), eps=1e-05, elementwise_affine=True)\n",
       "            (dropout): Dropout(p=0.1, inplace=False)\n",
       "          )\n",
       "        )\n",
       "      )\n",
       "    )\n",
       "  )\n",
       "  (classifier): RobertaClassificationHead(\n",
       "    (dense): Linear(in_features=768, out_features=768, bias=True)\n",
       "    (dropout): Dropout(p=0.1, inplace=False)\n",
       "    (out_proj): Linear(in_features=768, out_features=3, bias=True)\n",
       "  )\n",
       ")"
      ]
     },
     "execution_count": 27,
     "metadata": {},
     "output_type": "execute_result"
    }
   ],
   "source": [
    "# Recap modèle et assignation de device pour le calcul\n",
    "device = torch.device(\"cuda\" if torch.cuda.is_available() else \"cpu\")\n",
    "model.to(device)"
   ]
  },
  {
   "cell_type": "code",
   "execution_count": 28,
   "id": "9546af3b-939f-44b0-817e-2e2cce4d905c",
   "metadata": {},
   "outputs": [],
   "source": [
    "from tweet_dataset import TweetDataset  # Importer la classe depuis le module séparé\n",
    "\n",
    "# Function to create the DataLoader\n",
    "def create_data_loader(df, tokenizer, max_len, batch_size):\n",
    "    dataset = TweetDataset(\n",
    "        texts=df['text'].to_numpy(),\n",
    "        targets=df['target'].to_numpy(),\n",
    "        tokenizer=tokenizer,\n",
    "        max_len=max_len\n",
    "    )\n",
    "    \n",
    "    return DataLoader(\n",
    "        dataset,\n",
    "        batch_size=batch_size,\n",
    "        num_workers=4  # Adjust according to your machine\n",
    "    )"
   ]
  },
  {
   "cell_type": "code",
   "execution_count": 29,
   "id": "6cd2ef6a-0aa4-4741-8b5f-4ac4c6b7e153",
   "metadata": {
    "colab": {
     "base_uri": "https://localhost:8080/"
    },
    "executionInfo": {
     "elapsed": 293,
     "status": "ok",
     "timestamp": 1727941060216,
     "user": {
      "displayName": "Mayer Cécile",
      "userId": "03016020088537475993"
     },
     "user_tz": -120
    },
    "id": "c75fd7e5-e0d0-4df9-98cb-fb293d9e48d4",
    "outputId": "f90289a1-48de-403a-fff6-4595f0404cbb"
   },
   "outputs": [],
   "source": [
    "# Main execution block\n",
    "if __name__ == \"__main__\":\n",
    "    maxlen = 40  # Max tokens\n",
    "    batch_size = 16  # Increase to lower calculation time\n",
    "\n",
    "    # Prepare the data\n",
    "    train_dataloader = create_data_loader(train_df, tokenizer, maxlen, batch_size)\n",
    "    test_dataloader = create_data_loader(test_df, tokenizer, maxlen, batch_size)\n",
    "    # Example usage of DataLoader (test de l'utilisation de la classe tweet_dataset\n",
    "    # for batch in train_dataloader:\n",
    "    #     print(batch)\n",
    "    #     break  # Remove this line to process the full dataset"
   ]
  },
  {
   "cell_type": "code",
   "execution_count": 30,
   "id": "73946f63-f247-4dad-aab2-a13556d1a842",
   "metadata": {
    "colab": {
     "base_uri": "https://localhost:8080/"
    },
    "executionInfo": {
     "elapsed": 293,
     "status": "ok",
     "timestamp": 1727941060216,
     "user": {
      "displayName": "Mayer Cécile",
      "userId": "03016020088537475993"
     },
     "user_tz": -120
    },
    "id": "c75fd7e5-e0d0-4df9-98cb-fb293d9e48d4",
    "outputId": "f90289a1-48de-403a-fff6-4595f0404cbb"
   },
   "outputs": [],
   "source": [
    "from torch.optim import AdamW\n",
    "# Optimizer and learning rate (adjustable)\n",
    "optimizer = AdamW(model.parameters(), lr=0.0001)"
   ]
  },
  {
   "cell_type": "code",
   "execution_count": 31,
   "id": "de491fb7-41eb-4050-a1db-59b19a2928b4",
   "metadata": {
    "executionInfo": {
     "elapsed": 257,
     "status": "ok",
     "timestamp": 1727941232104,
     "user": {
      "displayName": "Mayer Cécile",
      "userId": "03016020088537475993"
     },
     "user_tz": -120
    },
    "id": "de491fb7-41eb-4050-a1db-59b19a2928b4"
   },
   "outputs": [],
   "source": [
    "# Training function\n",
    "def train_epoch(model, dataloader, optimizer, device):\n",
    "    model = model.train()\n",
    "    total_loss = 0\n",
    "    total_correct = 0\n",
    "    total_samples = 0\n",
    "\n",
    "    for batch in dataloader:\n",
    "        optimizer.zero_grad()\n",
    "\n",
    "        input_ids = batch['input_ids'].to(device)\n",
    "        attention_mask = batch['attention_mask'].to(device)\n",
    "        targets = batch['targets'].to(device)\n",
    "\n",
    "        outputs = model(\n",
    "            input_ids=input_ids,\n",
    "            attention_mask=attention_mask,\n",
    "            labels=targets\n",
    "        )\n",
    "\n",
    "        loss = outputs.loss\n",
    "        logits = outputs.logits\n",
    "\n",
    "        total_loss += loss.item()\n",
    "        _, preds = torch.max(logits, dim=1)\n",
    "        total_correct += torch.sum(preds == targets)\n",
    "        total_samples += targets.size(0)\n",
    "\n",
    "        loss.backward()\n",
    "        optimizer.step()\n",
    "\n",
    "    return total_correct.double() / total_samples, total_loss / total_samples\n",
    "\n",
    "# Evaluation function\n",
    "def eval_model(model, dataloader, device):\n",
    "    model = model.eval()\n",
    "    total_correct = 0\n",
    "    total_samples = 0\n",
    "    predictions = []\n",
    "    true_labels = []\n",
    "\n",
    "    with torch.no_grad():\n",
    "        for batch in dataloader:\n",
    "            input_ids = batch['input_ids'].to(device)\n",
    "            attention_mask = batch['attention_mask'].to(device)\n",
    "            targets = batch['targets'].to(device)\n",
    "\n",
    "            outputs = model(\n",
    "                input_ids=input_ids,\n",
    "                attention_mask=attention_mask\n",
    "            )\n",
    "\n",
    "            logits = outputs.logits\n",
    "            _, preds = torch.max(logits, dim=1)\n",
    "\n",
    "            total_correct += torch.sum(preds == targets)\n",
    "            total_samples += targets.size(0)\n",
    "            predictions.extend(preds.cpu().numpy())\n",
    "            true_labels.extend(targets.cpu().numpy())\n",
    "\n",
    "    accuracy = total_correct.double() / total_samples\n",
    "    return accuracy, predictions, true_labels"
   ]
  },
  {
   "cell_type": "code",
   "execution_count": 32,
   "id": "c0ff838d-90d0-4053-a489-42499b039641",
   "metadata": {
    "colab": {
     "base_uri": "https://localhost:8080/"
    },
    "executionInfo": {
     "elapsed": 263605,
     "status": "ok",
     "timestamp": 1727940801597,
     "user": {
      "displayName": "Mayer Cécile",
      "userId": "03016020088537475993"
     },
     "user_tz": -120
    },
    "id": "c0ff838d-90d0-4053-a489-42499b039641",
    "outputId": "e82597bd-fabd-4232-e190-9358fe7ab837"
   },
   "outputs": [
    {
     "name": "stderr",
     "output_type": "stream",
     "text": [
      "C:\\ProgramData\\anaconda3\\envs\\AIEP7\\Lib\\site-packages\\transformers\\models\\roberta\\modeling_roberta.py:370: UserWarning: 1Torch was not compiled with flash attention. (Triggered internally at C:\\actions-runner\\_work\\pytorch\\pytorch\\builder\\windows\\pytorch\\aten\\src\\ATen\\native\\transformers\\cuda\\sdp_utils.cpp:555.)\n",
      "  attn_output = torch.nn.functional.scaled_dot_product_attention(\n"
     ]
    },
    {
     "name": "stdout",
     "output_type": "stream",
     "text": [
      "Epoch 1/20 | Train Loss: 0.0356 | Train Accuracy: 0.7337\n",
      "Epoch 2/20 | Train Loss: 0.0294 | Train Accuracy: 0.7797\n",
      "Epoch 3/20 | Train Loss: 0.0291 | Train Accuracy: 0.7797\n",
      "Epoch 4/20 | Train Loss: 0.0288 | Train Accuracy: 0.7797\n",
      "Epoch 5/20 | Train Loss: 0.0288 | Train Accuracy: 0.7859\n",
      "Epoch 6/20 | Train Loss: 0.0283 | Train Accuracy: 0.7850\n",
      "Epoch 7/20 | Train Loss: 0.0282 | Train Accuracy: 0.7862\n",
      "Epoch 8/20 | Train Loss: 0.0277 | Train Accuracy: 0.7882\n",
      "Epoch 9/20 | Train Loss: 0.0282 | Train Accuracy: 0.7838\n",
      "Epoch 10/20 | Train Loss: 0.0279 | Train Accuracy: 0.7885\n",
      "Epoch 11/20 | Train Loss: 0.0279 | Train Accuracy: 0.7829\n",
      "Epoch 12/20 | Train Loss: 0.0279 | Train Accuracy: 0.7826\n",
      "Epoch 13/20 | Train Loss: 0.0278 | Train Accuracy: 0.7929\n",
      "Epoch 14/20 | Train Loss: 0.0276 | Train Accuracy: 0.7912\n",
      "Epoch 15/20 | Train Loss: 0.0276 | Train Accuracy: 0.7912\n",
      "Epoch 16/20 | Train Loss: 0.0276 | Train Accuracy: 0.7938\n",
      "Epoch 17/20 | Train Loss: 0.0277 | Train Accuracy: 0.7882\n",
      "Epoch 18/20 | Train Loss: 0.0274 | Train Accuracy: 0.7947\n",
      "Epoch 19/20 | Train Loss: 0.0273 | Train Accuracy: 0.7971\n",
      "Epoch 20/20 | Train Loss: 0.0273 | Train Accuracy: 0.7926\n"
     ]
    }
   ],
   "source": [
    "epochs = 20  # Adjust as necessary\n",
    "\n",
    "for epoch in range(epochs):\n",
    "    train_acc, train_loss = train_epoch(model, train_dataloader, optimizer, device)\n",
    "    print(f'Epoch {epoch + 1}/{epochs} | Train Loss: {train_loss:.4f} | Train Accuracy: {train_acc:.4f}')"
   ]
  },
  {
   "cell_type": "code",
   "execution_count": 33,
   "id": "601fdbcf-aec8-4259-b372-9f852d402ac4",
   "metadata": {},
   "outputs": [],
   "source": [
    "# import torch\n",
    "# import numpy as np\n",
    "# from sklearn.metrics import recall_score\n",
    "# import matplotlib.pyplot as plt\n",
    "\n",
    "# # Function to calculate recall (as a callback metric)\n",
    "# def calculate_recall(y_true, y_pred):\n",
    "#     y_pred = torch.argmax(y_pred, dim=1).cpu().numpy()\n",
    "#     y_true = y_true.cpu().numpy()\n",
    "#     return recall_score(y_true, y_pred, average='macro')"
   ]
  },
  {
   "cell_type": "code",
   "execution_count": 34,
   "id": "24ea7e29-35df-4fcb-a73e-18aecf10b549",
   "metadata": {},
   "outputs": [],
   "source": [
    "# # Train and evaluation function\n",
    "# def train_epoch(model, dataloader, optimizer, device):\n",
    "#     model.train()\n",
    "#     losses = []\n",
    "#     correct_predictions = 0\n",
    "#     total_predictions = 0\n",
    "\n",
    "#     for batch in dataloader:\n",
    "#         optimizer.zero_grad()\n",
    "#         inputs = batch['input_ids'].to(device)\n",
    "#         masks = batch['attention_mask'].to(device)\n",
    "#         targets = batch['targets'].to(device)\n",
    "\n",
    "#         outputs = model(input_ids=inputs, attention_mask=masks).logits\n",
    "#         loss = torch.nn.CrossEntropyLoss()(outputs, targets)\n",
    "        \n",
    "#         _, preds = torch.max(outputs, dim=1)\n",
    "#         correct_predictions += torch.sum(preds == targets)\n",
    "#         total_predictions += targets.size(0)\n",
    "\n",
    "#         loss.backward()\n",
    "#         optimizer.step()\n",
    "\n",
    "#         losses.append(loss.item())\n",
    "\n",
    "#     return correct_predictions.double() / total_predictions, np.mean(losses)\n",
    "\n",
    "# def eval_model(model, dataloader, device):\n",
    "#     model.eval()\n",
    "#     losses = []\n",
    "#     correct_predictions = 0\n",
    "#     total_predictions = 0\n",
    "#     recalls = []\n",
    "\n",
    "#     with torch.no_grad():\n",
    "#         for batch in dataloader:\n",
    "#             inputs = batch['input_ids'].to(device)\n",
    "#             masks = batch['attention_mask'].to(device)\n",
    "#             targets = batch['targets'].to(device)\n",
    "\n",
    "#             outputs = model(input_ids=inputs, attention_mask=masks).logits\n",
    "#             loss = torch.nn.CrossEntropyLoss()(outputs, targets)\n",
    "\n",
    "#             _, preds = torch.max(outputs, dim=1)\n",
    "#             correct_predictions += torch.sum(preds == targets)\n",
    "#             total_predictions += targets.size(0)\n",
    "            \n",
    "#             # Recall calculation\n",
    "#             recalls.append(calculate_recall(targets, outputs))\n",
    "\n",
    "#             losses.append(loss.item())\n",
    "\n",
    "#     return correct_predictions.double() / total_predictions, np.mean(losses), np.mean(recalls)"
   ]
  },
  {
   "cell_type": "code",
   "execution_count": 35,
   "id": "ed865123-04cc-4084-981e-2600dc3aba1a",
   "metadata": {},
   "outputs": [],
   "source": [
    "# # Training loop with callbacks, early stopping and history tracking\n",
    "# def train_model(model, train_dataloader, test_dataloader, optimizer, epochs, device, patience=3):\n",
    "#     history = {\n",
    "#         'train_loss': [],\n",
    "#         'test_loss': [],\n",
    "#         'train_recall': [],\n",
    "#         'test_recall': []\n",
    "#     }\n",
    "\n",
    "#     best_recall = 0\n",
    "#     early_stopping_counter = 0\n",
    "\n",
    "#     for epoch in range(epochs):\n",
    "#         # Training\n",
    "#         train_acc, train_loss = train_epoch(model, train_dataloader, optimizer, device)\n",
    "#         # Evaluation\n",
    "#         test_acc, test_loss, test_recall = eval_model(model, test_dataloader, device)\n",
    "        \n",
    "#         # Save metrics to history\n",
    "#         history['train_loss'].append(train_loss)\n",
    "#         history['test_loss'].append(test_loss)\n",
    "#         history['train_recall'].append(train_acc)\n",
    "#         history['test_recall'].append(test_recall)\n",
    "\n",
    "#         # Print progress\n",
    "#         print(f'Epoch {epoch + 1}/{epochs} | Train Loss: {train_loss:.4f} | Test Loss: {test_loss:.4f} | Test Recall: {test_recall:.4f}')\n",
    "\n",
    "#         # Early stopping based on loss improvement\n",
    "#         if test_recall > best_recall:\n",
    "#             best_recall = test_recall\n",
    "#             early_stopping_counter = 0\n",
    "#             # Optionally save the best model here\n",
    "#             torch.save(model.state_dict(), 'best_model.pth')\n",
    "#         else:\n",
    "#             early_stopping_counter += 1\n",
    "\n",
    "#         if early_stopping_counter >= patience:\n",
    "#             print(f\"Early stopping after {epoch + 1} epochs\")\n",
    "#             break\n",
    "\n",
    "#     # Save history to a file\n",
    "#     with open('history.npy', 'wb') as f:\n",
    "#         np.save(f, history)\n",
    "\n",
    "#     # Plot loss and recall\n",
    "#     plot_history(history)"
   ]
  },
  {
   "cell_type": "code",
   "execution_count": 36,
   "id": "32cad370-e422-45ce-82ab-ccf20b8bc68b",
   "metadata": {},
   "outputs": [],
   "source": [
    "# def plot_history(history):\n",
    "#     epochs = len(history['train_loss'])\n",
    "#     plt.figure(figsize=(14, 5))\n",
    "\n",
    "#     # Plot loss\n",
    "#     plt.subplot(1, 2, 1)\n",
    "#     plt.plot(range(epochs), history['train_loss'], label='Train Loss')\n",
    "#     plt.plot(range(epochs), history['test_loss'], label='Test Loss')\n",
    "#     plt.legend()\n",
    "#     plt.title('Loss Evolution')\n",
    "    \n",
    "#     # Plot recall\n",
    "#     plt.subplot(1, 2, 2)\n",
    "#     plt.plot(range(epochs), history['train_recall'], label='Train Recall')\n",
    "#     plt.plot(range(epochs), history['test_recall'], label='Test Recall')\n",
    "#     plt.legend()\n",
    "#     plt.title('Recall Evolution')\n",
    "\n",
    "#     plt.show()"
   ]
  },
  {
   "cell_type": "code",
   "execution_count": 37,
   "id": "5cf880ab-6fd8-4d93-9b4e-c073d52c6e1e",
   "metadata": {},
   "outputs": [],
   "source": [
    "# train_model(model, train_dataloader, test_dataloader, optimizer, epochs=5, device=device)"
   ]
  },
  {
   "cell_type": "code",
   "execution_count": 38,
   "id": "ce9bd771-bff8-46b0-aa6b-90d399c37f37",
   "metadata": {
    "colab": {
     "base_uri": "https://localhost:8080/"
    },
    "executionInfo": {
     "elapsed": 10462,
     "status": "ok",
     "timestamp": 1727940827256,
     "user": {
      "displayName": "Mayer Cécile",
      "userId": "03016020088537475993"
     },
     "user_tz": -120
    },
    "id": "ce9bd771-bff8-46b0-aa6b-90d399c37f37",
    "outputId": "207cd658-6221-4c01-c7de-745c827809ae"
   },
   "outputs": [
    {
     "name": "stdout",
     "output_type": "stream",
     "text": [
      "Test Accuracy: 0.7960\n",
      "\n",
      "Classification Report on Test Data:\n",
      "              precision    recall  f1-score   support\n",
      "\n",
      "    positive       0.78      0.83      0.80       726\n",
      "    negative       0.82      0.77      0.79       730\n",
      "\n",
      "    accuracy                           0.80      1456\n",
      "   macro avg       0.80      0.80      0.80      1456\n",
      "weighted avg       0.80      0.80      0.80      1456\n",
      "\n"
     ]
    }
   ],
   "source": [
    "# Evaluate the model on the test set\n",
    "test_acc, test_preds, test_true = eval_model(model, test_dataloader, device)\n",
    "print(f'Test Accuracy: {test_acc:.4f}')\n",
    "\n",
    "# Classification report\n",
    "print(\"\\nClassification Report on Test Data:\")\n",
    "print(classification_report(test_true, test_preds, target_names=[\"positive\", \"negative\"]))"
   ]
  },
  {
   "cell_type": "code",
   "execution_count": 39,
   "id": "50987908-831d-4c36-853c-24265d579e86",
   "metadata": {
    "colab": {
     "base_uri": "https://localhost:8080/"
    },
    "executionInfo": {
     "elapsed": 2207,
     "status": "ok",
     "timestamp": 1727940858009,
     "user": {
      "displayName": "Mayer Cécile",
      "userId": "03016020088537475993"
     },
     "user_tz": -120
    },
    "id": "50987908-831d-4c36-853c-24265d579e86",
    "outputId": "66ace61f-12b0-4b78-da06-df8cc14b8d82"
   },
   "outputs": [
    {
     "name": "stdout",
     "output_type": "stream",
     "text": [
      "Model saved to ./models/roberta_fine_tuned_10_14_2024_21_58\n"
     ]
    }
   ],
   "source": [
    "from datetime import datetime\n",
    "\n",
    "# Get current date and time\n",
    "now = datetime.now()\n",
    "dt_string = now.strftime(\"%m_%d_%Y_%H_%M\")\n",
    "\n",
    "# Save the model\n",
    "model_save_path = f'./models/roberta_fine_tuned_{dt_string}'\n",
    "model.save_pretrained(model_save_path)\n",
    "tokenizer.save_pretrained(model_save_path)\n",
    "\n",
    "print(f\"Model saved to {model_save_path}\")"
   ]
  },
  {
   "cell_type": "code",
   "execution_count": null,
   "id": "5368a41b-9e43-45e3-a27d-bc076528da72",
   "metadata": {},
   "outputs": [],
   "source": []
  }
 ],
 "metadata": {
  "accelerator": "GPU",
  "colab": {
   "gpuType": "T4",
   "provenance": [
    {
     "file_id": "1DddhZbYzSVf3snWVyVayyvdyLThtmhYo",
     "timestamp": 1727941407198
    }
   ]
  },
  "kernelspec": {
   "display_name": "AIEP7",
   "language": "python",
   "name": "aiep7"
  },
  "language_info": {
   "codemirror_mode": {
    "name": "ipython",
    "version": 3
   },
   "file_extension": ".py",
   "mimetype": "text/x-python",
   "name": "python",
   "nbconvert_exporter": "python",
   "pygments_lexer": "ipython3",
   "version": "3.12.5"
  }
 },
 "nbformat": 4,
 "nbformat_minor": 5
}
