{
 "cells": [
  {
   "cell_type": "markdown",
   "id": "b3dc1bd8-5876-40cc-8417-b2a3e0fa8bd5",
   "metadata": {},
   "source": [
    "# Approche classique: embeddings de mots"
   ]
  },
  {
   "cell_type": "markdown",
   "id": "0edd2ac6-6cb7-419f-8a6b-043f1eb95ce3",
   "metadata": {},
   "source": [
    "### Embeddings de comptage des mots"
   ]
  },
  {
   "cell_type": "markdown",
   "id": "53f14cca-23ae-435c-a2f4-f027972a4937",
   "metadata": {},
   "source": [
    "### Modélisation des embeddings par comptage"
   ]
  },
  {
   "cell_type": "markdown",
   "id": "8f97f35d-f677-4e08-bc20-0817451f821c",
   "metadata": {},
   "source": [
    "Test de Pycaret (avec suivi d'expérience MLFlow à activer par la suite)"
   ]
  }
 ],
 "metadata": {
  "kernelspec": {
   "display_name": "AIEP6",
   "language": "python",
   "name": "aiep6"
  },
  "language_info": {
   "codemirror_mode": {
    "name": "ipython",
    "version": 3
   },
   "file_extension": ".py",
   "mimetype": "text/x-python",
   "name": "python",
   "nbconvert_exporter": "python",
   "pygments_lexer": "ipython3",
   "version": "3.11.7"
  }
 },
 "nbformat": 4,
 "nbformat_minor": 5
}
