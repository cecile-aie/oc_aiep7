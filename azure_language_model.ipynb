{
 "cells": [
  {
   "cell_type": "code",
   "execution_count": 1,
   "id": "2d97ee14-3fb1-4d73-a3bb-636b1c65b932",
   "metadata": {},
   "outputs": [],
   "source": [
    "# pip install azure-ai-textanalytics mlflow"
   ]
  },
  {
   "cell_type": "code",
   "execution_count": null,
   "id": "6920b9b9-d3fb-429c-b8c5-6c591d1306c7",
   "metadata": {},
   "outputs": [
    {
     "name": "stderr",
     "output_type": "stream",
     "text": [
      "2024/10/16 17:15:55 INFO mlflow.utils.credentials: No valid Databricks credentials found, please enter your credentials...\n"
     ]
    }
   ],
   "source": [
    "# pip install mlflow\n",
    "# autentification sur Databricks CE\n",
    "import mlflow\n",
    "mlflow.login()"
   ]
  },
  {
   "cell_type": "code",
   "execution_count": 3,
   "id": "eac5ec4b-2597-4fa0-88f0-a06a8e96b5ae",
   "metadata": {},
   "outputs": [
    {
     "data": {
      "text/plain": [
       "<Experiment: artifact_location='dbfs:/databricks/mlflow-tracking/1027352006989850', creation_time=1729088742627, experiment_id='1027352006989850', last_update_time=1729088742627, lifecycle_stage='active', name='/Users/cecilemayer@live.com/azure_language_analytics', tags={'mlflow.experiment.sourceName': '/Users/cecilemayer@live.com/azure_language_analytics',\n",
       " 'mlflow.experimentType': 'MLFLOW_EXPERIMENT',\n",
       " 'mlflow.ownerEmail': 'cecilemayer@live.com',\n",
       " 'mlflow.ownerId': '516447469672104'}>"
      ]
     },
     "execution_count": 3,
     "metadata": {},
     "output_type": "execute_result"
    }
   ],
   "source": [
    "# Asignation de Databricks CE comme serveur de tracking\n",
    "mlflow.set_tracking_uri(\"databricks\")\n",
    "# Création de l'expérimentation \"approche classique\"\n",
    "mlflow.set_experiment(\"/Users/cecilemayer@live.com/azure_language_analytics\")"
   ]
  },
  {
   "cell_type": "code",
   "execution_count": 45,
   "id": "894823b7-28df-449c-aea4-6379f94904c3",
   "metadata": {},
   "outputs": [],
   "source": [
    "import os\n",
    "\n",
    "# This example requires environment variables named \"LANGUAGE_KEY\" and \"LANGUAGE_ENDPOINT\"\n",
    "language_key = \"c2a3a85df2864bbd88d18e2006d64bf4\"\n",
    "# os.environ.get('LANGUAGE_KEY')\n",
    "language_endpoint = \"https://aiep7-2.cognitiveservices.azure.com/\"\n",
    "# os.environ.get('LANGUAGE_ENDPOINT')\n"
   ]
  },
  {
   "cell_type": "code",
   "execution_count": 46,
   "id": "f9a03f1a-e337-4bc9-a1a3-2c9a70709e2e",
   "metadata": {},
   "outputs": [],
   "source": [
    "from azure.ai.textanalytics import TextAnalyticsClient\n",
    "from azure.core.credentials import AzureKeyCredential"
   ]
  },
  {
   "cell_type": "code",
   "execution_count": 47,
   "id": "fd4c77d9-9257-4a77-bf3a-9c9a6af0b332",
   "metadata": {},
   "outputs": [],
   "source": [
    "# Authenticate the client using your key and endpoint \n",
    "def authenticate_client():\n",
    "    ta_credential = AzureKeyCredential(language_key)\n",
    "    text_analytics_client = TextAnalyticsClient(\n",
    "            endpoint=language_endpoint, \n",
    "            credential=ta_credential)\n",
    "    return text_analytics_client\n",
    "\n",
    "client = authenticate_client()"
   ]
  },
  {
   "cell_type": "code",
   "execution_count": 48,
   "id": "8249ad4f-a2f1-4ee7-a44b-9f889765e438",
   "metadata": {},
   "outputs": [],
   "source": [
    "# 2. Fonction pour analyser le sentiment d'un texte\n",
    "def sentiment_analysis(client, documents):\n",
    "    sentiments = []\n",
    "    batch_size = 10  # Azure ne permet pas plus de 10 documents par requête\n",
    "\n",
    "    for i in range(0, len(documents), batch_size):\n",
    "        batch = documents[i:i + batch_size]  # Diviser les documents en lots de 10\n",
    "        response = client.analyze_sentiment(documents=batch)\n",
    "        for doc in response:\n",
    "            if not doc.is_error:\n",
    "                sentiment = 0 if doc.sentiment == \"positive\" else 1\n",
    "                sentiments.append(sentiment)\n",
    "            else:\n",
    "                sentiments.append(None)  # Pour gérer les erreurs éventuelles\n",
    "    return sentiments"
   ]
  },
  {
   "cell_type": "code",
   "execution_count": 49,
   "id": "73523fd7-b315-46a8-bed1-4d67199bfb73",
   "metadata": {},
   "outputs": [],
   "source": [
    "# 3. Analyser le dataframe\n",
    "def add_sentiment_column(data, column):\n",
    "    client = authenticate_client()\n",
    "    documents = data[column].tolist()  # Extraire les textes à analyser\n",
    "    sentiments = sentiment_analysis(client, documents)  # Analyser le sentiment\n",
    "    \n",
    "    new_column_name = f\"azure_sentiment_{column}\"  # Concaténer azure_sentiment avec le nom de la colonne\n",
    "    data[new_column_name] = sentiments  # Ajouter les résultats comme nouvelle colonne\n",
    "    \n",
    "    return data"
   ]
  },
  {
   "cell_type": "code",
   "execution_count": 50,
   "id": "4101d988-fb79-45df-ab32-2a9f5fcaa6e3",
   "metadata": {},
   "outputs": [],
   "source": [
    "import pandas as pd\n",
    "data = pd.read_csv(\"./data/test_df.csv\", index_col=0)"
   ]
  },
  {
   "cell_type": "code",
   "execution_count": 51,
   "id": "44032897-b2f3-42de-9630-47fbd223ce86",
   "metadata": {},
   "outputs": [],
   "source": [
    "# Ajouter la colonne 'azure_sentiment_preprocessed_text'\n",
    "data = add_sentiment_column(data, \"preprocessed_text\")"
   ]
  },
  {
   "cell_type": "code",
   "execution_count": 52,
   "id": "ce7fe309-fd15-4b29-9cb6-620adb4e7ed4",
   "metadata": {},
   "outputs": [
    {
     "data": {
      "image/png": "[encoded data removed]",
      "text/plain": [
       "<Figure size 640x480 with 1 Axes>"
      ]
     },
     "metadata": {},
     "output_type": "display_data"
    },
    {
     "name": "stdout",
     "output_type": "stream",
     "text": [
      "Rapport de Classification:\n",
      "\n",
      "              precision    recall  f1-score   support\n",
      "\n",
      "     Négatif       0.74      0.44      0.55       726\n",
      "     Positif       0.60      0.85      0.70       730\n",
      "\n",
      "    accuracy                           0.64      1456\n",
      "   macro avg       0.67      0.64      0.63      1456\n",
      "weighted avg       0.67      0.64      0.63      1456\n",
      "\n"
     ]
    }
   ],
   "source": [
    "from sklearn.metrics import confusion_matrix, classification_report\n",
    "import seaborn as sns\n",
    "import matplotlib.pyplot as plt\n",
    "\n",
    "# 1. Afficher la matrice de confusion\n",
    "def plot_confusion_matrix(data):\n",
    "    y_true = data['target']  # Labels réels\n",
    "    y_pred = data['azure_sentiment_preprocessed_text']  # Prédictions\n",
    "    cm = confusion_matrix(y_true, y_pred)  # Calculer la matrice de confusion\n",
    "    \n",
    "    # Afficher la matrice de confusion avec seaborn pour une meilleure visualisation\n",
    "    sns.heatmap(cm, annot=True, fmt='d', cmap='Blues', cbar=False, \n",
    "                xticklabels=['Négatif', 'Positif'], \n",
    "                yticklabels=['Négatif', 'Positif'])\n",
    "    plt.xlabel('Prédictions')\n",
    "    plt.ylabel('Vérités')\n",
    "    plt.title('Matrice de Confusion')\n",
    "    plt.show()\n",
    "\n",
    "# 2. Afficher le rapport de classification\n",
    "def print_classification_report(data):\n",
    "    y_true = data['target']  # Labels réels\n",
    "    y_pred = data['azure_sentiment_preprocessed_text']  # Prédictions\n",
    "    report = classification_report(y_true, y_pred, target_names=['Négatif', 'Positif'])\n",
    "    print(\"Rapport de Classification:\\n\")\n",
    "    print(report)\n",
    "\n",
    "# Afficher la matrice de confusion\n",
    "plot_confusion_matrix(data)\n",
    "\n",
    "# Afficher le rapport de classification\n",
    "print_classification_report(data)"
   ]
  },
  {
   "cell_type": "code",
   "execution_count": 53,
   "id": "7fffc12f-30ef-4c36-9345-3354ea6a3586",
   "metadata": {},
   "outputs": [
    {
     "data": {
      "text/html": [
       "<div>\n",
       "<style scoped>\n",
       "    .dataframe tbody tr th:only-of-type {\n",
       "        vertical-align: middle;\n",
       "    }\n",
       "\n",
       "    .dataframe tbody tr th {\n",
       "        vertical-align: top;\n",
       "    }\n",
       "\n",
       "    .dataframe thead th {\n",
       "        text-align: right;\n",
       "    }\n",
       "</style>\n",
       "<table border=\"1\" class=\"dataframe\">\n",
       "  <thead>\n",
       "    <tr style=\"text-align: right;\">\n",
       "      <th></th>\n",
       "      <th>target</th>\n",
       "      <th>ids</th>\n",
       "      <th>date</th>\n",
       "      <th>flag</th>\n",
       "      <th>user</th>\n",
       "      <th>text</th>\n",
       "      <th>sentiment_score</th>\n",
       "      <th>cleaned_text</th>\n",
       "      <th>tokenized</th>\n",
       "      <th>preprocessed_text</th>\n",
       "      <th>preprocessed_tokenized</th>\n",
       "      <th>length_tokenized</th>\n",
       "      <th>length_preprocessed_tokenized</th>\n",
       "      <th>sia_sentiment</th>\n",
       "      <th>azure_sentiment_preprocessed_text</th>\n",
       "      <th>azure_sentiment_text</th>\n",
       "    </tr>\n",
       "  </thead>\n",
       "  <tbody>\n",
       "    <tr>\n",
       "      <th>1191245</th>\n",
       "      <td>0</td>\n",
       "      <td>1983861581</td>\n",
       "      <td>Sun May 31 13:58:55 PDT 2009</td>\n",
       "      <td>NO_QUERY</td>\n",
       "      <td>navb01</td>\n",
       "      <td>Just got the new flight of the conchords cd!</td>\n",
       "      <td>4</td>\n",
       "      <td>Just got the new flight of the Concords CD!</td>\n",
       "      <td>['Just', 'got', 'the', 'new', 'flight', 'of', ...</td>\n",
       "      <td>got new flight concord cd !</td>\n",
       "      <td>['got', 'new', 'flight', 'concord', 'cd', '!']</td>\n",
       "      <td>10</td>\n",
       "      <td>6</td>\n",
       "      <td>1</td>\n",
       "      <td>1</td>\n",
       "      <td>0</td>\n",
       "    </tr>\n",
       "    <tr>\n",
       "      <th>1130604</th>\n",
       "      <td>0</td>\n",
       "      <td>1975724039</td>\n",
       "      <td>Sat May 30 15:45:55 PDT 2009</td>\n",
       "      <td>NO_QUERY</td>\n",
       "      <td>blyan</td>\n",
       "      <td>Sounders vs Crew Tonight. Sigi's revenge! I'll...</td>\n",
       "      <td>4</td>\n",
       "      <td>Sounders vs Crew Tonight. Sign's revenge! I wi...</td>\n",
       "      <td>['Sounders', 'vs', 'Crew', 'Tonight', '.', 'Si...</td>\n",
       "      <td>sounder v crew tonight  sign 's revenge ! one ...</td>\n",
       "      <td>['sounder', 'v', 'crew', 'tonight', 'sign', \"'...</td>\n",
       "      <td>32</td>\n",
       "      <td>20</td>\n",
       "      <td>1</td>\n",
       "      <td>1</td>\n",
       "      <td>1</td>\n",
       "    </tr>\n",
       "    <tr>\n",
       "      <th>864761</th>\n",
       "      <td>0</td>\n",
       "      <td>1677346161</td>\n",
       "      <td>Sat May 02 01:36:20 PDT 2009</td>\n",
       "      <td>NO_QUERY</td>\n",
       "      <td>AWsimplybasic</td>\n",
       "      <td>:o gotta leave for mahh plane in a lil, gonna ...</td>\n",
       "      <td>4</td>\n",
       "      <td>:o got to leave for math plane in a little, go...</td>\n",
       "      <td>[':', 'o', 'got', 'to', 'leave', 'for', 'math'...</td>\n",
       "      <td>got leave math plane little  going get early ...</td>\n",
       "      <td>['got', 'leave', 'math', 'plane', 'little', 'g...</td>\n",
       "      <td>27</td>\n",
       "      <td>11</td>\n",
       "      <td>1</td>\n",
       "      <td>1</td>\n",
       "      <td>1</td>\n",
       "    </tr>\n",
       "    <tr>\n",
       "      <th>1007468</th>\n",
       "      <td>0</td>\n",
       "      <td>1880709139</td>\n",
       "      <td>Fri May 22 02:12:59 PDT 2009</td>\n",
       "      <td>NO_QUERY</td>\n",
       "      <td>Dutchrudder</td>\n",
       "      <td>Even the A team can't find @Jimmy_Poodle !!!! ...</td>\n",
       "      <td>4</td>\n",
       "      <td>Even the A team cannot find &lt;mention&gt; !! So yo...</td>\n",
       "      <td>['Even', 'the', 'A', 'team', 'can', 'not', 'fi...</td>\n",
       "      <td>even team find &lt;mention&gt; ! ! better &lt;hashtag&gt; ...</td>\n",
       "      <td>['even', 'team', 'find', '&lt;mention&gt;', '!', '!'...</td>\n",
       "      <td>24</td>\n",
       "      <td>12</td>\n",
       "      <td>0</td>\n",
       "      <td>0</td>\n",
       "      <td>1</td>\n",
       "    </tr>\n",
       "    <tr>\n",
       "      <th>446261</th>\n",
       "      <td>1</td>\n",
       "      <td>2068363279</td>\n",
       "      <td>Sun Jun 07 13:57:28 PDT 2009</td>\n",
       "      <td>NO_QUERY</td>\n",
       "      <td>change02</td>\n",
       "      <td>Looks like I may have missed my flight by lite...</td>\n",
       "      <td>0</td>\n",
       "      <td>Looks like I may have missed my flight by lite...</td>\n",
       "      <td>['Looks', 'like', 'I', 'may', 'have', 'missed'...</td>\n",
       "      <td>look like may missed flight literally minute</td>\n",
       "      <td>['look', 'like', 'may', 'missed', 'flight', 'l...</td>\n",
       "      <td>13</td>\n",
       "      <td>7</td>\n",
       "      <td>0</td>\n",
       "      <td>1</td>\n",
       "      <td>1</td>\n",
       "    </tr>\n",
       "  </tbody>\n",
       "</table>\n",
       "</div>"
      ],
      "text/plain": [
       "         target         ids                          date      flag  \\\n",
       "1191245       0  1983861581  Sun May 31 13:58:55 PDT 2009  NO_QUERY   \n",
       "1130604       0  1975724039  Sat May 30 15:45:55 PDT 2009  NO_QUERY   \n",
       "864761        0  1677346161  Sat May 02 01:36:20 PDT 2009  NO_QUERY   \n",
       "1007468       0  1880709139  Fri May 22 02:12:59 PDT 2009  NO_QUERY   \n",
       "446261        1  2068363279  Sun Jun 07 13:57:28 PDT 2009  NO_QUERY   \n",
       "\n",
       "                  user                                               text  \\\n",
       "1191245         navb01      Just got the new flight of the conchords cd!    \n",
       "1130604          blyan  Sounders vs Crew Tonight. Sigi's revenge! I'll...   \n",
       "864761   AWsimplybasic  :o gotta leave for mahh plane in a lil, gonna ...   \n",
       "1007468    Dutchrudder  Even the A team can't find @Jimmy_Poodle !!!! ...   \n",
       "446261        change02  Looks like I may have missed my flight by lite...   \n",
       "\n",
       "         sentiment_score                                       cleaned_text  \\\n",
       "1191245                4       Just got the new flight of the Concords CD!    \n",
       "1130604                4  Sounders vs Crew Tonight. Sign's revenge! I wi...   \n",
       "864761                 4  :o got to leave for math plane in a little, go...   \n",
       "1007468                4  Even the A team cannot find <mention> !! So yo...   \n",
       "446261                 0  Looks like I may have missed my flight by lite...   \n",
       "\n",
       "                                                 tokenized  \\\n",
       "1191245  ['Just', 'got', 'the', 'new', 'flight', 'of', ...   \n",
       "1130604  ['Sounders', 'vs', 'Crew', 'Tonight', '.', 'Si...   \n",
       "864761   [':', 'o', 'got', 'to', 'leave', 'for', 'math'...   \n",
       "1007468  ['Even', 'the', 'A', 'team', 'can', 'not', 'fi...   \n",
       "446261   ['Looks', 'like', 'I', 'may', 'have', 'missed'...   \n",
       "\n",
       "                                         preprocessed_text  \\\n",
       "1191245                        got new flight concord cd !   \n",
       "1130604  sounder v crew tonight  sign 's revenge ! one ...   \n",
       "864761    got leave math plane little  going get early ...   \n",
       "1007468  even team find <mention> ! ! better <hashtag> ...   \n",
       "446261       look like may missed flight literally minute    \n",
       "\n",
       "                                    preprocessed_tokenized  length_tokenized  \\\n",
       "1191245     ['got', 'new', 'flight', 'concord', 'cd', '!']                10   \n",
       "1130604  ['sounder', 'v', 'crew', 'tonight', 'sign', \"'...                32   \n",
       "864761   ['got', 'leave', 'math', 'plane', 'little', 'g...                27   \n",
       "1007468  ['even', 'team', 'find', '<mention>', '!', '!'...                24   \n",
       "446261   ['look', 'like', 'may', 'missed', 'flight', 'l...                13   \n",
       "\n",
       "         length_preprocessed_tokenized  sia_sentiment  \\\n",
       "1191245                              6              1   \n",
       "1130604                             20              1   \n",
       "864761                              11              1   \n",
       "1007468                             12              0   \n",
       "446261                               7              0   \n",
       "\n",
       "         azure_sentiment_preprocessed_text  azure_sentiment_text  \n",
       "1191245                                  1                     0  \n",
       "1130604                                  1                     1  \n",
       "864761                                   1                     1  \n",
       "1007468                                  0                     1  \n",
       "446261                                   1                     1  "
      ]
     },
     "execution_count": 53,
     "metadata": {},
     "output_type": "execute_result"
    }
   ],
   "source": [
    "# Ajouter la colonne 'azure_sentiment_text'\n",
    "data = add_sentiment_column(data, \"text\")\n",
    "data.head()"
   ]
  },
  {
   "cell_type": "code",
   "execution_count": 54,
   "id": "ea5f79e3-3660-4314-a75c-2fe0dc04f9c7",
   "metadata": {},
   "outputs": [],
   "source": [
    "from sklearn.metrics import confusion_matrix, classification_report, accuracy_score\n",
    "import pandas as pd\n",
    "\n",
    "# Supposons que vous avez un DataFrame `data` avec les colonnes `azure_sentiment_text` et `target`\n",
    "y_true = data['target']  # Étiquettes réelles\n",
    "y_pred = data['azure_sentiment_text']  # Prédictions du classifieur\n",
    "\n",
    "accuracy = accuracy_score(y_true, y_pred)\n",
    "report = classification_report(y_true, y_pred, output_dict=True)\n",
    "cm = confusion_matrix(y_true, y_pred)"
   ]
  },
  {
   "cell_type": "code",
   "execution_count": 55,
   "id": "50832e93-0d41-4822-b7ce-53c043a4adeb",
   "metadata": {},
   "outputs": [
    {
     "name": "stdout",
     "output_type": "stream",
     "text": [
      "              precision    recall  f1-score      support\n",
      "0              0.798186  0.484848  0.603256   726.000000\n",
      "1              0.631527  0.878082  0.734670   730.000000\n",
      "accuracy       0.682005  0.682005  0.682005     0.682005\n",
      "macro avg      0.714857  0.681465  0.668963  1456.000000\n",
      "weighted avg   0.714628  0.682005  0.669144  1456.000000\n"
     ]
    }
   ],
   "source": [
    "# Convertir le rapport en DataFrame\n",
    "report_df = pd.DataFrame(report).transpose()\n",
    "\n",
    "# Afficher le DataFrame\n",
    "print(report_df)"
   ]
  },
  {
   "cell_type": "code",
   "execution_count": 56,
   "id": "0b27303b-8f0a-48de-9728-34edbf8729af",
   "metadata": {},
   "outputs": [
    {
     "data": {
      "image/png": "[encoded data removed]",
      "text/plain": [
       "<Figure size 1000x700 with 2 Axes>"
      ]
     },
     "metadata": {},
     "output_type": "display_data"
    }
   ],
   "source": [
    "%matplotlib inline\n",
    "import matplotlib.pyplot as plt\n",
    "import seaborn as sns\n",
    "\n",
    "# Afficher la matrice de confusion\n",
    "plt.figure(figsize=(10, 7))\n",
    "sns.heatmap(cm, annot=True, fmt='d', cmap='Blues')\n",
    "plt.title('Matrice de Confusion')\n",
    "plt.xlabel('Prédictions')\n",
    "plt.ylabel('Réel')\n",
    "\n",
    "# Sauvegarder la figure\n",
    "plt.savefig(\"confusion_matrix.png\")\n",
    "plt.show()  # Ajouter cette ligne pour afficher la figure\n",
    "plt.close()\n"
   ]
  },
  {
   "cell_type": "markdown",
   "id": "c28d50e5-f4d9-4ce1-a1d3-2da33e72a4d7",
   "metadata": {},
   "source": [
    "A partir de la colonne \"text\" (non pré-traité): on a arrive à un taux de détection des positifs élevé, mais en contrepartie la classe négative comporte de nombreuses erreurs ce qui résulte en un nombre important de faux positifs. Les faux négatifs sont très limités, ce qui est la tendance voulue: on ne veut pas louper les mauvaises appréciations. Dans ce modèle on a une vision pessimiste de l'appréciation des tweets.<br>\n",
    "Le modèle depuis le texte prétraité possèlde les mêmes caractéristiques mais il est moins performant: l'exactitude de prédiction moyenne est légèrement inférieure."
   ]
  },
  {
   "cell_type": "code",
   "execution_count": 57,
   "id": "3fd92445-950d-4fbf-a7c5-607928c1809b",
   "metadata": {},
   "outputs": [],
   "source": [
    "data.to_csv(\"./data/test_azure.csv\", index=True)"
   ]
  },
  {
   "cell_type": "code",
   "execution_count": 59,
   "id": "705cad07-06e4-44c0-bebf-3a38b4fdc2d0",
   "metadata": {},
   "outputs": [
    {
     "ename": "RestException",
     "evalue": "TEMPORARILY_UNAVAILABLE: The service at /api/2.0/mlflow/runs/create is temporarily unavailable. Please try again later. [TraceId: -]",
     "output_type": "error",
     "traceback": [
      "\u001b[1;31m---------------------------------------------------------------------------\u001b[0m",
      "\u001b[1;31mRestException\u001b[0m                             Traceback (most recent call last)",
      "Cell \u001b[1;32mIn[59], line 1\u001b[0m\n\u001b[1;32m----> 1\u001b[0m \u001b[38;5;28;01mwith\u001b[39;00m mlflow\u001b[38;5;241m.\u001b[39mstart_run():\n\u001b[0;32m      2\u001b[0m     \u001b[38;5;66;03m# Enregistrer les métriques\u001b[39;00m\n\u001b[0;32m      3\u001b[0m     mlflow\u001b[38;5;241m.\u001b[39mlog_metric(\u001b[38;5;124m\"\u001b[39m\u001b[38;5;124maccuracy\u001b[39m\u001b[38;5;124m\"\u001b[39m, accuracy)\n\u001b[0;32m      4\u001b[0m     \u001b[38;5;28;01mfor\u001b[39;00m label, metrics \u001b[38;5;129;01min\u001b[39;00m report\u001b[38;5;241m.\u001b[39mitems():\n",
      "File \u001b[1;32mC:\\ProgramData\\anaconda3\\envs\\AIEP7\\Lib\\site-packages\\mlflow\\tracking\\fluent.py:418\u001b[0m, in \u001b[0;36mstart_run\u001b[1;34m(run_id, experiment_id, run_name, nested, parent_run_id, tags, description, log_system_metrics)\u001b[0m\n\u001b[0;32m    414\u001b[0m         user_specified_tags[MLFLOW_RUN_NAME] \u001b[38;5;241m=\u001b[39m run_name\n\u001b[0;32m    416\u001b[0m     resolved_tags \u001b[38;5;241m=\u001b[39m context_registry\u001b[38;5;241m.\u001b[39mresolve_tags(user_specified_tags)\n\u001b[1;32m--> 418\u001b[0m     active_run_obj \u001b[38;5;241m=\u001b[39m client\u001b[38;5;241m.\u001b[39mcreate_run(\n\u001b[0;32m    419\u001b[0m         experiment_id\u001b[38;5;241m=\u001b[39mexp_id_for_run,\n\u001b[0;32m    420\u001b[0m         tags\u001b[38;5;241m=\u001b[39mresolved_tags,\n\u001b[0;32m    421\u001b[0m         run_name\u001b[38;5;241m=\u001b[39mrun_name,\n\u001b[0;32m    422\u001b[0m     )\n\u001b[0;32m    424\u001b[0m \u001b[38;5;28;01mif\u001b[39;00m log_system_metrics \u001b[38;5;129;01mis\u001b[39;00m \u001b[38;5;28;01mNone\u001b[39;00m:\n\u001b[0;32m    425\u001b[0m     \u001b[38;5;66;03m# If `log_system_metrics` is not specified, we will check environment variable.\u001b[39;00m\n\u001b[0;32m    426\u001b[0m     log_system_metrics \u001b[38;5;241m=\u001b[39m MLFLOW_ENABLE_SYSTEM_METRICS_LOGGING\u001b[38;5;241m.\u001b[39mget()\n",
      "File \u001b[1;32mC:\\ProgramData\\anaconda3\\envs\\AIEP7\\Lib\\site-packages\\mlflow\\tracking\\client.py:393\u001b[0m, in \u001b[0;36mMlflowClient.create_run\u001b[1;34m(self, experiment_id, start_time, tags, run_name)\u001b[0m\n\u001b[0;32m    339\u001b[0m \u001b[38;5;28;01mdef\u001b[39;00m \u001b[38;5;21mcreate_run\u001b[39m(\n\u001b[0;32m    340\u001b[0m     \u001b[38;5;28mself\u001b[39m,\n\u001b[0;32m    341\u001b[0m     experiment_id: \u001b[38;5;28mstr\u001b[39m,\n\u001b[1;32m   (...)\u001b[0m\n\u001b[0;32m    344\u001b[0m     run_name: Optional[\u001b[38;5;28mstr\u001b[39m] \u001b[38;5;241m=\u001b[39m \u001b[38;5;28;01mNone\u001b[39;00m,\n\u001b[0;32m    345\u001b[0m ) \u001b[38;5;241m-\u001b[39m\u001b[38;5;241m>\u001b[39m Run:\n\u001b[0;32m    346\u001b[0m \u001b[38;5;250m    \u001b[39m\u001b[38;5;124;03m\"\"\"\u001b[39;00m\n\u001b[0;32m    347\u001b[0m \u001b[38;5;124;03m    Create a :py:class:`mlflow.entities.Run` object that can be associated with\u001b[39;00m\n\u001b[0;32m    348\u001b[0m \u001b[38;5;124;03m    metrics, parameters, artifacts, etc.\u001b[39;00m\n\u001b[1;32m   (...)\u001b[0m\n\u001b[0;32m    391\u001b[0m \u001b[38;5;124;03m        status: RUNNING\u001b[39;00m\n\u001b[0;32m    392\u001b[0m \u001b[38;5;124;03m    \"\"\"\u001b[39;00m\n\u001b[1;32m--> 393\u001b[0m     \u001b[38;5;28;01mreturn\u001b[39;00m \u001b[38;5;28mself\u001b[39m\u001b[38;5;241m.\u001b[39m_tracking_client\u001b[38;5;241m.\u001b[39mcreate_run(experiment_id, start_time, tags, run_name)\n",
      "File \u001b[1;32mC:\\ProgramData\\anaconda3\\envs\\AIEP7\\Lib\\site-packages\\mlflow\\tracking\\_tracking_service\\client.py:168\u001b[0m, in \u001b[0;36mTrackingServiceClient.create_run\u001b[1;34m(self, experiment_id, start_time, tags, run_name)\u001b[0m\n\u001b[0;32m    163\u001b[0m \u001b[38;5;66;03m# Extract user from tags\u001b[39;00m\n\u001b[0;32m    164\u001b[0m \u001b[38;5;66;03m# This logic is temporary; the user_id attribute of runs is deprecated and will be removed\u001b[39;00m\n\u001b[0;32m    165\u001b[0m \u001b[38;5;66;03m# in a later release.\u001b[39;00m\n\u001b[0;32m    166\u001b[0m user_id \u001b[38;5;241m=\u001b[39m tags\u001b[38;5;241m.\u001b[39mget(MLFLOW_USER, \u001b[38;5;124m\"\u001b[39m\u001b[38;5;124munknown\u001b[39m\u001b[38;5;124m\"\u001b[39m)\n\u001b[1;32m--> 168\u001b[0m \u001b[38;5;28;01mreturn\u001b[39;00m \u001b[38;5;28mself\u001b[39m\u001b[38;5;241m.\u001b[39mstore\u001b[38;5;241m.\u001b[39mcreate_run(\n\u001b[0;32m    169\u001b[0m     experiment_id\u001b[38;5;241m=\u001b[39mexperiment_id,\n\u001b[0;32m    170\u001b[0m     user_id\u001b[38;5;241m=\u001b[39muser_id,\n\u001b[0;32m    171\u001b[0m     start_time\u001b[38;5;241m=\u001b[39mstart_time \u001b[38;5;129;01mor\u001b[39;00m get_current_time_millis(),\n\u001b[0;32m    172\u001b[0m     tags\u001b[38;5;241m=\u001b[39m[RunTag(key, value) \u001b[38;5;28;01mfor\u001b[39;00m (key, value) \u001b[38;5;129;01min\u001b[39;00m tags\u001b[38;5;241m.\u001b[39mitems()],\n\u001b[0;32m    173\u001b[0m     run_name\u001b[38;5;241m=\u001b[39mrun_name,\n\u001b[0;32m    174\u001b[0m )\n",
      "File \u001b[1;32mC:\\ProgramData\\anaconda3\\envs\\AIEP7\\Lib\\site-packages\\mlflow\\store\\tracking\\rest_store.py:209\u001b[0m, in \u001b[0;36mRestStore.create_run\u001b[1;34m(self, experiment_id, user_id, start_time, tags, run_name)\u001b[0m\n\u001b[0;32m    199\u001b[0m tag_protos \u001b[38;5;241m=\u001b[39m [tag\u001b[38;5;241m.\u001b[39mto_proto() \u001b[38;5;28;01mfor\u001b[39;00m tag \u001b[38;5;129;01min\u001b[39;00m tags]\n\u001b[0;32m    200\u001b[0m req_body \u001b[38;5;241m=\u001b[39m message_to_json(\n\u001b[0;32m    201\u001b[0m     CreateRun(\n\u001b[0;32m    202\u001b[0m         experiment_id\u001b[38;5;241m=\u001b[39m\u001b[38;5;28mstr\u001b[39m(experiment_id),\n\u001b[1;32m   (...)\u001b[0m\n\u001b[0;32m    207\u001b[0m     )\n\u001b[0;32m    208\u001b[0m )\n\u001b[1;32m--> 209\u001b[0m response_proto \u001b[38;5;241m=\u001b[39m \u001b[38;5;28mself\u001b[39m\u001b[38;5;241m.\u001b[39m_call_endpoint(CreateRun, req_body)\n\u001b[0;32m    210\u001b[0m \u001b[38;5;28;01mreturn\u001b[39;00m Run\u001b[38;5;241m.\u001b[39mfrom_proto(response_proto\u001b[38;5;241m.\u001b[39mrun)\n",
      "File \u001b[1;32mC:\\ProgramData\\anaconda3\\envs\\AIEP7\\Lib\\site-packages\\mlflow\\store\\tracking\\rest_store.py:82\u001b[0m, in \u001b[0;36mRestStore._call_endpoint\u001b[1;34m(self, api, json_body, endpoint)\u001b[0m\n\u001b[0;32m     80\u001b[0m     endpoint, method \u001b[38;5;241m=\u001b[39m _METHOD_TO_INFO[api]\n\u001b[0;32m     81\u001b[0m response_proto \u001b[38;5;241m=\u001b[39m api\u001b[38;5;241m.\u001b[39mResponse()\n\u001b[1;32m---> 82\u001b[0m \u001b[38;5;28;01mreturn\u001b[39;00m call_endpoint(\u001b[38;5;28mself\u001b[39m\u001b[38;5;241m.\u001b[39mget_host_creds(), endpoint, method, json_body, response_proto)\n",
      "File \u001b[1;32mC:\\ProgramData\\anaconda3\\envs\\AIEP7\\Lib\\site-packages\\mlflow\\utils\\rest_utils.py:370\u001b[0m, in \u001b[0;36mcall_endpoint\u001b[1;34m(host_creds, endpoint, method, json_body, response_proto, extra_headers)\u001b[0m\n\u001b[0;32m    367\u001b[0m     call_kwargs[\u001b[38;5;124m\"\u001b[39m\u001b[38;5;124mjson\u001b[39m\u001b[38;5;124m\"\u001b[39m] \u001b[38;5;241m=\u001b[39m json_body\n\u001b[0;32m    368\u001b[0m     response \u001b[38;5;241m=\u001b[39m http_request(\u001b[38;5;241m*\u001b[39m\u001b[38;5;241m*\u001b[39mcall_kwargs)\n\u001b[1;32m--> 370\u001b[0m response \u001b[38;5;241m=\u001b[39m verify_rest_response(response, endpoint)\n\u001b[0;32m    371\u001b[0m response_to_parse \u001b[38;5;241m=\u001b[39m response\u001b[38;5;241m.\u001b[39mtext\n\u001b[0;32m    372\u001b[0m js_dict \u001b[38;5;241m=\u001b[39m json\u001b[38;5;241m.\u001b[39mloads(response_to_parse)\n",
      "File \u001b[1;32mC:\\ProgramData\\anaconda3\\envs\\AIEP7\\Lib\\site-packages\\mlflow\\utils\\rest_utils.py:240\u001b[0m, in \u001b[0;36mverify_rest_response\u001b[1;34m(response, endpoint)\u001b[0m\n\u001b[0;32m    238\u001b[0m \u001b[38;5;28;01mif\u001b[39;00m response\u001b[38;5;241m.\u001b[39mstatus_code \u001b[38;5;241m!=\u001b[39m \u001b[38;5;241m200\u001b[39m:\n\u001b[0;32m    239\u001b[0m     \u001b[38;5;28;01mif\u001b[39;00m _can_parse_as_json_object(response\u001b[38;5;241m.\u001b[39mtext):\n\u001b[1;32m--> 240\u001b[0m         \u001b[38;5;28;01mraise\u001b[39;00m RestException(json\u001b[38;5;241m.\u001b[39mloads(response\u001b[38;5;241m.\u001b[39mtext))\n\u001b[0;32m    241\u001b[0m     \u001b[38;5;28;01melse\u001b[39;00m:\n\u001b[0;32m    242\u001b[0m         base_msg \u001b[38;5;241m=\u001b[39m (\n\u001b[0;32m    243\u001b[0m             \u001b[38;5;124mf\u001b[39m\u001b[38;5;124m\"\u001b[39m\u001b[38;5;124mAPI request to endpoint \u001b[39m\u001b[38;5;132;01m{\u001b[39;00mendpoint\u001b[38;5;132;01m}\u001b[39;00m\u001b[38;5;124m \u001b[39m\u001b[38;5;124m\"\u001b[39m\n\u001b[0;32m    244\u001b[0m             \u001b[38;5;124mf\u001b[39m\u001b[38;5;124m\"\u001b[39m\u001b[38;5;124mfailed with error code \u001b[39m\u001b[38;5;132;01m{\u001b[39;00mresponse\u001b[38;5;241m.\u001b[39mstatus_code\u001b[38;5;132;01m}\u001b[39;00m\u001b[38;5;124m != 200\u001b[39m\u001b[38;5;124m\"\u001b[39m\n\u001b[0;32m    245\u001b[0m         )\n",
      "\u001b[1;31mRestException\u001b[0m: TEMPORARILY_UNAVAILABLE: The service at /api/2.0/mlflow/runs/create is temporarily unavailable. Please try again later. [TraceId: -]"
     ]
    }
   ],
   "source": [
    "with mlflow.start_run():\n",
    "    # Enregistrer les métriques\n",
    "    mlflow.log_metric(\"accuracy\", accuracy)\n",
    "    for label, metrics in report.items():\n",
    "        if label not in ['accuracy', 'macro avg', 'weighted avg']:  # Ignorer les moyennes\n",
    "            mlflow.log_metric(f\"precision_{label}\", metrics['precision'])\n",
    "            mlflow.log_metric(f\"recall_{label}\", metrics['recall'])\n",
    "            mlflow.log_metric(f\"f1-score_{label}\", metrics['f1-score'])\n",
    "\n",
    "    # Enregistrer la matrice de confusion\n",
    "    mlflow.log_artifact(\"confusion_matrix.png\")\n",
    "    mlflow.log_artifact(\"./data/test_azure.csv\")"
   ]
  },
  {
   "cell_type": "code",
   "execution_count": null,
   "id": "9206ddcf-fa0b-42e0-b773-09232c7aaffd",
   "metadata": {},
   "outputs": [],
   "source": []
  }
 ],
 "metadata": {
  "kernelspec": {
   "display_name": "AIEP7",
   "language": "python",
   "name": "aiep7"
  },
  "language_info": {
   "codemirror_mode": {
    "name": "ipython",
    "version": 3
   },
   "file_extension": ".py",
   "mimetype": "text/x-python",
   "name": "python",
   "nbconvert_exporter": "python",
   "pygments_lexer": "ipython3",
   "version": "3.12.5"
  }
 },
 "nbformat": 4,
 "nbformat_minor": 5
}
