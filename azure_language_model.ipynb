{
 "cells": [
  {
   "cell_type": "code",
   "execution_count": 1,
   "id": "2d97ee14-3fb1-4d73-a3bb-636b1c65b932",
   "metadata": {},
   "outputs": [],
   "source": [
    "# pip install azure-ai-textanalytics"
   ]
  },
  {
   "cell_type": "code",
   "execution_count": 2,
   "id": "894823b7-28df-449c-aea4-6379f94904c3",
   "metadata": {},
   "outputs": [],
   "source": [
    "import os\n",
    "\n",
    "# This example requires environment variables named \"LANGUAGE_KEY\" and \"LANGUAGE_ENDPOINT\"\n",
    "language_key = os.environ.get('LANGUAGE_KEY')\n",
    "# \"411dab1a118f4719bf8f48d8b4dc5cc1\"\n",
    "language_endpoint = os.environ.get('LANGUAGE_ENDPOINT')\n",
    "# \"https://nlpoc.cognitiveservices.azure.com/\""
   ]
  },
  {
   "cell_type": "code",
   "execution_count": 3,
   "id": "f9a03f1a-e337-4bc9-a1a3-2c9a70709e2e",
   "metadata": {},
   "outputs": [],
   "source": [
    "from azure.ai.textanalytics import TextAnalyticsClient\n",
    "from azure.core.credentials import AzureKeyCredential"
   ]
  },
  {
   "cell_type": "code",
   "execution_count": 4,
   "id": "fd4c77d9-9257-4a77-bf3a-9c9a6af0b332",
   "metadata": {},
   "outputs": [],
   "source": [
    "# Authenticate the client using your key and endpoint \n",
    "def authenticate_client():\n",
    "    ta_credential = AzureKeyCredential(language_key)\n",
    "    text_analytics_client = TextAnalyticsClient(\n",
    "            endpoint=language_endpoint, \n",
    "            credential=ta_credential)\n",
    "    return text_analytics_client\n",
    "\n",
    "client = authenticate_client()"
   ]
  },
  {
   "cell_type": "code",
   "execution_count": 5,
   "id": "8249ad4f-a2f1-4ee7-a44b-9f889765e438",
   "metadata": {},
   "outputs": [],
   "source": [
    "# 2. Fonction pour analyser le sentiment d'un texte\n",
    "def sentiment_analysis(client, documents):\n",
    "    sentiments = []\n",
    "    batch_size = 10  # Azure ne permet pas plus de 10 documents par requête\n",
    "\n",
    "    for i in range(0, len(documents), batch_size):\n",
    "        batch = documents[i:i + batch_size]  # Diviser les documents en lots de 10\n",
    "        response = client.analyze_sentiment(documents=batch)\n",
    "        for doc in response:\n",
    "            if not doc.is_error:\n",
    "                sentiment = 1 if doc.sentiment == \"positive\" else 0\n",
    "                sentiments.append(sentiment)\n",
    "            else:\n",
    "                sentiments.append(None)  # Pour gérer les erreurs éventuelles\n",
    "    return sentiments"
   ]
  },
  {
   "cell_type": "code",
   "execution_count": 6,
   "id": "73523fd7-b315-46a8-bed1-4d67199bfb73",
   "metadata": {},
   "outputs": [],
   "source": [
    "# 3. Analyser le dataframe\n",
    "def add_sentiment_column(data, column):\n",
    "    client = authenticate_client()\n",
    "    documents = data[column].tolist()  # Extraire les textes à analyser\n",
    "    sentiments = sentiment_analysis(client, documents)  # Analyser le sentiment\n",
    "    \n",
    "    new_column_name = f\"azure_sentiment_{column}\"  # Concaténer azure_sentiment avec le nom de la colonne\n",
    "    data[new_column_name] = sentiments  # Ajouter les résultats comme nouvelle colonne\n",
    "    \n",
    "    return data"
   ]
  },
  {
   "cell_type": "code",
   "execution_count": 7,
   "id": "4101d988-fb79-45df-ab32-2a9f5fcaa6e3",
   "metadata": {},
   "outputs": [],
   "source": [
    "import pandas as pd\n",
    "data = pd.read_csv(\"./data/test_df.csv\", index_col=0)"
   ]
  },
  {
   "cell_type": "code",
   "execution_count": 8,
   "id": "7fffc12f-30ef-4c36-9345-3354ea6a3586",
   "metadata": {},
   "outputs": [
    {
     "data": {
      "text/html": [
       "<div>\n",
       "<style scoped>\n",
       "    .dataframe tbody tr th:only-of-type {\n",
       "        vertical-align: middle;\n",
       "    }\n",
       "\n",
       "    .dataframe tbody tr th {\n",
       "        vertical-align: top;\n",
       "    }\n",
       "\n",
       "    .dataframe thead th {\n",
       "        text-align: right;\n",
       "    }\n",
       "</style>\n",
       "<table border=\"1\" class=\"dataframe\">\n",
       "  <thead>\n",
       "    <tr style=\"text-align: right;\">\n",
       "      <th></th>\n",
       "      <th>target</th>\n",
       "      <th>ids</th>\n",
       "      <th>date</th>\n",
       "      <th>flag</th>\n",
       "      <th>user</th>\n",
       "      <th>text</th>\n",
       "      <th>cleaned_text</th>\n",
       "      <th>tokenized</th>\n",
       "      <th>preprocessed_text</th>\n",
       "      <th>preprocessed_tokenized</th>\n",
       "      <th>sia_sentiment</th>\n",
       "      <th>azure_sentiment_text</th>\n",
       "    </tr>\n",
       "  </thead>\n",
       "  <tbody>\n",
       "    <tr>\n",
       "      <th>804631</th>\n",
       "      <td>1</td>\n",
       "      <td>1468543949</td>\n",
       "      <td>Tue Apr 07 02:19:08 PDT 2009</td>\n",
       "      <td>NO_QUERY</td>\n",
       "      <td>OhFlip_Eden</td>\n",
       "      <td>Haha flight of the conchords was so bloody hil...</td>\n",
       "      <td>Haha, flight of the conchords was so bloody hi...</td>\n",
       "      <td>['Haha', ',', 'flight', 'of', 'the', 'conchord...</td>\n",
       "      <td>haha  flight conchords bloody hilarious last n...</td>\n",
       "      <td>['haha', 'flight', 'conchords', 'bloody', 'hil...</td>\n",
       "      <td>1</td>\n",
       "      <td>1</td>\n",
       "    </tr>\n",
       "    <tr>\n",
       "      <th>260113</th>\n",
       "      <td>0</td>\n",
       "      <td>1985592824</td>\n",
       "      <td>Sun May 31 17:24:11 PDT 2009</td>\n",
       "      <td>NO_QUERY</td>\n",
       "      <td>basvodde</td>\n",
       "      <td>In Singapore airport again. On my way to Tokyo...</td>\n",
       "      <td>In Singapore airport again. On my way to Tokyo...</td>\n",
       "      <td>['In', 'Singapore', 'airport', 'again', '.', '...</td>\n",
       "      <td>singapore airport  way tokyo  always tired sta...</td>\n",
       "      <td>['singapore', 'airport', 'way', 'tokyo', 'alwa...</td>\n",
       "      <td>0</td>\n",
       "      <td>0</td>\n",
       "    </tr>\n",
       "    <tr>\n",
       "      <th>1325504</th>\n",
       "      <td>1</td>\n",
       "      <td>2015141263</td>\n",
       "      <td>Wed Jun 03 03:49:42 PDT 2009</td>\n",
       "      <td>NO_QUERY</td>\n",
       "      <td>RocketIsRad</td>\n",
       "      <td>@curtiswalker finally responded to your DN mes...</td>\n",
       "      <td>&lt;mention&gt; finally responded to your DN message...</td>\n",
       "      <td>['&lt;', 'mention', '&gt;', 'finally', 'responded', ...</td>\n",
       "      <td>&lt; mention &gt; finally responded dn messagesorry ...</td>\n",
       "      <td>['&lt;', 'mention', '&gt;', 'finally', 'responded', ...</td>\n",
       "      <td>0</td>\n",
       "      <td>0</td>\n",
       "    </tr>\n",
       "    <tr>\n",
       "      <th>495301</th>\n",
       "      <td>0</td>\n",
       "      <td>2185191785</td>\n",
       "      <td>Mon Jun 15 17:01:14 PDT 2009</td>\n",
       "      <td>NO_QUERY</td>\n",
       "      <td>Holden_n_Disney</td>\n",
       "      <td>Boarding @jetblue 1424. Sad to leave Cali and ...</td>\n",
       "      <td>Boarding &lt;mention&gt; 1424. Sad to leave Cali and...</td>\n",
       "      <td>['Boarding', '&lt;', 'mention', '&gt;', '1424', '.',...</td>\n",
       "      <td>boarding &lt; mention &gt; 1424  sad leave cali dad</td>\n",
       "      <td>['boarding', '&lt;', 'mention', '&gt;', '1424', 'sad...</td>\n",
       "      <td>0</td>\n",
       "      <td>0</td>\n",
       "    </tr>\n",
       "    <tr>\n",
       "      <th>170271</th>\n",
       "      <td>0</td>\n",
       "      <td>1962864508</td>\n",
       "      <td>Fri May 29 11:49:11 PDT 2009</td>\n",
       "      <td>NO_QUERY</td>\n",
       "      <td>ProTravelGear</td>\n",
       "      <td>@kgs  lost luggage? Sorry to hear.  you should...</td>\n",
       "      <td>&lt;mention&gt; lost luggage? Sorry to hear.  You sh...</td>\n",
       "      <td>['&lt;', 'mention', '&gt;', 'lost', 'luggage', '?', ...</td>\n",
       "      <td>&lt; mention &gt; lost luggage ? sorry hear  check s...</td>\n",
       "      <td>['&lt;', 'mention', '&gt;', 'lost', 'luggage', '?', ...</td>\n",
       "      <td>0</td>\n",
       "      <td>0</td>\n",
       "    </tr>\n",
       "  </tbody>\n",
       "</table>\n",
       "</div>"
      ],
      "text/plain": [
       "         target         ids                          date      flag  \\\n",
       "804631        1  1468543949  Tue Apr 07 02:19:08 PDT 2009  NO_QUERY   \n",
       "260113        0  1985592824  Sun May 31 17:24:11 PDT 2009  NO_QUERY   \n",
       "1325504       1  2015141263  Wed Jun 03 03:49:42 PDT 2009  NO_QUERY   \n",
       "495301        0  2185191785  Mon Jun 15 17:01:14 PDT 2009  NO_QUERY   \n",
       "170271        0  1962864508  Fri May 29 11:49:11 PDT 2009  NO_QUERY   \n",
       "\n",
       "                    user                                               text  \\\n",
       "804631       OhFlip_Eden  Haha flight of the conchords was so bloody hil...   \n",
       "260113          basvodde  In Singapore airport again. On my way to Tokyo...   \n",
       "1325504      RocketIsRad  @curtiswalker finally responded to your DN mes...   \n",
       "495301   Holden_n_Disney  Boarding @jetblue 1424. Sad to leave Cali and ...   \n",
       "170271     ProTravelGear  @kgs  lost luggage? Sorry to hear.  you should...   \n",
       "\n",
       "                                              cleaned_text  \\\n",
       "804631   Haha, flight of the conchords was so bloody hi...   \n",
       "260113   In Singapore airport again. On my way to Tokyo...   \n",
       "1325504  <mention> finally responded to your DN message...   \n",
       "495301   Boarding <mention> 1424. Sad to leave Cali and...   \n",
       "170271   <mention> lost luggage? Sorry to hear.  You sh...   \n",
       "\n",
       "                                                 tokenized  \\\n",
       "804631   ['Haha', ',', 'flight', 'of', 'the', 'conchord...   \n",
       "260113   ['In', 'Singapore', 'airport', 'again', '.', '...   \n",
       "1325504  ['<', 'mention', '>', 'finally', 'responded', ...   \n",
       "495301   ['Boarding', '<', 'mention', '>', '1424', '.',...   \n",
       "170271   ['<', 'mention', '>', 'lost', 'luggage', '?', ...   \n",
       "\n",
       "                                         preprocessed_text  \\\n",
       "804631   haha  flight conchords bloody hilarious last n...   \n",
       "260113   singapore airport  way tokyo  always tired sta...   \n",
       "1325504  < mention > finally responded dn messagesorry ...   \n",
       "495301       boarding < mention > 1424  sad leave cali dad   \n",
       "170271   < mention > lost luggage ? sorry hear  check s...   \n",
       "\n",
       "                                    preprocessed_tokenized  sia_sentiment  \\\n",
       "804631   ['haha', 'flight', 'conchords', 'bloody', 'hil...              1   \n",
       "260113   ['singapore', 'airport', 'way', 'tokyo', 'alwa...              0   \n",
       "1325504  ['<', 'mention', '>', 'finally', 'responded', ...              0   \n",
       "495301   ['boarding', '<', 'mention', '>', '1424', 'sad...              0   \n",
       "170271   ['<', 'mention', '>', 'lost', 'luggage', '?', ...              0   \n",
       "\n",
       "         azure_sentiment_text  \n",
       "804631                      1  \n",
       "260113                      0  \n",
       "1325504                     0  \n",
       "495301                      0  \n",
       "170271                      0  "
      ]
     },
     "execution_count": 8,
     "metadata": {},
     "output_type": "execute_result"
    }
   ],
   "source": [
    "# Ajouter la colonne 'sentiment'\n",
    "data = add_sentiment_column(data, \"text\")\n",
    "data.head()"
   ]
  },
  {
   "cell_type": "code",
   "execution_count": 10,
   "id": "ea5f79e3-3660-4314-a75c-2fe0dc04f9c7",
   "metadata": {},
   "outputs": [
    {
     "data": {
      "image/png": "[encoded data removed]",
      "text/plain": [
       "<Figure size 432x288 with 1 Axes>"
      ]
     },
     "metadata": {
      "needs_background": "light"
     },
     "output_type": "display_data"
    },
    {
     "name": "stdout",
     "output_type": "stream",
     "text": [
      "Rapport de Classification:\n",
      "\n",
      "              precision    recall  f1-score   support\n",
      "\n",
      "     Négatif       0.63      0.88      0.73       730\n",
      "     Positif       0.80      0.48      0.60       726\n",
      "\n",
      "    accuracy                           0.68      1456\n",
      "   macro avg       0.71      0.68      0.67      1456\n",
      "weighted avg       0.71      0.68      0.67      1456\n",
      "\n"
     ]
    }
   ],
   "source": [
    "from sklearn.metrics import confusion_matrix, classification_report\n",
    "import seaborn as sns\n",
    "import matplotlib.pyplot as plt\n",
    "\n",
    "# 1. Afficher la matrice de confusion\n",
    "def plot_confusion_matrix(data):\n",
    "    y_true = data['target']  # Labels réels\n",
    "    y_pred = data['azure_sentiment_text']  # Prédictions\n",
    "    cm = confusion_matrix(y_true, y_pred)  # Calculer la matrice de confusion\n",
    "    \n",
    "    # Afficher la matrice de confusion avec seaborn pour une meilleure visualisation\n",
    "    sns.heatmap(cm, annot=True, fmt='d', cmap='Blues', cbar=False, \n",
    "                xticklabels=['Négatif', 'Positif'], \n",
    "                yticklabels=['Négatif', 'Positif'])\n",
    "    plt.xlabel('Prédictions')\n",
    "    plt.ylabel('Vérités')\n",
    "    plt.title('Matrice de Confusion')\n",
    "    plt.show()\n",
    "\n",
    "# 2. Afficher le rapport de classification\n",
    "def print_classification_report(data):\n",
    "    y_true = data['target']  # Labels réels\n",
    "    y_pred = data['azure_sentiment_text']  # Prédictions\n",
    "    report = classification_report(y_true, y_pred, target_names=['Négatif', 'Positif'])\n",
    "    print(\"Rapport de Classification:\\n\")\n",
    "    print(report)\n",
    "\n",
    "# Afficher la matrice de confusion\n",
    "plot_confusion_matrix(data)\n",
    "\n",
    "# Afficher le rapport de classification\n",
    "print_classification_report(data)"
   ]
  },
  {
   "cell_type": "code",
   "execution_count": 11,
   "id": "44032897-b2f3-42de-9630-47fbd223ce86",
   "metadata": {},
   "outputs": [],
   "source": [
    "# Ajouter la colonne 'sentiment'\n",
    "data = add_sentiment_column(data, \"preprocessed_text\")"
   ]
  },
  {
   "cell_type": "code",
   "execution_count": 12,
   "id": "ce7fe309-fd15-4b29-9cb6-620adb4e7ed4",
   "metadata": {},
   "outputs": [
    {
     "data": {
      "image/png": "[encoded data removed]",
      "text/plain": [
       "<Figure size 432x288 with 1 Axes>"
      ]
     },
     "metadata": {
      "needs_background": "light"
     },
     "output_type": "display_data"
    },
    {
     "name": "stdout",
     "output_type": "stream",
     "text": [
      "Rapport de Classification:\n",
      "\n",
      "              precision    recall  f1-score   support\n",
      "\n",
      "     Négatif       0.60      0.85      0.70       730\n",
      "     Positif       0.74      0.43      0.55       726\n",
      "\n",
      "    accuracy                           0.64      1456\n",
      "   macro avg       0.67      0.64      0.63      1456\n",
      "weighted avg       0.67      0.64      0.63      1456\n",
      "\n"
     ]
    }
   ],
   "source": [
    "from sklearn.metrics import confusion_matrix, classification_report\n",
    "import seaborn as sns\n",
    "import matplotlib.pyplot as plt\n",
    "\n",
    "# 1. Afficher la matrice de confusion\n",
    "def plot_confusion_matrix(data):\n",
    "    y_true = data['target']  # Labels réels\n",
    "    y_pred = data['azure_sentiment_preprocessed_text']  # Prédictions\n",
    "    cm = confusion_matrix(y_true, y_pred)  # Calculer la matrice de confusion\n",
    "    \n",
    "    # Afficher la matrice de confusion avec seaborn pour une meilleure visualisation\n",
    "    sns.heatmap(cm, annot=True, fmt='d', cmap='Blues', cbar=False, \n",
    "                xticklabels=['Négatif', 'Positif'], \n",
    "                yticklabels=['Négatif', 'Positif'])\n",
    "    plt.xlabel('Prédictions')\n",
    "    plt.ylabel('Vérités')\n",
    "    plt.title('Matrice de Confusion')\n",
    "    plt.show()\n",
    "\n",
    "# 2. Afficher le rapport de classification\n",
    "def print_classification_report(data):\n",
    "    y_true = data['target']  # Labels réels\n",
    "    y_pred = data['azure_sentiment_preprocessed_text']  # Prédictions\n",
    "    report = classification_report(y_true, y_pred, target_names=['Négatif', 'Positif'])\n",
    "    print(\"Rapport de Classification:\\n\")\n",
    "    print(report)\n",
    "\n",
    "# Afficher la matrice de confusion\n",
    "plot_confusion_matrix(data)\n",
    "\n",
    "# Afficher le rapport de classification\n",
    "print_classification_report(data)"
   ]
  },
  {
   "cell_type": "markdown",
   "id": "736df252-2055-4627-b82d-231d9aed855d",
   "metadata": {},
   "source": [
    "Il y a peu de faux positifs, et l'algorithme réagit mieux au texte non prétraité. La performance est meilleure que celle des bibliothèques OpenSource sur étagère."
   ]
  },
  {
   "cell_type": "code",
   "execution_count": 13,
   "id": "3fd92445-950d-4fbf-a7c5-607928c1809b",
   "metadata": {},
   "outputs": [],
   "source": [
    "data.to_csv(\"./data/test_azure.csv\", index=True)"
   ]
  },
  {
   "cell_type": "code",
   "execution_count": null,
   "id": "705cad07-06e4-44c0-bebf-3a38b4fdc2d0",
   "metadata": {},
   "outputs": [],
   "source": []
  }
 ],
 "metadata": {
  "kernelspec": {
   "display_name": "gpu2",
   "language": "python",
   "name": "gpu2"
  },
  "language_info": {
   "codemirror_mode": {
    "name": "ipython",
    "version": 3
   },
   "file_extension": ".py",
   "mimetype": "text/x-python",
   "name": "python",
   "nbconvert_exporter": "python",
   "pygments_lexer": "ipython3",
   "version": "3.6.15"
  }
 },
 "nbformat": 4,
 "nbformat_minor": 5
}
