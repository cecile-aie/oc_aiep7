{
 "cells": [
  {
   "cell_type": "code",
   "execution_count": 1,
   "id": "43babccc-06c3-4610-9a81-b4d061cee3bf",
   "metadata": {},
   "outputs": [
    {
     "name": "stdout",
     "output_type": "stream",
     "text": [
      "CUDA disponible: True\n",
      "Nom du GPU: NVIDIA GeForce RTX 4060 Laptop GPU\n",
      "Version de PyTorch: 2.4.1+cu118\n"
     ]
    }
   ],
   "source": [
    "import torch\n",
    "print(\"CUDA disponible:\", torch.cuda.is_available())  # Devrait retourner True\n",
    "print(\"Nom du GPU:\", torch.cuda.get_device_name(0))   # Affiche le nom du GPU\n",
    "print(\"Version de PyTorch:\", torch.__version__)       # Devrait afficher 2.4.1\n"
   ]
  },
  {
   "cell_type": "code",
   "execution_count": 13,
   "id": "dfaf498b-683d-4467-8dad-8fd1c8cd5b67",
   "metadata": {},
   "outputs": [
    {
     "name": "stdout",
     "output_type": "stream",
     "text": [
      "GPU: NVIDIA GeForce RTX 4060 Laptop GPU\n",
      "Total memory: 8188.00 MB\n",
      "Used memory: 1740.71 MB\n",
      "Free memory: 6447.29 MB\n",
      "GPU utilization: 0%\n",
      "Memory utilization: 1%\n"
     ]
    }
   ],
   "source": [
    "import pynvml\n",
    "\n",
    "# Initialiser NVML (NVIDIA Management Library)\n",
    "pynvml.nvmlInit()\n",
    "\n",
    "# Obtenir le nom du GPU\n",
    "handle = pynvml.nvmlDeviceGetHandleByIndex(0)  # Si tu as plusieurs GPU, change l'index\n",
    "gpu_name = pynvml.nvmlDeviceGetName(handle)\n",
    "print(f\"GPU: {gpu_name}\")\n",
    "\n",
    "# Obtenir l'utilisation de la mémoire\n",
    "info = pynvml.nvmlDeviceGetMemoryInfo(handle)\n",
    "print(f\"Total memory: {info.total / 1024**2:.2f} MB\")\n",
    "print(f\"Used memory: {info.used / 1024**2:.2f} MB\")\n",
    "print(f\"Free memory: {info.free / 1024**2:.2f} MB\")\n",
    "\n",
    "# Obtenir l'utilisation du GPU\n",
    "utilization = pynvml.nvmlDeviceGetUtilizationRates(handle)\n",
    "print(f\"GPU utilization: {utilization.gpu}%\")\n",
    "print(f\"Memory utilization: {utilization.memory}%\")\n",
    "\n",
    "# Fermer NVML\n",
    "pynvml.nvmlShutdown()\n"
   ]
  },
  {
   "cell_type": "code",
   "execution_count": null,
   "id": "f6a7072a-d11c-4b4f-b3fa-68e0034a7d02",
   "metadata": {},
   "outputs": [],
   "source": []
  }
 ],
 "metadata": {
  "kernelspec": {
   "display_name": "AIEP7",
   "language": "python",
   "name": "aiep7"
  },
  "language_info": {
   "codemirror_mode": {
    "name": "ipython",
    "version": 3
   },
   "file_extension": ".py",
   "mimetype": "text/x-python",
   "name": "python",
   "nbconvert_exporter": "python",
   "pygments_lexer": "ipython3",
   "version": "3.12.5"
  }
 },
 "nbformat": 4,
 "nbformat_minor": 5
}
